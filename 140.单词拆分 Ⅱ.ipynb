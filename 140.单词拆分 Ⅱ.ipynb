{
 "cells": [
  {
   "cell_type": "markdown",
   "metadata": {},
   "source": [
    "# 动态规划"
   ]
  },
  {
   "cell_type": "code",
   "execution_count": 1,
   "metadata": {
    "collapsed": true
   },
   "outputs": [],
   "source": [
    "class Solution:\n",
    "    def wordBreak(self, s, wordDict):\n",
    "        tmp = set(\"\".join(wordDict))\n",
    "        if any([i not in tmp for i in s]):\n",
    "            return []\n",
    "        dp = [[\"\"], [s[0]]*(s[0] in wordDict)]\n",
    "        for i in range(1, len(s)):\n",
    "            dp.append(sum([[f\"{k} {s[j: i+1]}\" if k else s[j: i+1] for k in dp[j]] for j in range(i+1) if s[j: i+1] in wordDict and dp[j]], []))\n",
    "        return dp[-1]"
   ]
  },
  {
   "cell_type": "markdown",
   "metadata": {},
   "source": [
    "# dfs"
   ]
  },
  {
   "cell_type": "code",
   "execution_count": 2,
   "metadata": {
    "collapsed": true
   },
   "outputs": [],
   "source": [
    "class Solution:\n",
    "    def wordBreak(self, s, wordDict):\n",
    "        wordDict=set(wordDict)\n",
    "        visited={}\n",
    "        def dfs(s,wordDict):\n",
    "            res=[]\n",
    "            if s in visited:\n",
    "                return visited[s]\n",
    "            if not s:\n",
    "                return []\n",
    "            lenth=len(s)\n",
    "            for i in wordDict:\n",
    "                if not s.startswith(i):\n",
    "                    continue\n",
    "                if lenth==len(i):\n",
    "                    res.append(i)\n",
    "                temp=dfs(s[len(i):],wordDict)\n",
    "                for j in temp:\n",
    "                    res.append(i+' '+j)\n",
    "            visited[s]=res\n",
    "            return res\n",
    "        return dfs(s,wordDict)"
   ]
  },
  {
   "cell_type": "code",
   "execution_count": null,
   "metadata": {
    "collapsed": true
   },
   "outputs": [],
   "source": []
  }
 ],
 "metadata": {
  "kernelspec": {
   "display_name": "Python 3",
   "language": "python",
   "name": "python3"
  },
  "language_info": {
   "codemirror_mode": {
    "name": "ipython",
    "version": 3
   },
   "file_extension": ".py",
   "mimetype": "text/x-python",
   "name": "python",
   "nbconvert_exporter": "python",
   "pygments_lexer": "ipython3",
   "version": "3.6.3"
  }
 },
 "nbformat": 4,
 "nbformat_minor": 2
}
