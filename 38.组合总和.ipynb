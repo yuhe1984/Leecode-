{
 "cells": [
  {
   "cell_type": "code",
   "execution_count": 5,
   "metadata": {},
   "outputs": [
    {
     "name": "stdout",
     "output_type": "stream",
     "text": [
      "[[2, 2, 3], [7]]\n"
     ]
    }
   ],
   "source": [
    "from typing import List\n",
    "\n",
    "class Solution:\n",
    "    def combinationSum(self, candidates: List[int], target: int) -> List[List[int]]:\n",
    "        size = len(candidates)\n",
    "        if size == 0:\n",
    "            return []\n",
    "\n",
    "        # 剪枝的前提是数组元素排序\n",
    "        # 深度深的边不能比深度浅的边还小\n",
    "        # 要排序的理由：1、前面用过的数后面不能再用；2、下一层边上的数不能小于上一层边上的数。\n",
    "        candidates.sort()\n",
    "        # 在遍历的过程中记录路径，一般而言它是一个栈\n",
    "        path = []\n",
    "        res = []\n",
    "        # 注意要传入 size ，在 range 中， size 取不到\n",
    "        self.__dfs(candidates, 0, size, path, res, target)\n",
    "        return res\n",
    "\n",
    "    def __dfs(self, candidates, begin, size, path, res, target):\n",
    "        # 先写递归终止的情况\n",
    "        if target == 0:\n",
    "            # Python 中可变对象是引用传递，因此需要将当前 path 里的值拷贝出来\n",
    "            # 或者使用 path.copy()\n",
    "            res.append(path[:])\n",
    "\n",
    "        for index in range(begin, size):\n",
    "            residue = target - candidates[index]\n",
    "            # “剪枝”操作，不必递归到下一层，并且后面的分支也不必执行\n",
    "            if residue < 0:\n",
    "                break\n",
    "            path.append(candidates[index])\n",
    "            # 因为下一层不能比上一层还小，起始索引还从 index 开始\n",
    "            self.__dfs(candidates, index, size, path, res, residue)\n",
    "            path.pop()\n",
    "\n",
    "\n",
    "if __name__ == '__main__':\n",
    "    candidates = [2, 3, 6, 7]\n",
    "    target = 7\n",
    "    solution = Solution()\n",
    "    result = solution.combinationSum(candidates, target)\n",
    "    print(result)"
   ]
  },
  {
   "cell_type": "code",
   "execution_count": 26,
   "metadata": {},
   "outputs": [
    {
     "name": "stdout",
     "output_type": "stream",
     "text": [
      "[[2, 2, 3], [7]]\n"
     ]
    }
   ],
   "source": [
    "class Solution:\n",
    "    def combinationSum(self, candidates, target):\n",
    "        size = len(candidates)\n",
    "        if size == 0:\n",
    "            return []\n",
    "        \n",
    "        candidates.sort()\n",
    "        path = []\n",
    "        res = []\n",
    "        self.__dfs(candidates, 0, size, path, res, target)\n",
    "        return res\n",
    "    \n",
    "    def __dfs(self, candidates, begin, size, path, res, target):\n",
    "        if target == 0:\n",
    "            res.append(path[:])\n",
    "            \n",
    "        for index in range(begin, size):\n",
    "            residue = target - candidates[index]\n",
    "            if residue < 0:\n",
    "                break\n",
    "            path.append(candidates[index])\n",
    "            self.__dfs(candidates, index, size, path, res, residue)\n",
    "            path.pop()\n",
    "if __name__ == '__main__':\n",
    "    candidates = [2, 3, 6, 7]\n",
    "    target = 7\n",
    "    solution = Solution()\n",
    "    result = solution.combinationSum(candidates, target)\n",
    "    print(result)"
   ]
  },
  {
   "cell_type": "code",
   "execution_count": 24,
   "metadata": {
    "collapsed": true
   },
   "outputs": [],
   "source": [
    "a = Solution"
   ]
  },
  {
   "cell_type": "code",
   "execution_count": 25,
   "metadata": {},
   "outputs": [
    {
     "ename": "AttributeError",
     "evalue": "'list' object has no attribute '_Solution__dfs'",
     "output_type": "error",
     "traceback": [
      "\u001b[1;31m---------------------------------------------------------------------------\u001b[0m",
      "\u001b[1;31mAttributeError\u001b[0m                            Traceback (most recent call last)",
      "\u001b[1;32m<ipython-input-25-ea0f58a08e94>\u001b[0m in \u001b[0;36m<module>\u001b[1;34m()\u001b[0m\n\u001b[1;32m----> 1\u001b[1;33m \u001b[0ma\u001b[0m\u001b[1;33m.\u001b[0m\u001b[0mcombinationSum\u001b[0m\u001b[1;33m(\u001b[0m\u001b[1;33m[\u001b[0m\u001b[1;33m]\u001b[0m\u001b[1;33m,\u001b[0m\u001b[1;33m[\u001b[0m\u001b[1;36m2\u001b[0m\u001b[1;33m,\u001b[0m\u001b[1;36m3\u001b[0m\u001b[1;33m,\u001b[0m\u001b[1;36m6\u001b[0m\u001b[1;33m,\u001b[0m\u001b[1;36m7\u001b[0m\u001b[1;33m]\u001b[0m\u001b[1;33m,\u001b[0m\u001b[1;36m7\u001b[0m\u001b[1;33m)\u001b[0m\u001b[1;33m\u001b[0m\u001b[0m\n\u001b[0m",
      "\u001b[1;32m<ipython-input-23-fd43d316dc50>\u001b[0m in \u001b[0;36mcombinationSum\u001b[1;34m(self, candidates, target)\u001b[0m\n\u001b[0;32m      9\u001b[0m         \u001b[0mpath\u001b[0m \u001b[1;33m=\u001b[0m \u001b[1;33m[\u001b[0m\u001b[1;33m]\u001b[0m\u001b[1;33m\u001b[0m\u001b[0m\n\u001b[0;32m     10\u001b[0m         \u001b[0mres\u001b[0m \u001b[1;33m=\u001b[0m \u001b[1;33m[\u001b[0m\u001b[1;33m]\u001b[0m\u001b[1;33m\u001b[0m\u001b[0m\n\u001b[1;32m---> 11\u001b[1;33m         \u001b[0mself\u001b[0m\u001b[1;33m.\u001b[0m\u001b[0m__dfs\u001b[0m\u001b[1;33m(\u001b[0m\u001b[0mcandidates\u001b[0m\u001b[1;33m,\u001b[0m \u001b[1;36m0\u001b[0m\u001b[1;33m,\u001b[0m \u001b[0msize\u001b[0m\u001b[1;33m,\u001b[0m \u001b[0mpath\u001b[0m\u001b[1;33m,\u001b[0m \u001b[0mres\u001b[0m\u001b[1;33m,\u001b[0m \u001b[0mtarget\u001b[0m\u001b[1;33m)\u001b[0m\u001b[1;33m\u001b[0m\u001b[0m\n\u001b[0m\u001b[0;32m     12\u001b[0m         \u001b[1;32mreturn\u001b[0m \u001b[0mres\u001b[0m\u001b[1;33m\u001b[0m\u001b[0m\n\u001b[0;32m     13\u001b[0m \u001b[1;33m\u001b[0m\u001b[0m\n",
      "\u001b[1;31mAttributeError\u001b[0m: 'list' object has no attribute '_Solution__dfs'"
     ]
    }
   ],
   "source": [
    "a.combinationSum([],[2,3,6,7],7)"
   ]
  },
  {
   "cell_type": "code",
   "execution_count": null,
   "metadata": {
    "collapsed": true
   },
   "outputs": [],
   "source": []
  }
 ],
 "metadata": {
  "kernelspec": {
   "display_name": "Python 3",
   "language": "python",
   "name": "python3"
  },
  "language_info": {
   "codemirror_mode": {
    "name": "ipython",
    "version": 3
   },
   "file_extension": ".py",
   "mimetype": "text/x-python",
   "name": "python",
   "nbconvert_exporter": "python",
   "pygments_lexer": "ipython3",
   "version": "3.6.3"
  }
 },
 "nbformat": 4,
 "nbformat_minor": 2
}
