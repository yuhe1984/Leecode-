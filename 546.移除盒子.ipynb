{
 "cells": [
  {
   "cell_type": "code",
   "execution_count": 6,
   "metadata": {
    "collapsed": true
   },
   "outputs": [],
   "source": [
    "class Solution:\n",
    "    def removeBoxes(self, boxes):\n",
    "        n = len(boxes)\n",
    "        dp = [[[0]*n for _ in range(n)] for _ in range(n)]\n",
    "        \n",
    "        # dp[i][j][k] 表示在 [i,j]部分能得到的最大得分\n",
    "        # k表示boxes[i]左边有k个与之相等的数可以与它结合（可能原本有多余k个数，但是能和它合并一起消失的，只有k个）\n",
    "        # 如...X DFD X DFDF X SDF [X LSKDFJ X LSJDFLK X DLKFJ...]\n",
    "        # dp[i][j][k]表示只考虑[]部分对分数的贡献，那么第一个X可能跟着前面K个X消失，也可能等着后面的X一起消失\n",
    "        # 1. 跟前面的k个一起消失的话 得分为 (k+1)**2 + helper(i+1,j,0)\n",
    "        # 2.1 跟后面的第二个X一起消失的话，[]中的“LSKDFJ” 部分独立拿分，X成为第二个X开头的子序的前导之一 k->1+k\n",
    "        #     得分为helper(i+1,m-1,0)+helper(m,j,1+k)  m此时是第二个X的序号\n",
    "        # 2.2 跟后面的第三个X一起消失的话，[]中的“LSKDFJ X LSJDFLK” 部分独立拿分，X成为第三个X开头的子序的前导之一 k->1+k\n",
    "        #     得分还是helper(i+1,m-1,0)+helper(m,j,1+k)  m此时是第三个X的序号\n",
    "        # 2.3 至于“LSKDFJ”与“LSJDFLK”部分分别独立拿分，再合并k+3个X拿分的情况，包含于2.1情况中\n",
    "        #     因为helper(m,j,1+k) 可以递归，下一层的2.1情况就是前K个与第一个X第二个X和第三个X合并\n",
    "        #     所以只用考虑[]中第一个X与第Y个X直接合并，中间部分作为子区间独立拿分的情况\n",
    "        # 几种情况取最高得分，并存入dp[i][j][k]\n",
    "        \n",
    "        def helper(i,j,k):\n",
    "            if i>j:\n",
    "                return 0\n",
    "            \n",
    "            if dp[i][j][k]!=0:\n",
    "                return dp[i][j][k]\n",
    "            \n",
    "            # 大段连续的部分肯定是放一起消失得分高，而不是单个消失\n",
    "            while i<j and boxes[i]==boxes[i+1]:\n",
    "                i+=1\n",
    "                k+=1\n",
    "                    \n",
    "            res = (k+1)**2 + helper(i+1,j,0)\n",
    "            \n",
    "            for m in range(i+1,j+1):\n",
    "                if boxes[m]==boxes[i]:\n",
    "                    res = max(res, helper(i+1,m-1,0)+helper(m,j,1+k))\n",
    "                    \n",
    "            dp[i][j][k] = res\n",
    "            return dp[i][j][k]\n",
    "        \n",
    "        return helper(0,n-1,0)"
   ]
  },
  {
   "cell_type": "code",
   "execution_count": null,
   "metadata": {
    "collapsed": true
   },
   "outputs": [],
   "source": []
  }
 ],
 "metadata": {
  "kernelspec": {
   "display_name": "Python 3",
   "language": "python",
   "name": "python3"
  },
  "language_info": {
   "codemirror_mode": {
    "name": "ipython",
    "version": 3
   },
   "file_extension": ".py",
   "mimetype": "text/x-python",
   "name": "python",
   "nbconvert_exporter": "python",
   "pygments_lexer": "ipython3",
   "version": "3.6.3"
  }
 },
 "nbformat": 4,
 "nbformat_minor": 2
}
