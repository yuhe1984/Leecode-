{
 "cells": [
  {
   "cell_type": "code",
   "execution_count": null,
   "metadata": {},
   "outputs": [],
   "source": [
    "res = list(map(int, input().split(' ')))\n",
    "n = res[0]\n",
    "C = res[1]\n",
    "nums = []\n",
    "for i in range(n):\n",
    "    num = list(map(float, input().split(' ')))\n",
    "    nums.append(num)"
   ]
  },
  {
   "cell_type": "code",
   "execution_count": null,
   "metadata": {},
   "outputs": [],
   "source": [
    "nums"
   ]
  },
  {
   "cell_type": "code",
   "execution_count": null,
   "metadata": {},
   "outputs": [],
   "source": [
    "nums = sorted(nums, key = lambda x:x[0])"
   ]
  },
  {
   "cell_type": "code",
   "execution_count": null,
   "metadata": {},
   "outputs": [],
   "source": [
    "a, b"
   ]
  },
  {
   "cell_type": "code",
   "execution_count": null,
   "metadata": {
    "collapsed": true
   },
   "outputs": [],
   "source": [
    "a = []\n",
    "b = []\n",
    "for i, j in nums:\n",
    "    a.append(i)\n",
    "    b.append(j)"
   ]
  },
  {
   "cell_type": "code",
   "execution_count": null,
   "metadata": {},
   "outputs": [],
   "source": [
    "class Solution():\n",
    "    def maxSum(self, a, b, target):\n",
    "        size = len(a)\n",
    "        path = []\n",
    "        res = []\n",
    "        self.dfs(a, b, 0, size, path, res, target)\n",
    "        return max(res)\n",
    "        \n",
    "    def dfs(self, a, b, begin, size, path, res, target):\n",
    "        if target < 0:\n",
    "            return\n",
    "        res.append(sum(path[:]))\n",
    "        for index in range(begin, size):\n",
    "            residue = target - a[index]\n",
    "            if residue < 0:\n",
    "                break\n",
    "            path.append(b[index])\n",
    "            self.dfs(a, b, index+1, size, path, res, residue)\n",
    "            path.pop()"
   ]
  },
  {
   "cell_type": "code",
   "execution_count": null,
   "metadata": {
    "collapsed": true
   },
   "outputs": [],
   "source": [
    "AA = Solution()"
   ]
  },
  {
   "cell_type": "code",
   "execution_count": null,
   "metadata": {},
   "outputs": [],
   "source": [
    "AA.maxSum(a, b, C)"
   ]
  },
  {
   "cell_type": "code",
   "execution_count": 3,
   "metadata": {},
   "outputs": [
    {
     "name": "stdout",
     "output_type": "stream",
     "text": [
      "3 15\n",
      "5.00 15\n",
      "9.00 1\n",
      "8.00 16\n",
      "31\n"
     ]
    }
   ],
   "source": [
    "res = list(map(int, input().split(' ')))\n",
    "n = res[0]\n",
    "C = res[1]\n",
    "nums = []\n",
    "for i in range(n):\n",
    "    num = list(map(float, input().split(' ')))\n",
    "    nums.append(num)\n",
    "nums = sorted(nums, key = lambda x:x[0])\n",
    "a = []\n",
    "b = []\n",
    "for i, j in nums:\n",
    "    a.append(i)\n",
    "    b.append(j)\n",
    "class Solution():\n",
    "    def maxSum(self, a, b, target):\n",
    "        size = len(a)\n",
    "        path = []\n",
    "        res = []\n",
    "        self.dfs(a, b, 0, size, path, res, target)\n",
    "        return max(res)\n",
    "        \n",
    "    def dfs(self, a, b, begin, size, path, res, target):\n",
    "        if target < 0:\n",
    "            return\n",
    "        res.append(sum(path[:]))\n",
    "        for index in range(begin, size):\n",
    "            residue = target - a[index]\n",
    "            if residue < 0:\n",
    "                break\n",
    "            path.append(b[index])\n",
    "            self.dfs(a, b, index+1, size, path, res, residue)\n",
    "            path.pop()\n",
    "AA = Solution()\n",
    "BB = AA.maxSum(a, b, C)\n",
    "print(int(BB))"
   ]
  },
  {
   "cell_type": "code",
   "execution_count": 4,
   "metadata": {
    "collapsed": true
   },
   "outputs": [],
   "source": [
    "q = [1, 2, 3]"
   ]
  },
  {
   "cell_type": "code",
   "execution_count": 5,
   "metadata": {},
   "outputs": [
    {
     "data": {
      "text/plain": [
       "[1, 2]"
      ]
     },
     "execution_count": 5,
     "metadata": {},
     "output_type": "execute_result"
    }
   ],
   "source": [
    "q[:2]"
   ]
  },
  {
   "cell_type": "code",
   "execution_count": 6,
   "metadata": {},
   "outputs": [
    {
     "name": "stdout",
     "output_type": "stream",
     "text": [
      "3 1 1\n",
      "1 2 3\n",
      "2\n"
     ]
    }
   ],
   "source": [
    "num = list(map(int, input().split(' ')))\n",
    "n = num[0]\n",
    "m = num[1]\n",
    "x = num[2]\n",
    "a = list(map(int, input().split(' ')))\n",
    "a.sort()\n",
    "for i in range(m):\n",
    "    a[0] += x\n",
    "    j = 0\n",
    "    while a[j] > a[j+1]:\n",
    "        a[j], a[j+1] = a[j+1], a[j]\n",
    "        j += 1\n",
    "print(a[0])"
   ]
  },
  {
   "cell_type": "code",
   "execution_count": 46,
   "metadata": {},
   "outputs": [
    {
     "name": "stdout",
     "output_type": "stream",
     "text": [
      "5\n",
      "2 2 1 1 1\n"
     ]
    }
   ],
   "source": [
    "n = int(input())\n",
    "num = input().split(' ')"
   ]
  },
  {
   "cell_type": "code",
   "execution_count": 47,
   "metadata": {},
   "outputs": [
    {
     "data": {
      "text/plain": [
       "['2', '2', '1', '1', '1']"
      ]
     },
     "execution_count": 47,
     "metadata": {},
     "output_type": "execute_result"
    }
   ],
   "source": [
    "num.sort()\n",
    "num = num[::-1]\n",
    "num"
   ]
  },
  {
   "cell_type": "code",
   "execution_count": 48,
   "metadata": {
    "collapsed": true
   },
   "outputs": [],
   "source": [
    "from collections import Counter"
   ]
  },
  {
   "cell_type": "code",
   "execution_count": 49,
   "metadata": {
    "collapsed": true
   },
   "outputs": [],
   "source": [
    "ans = Counter(num)"
   ]
  },
  {
   "cell_type": "code",
   "execution_count": 50,
   "metadata": {},
   "outputs": [
    {
     "data": {
      "text/plain": [
       "Counter({'1': 3, '2': 2})"
      ]
     },
     "execution_count": 50,
     "metadata": {},
     "output_type": "execute_result"
    }
   ],
   "source": [
    "ans"
   ]
  },
  {
   "cell_type": "code",
   "execution_count": 51,
   "metadata": {},
   "outputs": [],
   "source": [
    "while len(num) != len(ans):\n",
    "    num.pop(0)\n",
    "    num[0] = str(int(num[0]) * 2)\n",
    "    num.sort()\n",
    "    num = num[::-1]\n",
    "    ans = Counter(num)"
   ]
  },
  {
   "cell_type": "code",
   "execution_count": 52,
   "metadata": {},
   "outputs": [
    {
     "data": {
      "text/plain": [
       "['2', '1']"
      ]
     },
     "execution_count": 52,
     "metadata": {},
     "output_type": "execute_result"
    }
   ],
   "source": [
    "num"
   ]
  },
  {
   "cell_type": "code",
   "execution_count": null,
   "metadata": {
    "collapsed": true
   },
   "outputs": [],
   "source": []
  }
 ],
 "metadata": {
  "kernelspec": {
   "display_name": "Python 3",
   "language": "python",
   "name": "python3"
  },
  "language_info": {
   "codemirror_mode": {
    "name": "ipython",
    "version": 3
   },
   "file_extension": ".py",
   "mimetype": "text/x-python",
   "name": "python",
   "nbconvert_exporter": "python",
   "pygments_lexer": "ipython3",
   "version": "3.6.3"
  }
 },
 "nbformat": 4,
 "nbformat_minor": 2
}
