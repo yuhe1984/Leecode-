{
 "cells": [
  {
   "cell_type": "markdown",
   "metadata": {},
   "source": [
    "# 方法一：中序遍历，总是选择中间位置左边的数字作为根节点"
   ]
  },
  {
   "cell_type": "code",
   "execution_count": 7,
   "metadata": {},
   "outputs": [],
   "source": [
    "# Definition for a binary tree node.\n",
    "from typing import List\n",
    "class TreeNode:\n",
    "    def __init__(self, x):\n",
    "        self.val = x\n",
    "        self.left = None\n",
    "        self.right = None\n",
    "\n",
    "class Solution:\n",
    "    def sortedArrayToBST(self, nums: List[int]) -> TreeNode:\n",
    "        def helper(left, right):\n",
    "            if left > right:\n",
    "                return None\n",
    "\n",
    "            # 总是选择中间位置左边的数字作为根节点\n",
    "            mid = (left + right) // 2\n",
    "\n",
    "            root = TreeNode(nums[mid])\n",
    "            root.left = helper(left, mid - 1)\n",
    "            root.right = helper(mid + 1, right)\n",
    "            return root\n",
    "\n",
    "        return helper(0, len(nums) - 1)"
   ]
  },
  {
   "cell_type": "markdown",
   "metadata": {},
   "source": [
    "# 方法二：中序遍历，总是选择中间位置右边的数字作为根节点"
   ]
  },
  {
   "cell_type": "code",
   "execution_count": 8,
   "metadata": {},
   "outputs": [],
   "source": [
    "class Solution:\n",
    "    def sortedArrayToBST(self, nums: List[int]) -> TreeNode:\n",
    "        def helper(left, right):\n",
    "            if left > right:\n",
    "                return None\n",
    "\n",
    "            # 总是选择中间位置右边的数字作为根节点\n",
    "            mid = (left + right + 1) // 2\n",
    "\n",
    "            root = TreeNode(nums[mid])\n",
    "            root.left = helper(left, mid - 1)\n",
    "            root.right = helper(mid + 1, right)\n",
    "            return root\n",
    "\n",
    "        return helper(0, len(nums) - 1)"
   ]
  },
  {
   "cell_type": "markdown",
   "metadata": {},
   "source": [
    "# 方法三：中序遍历，选择任意一个中间位置数字作为根节点"
   ]
  },
  {
   "cell_type": "code",
   "execution_count": 9,
   "metadata": {},
   "outputs": [],
   "source": [
    "class Solution:\n",
    "    def sortedArrayToBST(self, nums: List[int]) -> TreeNode:\n",
    "        def helper(left, right):\n",
    "            if left > right:\n",
    "                return None\n",
    "\n",
    "            # 选择任意一个中间位置数字作为根节点\n",
    "            mid = (left + right + randint(0, 1)) // 2\n",
    "\n",
    "            root = TreeNode(nums[mid])\n",
    "            root.left = helper(left, mid - 1)\n",
    "            root.right = helper(mid + 1, right)\n",
    "            return root\n",
    "\n",
    "        return helper(0, len(nums) - 1)"
   ]
  },
  {
   "cell_type": "code",
   "execution_count": null,
   "metadata": {
    "collapsed": true
   },
   "outputs": [],
   "source": []
  }
 ],
 "metadata": {
  "kernelspec": {
   "display_name": "Python 3",
   "language": "python",
   "name": "python3"
  },
  "language_info": {
   "codemirror_mode": {
    "name": "ipython",
    "version": 3
   },
   "file_extension": ".py",
   "mimetype": "text/x-python",
   "name": "python",
   "nbconvert_exporter": "python",
   "pygments_lexer": "ipython3",
   "version": "3.6.3"
  }
 },
 "nbformat": 4,
 "nbformat_minor": 2
}
