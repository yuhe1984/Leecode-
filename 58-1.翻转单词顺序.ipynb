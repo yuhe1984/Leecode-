{
 "cells": [
  {
   "cell_type": "code",
   "execution_count": 1,
   "metadata": {
    "collapsed": true
   },
   "outputs": [],
   "source": [
    "class Solution:\n",
    "    def reverseWords(self, s: str) -> str:\n",
    "        return ' '.join(reversed(s.split()))"
   ]
  },
  {
   "cell_type": "code",
   "execution_count": 2,
   "metadata": {
    "collapsed": true
   },
   "outputs": [],
   "source": [
    "class Solution:\n",
    "    def reverseWords(self, s):\n",
    "        res = \"\"\n",
    "        s += \" \"\n",
    "        tmp = False\n",
    "        idx = 0\n",
    "        for i in range(len(s)):\n",
    "            if not tmp and s[i] != \" \":\n",
    "                idx = i\n",
    "                tmp = True\n",
    "            elif tmp and s[i] == \" \":\n",
    "                tmp = False\n",
    "                res = \" \" + s[idx:i] + res\n",
    "        return res[1:]"
   ]
  },
  {
   "cell_type": "code",
   "execution_count": null,
   "metadata": {
    "collapsed": true
   },
   "outputs": [],
   "source": [
    "class Solution:\n",
    "    def reverseWords(self, s: str) -> str:\n",
    "        res = ''\n",
    "        s += \" \"\n",
    "        idx = 0\n",
    "        flag = False\n",
    "        for j , i in enumerate(s):\n",
    "            if not flag and i != \" \":\n",
    "                idx = j\n",
    "                flag = True\n",
    "            elif flag and i == ' ':\n",
    "                flag = False\n",
    "                res = \" \" +  s[idx:j] + res\n",
    "        return res[1:]"
   ]
  },
  {
   "cell_type": "markdown",
   "metadata": {},
   "source": [
    "# 双端队列"
   ]
  },
  {
   "cell_type": "code",
   "execution_count": null,
   "metadata": {
    "collapsed": true
   },
   "outputs": [],
   "source": [
    "class Solution:\n",
    "    def reverseWords(self, s):\n",
    "        left, right = 0, len(s) - 1\n",
    "        # 去掉字符串开头的空白字符\n",
    "        while left <= right and s[left] == ' ':\n",
    "            left += 1\n",
    "        \n",
    "        # 去掉字符串末尾的空白字符\n",
    "        while left <= right and s[right] == ' ':\n",
    "            right -= 1\n",
    "            \n",
    "        d, word = collections.deque(), []\n",
    "        # 将单词 push 到队列的头部\n",
    "        while left <= right:\n",
    "            if s[left] == ' ' and word:\n",
    "                d.appendleft(''.join(word))\n",
    "                word = []\n",
    "            elif s[left] != ' ':\n",
    "                word.append(s[left])\n",
    "            left += 1\n",
    "        d.appendleft(''.join(word))\n",
    "        \n",
    "        return ' '.join(d)"
   ]
  },
  {
   "cell_type": "code",
   "execution_count": null,
   "metadata": {
    "collapsed": true
   },
   "outputs": [],
   "source": []
  }
 ],
 "metadata": {
  "kernelspec": {
   "display_name": "Python 3",
   "language": "python",
   "name": "python3"
  },
  "language_info": {
   "codemirror_mode": {
    "name": "ipython",
    "version": 3
   },
   "file_extension": ".py",
   "mimetype": "text/x-python",
   "name": "python",
   "nbconvert_exporter": "python",
   "pygments_lexer": "ipython3",
   "version": "3.6.3"
  }
 },
 "nbformat": 4,
 "nbformat_minor": 2
}
