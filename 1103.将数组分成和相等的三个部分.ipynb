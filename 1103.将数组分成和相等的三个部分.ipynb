{
 "cells": [
  {
   "cell_type": "code",
   "execution_count": 1,
   "metadata": {
    "collapsed": true
   },
   "outputs": [],
   "source": [
    "class Solution:\n",
    "    def canThreePartsEqualSum(self, A):\n",
    "        s = sum(A)\n",
    "        if s % 3 != 0:\n",
    "            return False\n",
    "        target = s // 3\n",
    "        n, i, cur = len(A), 0, 0\n",
    "        while i < n:\n",
    "            cur += A[i]\n",
    "            if cur == target:\n",
    "                break\n",
    "            i += 1\n",
    "        if cur != target:\n",
    "            return False\n",
    "        j = i + 1\n",
    "        while j + 1 < n:  # 需要满足最后一个数组非空\n",
    "            cur += A[j]\n",
    "            if cur == target * 2:\n",
    "                return True\n",
    "            j += 1\n",
    "        return False"
   ]
  },
  {
   "cell_type": "code",
   "execution_count": 2,
   "metadata": {
    "collapsed": true
   },
   "outputs": [],
   "source": [
    "class Solution:\n",
    "    def canThreePartsEqualSum(self, A):\n",
    "        s = sum(A)\n",
    "        if s % 3 != 0:\n",
    "            return False\n",
    "        target = s // 3\n",
    "        n, i, cur = len(A), 0, 0\n",
    "        while i < n:\n",
    "            cur += A[i]\n",
    "            if cur == target:\n",
    "                break\n",
    "            i += 1\n",
    "        if cur != target:\n",
    "            return False\n",
    "        j = i + 1\n",
    "        if sum(A[j:]) == target * 2:\n",
    "            return True\n",
    "        return False"
   ]
  },
  {
   "cell_type": "code",
   "execution_count": null,
   "metadata": {
    "collapsed": true
   },
   "outputs": [],
   "source": []
  }
 ],
 "metadata": {
  "kernelspec": {
   "display_name": "Python 3",
   "language": "python",
   "name": "python3"
  },
  "language_info": {
   "codemirror_mode": {
    "name": "ipython",
    "version": 3
   },
   "file_extension": ".py",
   "mimetype": "text/x-python",
   "name": "python",
   "nbconvert_exporter": "python",
   "pygments_lexer": "ipython3",
   "version": "3.6.3"
  }
 },
 "nbformat": 4,
 "nbformat_minor": 2
}
