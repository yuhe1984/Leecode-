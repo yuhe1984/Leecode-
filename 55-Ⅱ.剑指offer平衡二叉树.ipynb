{
 "cells": [
  {
   "cell_type": "markdown",
   "metadata": {},
   "source": [
    "# 后序遍历 + 剪枝 （从底至顶）"
   ]
  },
  {
   "cell_type": "code",
   "execution_count": 3,
   "metadata": {
    "collapsed": true
   },
   "outputs": [],
   "source": [
    "class Solution:\n",
    "    def isBalanced(self, root):\n",
    "        def recur(root):\n",
    "            if not root: return 0\n",
    "            left = recur(root.left)\n",
    "            if left == -1: return -1\n",
    "            right = recur(root.right)\n",
    "            if right == -1: return -1\n",
    "            return max(left, right) + 1 if abs(left - right) <= 1 else -1\n",
    "\n",
    "        return recur(root) != -1"
   ]
  },
  {
   "cell_type": "code",
   "execution_count": 5,
   "metadata": {
    "collapsed": true
   },
   "outputs": [],
   "source": [
    "class Solution:\n",
    "    def isBalanced(self, root):\n",
    "        if not root: return True\n",
    "        def recur(root):\n",
    "            if not root: return 0\n",
    "            left = recur(root.left)\n",
    "            if left == -1: return -1\n",
    "            right = recur(root.right)\n",
    "            if right == -1: return -1\n",
    "            return max(left, right) + 1 if abs(left - right) <= 1 else -1\n",
    "        return recur(root) != -1"
   ]
  },
  {
   "cell_type": "markdown",
   "metadata": {},
   "source": [
    "# 先序遍历 + 判断深度 （从顶至底）"
   ]
  },
  {
   "cell_type": "code",
   "execution_count": 2,
   "metadata": {
    "collapsed": true
   },
   "outputs": [],
   "source": [
    "class Solution:\n",
    "    def isBalanced(self, root):\n",
    "        if not root: return True\n",
    "        return abs(self.depth(root.left) - self.depth(root.right)) <= 1 and \\\n",
    "            self.isBalanced(root.left) and self.isBalanced(root.right)\n",
    "\n",
    "    def depth(self, root):\n",
    "        if not root: return 0\n",
    "        return max(self.depth(root.left), self.depth(root.right)) + 1"
   ]
  },
  {
   "cell_type": "code",
   "execution_count": 4,
   "metadata": {
    "collapsed": true
   },
   "outputs": [],
   "source": [
    "# Definition for a binary tree node.\n",
    "class TreeNode:\n",
    "    def __init__(self, x):\n",
    "        self.val = x\n",
    "        self.left = None\n",
    "        self.right = None\n",
    "\n",
    "class Solution:\n",
    "    def isBalanced(self, root: TreeNode) -> bool:\n",
    "        if not root: return True\n",
    "        def maxDepth(node):\n",
    "            if not node: return 0\n",
    "            return max(maxDepth(node.left), maxDepth(node.right)) + 1\n",
    "        return abs(maxDepth(root.left) - maxDepth(root.right)) <= 1 and self.isBalanced(root.left) and self.isBalanced(root.right)"
   ]
  },
  {
   "cell_type": "code",
   "execution_count": 1,
   "metadata": {},
   "outputs": [
    {
     "name": "stdout",
     "output_type": "stream",
     "text": [
      "0 \t [ 3900.  6100.]\n",
      "1 \t [ 4170.  5830.]\n",
      "2 \t [ 4251.  5749.]\n",
      "3 \t [ 4275.3  5724.7]\n",
      "4 \t [ 4282.59  5717.41]\n",
      "5 \t [ 4284.777  5715.223]\n",
      "6 \t [ 4285.4331  5714.5669]\n",
      "7 \t [ 4285.62993  5714.37007]\n",
      "8 \t [ 4285.688979  5714.311021]\n",
      "9 \t [ 4285.7066937  5714.2933063]\n",
      "10 \t [ 4285.71200811  5714.28799189]\n",
      "11 \t [ 4285.71360243  5714.28639757]\n",
      "12 \t [ 4285.71408073  5714.28591927]\n",
      "13 \t [ 4285.71422422  5714.28577578]\n",
      "14 \t [ 4285.71426727  5714.28573273]\n",
      "15 \t [ 4285.71428018  5714.28571982]\n",
      "16 \t [ 4285.71428405  5714.28571595]\n",
      "17 \t [ 4285.71428522  5714.28571478]\n",
      "18 \t [ 4285.71428556  5714.28571444]\n",
      "19 \t [ 4285.71428567  5714.28571433]\n",
      "20 \t [ 4285.7142857  5714.2857143]\n",
      "21 \t [ 4285.71428571  5714.28571429]\n",
      "22 \t [ 4285.71428571  5714.28571429]\n",
      "23 \t [ 4285.71428571  5714.28571429]\n",
      "24 \t [ 4285.71428571  5714.28571429]\n",
      "25 \t [ 4285.71428571  5714.28571429]\n",
      "26 \t [ 4285.71428571  5714.28571429]\n",
      "27 \t [ 4285.71428571  5714.28571429]\n",
      "28 \t [ 4285.71428571  5714.28571429]\n",
      "29 \t [ 4285.71428571  5714.28571429]\n",
      "30 \t [ 4285.71428571  5714.28571429]\n",
      "31 \t [ 4285.71428571  5714.28571429]\n",
      "32 \t [ 4285.71428571  5714.28571429]\n",
      "33 \t [ 4285.71428571  5714.28571429]\n",
      "34 \t [ 4285.71428571  5714.28571429]\n",
      "35 \t [ 4285.71428571  5714.28571429]\n",
      "36 \t [ 4285.71428571  5714.28571429]\n",
      "37 \t [ 4285.71428571  5714.28571429]\n",
      "38 \t [ 4285.71428571  5714.28571429]\n",
      "39 \t [ 4285.71428571  5714.28571429]\n",
      "40 \t [ 4285.71428571  5714.28571429]\n",
      "41 \t [ 4285.71428571  5714.28571429]\n",
      "42 \t [ 4285.71428571  5714.28571429]\n",
      "43 \t [ 4285.71428571  5714.28571429]\n",
      "44 \t [ 4285.71428571  5714.28571429]\n",
      "45 \t [ 4285.71428571  5714.28571429]\n",
      "46 \t [ 4285.71428571  5714.28571429]\n",
      "47 \t [ 4285.71428571  5714.28571429]\n",
      "48 \t [ 4285.71428571  5714.28571429]\n",
      "49 \t [ 4285.71428571  5714.28571429]\n",
      "50 \t [ 4285.71428571  5714.28571429]\n",
      "51 \t [ 4285.71428571  5714.28571429]\n",
      "52 \t [ 4285.71428571  5714.28571429]\n",
      "53 \t [ 4285.71428571  5714.28571429]\n",
      "54 \t [ 4285.71428571  5714.28571429]\n",
      "55 \t [ 4285.71428571  5714.28571429]\n",
      "56 \t [ 4285.71428571  5714.28571429]\n",
      "57 \t [ 4285.71428571  5714.28571429]\n",
      "58 \t [ 4285.71428571  5714.28571429]\n",
      "59 \t [ 4285.71428571  5714.28571429]\n",
      "60 \t [ 4285.71428571  5714.28571429]\n",
      "61 \t [ 4285.71428571  5714.28571429]\n",
      "62 \t [ 4285.71428571  5714.28571429]\n",
      "63 \t [ 4285.71428571  5714.28571429]\n",
      "64 \t [ 4285.71428571  5714.28571429]\n",
      "65 \t [ 4285.71428571  5714.28571429]\n",
      "66 \t [ 4285.71428571  5714.28571429]\n",
      "67 \t [ 4285.71428571  5714.28571429]\n",
      "68 \t [ 4285.71428571  5714.28571429]\n",
      "69 \t [ 4285.71428571  5714.28571429]\n",
      "70 \t [ 4285.71428571  5714.28571429]\n",
      "71 \t [ 4285.71428571  5714.28571429]\n",
      "72 \t [ 4285.71428571  5714.28571429]\n",
      "73 \t [ 4285.71428571  5714.28571429]\n",
      "74 \t [ 4285.71428571  5714.28571429]\n",
      "75 \t [ 4285.71428571  5714.28571429]\n",
      "76 \t [ 4285.71428571  5714.28571429]\n",
      "77 \t [ 4285.71428571  5714.28571429]\n",
      "78 \t [ 4285.71428571  5714.28571429]\n",
      "79 \t [ 4285.71428571  5714.28571429]\n",
      "80 \t [ 4285.71428571  5714.28571429]\n",
      "81 \t [ 4285.71428571  5714.28571429]\n",
      "82 \t [ 4285.71428571  5714.28571429]\n",
      "83 \t [ 4285.71428571  5714.28571429]\n",
      "84 \t [ 4285.71428571  5714.28571429]\n",
      "85 \t [ 4285.71428571  5714.28571429]\n",
      "86 \t [ 4285.71428571  5714.28571429]\n",
      "87 \t [ 4285.71428571  5714.28571429]\n",
      "88 \t [ 4285.71428571  5714.28571429]\n",
      "89 \t [ 4285.71428571  5714.28571429]\n",
      "90 \t [ 4285.71428571  5714.28571429]\n",
      "91 \t [ 4285.71428571  5714.28571429]\n",
      "92 \t [ 4285.71428571  5714.28571429]\n",
      "93 \t [ 4285.71428571  5714.28571429]\n",
      "94 \t [ 4285.71428571  5714.28571429]\n",
      "95 \t [ 4285.71428571  5714.28571429]\n",
      "96 \t [ 4285.71428571  5714.28571429]\n",
      "97 \t [ 4285.71428571  5714.28571429]\n",
      "98 \t [ 4285.71428571  5714.28571429]\n",
      "99 \t [ 4285.71428571  5714.28571429]\n"
     ]
    },
    {
     "data": {
      "image/png": "[encoded data removed]",
      "text/plain": [
       "<matplotlib.figure.Figure at 0x1b0b1ee44e0>"
      ]
     },
     "metadata": {},
     "output_type": "display_data"
    }
   ],
   "source": [
    "import matplotlib.pyplot as plt\n",
    "import numpy as np\n",
    "\n",
    "\n",
    "def markov():\n",
    "    current_status = np.array([3000, 7000])\n",
    "    transfer_matrix = np.array([[0.6, 0.4], [0.3, 0.7]])\n",
    "    img_points = []\n",
    "    for i in range(100):\n",
    "        current_status = np.dot(current_status, transfer_matrix)\n",
    "        img_points.append(current_status)\n",
    "        print(i, \"\\t\", current_status)\n",
    "    plt.plot(img_points)\n",
    "    plt.show()\n",
    "\n",
    "\n",
    "markov()"
   ]
  },
  {
   "cell_type": "code",
   "execution_count": null,
   "metadata": {
    "collapsed": true
   },
   "outputs": [],
   "source": []
  }
 ],
 "metadata": {
  "kernelspec": {
   "display_name": "Python 3",
   "language": "python",
   "name": "python3"
  },
  "language_info": {
   "codemirror_mode": {
    "name": "ipython",
    "version": 3
   },
   "file_extension": ".py",
   "mimetype": "text/x-python",
   "name": "python",
   "nbconvert_exporter": "python",
   "pygments_lexer": "ipython3",
   "version": "3.6.3"
  }
 },
 "nbformat": 4,
 "nbformat_minor": 2
}
