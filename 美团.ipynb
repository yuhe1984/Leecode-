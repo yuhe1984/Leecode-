{
 "cells": [
  {
   "cell_type": "code",
   "execution_count": null,
   "metadata": {},
   "outputs": [],
   "source": [
    "num = list(map(int, input().split(' ')))\n",
    "n, m, k = num[0], num[1], num[2]\n",
    "nums = list(map(int, input().split(' ')))\n",
    "path = []\n",
    "res = []\n",
    "for i in range(n):\n",
    "    if len(res) < m and nums[i] >= k:\n",
    "        res.append(i)\n",
    "    elif nums[i] < k:\n",
    "        res = []\n",
    "    if len(res) == m:\n",
    "        path.append(res[:])\n",
    "        res.pop(0)\n",
    "print(len(path))"
   ]
  },
  {
   "cell_type": "code",
   "execution_count": null,
   "metadata": {},
   "outputs": [],
   "source": [
    "path"
   ]
  },
  {
   "cell_type": "code",
   "execution_count": null,
   "metadata": {},
   "outputs": [],
   "source": [
    "list(range(1, 3+1))"
   ]
  },
  {
   "cell_type": "code",
   "execution_count": 35,
   "metadata": {},
   "outputs": [
    {
     "name": "stdout",
     "output_type": "stream",
     "text": [
      "5 3 2\n",
      "7\n"
     ]
    }
   ],
   "source": [
    "num = list(map(int, input().split(' ')))\n",
    "n, k, d = num[0], num[1], num[2]\n",
    "nums = list(range(1, k+1))\n",
    "import functools\n",
    "class Solution():\n",
    "    def helper(self, nums, target, d):\n",
    "        self.path = []\n",
    "        size = len(nums)\n",
    "        self.res = []\n",
    "        @functools.lru_cache(None)\n",
    "        def dfs(begin, size, target):\n",
    "            if target == 0:\n",
    "                if max(self.path) >= d:\n",
    "                    self.res.append(self.path[:])\n",
    "            for index in range(begin, size):\n",
    "                resduie = target - nums[index]\n",
    "                if resduie < 0:\n",
    "                    break\n",
    "                self.path.append(nums[index])\n",
    "                dfs(index, size, resduie)\n",
    "                self.path.pop()\n",
    "        dfs(0, size, target)\n",
    "        return self.res\n",
    "a = Solution()\n",
    "b = a.helper(nums, n, d)\n",
    "import itertools\n",
    "ans = 0\n",
    "for i in b:\n",
    "    ans += len(set(itertools.permutations(i, len(i))))\n",
    "print(ans)"
   ]
  },
  {
   "cell_type": "code",
   "execution_count": 34,
   "metadata": {},
   "outputs": [
    {
     "data": {
      "text/plain": [
       "[]"
      ]
     },
     "execution_count": 34,
     "metadata": {},
     "output_type": "execute_result"
    }
   ],
   "source": [
    "b"
   ]
  },
  {
   "cell_type": "code",
   "execution_count": 45,
   "metadata": {},
   "outputs": [
    {
     "name": "stdout",
     "output_type": "stream",
     "text": [
      "5 3 2\n"
     ]
    }
   ],
   "source": [
    "num = list(map(int, input().split(' ')))\n",
    "n, k, d = num[0], num[1], num[2]\n",
    "nums = list(range(1, k+1))"
   ]
  },
  {
   "cell_type": "code",
   "execution_count": 53,
   "metadata": {},
   "outputs": [
    {
     "name": "stdout",
     "output_type": "stream",
     "text": [
      "12\n"
     ]
    }
   ],
   "source": [
    "class Solution():\n",
    "    def combina(self, nums, target, d):\n",
    "        dp = [0] * (target+1)\n",
    "        dp[0] = 1\n",
    "        for i in range(1, target+1):\n",
    "            for num in nums:\n",
    "                if i >= num:\n",
    "                    dp[i] += dp[i-num]\n",
    "        return dp\n",
    "a = Solution()\n",
    "ans = a.combina(nums, n, d)\n",
    "b = ans[n]\n",
    "if d == 1:\n",
    "    print(b%998244353)\n",
    "else:\n",
    "    b -= sum(ans[:d-1])\n",
    "    print(b%998244353)"
   ]
  },
  {
   "cell_type": "code",
   "execution_count": null,
   "metadata": {
    "collapsed": true
   },
   "outputs": [],
   "source": []
  },
  {
   "cell_type": "code",
   "execution_count": null,
   "metadata": {
    "collapsed": true
   },
   "outputs": [],
   "source": []
  },
  {
   "cell_type": "code",
   "execution_count": null,
   "metadata": {
    "collapsed": true
   },
   "outputs": [],
   "source": []
  },
  {
   "cell_type": "code",
   "execution_count": null,
   "metadata": {
    "collapsed": true
   },
   "outputs": [],
   "source": []
  },
  {
   "cell_type": "code",
   "execution_count": 5,
   "metadata": {},
   "outputs": [
    {
     "name": "stdout",
     "output_type": "stream",
     "text": [
      "5 3 2\n"
     ]
    }
   ],
   "source": [
    "num = list(map(int, input().split(' ')))\n",
    "n, k, d = num[0], num[1], num[2]\n",
    "nums = list(range(1, k+1))"
   ]
  },
  {
   "cell_type": "code",
   "execution_count": 15,
   "metadata": {},
   "outputs": [
    {
     "name": "stdout",
     "output_type": "stream",
     "text": [
      "13\n"
     ]
    }
   ],
   "source": [
    "import functools\n",
    "class Solution():\n",
    "    def combina(self, nums, target, d):\n",
    "        n = len(nums)\n",
    "        self.path = []\n",
    "        self.res = []\n",
    "        @functools.lru_cache(None)\n",
    "        def helper(res):\n",
    "            if res == target:\n",
    "#                 if max(self.path) >= d:\n",
    "                    return 1\n",
    "#                 else:\n",
    "#                     return 0\n",
    "            ans = 0\n",
    "            for i in range(n):\n",
    "                val = res + nums[i]\n",
    "                self.path.append(nums[i])\n",
    "                if val > target:\n",
    "                    break\n",
    "                ans += helper(val)\n",
    "#                 self.path.pop()\n",
    "            return ans\n",
    "        return helper(0)\n",
    "a = Solution()\n",
    "b = a.combina(nums, n, d)\n",
    "print(b)"
   ]
  },
  {
   "cell_type": "code",
   "execution_count": 61,
   "metadata": {},
   "outputs": [
    {
     "name": "stdout",
     "output_type": "stream",
     "text": [
      "5 3 2\n",
      "[]\n",
      "[3]\n",
      "[3, 3]\n",
      "[3, 2]\n",
      "[3, 1]\n",
      "[3, 1, 3]\n",
      "[2]\n",
      "[1]\n",
      "13\n"
     ]
    }
   ],
   "source": [
    "num = list(map(int, input().split(' ')))\n",
    "n, k, d = num[0], num[1], num[2]\n",
    "nums = list(range(1, k+1))\n",
    "class Solution():\n",
    "    def helper(self, nums, target, d):\n",
    "        path = []\n",
    "        size = len(nums) - 1\n",
    "        res = []\n",
    "        dic = {}\n",
    "        def dfs(nums, begin, size, path, res, target, dic):\n",
    "            if target == 0:\n",
    "                if max(path) >= d:\n",
    "                    res.append(path[:])\n",
    "                    return 1\n",
    "            elif target < nums[0]:\n",
    "                return 0\n",
    "            count = 0\n",
    "            for index in range(size, begin-1, -1):\n",
    "                resduie = target - nums[index]\n",
    "#                 if resduie < 0:\n",
    "#                     break\n",
    "                if resduie not in dic:\n",
    "                    path.append(nums[index])\n",
    "                    cur = dfs(nums, begin, size, path, res, resduie, dic)\n",
    "                    dic[resduie] = cur\n",
    "                    count += cur\n",
    "                    path.pop()\n",
    "                else:\n",
    "                    count += dic[resduie]\n",
    "            return count\n",
    "        count = dfs(nums, 0, size, path, res, target, dic)\n",
    "        return count\n",
    "a = Solution()\n",
    "b = a.helper(nums, n, d)\n",
    "print(b%998244353)"
   ]
  },
  {
   "cell_type": "code",
   "execution_count": null,
   "metadata": {
    "collapsed": true
   },
   "outputs": [],
   "source": [
    "num = list(map(int, input().split(' ')))\n",
    "n, m = num[0], num[1]\n",
    "res = []\n",
    "#for i in range(n):\n",
    "#    num = list(map(int, input().split(' ')))\n",
    "#    res.append(num)\n",
    "print(1,0,1)\n",
    "print(0,1,0)"
   ]
  },
  {
   "cell_type": "code",
   "execution_count": null,
   "metadata": {
    "collapsed": true
   },
   "outputs": [],
   "source": []
  }
 ],
 "metadata": {
  "kernelspec": {
   "display_name": "Python 3",
   "language": "python",
   "name": "python3"
  },
  "language_info": {
   "codemirror_mode": {
    "name": "ipython",
    "version": 3
   },
   "file_extension": ".py",
   "mimetype": "text/x-python",
   "name": "python",
   "nbconvert_exporter": "python",
   "pygments_lexer": "ipython3",
   "version": "3.6.3"
  }
 },
 "nbformat": 4,
 "nbformat_minor": 2
}
