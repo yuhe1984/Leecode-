{
 "cells": [
  {
   "cell_type": "code",
   "execution_count": null,
   "metadata": {
    "collapsed": true
   },
   "outputs": [],
   "source": [
    "class Solution():\n",
    "    def erfen(self, nums, target):\n",
    "        mid = len(nums) - 1;\n",
    "        left = 0\n",
    "        right = len(nums) - 1\n",
    "        if right == left: return\n",
    "        if nums[mid] > target:\n",
    "             right = right - 1\n",
    "             erfen(left, right, target)\n",
    "        elif nums[mid] < target:\n",
    "             left = mid + 1\n",
    "             erfen(left, right, target)\n",
    "        else：\n",
    "             return mid"
   ]
  }
 ],
 "metadata": {
  "kernelspec": {
   "display_name": "Python 3",
   "language": "python",
   "name": "python3"
  },
  "language_info": {
   "codemirror_mode": {
    "name": "ipython",
    "version": 3
   },
   "file_extension": ".py",
   "mimetype": "text/x-python",
   "name": "python",
   "nbconvert_exporter": "python",
   "pygments_lexer": "ipython3",
   "version": "3.6.3"
  }
 },
 "nbformat": 4,
 "nbformat_minor": 2
}
