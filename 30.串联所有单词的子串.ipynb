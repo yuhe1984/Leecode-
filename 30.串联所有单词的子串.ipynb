{
 "cells": [
  {
   "cell_type": "code",
   "execution_count": 2,
   "metadata": {},
   "outputs": [],
   "source": [
    "class Solution:\n",
    "    def findSubstring(self, s, words):\n",
    "        from collections import Counter\n",
    "        if not s or not words:return []\n",
    "        one_word = len(words[0])\n",
    "        word_num = len(words)\n",
    "        n = len(s)\n",
    "        if n < one_word:return []\n",
    "        words = Counter(words)\n",
    "        res = []\n",
    "        for i in range(0, one_word):\n",
    "            cur_cnt = 0\n",
    "            left = i\n",
    "            right = i\n",
    "            cur_Counter = Counter()\n",
    "            while right + one_word <= n:\n",
    "                w = s[right:right + one_word]\n",
    "                right += one_word\n",
    "                if w not in words:\n",
    "                    left = right\n",
    "                    cur_Counter.clear()\n",
    "                    cur_cnt = 0\n",
    "                else:\n",
    "                    cur_Counter[w] += 1\n",
    "                    cur_cnt += 1\n",
    "                    while cur_Counter[w] > words[w]:\n",
    "                        left_w = s[left:left+one_word]\n",
    "                        left += one_word\n",
    "                        cur_Counter[left_w] -= 1\n",
    "                        cur_cnt -= 1\n",
    "                    if cur_cnt == word_num :\n",
    "                        res.append(left)\n",
    "        return res"
   ]
  },
  {
   "cell_type": "code",
   "execution_count": 89,
   "metadata": {},
   "outputs": [],
   "source": [
    "def perm(ans,n,begin,end):\n",
    "    if begin>=end:\n",
    "        ans.append(''.join((x for x in n)))\n",
    "    else:\n",
    "        i=begin\n",
    "        for num in range(begin,end):\n",
    "            n[num],n[i]=n[i],n[num]\n",
    "            perm(ans,n,begin+1,end)\n",
    "            n[num],n[i]=n[i],n[num]\n",
    "    return ans"
   ]
  },
  {
   "cell_type": "code",
   "execution_count": 156,
   "metadata": {},
   "outputs": [],
   "source": [
    "class Solution:\n",
    "    def findSubstring(self, s, words):\n",
    "        a = []\n",
    "        result = perm([],words,0,len(words))\n",
    "        for i in result:\n",
    "            ans = s.find(i)\n",
    "            if ans != -1:\n",
    "                a.append(ans)\n",
    "                if a.count(ans)>1: a.remove(ans)\n",
    "        return a"
   ]
  },
  {
   "cell_type": "code",
   "execution_count": 157,
   "metadata": {
    "collapsed": true
   },
   "outputs": [],
   "source": [
    "a = Solution"
   ]
  },
  {
   "cell_type": "code",
   "execution_count": 158,
   "metadata": {},
   "outputs": [
    {
     "data": {
      "text/plain": [
       "[]"
      ]
     },
     "execution_count": 158,
     "metadata": {},
     "output_type": "execute_result"
    }
   ],
   "source": [
    "a.findSubstring([],'wordgoodgoodgoodbestword',[\"word\",\"good\",\"best\",\"word\"])"
   ]
  },
  {
   "cell_type": "code",
   "execution_count": 159,
   "metadata": {},
   "outputs": [
    {
     "data": {
      "text/plain": [
       "[9, 0]"
      ]
     },
     "execution_count": 159,
     "metadata": {},
     "output_type": "execute_result"
    }
   ],
   "source": [
    "a.findSubstring([],'barfoothefoobarman',['foo','bar'])"
   ]
  },
  {
   "cell_type": "code",
   "execution_count": 160,
   "metadata": {},
   "outputs": [
    {
     "data": {
      "text/plain": [
       "[8]"
      ]
     },
     "execution_count": 160,
     "metadata": {},
     "output_type": "execute_result"
    }
   ],
   "source": [
    "a.findSubstring([],\"wordgoodgoodgoodbestword\",[\"word\",\"good\",\"best\",\"good\"])"
   ]
  },
  {
   "cell_type": "code",
   "execution_count": 161,
   "metadata": {},
   "outputs": [
    {
     "data": {
      "text/plain": [
       "[0, 3]"
      ]
     },
     "execution_count": 161,
     "metadata": {},
     "output_type": "execute_result"
    }
   ],
   "source": [
    "a.findSubstring([],\"foobarfoobar\",[\"foo\",\"bar\"])"
   ]
  },
  {
   "cell_type": "code",
   "execution_count": null,
   "metadata": {
    "collapsed": true
   },
   "outputs": [],
   "source": []
  }
 ],
 "metadata": {
  "kernelspec": {
   "display_name": "Python 3",
   "language": "python",
   "name": "python3"
  },
  "language_info": {
   "codemirror_mode": {
    "name": "ipython",
    "version": 3
   },
   "file_extension": ".py",
   "mimetype": "text/x-python",
   "name": "python",
   "nbconvert_exporter": "python",
   "pygments_lexer": "ipython3",
   "version": "3.6.3"
  }
 },
 "nbformat": 4,
 "nbformat_minor": 2
}
