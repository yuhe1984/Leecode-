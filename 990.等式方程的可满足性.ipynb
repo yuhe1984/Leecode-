{
 "cells": [
  {
   "cell_type": "code",
   "execution_count": 3,
   "metadata": {},
   "outputs": [],
   "source": [
    "class Solution:\n",
    "\n",
    "    class UnionFind:\n",
    "        def __init__(self):\n",
    "            self.parent = list(range(26))\n",
    "        \n",
    "        def find(self, index):\n",
    "            if index == self.parent[index]:\n",
    "                return index\n",
    "            self.parent[index] = self.find(self.parent[index])\n",
    "            return self.parent[index]\n",
    "        \n",
    "        def union(self, index1, index2):\n",
    "            self.parent[self.find(index1)] = self.find(index2)\n",
    "\n",
    "\n",
    "    def equationsPossible(self, equations):\n",
    "        uf = Solution.UnionFind()\n",
    "        for st in equations:\n",
    "            if st[1] == \"=\":\n",
    "                index1 = ord(st[0]) - ord(\"a\")\n",
    "                index2 = ord(st[3]) - ord(\"a\")\n",
    "                uf.union(index1, index2)\n",
    "        for st in equations:\n",
    "            if st[1] == \"!\":\n",
    "                index1 = ord(st[0]) - ord(\"a\")\n",
    "                index2 = ord(st[3]) - ord(\"a\")\n",
    "                if uf.find(index1) == uf.find(index2):\n",
    "                    return False\n",
    "        return True"
   ]
  },
  {
   "cell_type": "code",
   "execution_count": null,
   "metadata": {
    "collapsed": true
   },
   "outputs": [],
   "source": []
  }
 ],
 "metadata": {
  "kernelspec": {
   "display_name": "Python 3",
   "language": "python",
   "name": "python3"
  },
  "language_info": {
   "codemirror_mode": {
    "name": "ipython",
    "version": 3
   },
   "file_extension": ".py",
   "mimetype": "text/x-python",
   "name": "python",
   "nbconvert_exporter": "python",
   "pygments_lexer": "ipython3",
   "version": "3.6.3"
  }
 },
 "nbformat": 4,
 "nbformat_minor": 2
}
