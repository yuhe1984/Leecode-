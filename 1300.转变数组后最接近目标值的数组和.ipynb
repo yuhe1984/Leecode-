{
 "cells": [
  {
   "cell_type": "code",
   "execution_count": 1,
   "metadata": {
    "collapsed": true
   },
   "outputs": [],
   "source": [
    "class Solution:\n",
    "    def findBestValue(self, arr, target):\n",
    "        arr.sort()\n",
    "        n = len(arr)\n",
    "        prefix = [0]\n",
    "        for num in arr:\n",
    "            prefix.append(prefix[-1] + num)\n",
    "        \n",
    "        r, ans, diff = max(arr), 0, target\n",
    "        for i in range(1, r + 1):\n",
    "            it = bisect.bisect_left(arr, i)\n",
    "            cur = prefix[it] + (n - it) * i\n",
    "            if abs(cur - target) < diff:\n",
    "                ans, diff = i, abs(cur - target)\n",
    "        return ans"
   ]
  },
  {
   "cell_type": "code",
   "execution_count": null,
   "metadata": {
    "collapsed": true
   },
   "outputs": [],
   "source": []
  }
 ],
 "metadata": {
  "kernelspec": {
   "display_name": "Python 3",
   "language": "python",
   "name": "python3"
  },
  "language_info": {
   "codemirror_mode": {
    "name": "ipython",
    "version": 3
   },
   "file_extension": ".py",
   "mimetype": "text/x-python",
   "name": "python",
   "nbconvert_exporter": "python",
   "pygments_lexer": "ipython3",
   "version": "3.6.3"
  }
 },
 "nbformat": 4,
 "nbformat_minor": 2
}
