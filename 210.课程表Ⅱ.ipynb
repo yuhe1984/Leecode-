{
 "cells": [
  {
   "cell_type": "code",
   "execution_count": 2,
   "metadata": {},
   "outputs": [],
   "source": [
    "class Solution:\n",
    "    def findOrder(self, numCourses, prerequisites):\n",
    "        # 存储有向图\n",
    "        edges = collections.defaultdict(list)\n",
    "        # 标记每个节点的状态：0=未搜索，1=搜索中，2=已完成\n",
    "        visited = [0] * numCourses\n",
    "        # 用数组来模拟栈，下标 0 为栈底，n-1 为栈顶\n",
    "        result = list()\n",
    "        # 判断有向图中是否有环\n",
    "        invalid = False\n",
    "\n",
    "        for info in prerequisites:\n",
    "            edges[info[1]].append(info[0])\n",
    "        \n",
    "        def dfs(u: int):\n",
    "            nonlocal invalid\n",
    "            # 将节点标记为「搜索中」\n",
    "            visited[u] = 1\n",
    "            # 搜索其相邻节点\n",
    "            # 只要发现有环，立刻停止搜索\n",
    "            for v in edges[u]:\n",
    "                # 如果「未搜索」那么搜索相邻节点\n",
    "                if visited[v] == 0:\n",
    "                    dfs(v)\n",
    "                    if invalid:\n",
    "                        return\n",
    "                # 如果「搜索中」说明找到了环\n",
    "                elif visited[v] == 1:\n",
    "                    invalid = True\n",
    "                    return\n",
    "            # 将节点标记为「已完成」\n",
    "            visited[u] = 2\n",
    "            # 将节点入栈\n",
    "            result.append(u)\n",
    "        \n",
    "        # 每次挑选一个「未搜索」的节点，开始进行深度优先搜索\n",
    "        for i in range(numCourses):\n",
    "            if not invalid and not visited[i]:\n",
    "                dfs(i)\n",
    "        \n",
    "        if invalid:\n",
    "            return list()\n",
    "        \n",
    "        # 如果没有环，那么就有拓扑排序\n",
    "        # 注意下标 0 为栈底，因此需要将数组反序输出\n",
    "        return result[::-1]"
   ]
  },
  {
   "cell_type": "code",
   "execution_count": 3,
   "metadata": {
    "collapsed": true
   },
   "outputs": [],
   "source": [
    "class Solution:\n",
    "    def findOrder(self, numCourses, prerequisites):\n",
    "        # 存储有向图\n",
    "        edges = collections.defaultdict(list)\n",
    "        # 存储每个节点的入度\n",
    "        indeg = [0] * numCourses\n",
    "        # 存储答案\n",
    "        result = list()\n",
    "\n",
    "        for info in prerequisites:\n",
    "            edges[info[1]].append(info[0])\n",
    "            indeg[info[0]] += 1\n",
    "        \n",
    "        # 将所有入度为 0 的节点放入队列中\n",
    "        q = collections.deque([u for u in range(numCourses) if indeg[u] == 0])\n",
    "\n",
    "        while q:\n",
    "            # 从队首取出一个节点\n",
    "            u = q.popleft()\n",
    "            # 放入答案中\n",
    "            result.append(u)\n",
    "            for v in edges[u]:\n",
    "                indeg[v] -= 1\n",
    "                # 如果相邻节点 v 的入度为 0，就可以选 v 对应的课程了\n",
    "                if indeg[v] == 0:\n",
    "                    q.append(v)\n",
    "\n",
    "        if len(result) != numCourses:\n",
    "            result = list()\n",
    "        return result"
   ]
  },
  {
   "cell_type": "code",
   "execution_count": null,
   "metadata": {
    "collapsed": true
   },
   "outputs": [],
   "source": []
  }
 ],
 "metadata": {
  "kernelspec": {
   "display_name": "Python 3",
   "language": "python",
   "name": "python3"
  },
  "language_info": {
   "codemirror_mode": {
    "name": "ipython",
    "version": 3
   },
   "file_extension": ".py",
   "mimetype": "text/x-python",
   "name": "python",
   "nbconvert_exporter": "python",
   "pygments_lexer": "ipython3",
   "version": "3.6.3"
  }
 },
 "nbformat": 4,
 "nbformat_minor": 2
}
