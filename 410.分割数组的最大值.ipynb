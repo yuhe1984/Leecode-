{
 "cells": [
  {
   "cell_type": "markdown",
   "metadata": {},
   "source": [
    "# 动态规划"
   ]
  },
  {
   "cell_type": "code",
   "execution_count": 1,
   "metadata": {
    "collapsed": true
   },
   "outputs": [],
   "source": [
    "class Solution:\n",
    "    def splitArray(self, nums, m):\n",
    "        n = len(nums)\n",
    "        f = [[10**18] * (m + 1) for _ in range(n + 1)]\n",
    "        sub = [0]\n",
    "        for elem in nums:\n",
    "            sub.append(sub[-1] + elem)\n",
    "        \n",
    "        f[0][0] = 0\n",
    "        for i in range(1, n + 1):\n",
    "            for j in range(1, min(i, m) + 1):\n",
    "                for k in range(i):\n",
    "                    f[i][j] = min(f[i][j], max(f[k][j - 1], sub[i] - sub[k]))\n",
    "        \n",
    "        return f[n][m]"
   ]
  },
  {
   "cell_type": "markdown",
   "metadata": {},
   "source": [
    "# 二分查找 + 贪心"
   ]
  },
  {
   "cell_type": "code",
   "execution_count": 3,
   "metadata": {
    "collapsed": true
   },
   "outputs": [],
   "source": [
    "class Solution:\n",
    "    def splitArray(self, nums, m):\n",
    "        def check(x: int) -> bool:\n",
    "            total, cnt = 0, 1\n",
    "            for num in nums:\n",
    "                if total + num > x:\n",
    "                    cnt += 1\n",
    "                    total = num\n",
    "                else:\n",
    "                    total += num\n",
    "            return cnt <= m\n",
    "\n",
    "\n",
    "        left = max(nums)\n",
    "        right = sum(nums)\n",
    "        while left < right:\n",
    "            mid = (left + right) // 2\n",
    "            if check(mid):\n",
    "                right = mid\n",
    "            else:\n",
    "                left = mid + 1\n",
    "\n",
    "        return left"
   ]
  },
  {
   "cell_type": "code",
   "execution_count": null,
   "metadata": {
    "collapsed": true
   },
   "outputs": [],
   "source": []
  }
 ],
 "metadata": {
  "kernelspec": {
   "display_name": "Python 3",
   "language": "python",
   "name": "python3"
  },
  "language_info": {
   "codemirror_mode": {
    "name": "ipython",
    "version": 3
   },
   "file_extension": ".py",
   "mimetype": "text/x-python",
   "name": "python",
   "nbconvert_exporter": "python",
   "pygments_lexer": "ipython3",
   "version": "3.6.3"
  }
 },
 "nbformat": 4,
 "nbformat_minor": 2
}
