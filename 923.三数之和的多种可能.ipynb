{
 "cells": [
  {
   "cell_type": "code",
   "execution_count": 3,
   "metadata": {
    "collapsed": true
   },
   "outputs": [],
   "source": [
    "from collections import defaultdict\n",
    "class Solution(object):\n",
    "    def threeSumMulti(self, A, target):\n",
    "        \"\"\"\n",
    "        :type A: List[int]\n",
    "        :type target: int\n",
    "        :rtype: int\n",
    "        \"\"\"\n",
    "        mod = 1000000007\n",
    "        \n",
    "        counter = defaultdict(int)\n",
    "        for n in A:\n",
    "            counter[n] += 1\n",
    "        \n",
    "        ans = 0\n",
    "        # x != y != z\n",
    "        for x in range(101):\n",
    "            for y in range(x+1, 101):\n",
    "                z = target - x - y\n",
    "                if z <= y:\n",
    "                    continue\n",
    "                ans += counter[x] * counter[y] * counter[z]\n",
    "                ans %= mod \n",
    "                        \n",
    "        # x == y != z\n",
    "        for x in range(101):\n",
    "            z = target - 2*x\n",
    "            if z == x:\n",
    "                continue\n",
    "            ans += counter[x] * (counter[x]-1) * counter[z] / 2\n",
    "            ans %= mod\n",
    "            \n",
    "        if target % 3 == 0:\n",
    "            x = target / 3\n",
    "            ans += counter[x] * (counter[x]-1) * (counter[x]-2) / 6\n",
    "            ans %= mod\n",
    "            \n",
    "        return int(ans)"
   ]
  },
  {
   "cell_type": "code",
   "execution_count": 4,
   "metadata": {
    "collapsed": true
   },
   "outputs": [],
   "source": [
    "from collections import Counter\n",
    "class Solution(object):\n",
    "    def threeSumMulti(self, A, target):\n",
    "        \"\"\"\n",
    "        :type A: List[int]\n",
    "        :type target: int\n",
    "        :rtype: int\n",
    "        \"\"\"\n",
    "        mod = 1000000007\n",
    "        \n",
    "        A.sort()\n",
    "        counter = Counter(A)\n",
    "        nums = list(set(A))\n",
    "        nums.sort()\n",
    "\n",
    "        ans = 0\n",
    "        res = 0\n",
    "        # x != y != z\n",
    "        for x in nums:\n",
    "            for y in nums[res + 1:]:\n",
    "                z = target - x - y\n",
    "                if z <= y:\n",
    "                    continue\n",
    "                ans += counter[x] * counter[y] * counter[z]\n",
    "                ans %= mod\n",
    "            res += 1 \n",
    "                        \n",
    "        # x == y != z\n",
    "        for x in nums:\n",
    "            z = target - 2*x\n",
    "            if z == x:\n",
    "                continue\n",
    "            ans += counter[x] * (counter[x]-1) * counter[z] / 2\n",
    "            ans %= mod\n",
    "            \n",
    "        if target % 3 == 0:\n",
    "            x = target / 3\n",
    "            ans += counter[x] * (counter[x]-1) * (counter[x]-2) / 6\n",
    "            ans %= mod\n",
    "            \n",
    "        return int(ans)"
   ]
  },
  {
   "cell_type": "code",
   "execution_count": null,
   "metadata": {
    "collapsed": true
   },
   "outputs": [],
   "source": []
  }
 ],
 "metadata": {
  "kernelspec": {
   "display_name": "Python 3",
   "language": "python",
   "name": "python3"
  },
  "language_info": {
   "codemirror_mode": {
    "name": "ipython",
    "version": 3
   },
   "file_extension": ".py",
   "mimetype": "text/x-python",
   "name": "python",
   "nbconvert_exporter": "python",
   "pygments_lexer": "ipython3",
   "version": "3.6.3"
  }
 },
 "nbformat": 4,
 "nbformat_minor": 2
}
