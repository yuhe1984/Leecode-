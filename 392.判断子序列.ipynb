{
 "cells": [
  {
   "cell_type": "markdown",
   "metadata": {},
   "source": [
    "# 双指针"
   ]
  },
  {
   "cell_type": "code",
   "execution_count": 1,
   "metadata": {
    "collapsed": true
   },
   "outputs": [],
   "source": [
    "class Solution:\n",
    "    def isSubsequence(self, s: str, t: str) -> bool:\n",
    "        n, m = len(s), len(t)\n",
    "        i, j = 0, 0\n",
    "        while i < n and j < m:\n",
    "            if s[i] == t[j]:\n",
    "                i += 1\n",
    "            j += 1\n",
    "        return i == n"
   ]
  },
  {
   "cell_type": "markdown",
   "metadata": {},
   "source": [
    "# 动态规划"
   ]
  },
  {
   "cell_type": "code",
   "execution_count": 2,
   "metadata": {
    "collapsed": true
   },
   "outputs": [],
   "source": [
    "class Solution:\n",
    "    def isSubsequence(self, s: str, t: str) -> bool:\n",
    "        n, m = len(s), len(t)\n",
    "        f = [[0] * 26 for _ in range(m)]\n",
    "        f.append([m] * 26)\n",
    "\n",
    "        for i in range(m - 1, -1, -1):\n",
    "            for j in range(26):\n",
    "                f[i][j] = i if ord(t[i]) == j + ord('a') else f[i + 1][j]\n",
    "        \n",
    "        add = 0\n",
    "        for i in range(n):\n",
    "            if f[add][ord(s[i]) - ord('a')] == m:\n",
    "                return False\n",
    "            add = f[add][ord(s[i]) - ord('a')] + 1\n",
    "        \n",
    "        return True"
   ]
  },
  {
   "cell_type": "code",
   "execution_count": null,
   "metadata": {
    "collapsed": true
   },
   "outputs": [],
   "source": []
  }
 ],
 "metadata": {
  "kernelspec": {
   "display_name": "Python 3",
   "language": "python",
   "name": "python3"
  },
  "language_info": {
   "codemirror_mode": {
    "name": "ipython",
    "version": 3
   },
   "file_extension": ".py",
   "mimetype": "text/x-python",
   "name": "python",
   "nbconvert_exporter": "python",
   "pygments_lexer": "ipython3",
   "version": "3.6.3"
  }
 },
 "nbformat": 4,
 "nbformat_minor": 2
}
