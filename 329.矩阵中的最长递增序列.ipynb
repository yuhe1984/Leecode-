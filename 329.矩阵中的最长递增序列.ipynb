{
 "cells": [
  {
   "cell_type": "code",
   "execution_count": 1,
   "metadata": {
    "collapsed": true
   },
   "outputs": [],
   "source": [
    "class Solution:\n",
    "    def longestIncreasingPath(self, matrix):\n",
    "        if not matrix or not matrix[0]:\n",
    "            return 0\n",
    "        m, n = len(matrix), len(matrix[0])\n",
    "        lst = []\n",
    "        for i in range(m):\n",
    "            for j in range(n):\n",
    "                lst.append((matrix[i][j], i, j))\n",
    "        lst.sort()\n",
    "        dp = [[0] * n for _ in range(m)]\n",
    "        for num, i, j in lst:\n",
    "            dp[i][j] = 1\n",
    "            for di, dj in [(1, 0), (-1, 0), (0, 1), (0, -1)]:\n",
    "                r, c = i + di, j + dj\n",
    "                if 0 <= r < m and 0 <= c < n:\n",
    "                    if matrix[i][j] > matrix[r][c]:\n",
    "                        dp[i][j] = max(dp[i][j], dp[r][c] + 1)\n",
    "        return max(dp[i][j] for i in range(m) for j in range(n))"
   ]
  },
  {
   "cell_type": "code",
   "execution_count": null,
   "metadata": {
    "collapsed": true
   },
   "outputs": [],
   "source": []
  }
 ],
 "metadata": {
  "kernelspec": {
   "display_name": "Python 3",
   "language": "python",
   "name": "python3"
  },
  "language_info": {
   "codemirror_mode": {
    "name": "ipython",
    "version": 3
   },
   "file_extension": ".py",
   "mimetype": "text/x-python",
   "name": "python",
   "nbconvert_exporter": "python",
   "pygments_lexer": "ipython3",
   "version": "3.6.3"
  }
 },
 "nbformat": 4,
 "nbformat_minor": 2
}
