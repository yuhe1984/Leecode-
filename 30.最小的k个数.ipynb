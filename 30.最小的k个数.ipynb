{
 "cells": [
  {
   "cell_type": "markdown",
   "metadata": {},
   "source": [
    "# 排序"
   ]
  },
  {
   "cell_type": "code",
   "execution_count": 2,
   "metadata": {},
   "outputs": [],
   "source": [
    "class Solution:\n",
    "    def getLeastNumbers(self, arr, k):\n",
    "        arr = sorted(arr)\n",
    "        return arr[:k]"
   ]
  },
  {
   "cell_type": "markdown",
   "metadata": {},
   "source": [
    "# 堆"
   ]
  },
  {
   "cell_type": "code",
   "execution_count": 3,
   "metadata": {
    "collapsed": true
   },
   "outputs": [],
   "source": [
    "class Solution:\n",
    "    def getLeastNumbers(self, arr, k):\n",
    "        if k == 0:\n",
    "            return list()\n",
    "\n",
    "        hp = [-x for x in arr[:k]]\n",
    "        heapq.heapify(hp)\n",
    "        for i in range(k, len(arr)):\n",
    "            if -hp[0] > arr[i]:\n",
    "                heapq.heappop(hp)\n",
    "                heapq.heappush(hp, -arr[i])\n",
    "        ans = [-x for x in hp]\n",
    "        return ans"
   ]
  },
  {
   "cell_type": "code",
   "execution_count": 7,
   "metadata": {},
   "outputs": [],
   "source": [
    "class Solution:\n",
    "    def getLeastNumbers(self, arr, k):\n",
    "        if k == 0: return []\n",
    "        \n",
    "        hp = [-x for x in arr[:k]]\n",
    "        heapq.heapify(hp)\n",
    "        for i in range(k, len(arr)):\n",
    "            if -hp[0] > arr[i]:\n",
    "                heapq.heappop(hp)\n",
    "                heapq.heappush(hp, -arr[i])\n",
    "        ans = [x for x in hp]\n",
    "        return ans"
   ]
  },
  {
   "cell_type": "markdown",
   "metadata": {},
   "source": [
    "# 快排"
   ]
  },
  {
   "cell_type": "code",
   "execution_count": 5,
   "metadata": {},
   "outputs": [],
   "source": [
    "class Solution:\n",
    "    def partition(self, nums, l, r):\n",
    "        pivot = nums[r]\n",
    "        i = l - 1\n",
    "        for j in range(l, r):\n",
    "            if nums[j] <= pivot:\n",
    "                i += 1\n",
    "                nums[i], nums[j] = nums[j], nums[i]\n",
    "        nums[i + 1], nums[r] = nums[r], nums[i + 1]\n",
    "        return i + 1\n",
    "\n",
    "    def randomized_partition(self, nums, l, r):\n",
    "        i = random.randint(l, r)\n",
    "        nums[r], nums[i] = nums[i], nums[r]\n",
    "        return self.partition(nums, l, r)\n",
    "\n",
    "    def randomized_selected(self, arr, l, r, k):\n",
    "        pos = self.randomized_partition(arr, l, r)\n",
    "        num = pos - l + 1\n",
    "        if k < num:\n",
    "            self.randomized_selected(arr, l, pos - 1, k)\n",
    "        elif k > num:\n",
    "            self.randomized_selected(arr, pos + 1, r, k - num)\n",
    "\n",
    "    def getLeastNumbers(self, arr, k):\n",
    "        if k == 0:\n",
    "            return list()\n",
    "        self.randomized_selected(arr, 0, len(arr) - 1, k)\n",
    "        return arr[:k]"
   ]
  },
  {
   "cell_type": "code",
   "execution_count": null,
   "metadata": {
    "collapsed": true
   },
   "outputs": [],
   "source": [
    "class Solution {\n",
    "    public int[] getLeastNumbers(int[] arr, int k) {\n",
    "        if (k == 0 || arr.length == 0) {\n",
    "            return new int[0];\n",
    "        }\n",
    "        // 最后一个参数表示我们要找的是下标为k-1的数\n",
    "        return quickSearch(arr, 0, arr.length - 1, k - 1);\n",
    "    }\n",
    "\n",
    "    private int[] quickSearch(int[] nums, int lo, int hi, int k) {\n",
    "        // 每快排切分1次，找到排序后下标为j的元素，如果j恰好等于k就返回j以及j左边所有的数；\n",
    "        int j = partition(nums, lo, hi);\n",
    "        if (j == k) {\n",
    "            return Arrays.copyOf(nums, j + 1);\n",
    "        }\n",
    "        // 否则根据下标j与k的大小关系来决定继续切分左段还是右段。\n",
    "        return j > k? quickSearch(nums, lo, j - 1, k): quickSearch(nums, j + 1, hi, k);\n",
    "    }\n",
    "\n",
    "    // 快排切分，返回下标j，使得比nums[j]小的数都在j的左边，比nums[j]大的数都在j的右边。\n",
    "    private int partition(int[] nums, int lo, int hi) {\n",
    "        int v = nums[lo];\n",
    "        int i = lo, j = hi + 1;\n",
    "        while (true) {\n",
    "            while (++i <= hi && nums[i] < v);\n",
    "            while (--j >= lo && nums[j] > v);\n",
    "            if (i >= j) {\n",
    "                break;\n",
    "            }\n",
    "            int t = nums[j];\n",
    "            nums[j] = nums[i];\n",
    "            nums[i] = t;\n",
    "        }\n",
    "        nums[lo] = nums[j];\n",
    "        nums[j] = v;\n",
    "        return j;\n",
    "    }\n",
    "}"
   ]
  },
  {
   "cell_type": "code",
   "execution_count": null,
   "metadata": {
    "collapsed": true
   },
   "outputs": [],
   "source": [
    "class Solution:\n",
    "    def getLeastNumbers(self, arr: List[int], k: int) -> List[int]:\n",
    "        def qsort(l,r):\n",
    "            i=l-1\n",
    "            for j in range(l,r):\n",
    "                if arr[j]<=arr[r]:\n",
    "                    i+=1\n",
    "                    arr[i],arr[j]=arr[j],arr[i]\n",
    "            i+=1\n",
    "            arr[i],arr[r]=arr[r],arr[i]\n",
    "            return i\n",
    "\n",
    "        def helper(l,r,k):\n",
    "            p=qsort(l,r)\n",
    "            if k<p-l+1:\n",
    "                helper(l,p-1,k)\n",
    "            elif k>p-l+1:\n",
    "                helper(p+1,r,k-(p-l+1))\n",
    "\n",
    "        if k==0:\n",
    "            return []\n",
    "        helper(0,len(arr)-1,k)\n",
    "        return arr[:k]"
   ]
  },
  {
   "cell_type": "code",
   "execution_count": null,
   "metadata": {
    "collapsed": true
   },
   "outputs": [],
   "source": [
    "class Solution:\n",
    "    def getLeastNumbers(self, arr, k):\n",
    "        def qsort(l, r):\n",
    "            i = l - 1\n",
    "            for j in range(l, r):\n",
    "                if arr[j] <= arr[r]:\n",
    "                    i += 1\n",
    "                    arr[i], arr[j] = arr[j], arr[i]\n",
    "            i += 1\n",
    "            arr[i], arr[r] = arr[r], arr[i]\n",
    "            return i\n",
    "        \n",
    "        def helper(l, r, k):\n",
    "            p = qsort(l, r)\n",
    "            if k < p - l + 1:\n",
    "                helper(l, p-1, k)\n",
    "            elif k > p - l + 1:\n",
    "                helper(p + 1, r, k - (p - l + 1))\n",
    "        if k == 0: return []\n",
    "        helper(0, len(arr)-1, k)\n",
    "        return arr[:k]"
   ]
  }
 ],
 "metadata": {
  "kernelspec": {
   "display_name": "Python 3",
   "language": "python",
   "name": "python3"
  },
  "language_info": {
   "codemirror_mode": {
    "name": "ipython",
    "version": 3
   },
   "file_extension": ".py",
   "mimetype": "text/x-python",
   "name": "python",
   "nbconvert_exporter": "python",
   "pygments_lexer": "ipython3",
   "version": "3.6.3"
  }
 },
 "nbformat": 4,
 "nbformat_minor": 2
}
