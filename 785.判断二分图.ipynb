{
 "cells": [
  {
   "cell_type": "markdown",
   "metadata": {},
   "source": [
    "# 方法一：深度优先搜索"
   ]
  },
  {
   "cell_type": "code",
   "execution_count": 1,
   "metadata": {
    "collapsed": true
   },
   "outputs": [],
   "source": [
    "class Solution:\n",
    "    def isBipartite(self, graph):\n",
    "        n = len(graph)\n",
    "        UNCOLORED, RED, GREEN = 0, 1, 2\n",
    "        color = [UNCOLORED] * n\n",
    "        valid = True\n",
    "\n",
    "        def dfs(node: int, c: int):\n",
    "            nonlocal valid\n",
    "            color[node] = c\n",
    "            cNei = (GREEN if c == RED else RED)\n",
    "            for neighbor in graph[node]:\n",
    "                if color[neighbor] == UNCOLORED:\n",
    "                    dfs(neighbor, cNei)\n",
    "                    if not valid:\n",
    "                        return\n",
    "                elif color[neighbor] != cNei:\n",
    "                    valid = False\n",
    "                    return\n",
    "\n",
    "        for i in range(n):\n",
    "            if color[i] == UNCOLORED:\n",
    "                dfs(i, RED)\n",
    "                if not valid:\n",
    "                    break\n",
    "        \n",
    "        return valid"
   ]
  },
  {
   "cell_type": "markdown",
   "metadata": {},
   "source": [
    "# 方法二：广度优先搜索"
   ]
  },
  {
   "cell_type": "code",
   "execution_count": 2,
   "metadata": {
    "collapsed": true
   },
   "outputs": [],
   "source": [
    "class Solution:\n",
    "    def isBipartite(self, graph):\n",
    "        n = len(graph)\n",
    "        UNCOLORED, RED, GREEN = 0, 1, 2\n",
    "        color = [UNCOLORED] * n\n",
    "        \n",
    "        for i in range(n):\n",
    "            if color[i] == UNCOLORED:\n",
    "                q = collections.deque([i])\n",
    "                color[i] = RED\n",
    "                while q:\n",
    "                    node = q.popleft()\n",
    "                    cNei = (GREEN if color[node] == RED else RED)\n",
    "                    for neighbor in graph[node]:\n",
    "                        if color[neighbor] == UNCOLORED:\n",
    "                            q.append(neighbor)\n",
    "                            color[neighbor] = cNei\n",
    "                        elif color[neighbor] != cNei:\n",
    "                            return False\n",
    "\n",
    "        return True"
   ]
  },
  {
   "cell_type": "code",
   "execution_count": null,
   "metadata": {
    "collapsed": true
   },
   "outputs": [],
   "source": []
  }
 ],
 "metadata": {
  "kernelspec": {
   "display_name": "Python 3",
   "language": "python",
   "name": "python3"
  },
  "language_info": {
   "codemirror_mode": {
    "name": "ipython",
    "version": 3
   },
   "file_extension": ".py",
   "mimetype": "text/x-python",
   "name": "python",
   "nbconvert_exporter": "python",
   "pygments_lexer": "ipython3",
   "version": "3.6.3"
  }
 },
 "nbformat": 4,
 "nbformat_minor": 2
}
