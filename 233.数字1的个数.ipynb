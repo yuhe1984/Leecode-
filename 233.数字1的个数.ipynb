{
 "cells": [
  {
   "cell_type": "code",
   "execution_count": 1,
   "metadata": {
    "collapsed": true
   },
   "outputs": [],
   "source": [
    "class Solution:\n",
    "    def countDigitOne(self, n):\n",
    "        if n<=0:return 0\n",
    "        elif n<10:return 1\n",
    "        last=int(str(n)[1:])\n",
    "        weight=10**(len(str(n))-1)\n",
    "        high=int(str(n)[0])\n",
    "        if high==1:\n",
    "            \"\"\"\n",
    "            例如：135中1的次数：high=1,last=35,weight=100\n",
    "            100-135百位1出现共last+1，00-35共countDigitOne(last-1)\n",
    "            0-99共countDigitOne(weight-1)\n",
    "            \"\"\"\n",
    "            return self.countDigitOne(last)+last+1+self.countDigitOne(weight-1)\n",
    "        else:\n",
    "            \"\"\"\n",
    "            例如：535中1的次数：high=5>1,last=35,weight=100\n",
    "            100-199百位1出现共weight\n",
    "            0-99,100-199,200-299...400-499非百位1共出现high*countDigitOne(weight-1)\n",
    "            500-535出现1次数countDigitOne(last)\n",
    "            \"\"\"\n",
    "            return high*self.countDigitOne(weight-1)+self.countDigitOne(last)+weight"
   ]
  },
  {
   "cell_type": "code",
   "execution_count": 2,
   "metadata": {
    "collapsed": true
   },
   "outputs": [],
   "source": [
    "a = Solution()"
   ]
  },
  {
   "cell_type": "code",
   "execution_count": 5,
   "metadata": {},
   "outputs": [
    {
     "data": {
      "text/plain": [
       "301"
      ]
     },
     "execution_count": 5,
     "metadata": {},
     "output_type": "execute_result"
    }
   ],
   "source": [
    "a.countDigitOne(1000)"
   ]
  },
  {
   "cell_type": "code",
   "execution_count": null,
   "metadata": {
    "collapsed": true
   },
   "outputs": [],
   "source": [
    "public int countDigitOne(int n) {\n",
    "    int count = 0;\n",
    "\n",
    "    for (long k = 1; k <= n; k *= 10) {\n",
    "        long r = n / k, m = n % k;\n",
    "        // sum up the count of ones on every place k\n",
    "        count += (r + 8) / 10 * k + (r % 10 == 1 ? m + 1 : 0);\n",
    "    }\n",
    "\n",
    "    return count;\n",
    "}"
   ]
  },
  {
   "cell_type": "code",
   "execution_count": null,
   "metadata": {
    "collapsed": true
   },
   "outputs": [],
   "source": [
    "public int countDigitOne(int n) {\n",
    "    int count = 0;\n",
    "    for (long k = 1; k <= n; k *= 10) {\n",
    "        // xyzdabc\n",
    "        int abc = n % k;\n",
    "        int xyzd = n / k;\n",
    "        int d = xyzd % 10;\n",
    "        int xyz = (xyzd + 8) / 10;\n",
    "        count += xyz * k;\n",
    "        if (d == 1) {\n",
    "            count += abc + 1;\n",
    "        }\n",
    "    }\n",
    "    return count;\n",
    "}"
   ]
  },
  {
   "cell_type": "code",
   "execution_count": null,
   "metadata": {
    "collapsed": true
   },
   "outputs": [],
   "source": [
    "class Solution:\n",
    "    def countDigitOne(self, n):\n",
    "        count = 0\n",
    "        for i in range(1, len(n), 10):"
   ]
  }
 ],
 "metadata": {
  "kernelspec": {
   "display_name": "Python 3",
   "language": "python",
   "name": "python3"
  },
  "language_info": {
   "codemirror_mode": {
    "name": "ipython",
    "version": 3
   },
   "file_extension": ".py",
   "mimetype": "text/x-python",
   "name": "python",
   "nbconvert_exporter": "python",
   "pygments_lexer": "ipython3",
   "version": "3.6.3"
  }
 },
 "nbformat": 4,
 "nbformat_minor": 2
}
