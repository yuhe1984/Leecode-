{
 "cells": [
  {
   "cell_type": "code",
   "execution_count": 6,
   "metadata": {
    "collapsed": true
   },
   "outputs": [],
   "source": [
    "# Definition for a binary tree node.\n",
    "class TreeNode:\n",
    "    def __init__(self, x):\n",
    "        self.val = x\n",
    "        self.left = None\n",
    "        self.right = None\n",
    "\n",
    "class Solution:\n",
    "    def averageOfLevels(self, root):\n",
    "        levels = []\n",
    "        level = 0\n",
    "        res = []\n",
    "        def helper(root, level):\n",
    "            if len(levels) == level:\n",
    "                levels.append([])\n",
    "            levels[level].append(root.val)\n",
    "            if root.left:\n",
    "                helper(root.left, level+1)\n",
    "            if root.right:\n",
    "                helper(root.right, level+1)\n",
    "        helper(root, level)\n",
    "        for i in levels:\n",
    "            res.append(sum(i) / len(i))\n",
    "        return res"
   ]
  },
  {
   "cell_type": "code",
   "execution_count": null,
   "metadata": {
    "collapsed": true
   },
   "outputs": [],
   "source": []
  }
 ],
 "metadata": {
  "kernelspec": {
   "display_name": "Python 3",
   "language": "python",
   "name": "python3"
  },
  "language_info": {
   "codemirror_mode": {
    "name": "ipython",
    "version": 3
   },
   "file_extension": ".py",
   "mimetype": "text/x-python",
   "name": "python",
   "nbconvert_exporter": "python",
   "pygments_lexer": "ipython3",
   "version": "3.6.3"
  }
 },
 "nbformat": 4,
 "nbformat_minor": 2
}
