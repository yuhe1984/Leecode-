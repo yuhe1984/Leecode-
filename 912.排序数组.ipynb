{
 "cells": [
  {
   "cell_type": "code",
   "execution_count": 14,
   "metadata": {
    "collapsed": true
   },
   "outputs": [],
   "source": [
    "class Solution:\n",
    "    def sortArray(self, nums):\n",
    "        return sorted(nums)"
   ]
  },
  {
   "cell_type": "markdown",
   "metadata": {},
   "source": [
    "# 快速排序"
   ]
  },
  {
   "cell_type": "code",
   "execution_count": 2,
   "metadata": {
    "collapsed": true
   },
   "outputs": [],
   "source": [
    "class Solution:\n",
    "    def randomized_partition(self, nums, l, r):\n",
    "        pivot = random.randint(l, r)\n",
    "        nums[pivot], nums[r] = nums[r], nums[pivot]\n",
    "        i = l - 1\n",
    "        for j in range(l, r):\n",
    "            if nums[j] < nums[r]:\n",
    "                i += 1\n",
    "                nums[j], nums[i] = nums[i], nums[j]\n",
    "        i += 1\n",
    "        nums[i], nums[r] = nums[r], nums[i]\n",
    "        return i\n",
    "\n",
    "    def randomized_quicksort(self, nums, l, r):\n",
    "        if r - l <= 0:\n",
    "            return\n",
    "        mid = self.randomized_partition(nums, l, r)\n",
    "        self.randomized_quicksort(nums, l, mid - 1)\n",
    "        self.randomized_quicksort(nums, mid + 1, r)\n",
    "\n",
    "    def sortArray(self, nums):\n",
    "        self.randomized_quicksort(nums, 0, len(nums) - 1)\n",
    "        return nums"
   ]
  },
  {
   "cell_type": "code",
   "execution_count": 3,
   "metadata": {
    "collapsed": true
   },
   "outputs": [],
   "source": [
    "import random\n",
    "class Solution:\n",
    "    def randomized_partition(self, nums, l, r):\n",
    "        pivot = random.randint(l, r)\n",
    "        nums[pivot], nums[r] = nums[r], nums[pivot]\n",
    "        i = l - 1\n",
    "        for j in range(l, r):\n",
    "            if nums[j] < nums[r]:\n",
    "                i += 1\n",
    "                nums[j],nums[i] = nums[i], nums[j]\n",
    "        i += 1\n",
    "        nums[i], nums[r] = nums[r], nums[i]\n",
    "        return i\n",
    "            \n",
    "    def randomized_quicksort(self, nums, l, r):\n",
    "        if r - l <= 0:\n",
    "            return\n",
    "        mid = self.randomized_partition(nums, l, r)\n",
    "        self.randomized_quicksort(nums, l, mid - 1)\n",
    "        self.randomized_quicksort(nums, mid + 1, r)\n",
    "    def sortArray(self, nums):\n",
    "        self.randomized_quicksort(nums, 0, len(nums) - 1)\n",
    "        return nums"
   ]
  },
  {
   "cell_type": "markdown",
   "metadata": {},
   "source": [
    "# 堆排序"
   ]
  },
  {
   "cell_type": "code",
   "execution_count": 4,
   "metadata": {
    "collapsed": true
   },
   "outputs": [],
   "source": [
    "class Solution:\n",
    "    def max_heapify(self, heap, root, heap_len):\n",
    "        p = root\n",
    "        while p * 2 + 1 < heap_len:\n",
    "            l, r = p * 2 + 1, p * 2 + 2\n",
    "            if heap_len <= r or heap[r] < heap[l]:\n",
    "                nex = l\n",
    "            else:\n",
    "                nex = r\n",
    "            if heap[p] < heap[nex]:\n",
    "                heap[p], heap[nex] = heap[nex], heap[p]\n",
    "                p = nex\n",
    "            else:\n",
    "                break\n",
    "        \n",
    "    def build_heap(self, heap):\n",
    "        for i in range(len(heap) - 1, -1, -1):\n",
    "            self.max_heapify(heap, i, len(heap))\n",
    "\n",
    "    def heap_sort(self, nums):\n",
    "        self.build_heap(nums)\n",
    "        for i in range(len(nums) - 1, -1, -1):\n",
    "            nums[i], nums[0] = nums[0], nums[i]\n",
    "            self.max_heapify(nums, 0, i)\n",
    "            \n",
    "    def sortArray(self, nums):\n",
    "        self.heap_sort(nums)\n",
    "        return nums"
   ]
  },
  {
   "cell_type": "code",
   "execution_count": 8,
   "metadata": {
    "collapsed": true
   },
   "outputs": [],
   "source": [
    "class Solution:\n",
    "    def swap(self, arr, i, j):\n",
    "        arr[i], arr[j] = arr[j], arr[i]\n",
    "    def heapify(self, tree, n, i):\n",
    "        if i >= n:\n",
    "            return\n",
    "        c1 = 2 * i + 1\n",
    "        c2 = 2 * i + 2\n",
    "        maxx = i\n",
    "        if c1 < n and tree[c1] > tree[maxx]:\n",
    "            maxx = c1\n",
    "        if c2 < n and tree[c2] > tree[maxx]:\n",
    "            maxx = c2\n",
    "        if maxx != i:\n",
    "            self.swap(tree, maxx, i)\n",
    "            self.heapify(tree, n, maxx)\n",
    "    def sortArray(self, nums):\n",
    "        self.heapify(nums,  len(nums), 0)\n",
    "        return nums"
   ]
  },
  {
   "cell_type": "code",
   "execution_count": 9,
   "metadata": {},
   "outputs": [],
   "source": [
    "a = Solution()"
   ]
  },
  {
   "cell_type": "code",
   "execution_count": 10,
   "metadata": {},
   "outputs": [
    {
     "data": {
      "text/plain": [
       "[10, 5, 3, 4, 1, 2]"
      ]
     },
     "execution_count": 10,
     "metadata": {},
     "output_type": "execute_result"
    }
   ],
   "source": [
    "a.sortArray([4, 10, 3, 5, 1, 2])"
   ]
  },
  {
   "cell_type": "code",
   "execution_count": 20,
   "metadata": {
    "collapsed": true
   },
   "outputs": [],
   "source": [
    "class Solution:\n",
    "    def swap(self, arr, i, j):\n",
    "        arr[i], arr[j] = arr[j], arr[i]\n",
    "    def heapify(self, tree, n, i):\n",
    "        if i >= n:\n",
    "            return\n",
    "        c1 = 2 * i + 1\n",
    "        c2 = 2 * i + 2\n",
    "        maxx = i\n",
    "        if c1 < n and tree[c1] > tree[maxx]:\n",
    "            maxx = c1\n",
    "        if c2 < n and tree[c2] > tree[maxx]:\n",
    "            maxx = c2\n",
    "        if maxx != i:\n",
    "            self.swap(tree, maxx, i)\n",
    "            self.heapify(tree, n, maxx)\n",
    "    def build_heap(self, tree, n):\n",
    "        last_node = n - 1\n",
    "        parent = (last_node - 1) // 2\n",
    "        for i in range(parent, -1, -1):\n",
    "            self.heapify(tree, n, i)\n",
    "    def sortArray(self, nums):\n",
    "        self.build_heap(nums,  len(nums))\n",
    "        return nums"
   ]
  },
  {
   "cell_type": "code",
   "execution_count": 21,
   "metadata": {
    "collapsed": true
   },
   "outputs": [],
   "source": [
    "a = Solution()"
   ]
  },
  {
   "cell_type": "code",
   "execution_count": 22,
   "metadata": {},
   "outputs": [
    {
     "data": {
      "text/plain": [
       "[10, 5, 4, 1, 2, 3]"
      ]
     },
     "execution_count": 22,
     "metadata": {},
     "output_type": "execute_result"
    }
   ],
   "source": [
    "a.sortArray([2, 5, 3, 1, 10, 4])"
   ]
  },
  {
   "cell_type": "code",
   "execution_count": 29,
   "metadata": {
    "collapsed": true
   },
   "outputs": [],
   "source": [
    "class Solution:\n",
    "    def swap(self, arr, i, j):\n",
    "        arr[i], arr[j] = arr[j], arr[i]\n",
    "    def heapify(self, tree, n, i):\n",
    "        if i >= n:\n",
    "            return\n",
    "        c1 = 2 * i + 1\n",
    "        c2 = 2 * i + 2\n",
    "        maxx = i\n",
    "        if c1 < n and tree[c1] > tree[maxx]:\n",
    "            maxx = c1\n",
    "        if c2 < n and tree[c2] > tree[maxx]:\n",
    "            maxx = c2\n",
    "        if maxx != i:\n",
    "            self.swap(tree, maxx, i)\n",
    "            self.heapify(tree, n, maxx)\n",
    "    def build_heap(self, tree, n):\n",
    "        last_node = n - 1\n",
    "        parent = (last_node - 1) // 2\n",
    "        for i in range(parent, -1, -1):\n",
    "            self.heapify(tree, n, i)\n",
    "    def heap_sort(self, tree, n):\n",
    "        self.build_heap(tree, n)\n",
    "        for i in range(n-1, -1, -1):\n",
    "            self.swap(tree, i, 0)\n",
    "            self.heapify(tree, i, 0)\n",
    "    def sortArray(self, nums):\n",
    "        self.heap_sort(nums,  len(nums))\n",
    "        return nums"
   ]
  },
  {
   "cell_type": "code",
   "execution_count": 30,
   "metadata": {
    "collapsed": true
   },
   "outputs": [],
   "source": [
    "a = Solution()"
   ]
  },
  {
   "cell_type": "code",
   "execution_count": 31,
   "metadata": {},
   "outputs": [
    {
     "data": {
      "text/plain": [
       "[1, 2, 3, 4, 5, 10]"
      ]
     },
     "execution_count": 31,
     "metadata": {},
     "output_type": "execute_result"
    }
   ],
   "source": [
    "a.sortArray([2, 5, 3, 1, 10, 4])"
   ]
  },
  {
   "cell_type": "markdown",
   "metadata": {},
   "source": [
    "# 归并排序"
   ]
  },
  {
   "cell_type": "code",
   "execution_count": 6,
   "metadata": {
    "collapsed": true
   },
   "outputs": [],
   "source": [
    "class Solution:\n",
    "    def merge_sort(self, nums, l, r):\n",
    "        if l == r:\n",
    "            return\n",
    "        mid = (l + r) // 2\n",
    "        self.merge_sort(nums, l, mid)\n",
    "        self.merge_sort(nums, mid + 1, r)\n",
    "        tmp = []\n",
    "        i, j = l, mid + 1\n",
    "        while i <= mid or j <= r:\n",
    "            if i > mid or (j <= r and nums[j] < nums[i]):\n",
    "                tmp.append(nums[j])\n",
    "                j += 1\n",
    "            else:\n",
    "                tmp.append(nums[i])\n",
    "                i += 1\n",
    "        nums[l: r + 1] = tmp\n",
    "\n",
    "    def sortArray(self, nums):\n",
    "        self.merge_sort(nums, 0, len(nums) - 1)\n",
    "        return nums"
   ]
  },
  {
   "cell_type": "code",
   "execution_count": 12,
   "metadata": {
    "collapsed": true
   },
   "outputs": [],
   "source": [
    "def merge_sort(nums):\n",
    "    if len(nums) <= 1:\n",
    "        return nums\n",
    "    mid = len(nums) // 2\n",
    "    # 分\n",
    "    left = merge_sort(nums[:mid])\n",
    "    right = merge_sort(nums[mid:])\n",
    "    # 合并\n",
    "    return merge(left, right)\n",
    "\n",
    "\n",
    "def merge(left, right):\n",
    "    res = []\n",
    "    i = 0\n",
    "    j = 0\n",
    "    while i < len(left) and j < len(right):\n",
    "        if left[i] <= right[j]:\n",
    "            res.append(left[i])\n",
    "            i += 1\n",
    "        else:\n",
    "            res.append(right[j])\n",
    "            j += 1\n",
    "    res += left[i:]\n",
    "    res += right[j:]\n",
    "    return res"
   ]
  },
  {
   "cell_type": "code",
   "execution_count": 7,
   "metadata": {
    "collapsed": true
   },
   "outputs": [],
   "source": [
    "def selection_sort(nums):\n",
    "    n = len(nums)\n",
    "    for i in range(n):\n",
    "        for j in range(i, n):\n",
    "            if nums[i] > nums[j]:\n",
    "                nums[i], nums[j] = nums[j], nums[i]\n",
    "    return nums"
   ]
  },
  {
   "cell_type": "markdown",
   "metadata": {},
   "source": [
    "# 选择排序"
   ]
  },
  {
   "cell_type": "markdown",
   "metadata": {},
   "source": [
    "# 冒泡排序"
   ]
  },
  {
   "cell_type": "code",
   "execution_count": 8,
   "metadata": {
    "collapsed": true
   },
   "outputs": [],
   "source": [
    "def bubble_sort(nums):\n",
    "    n = len(nums)\n",
    "    # 进行多次循环\n",
    "    for c in range(n):\n",
    "        for i in range(1, n - c):\n",
    "            if nums[i - 1] > nums[i]:\n",
    "                nums[i - 1], nums[i] = nums[i], nums[i - 1]\n",
    "    return nums"
   ]
  },
  {
   "cell_type": "code",
   "execution_count": 10,
   "metadata": {
    "collapsed": true
   },
   "outputs": [],
   "source": [
    "class Solution:\n",
    "    def sortArray(self, nums):\n",
    "        for i in range(len(nums)):\n",
    "            for j in range(1, len(nums)-i):\n",
    "                if nums[j-1] > nums[j]:\n",
    "                    nums[j], nums[j-1] = nums[j-1], nums[j]\n",
    "        return nums"
   ]
  },
  {
   "cell_type": "markdown",
   "metadata": {},
   "source": [
    "# 直接插入排序"
   ]
  },
  {
   "cell_type": "code",
   "execution_count": 11,
   "metadata": {
    "collapsed": true
   },
   "outputs": [],
   "source": [
    "def insertion_sort(nums):\n",
    "    n = len(nums)\n",
    "    for i in range(1, n):\n",
    "        while i > 0 and nums[i - 1] > nums[i]:\n",
    "            nums[i - 1], nums[i] = nums[i], nums[i - 1]\n",
    "            i -= 1\n",
    "    return nums"
   ]
  },
  {
   "cell_type": "code",
   "execution_count": 15,
   "metadata": {
    "collapsed": true
   },
   "outputs": [],
   "source": [
    "class Solution:\n",
    "    def sortArray(self, nums):\n",
    "        n = len(nums)\n",
    "        for i in range(1, n):\n",
    "            while i > 0 and nums[i-1] > nums[i]:\n",
    "                nums[i-1], nums[i] = nums[i], nums[i-1]\n",
    "                i -= 1\n",
    "        return nums"
   ]
  },
  {
   "cell_type": "code",
   "execution_count": null,
   "metadata": {
    "collapsed": true
   },
   "outputs": [],
   "source": []
  }
 ],
 "metadata": {
  "kernelspec": {
   "display_name": "Python 3",
   "language": "python",
   "name": "python3"
  },
  "language_info": {
   "codemirror_mode": {
    "name": "ipython",
    "version": 3
   },
   "file_extension": ".py",
   "mimetype": "text/x-python",
   "name": "python",
   "nbconvert_exporter": "python",
   "pygments_lexer": "ipython3",
   "version": "3.6.3"
  }
 },
 "nbformat": 4,
 "nbformat_minor": 2
}
