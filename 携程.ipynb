{
 "cells": [
  {
   "cell_type": "code",
   "execution_count": 16,
   "metadata": {},
   "outputs": [
    {
     "name": "stdout",
     "output_type": "stream",
     "text": [
      "6\n",
      "0,30\n",
      "0,50\n",
      "10,20\n",
      "15,30\n",
      "20,50\n",
      "20,65\n"
     ]
    }
   ],
   "source": [
    "n = int(input())\n",
    "ans = []\n",
    "for i in range(n):\n",
    "    m = list(map(int, input().split(',')))\n",
    "    ans.append(m)"
   ]
  },
  {
   "cell_type": "code",
   "execution_count": 72,
   "metadata": {},
   "outputs": [],
   "source": [
    "summ = 0\n",
    "res = [ans[0]]\n",
    "path = []\n",
    "a = []\n",
    "for j in range(1, len(ans)):\n",
    "    flag = 1\n",
    "    for k in range(len(res)):\n",
    "        if res[k][1] > ans[j][0] and flag:\n",
    "            summ += 1\n",
    "            flag = 0\n",
    "            res.append(ans[j])\n",
    "        if res[k][1] == ans[j][0]:\n",
    "            path.append(ans[j])\n",
    "            a.append(ans[j][0])\n",
    "count = 0\n",
    "for k in range(1, len(a)):\n",
    "    if a[k] == a[k-1]:\n",
    "        count += 1"
   ]
  },
  {
   "cell_type": "code",
   "execution_count": null,
   "metadata": {
    "collapsed": true
   },
   "outputs": [],
   "source": [
    "n = int(input())\n",
    "ans = []\n",
    "for i in range(n):\n",
    "    m = list(map(int, input().split(',')))\n",
    "    ans.append(m)\n",
    "summ = 1\n",
    "res = [ans[0]]\n",
    "path = []\n",
    "a = []\n",
    "for j in range(1, len(ans)):\n",
    "    flag = 1\n",
    "    for k in range(len(res)):\n",
    "        if res[k][1] > ans[j][0] and flag:\n",
    "            summ += 1\n",
    "            flag = 0\n",
    "            res.append(ans[j])\n",
    "        if res[k][1] == ans[j][0]:\n",
    "            path.append(ans[j])\n",
    "            a.append(ans[j][0])\n",
    "count = 0\n",
    "a.sort()\n",
    "for k in range(1, len(a)):\n",
    "    if a[k] == a[k-1]:\n",
    "        count += 1\n",
    "print(summ - count)"
   ]
  },
  {
   "cell_type": "code",
   "execution_count": 85,
   "metadata": {},
   "outputs": [
    {
     "name": "stdout",
     "output_type": "stream",
     "text": [
      "6 2\n",
      "xyzxyz\n",
      "x y\n"
     ]
    }
   ],
   "source": [
    "m = list(map(int, input().split()))\n",
    "s = input()\n",
    "n = list(map(str, input().split()))"
   ]
  },
  {
   "cell_type": "code",
   "execution_count": 90,
   "metadata": {
    "collapsed": true
   },
   "outputs": [],
   "source": [
    "dp = [0] * len(s)"
   ]
  },
  {
   "cell_type": "code",
   "execution_count": 105,
   "metadata": {
    "collapsed": true
   },
   "outputs": [],
   "source": [
    "dp = [0] * len(s)\n",
    "for j in range(len(n)):\n",
    "    if n[j] == s[0]:\n",
    "        dp[j] += 1\n",
    "for j in range(1, len(s)):\n",
    "    if s[j] in n:\n",
    "        dp[j] = dp[j-1] + 1"
   ]
  },
  {
   "cell_type": "code",
   "execution_count": 108,
   "metadata": {},
   "outputs": [
    {
     "data": {
      "text/plain": [
       "[1, 2, 0, 1, 2, 0]"
      ]
     },
     "execution_count": 108,
     "metadata": {},
     "output_type": "execute_result"
    }
   ],
   "source": [
    "dp"
   ]
  },
  {
   "cell_type": "code",
   "execution_count": 109,
   "metadata": {},
   "outputs": [
    {
     "data": {
      "text/plain": [
       "6"
      ]
     },
     "execution_count": 109,
     "metadata": {},
     "output_type": "execute_result"
    }
   ],
   "source": [
    "print(sum(dp))"
   ]
  },
  {
   "cell_type": "code",
   "execution_count": null,
   "metadata": {
    "collapsed": true
   },
   "outputs": [],
   "source": [
    "m = list(map(int, input().split()))\n",
    "s = input()\n",
    "n = list(map(str, input().split()))\n",
    "if m[1] == 0: print(0)\n",
    "dp = [0] * len(s)\n",
    "for j in range(len(n)):\n",
    "    if n[j] == s[0]:\n",
    "        dp[j] += 1\n",
    "for j in range(1, len(s)):\n",
    "    if s[j] in n:\n",
    "        dp[j] = dp[j-1] + 1\n",
    "print(sum(dp))"
   ]
  }
 ],
 "metadata": {
  "kernelspec": {
   "display_name": "Python 3",
   "language": "python",
   "name": "python3"
  },
  "language_info": {
   "codemirror_mode": {
    "name": "ipython",
    "version": 3
   },
   "file_extension": ".py",
   "mimetype": "text/x-python",
   "name": "python",
   "nbconvert_exporter": "python",
   "pygments_lexer": "ipython3",
   "version": "3.6.3"
  }
 },
 "nbformat": 4,
 "nbformat_minor": 2
}
