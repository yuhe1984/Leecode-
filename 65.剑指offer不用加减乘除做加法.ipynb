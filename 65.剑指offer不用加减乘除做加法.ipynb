{
 "cells": [
  {
   "cell_type": "code",
   "execution_count": 1,
   "metadata": {
    "collapsed": true
   },
   "outputs": [],
   "source": [
    "class Solution:\n",
    "    def add(self, a: int, b: int) -> int:\n",
    "        max_int = 2 ** 31\n",
    "        max_num = 2 ** 32 - 1\n",
    "        while b:\n",
    "            a, b = (a ^ b) & max_num, ((a & b) << 1) & max_num\n",
    "        return a if a < max_int else -((a - 1) ^ max_num)"
   ]
  },
  {
   "cell_type": "code",
   "execution_count": 2,
   "metadata": {
    "collapsed": true
   },
   "outputs": [],
   "source": [
    "# 正数与边界数 0xffffffff (2**32-1, 即除去符号位,31个 1) 按位与（&） 操作后 仍得到这个数本身\n",
    "# 负数与边界数按位与（&） 操作后 得到的是对应二进制数的真值(绝对值)\n",
    "# (真值-1) 和 边界做&的反操作,即 ^, 可以得到负数的真值,加上 -号,就是原来的负数.\n",
    "# 如  num = -4\n",
    "# -4 & (2**32-1) = 4294967292\n",
    "# (4294967292 - 1) ^ (2**32-1) = 4  #  \n",
    "# 加上 -号 即原来的 -4\n",
    "# 负数是以补码存在, 即 源码取反+1. ~(4294967292) ^ (2**32-1) = -4"
   ]
  },
  {
   "cell_type": "code",
   "execution_count": 3,
   "metadata": {
    "collapsed": true
   },
   "outputs": [],
   "source": [
    "class Solution:\n",
    "    def add(self, a: int, b: int) -> int:\n",
    "        max_int = 2 ** 31\n",
    "        max_num = 2 ** 32 - 1\n",
    "        while b:\n",
    "            a, b = (a ^ b) & max_num, ((a & b) << 1) & max_num\n",
    "        return a if a < max_int else ~a ^ max_num"
   ]
  },
  {
   "cell_type": "code",
   "execution_count": null,
   "metadata": {
    "collapsed": true
   },
   "outputs": [],
   "source": []
  }
 ],
 "metadata": {
  "kernelspec": {
   "display_name": "Python 3",
   "language": "python",
   "name": "python3"
  },
  "language_info": {
   "codemirror_mode": {
    "name": "ipython",
    "version": 3
   },
   "file_extension": ".py",
   "mimetype": "text/x-python",
   "name": "python",
   "nbconvert_exporter": "python",
   "pygments_lexer": "ipython3",
   "version": "3.6.3"
  }
 },
 "nbformat": 4,
 "nbformat_minor": 2
}
