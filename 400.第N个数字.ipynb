{
 "cells": [
  {
   "cell_type": "code",
   "execution_count": null,
   "metadata": {
    "collapsed": true
   },
   "outputs": [],
   "source": [
    "class Solution:\n",
    "    def findNthDigit(self, n: int) -> int:\n",
    "        # 首先判断target是几位数，用digits表示\n",
    "        base = 9\n",
    "        digits = 1\n",
    "        while n - base * digits > 0:\n",
    "            n -= base * digits\n",
    "            base *= 10\n",
    "            digits += 1\n",
    "        # 计算target的值\n",
    "        idx = n % digits  # 注意由于上面的计算，n现在表示digits位数的第n个数字\n",
    "        if idx == 0: \n",
    "            idx = digits\n",
    "        number = 1\n",
    "        for i in range(1,digits):\n",
    "            number *= 10\n",
    "        if idx == digits:\n",
    "            number += n // digits - 1\n",
    "        else:\n",
    "            number += n // digits\n",
    "        # 找到target中对应的数字\n",
    "        for i in range(idx,digits):\n",
    "            number //= 10\n",
    "        return number % 10"
   ]
  },
  {
   "cell_type": "code",
   "execution_count": 4,
   "metadata": {
    "collapsed": true
   },
   "outputs": [],
   "source": [
    "class Solution:\n",
    "    def findNthDigit(self, n):\n",
    "        base = 9\n",
    "        digits = 1\n",
    "        while n - base * digits > 0:\n",
    "            n -= base * digits\n",
    "            base *= 10\n",
    "            digits += 1\n",
    "        idx = n % digits\n",
    "        if idx == 0:\n",
    "            idx = digits\n",
    "        number = 1\n",
    "        for i in range(1,digits):\n",
    "            number *= 10\n",
    "        if idx == digits:\n",
    "            number += n // digits - 1\n",
    "        else:\n",
    "            number += n // digits\n",
    "        for i in range(idx,digits):\n",
    "            number //= 10\n",
    "        return number % 10"
   ]
  },
  {
   "cell_type": "code",
   "execution_count": 5,
   "metadata": {
    "collapsed": true
   },
   "outputs": [],
   "source": [
    "a = Solution()"
   ]
  },
  {
   "cell_type": "code",
   "execution_count": 6,
   "metadata": {},
   "outputs": [
    {
     "data": {
      "text/plain": [
       "5"
      ]
     },
     "execution_count": 6,
     "metadata": {},
     "output_type": "execute_result"
    }
   ],
   "source": [
    "a.findNthDigit(567)"
   ]
  },
  {
   "cell_type": "code",
   "execution_count": 7,
   "metadata": {
    "collapsed": true
   },
   "outputs": [],
   "source": [
    "class Solution:\n",
    "    def findNthDigit(self, n):\n",
    "        n -= 1\n",
    "        for digits in range(1, 11):\n",
    "            first_num = 10**(digits - 1)\n",
    "            if n < 9 * first_num * digits:\n",
    "                return int(str(first_num + n/digits)[n%digits])\n",
    "            n -= 9 * first_num * digits"
   ]
  },
  {
   "cell_type": "code",
   "execution_count": null,
   "metadata": {
    "collapsed": true
   },
   "outputs": [],
   "source": []
  }
 ],
 "metadata": {
  "kernelspec": {
   "display_name": "Python 3",
   "language": "python",
   "name": "python3"
  },
  "language_info": {
   "codemirror_mode": {
    "name": "ipython",
    "version": 3
   },
   "file_extension": ".py",
   "mimetype": "text/x-python",
   "name": "python",
   "nbconvert_exporter": "python",
   "pygments_lexer": "ipython3",
   "version": "3.6.3"
  }
 },
 "nbformat": 4,
 "nbformat_minor": 2
}
