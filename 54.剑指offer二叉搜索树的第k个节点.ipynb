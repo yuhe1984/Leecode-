{
 "cells": [
  {
   "cell_type": "code",
   "execution_count": 6,
   "metadata": {
    "collapsed": true
   },
   "outputs": [],
   "source": [
    "# Definition for a binary tree node.\n",
    "class TreeNode:\n",
    "    def __init__(self, x):\n",
    "        self.val = x\n",
    "        self.left = None\n",
    "        self.right = None\n",
    "\n",
    "class Solution:\n",
    "    def kthLargest(self, root: TreeNode, k: int) -> int:\n",
    "        res = []\n",
    "        def dfs(root):\n",
    "            res.append(root.val)\n",
    "            if root.left:\n",
    "                dfs(root.left)\n",
    "            if root.right:\n",
    "                dfs(root.right)\n",
    "        dfs(root)\n",
    "        res = sorted(res, reverse = True)\n",
    "        # print(res[k-1])\n",
    "        return res[k-1]"
   ]
  },
  {
   "cell_type": "code",
   "execution_count": 7,
   "metadata": {
    "collapsed": true
   },
   "outputs": [],
   "source": [
    "# Definition for a binary tree node.\n",
    "# class TreeNode:\n",
    "#     def __init__(self, x):\n",
    "#         self.val = x\n",
    "#         self.left = None\n",
    "#         self.right = None\n",
    "\n",
    "class Solution:\n",
    "    def kthLargest(self, root: TreeNode, k: int) -> int:\n",
    "        res = []\n",
    "        def dfs(root):\n",
    "            if root.right:\n",
    "                dfs(root.right)\n",
    "            res.append(root.val)\n",
    "            if root.left:\n",
    "                dfs(root.left)\n",
    "        dfs(root)\n",
    "        # print(res)\n",
    "        return res[k-1]"
   ]
  },
  {
   "cell_type": "markdown",
   "metadata": {},
   "source": [
    "# 中序遍历(倒序)"
   ]
  },
  {
   "cell_type": "code",
   "execution_count": 3,
   "metadata": {},
   "outputs": [],
   "source": [
    "class Solution:\n",
    "    def kthLargest(self, root, k):\n",
    "        def dfs(root):\n",
    "            if not root: return\n",
    "            dfs(root.right)\n",
    "            if self.k == 0: return\n",
    "            self.k -= 1\n",
    "            if self.k == 0: self.res = root.val\n",
    "            dfs(root.left)\n",
    "\n",
    "        self.k = k\n",
    "        dfs(root)\n",
    "        return self.res"
   ]
  },
  {
   "cell_type": "code",
   "execution_count": null,
   "metadata": {
    "collapsed": true
   },
   "outputs": [],
   "source": []
  }
 ],
 "metadata": {
  "kernelspec": {
   "display_name": "Python 3",
   "language": "python",
   "name": "python3"
  },
  "language_info": {
   "codemirror_mode": {
    "name": "ipython",
    "version": 3
   },
   "file_extension": ".py",
   "mimetype": "text/x-python",
   "name": "python",
   "nbconvert_exporter": "python",
   "pygments_lexer": "ipython3",
   "version": "3.6.3"
  }
 },
 "nbformat": 4,
 "nbformat_minor": 2
}
