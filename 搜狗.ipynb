{
 "cells": [
  {
   "cell_type": "code",
   "execution_count": 14,
   "metadata": {
    "collapsed": true
   },
   "outputs": [],
   "source": [
    "a = 10\n",
    "b = 8\n",
    "c = 6"
   ]
  },
  {
   "cell_type": "code",
   "execution_count": 18,
   "metadata": {},
   "outputs": [
    {
     "name": "stdout",
     "output_type": "stream",
     "text": [
      "7\n"
     ]
    }
   ],
   "source": [
    "nums = [a, b, c]\n",
    "min1 = min(a, b, c)\n",
    "max1 = max(a, b, c)\n",
    "nums.remove(min1)\n",
    "nums.remove(max1)\n",
    "mid = nums[0]\n",
    "for i in range(max1):\n",
    "    if max1 - mid >= 2:\n",
    "        max1 -= 2\n",
    "        min1 += 1\n",
    "    else:\n",
    "        max1 -= 1\n",
    "        mid -= 1\n",
    "        min1 += 1\n",
    "    if max1 == min1 == mid:\n",
    "        print(min(min1, max1, mid))\n",
    "    if max1 - min1 == 1:\n",
    "        break\n",
    "print(min(min1, max1, mid))"
   ]
  },
  {
   "cell_type": "code",
   "execution_count": 17,
   "metadata": {},
   "outputs": [
    {
     "data": {
      "text/plain": [
       "(7, 8, 8)"
      ]
     },
     "execution_count": 17,
     "metadata": {},
     "output_type": "execute_result"
    }
   ],
   "source": [
    "min1, max1, mid"
   ]
  },
  {
   "cell_type": "code",
   "execution_count": null,
   "metadata": {},
   "outputs": [],
   "source": [
    "18//4"
   ]
  },
  {
   "cell_type": "code",
   "execution_count": null,
   "metadata": {},
   "outputs": [],
   "source": [
    "1 == 1 == 1"
   ]
  },
  {
   "cell_type": "code",
   "execution_count": null,
   "metadata": {},
   "outputs": [],
   "source": [
    "a = [-1,4,5,2]"
   ]
  },
  {
   "cell_type": "code",
   "execution_count": null,
   "metadata": {},
   "outputs": [],
   "source": [
    "nums = []\n",
    "for i in range(0, len(a), 2):\n",
    "    nums.append([a[i]-a[i+1]//2, a[i]+a[i+1]//2])"
   ]
  },
  {
   "cell_type": "code",
   "execution_count": null,
   "metadata": {},
   "outputs": [],
   "source": [
    "nums"
   ]
  },
  {
   "cell_type": "code",
   "execution_count": null,
   "metadata": {
    "collapsed": true
   },
   "outputs": [],
   "source": [
    "nums.sort()"
   ]
  },
  {
   "cell_type": "code",
   "execution_count": null,
   "metadata": {},
   "outputs": [],
   "source": [
    "nums.append([6, 10])\n",
    "nums.append([1, 3])\n",
    "nums.append([12, 15])"
   ]
  },
  {
   "cell_type": "code",
   "execution_count": 5,
   "metadata": {},
   "outputs": [],
   "source": [
    "nums = [[-3, 1], [1, 3], [4, 6], [6, 10], [12, 15]]"
   ]
  },
  {
   "cell_type": "code",
   "execution_count": 6,
   "metadata": {},
   "outputs": [],
   "source": [
    "res = []\n",
    "for i in range(1, len(nums)):\n",
    "    if nums[i-1][1] == nums[i][0]:\n",
    "        nums[i-1][1] = nums[i][1]\n",
    "        res.append(nums[i-1])\n",
    "    else:\n",
    "        res.append(nums[i])"
   ]
  },
  {
   "cell_type": "code",
   "execution_count": 11,
   "metadata": {},
   "outputs": [],
   "source": [
    "ans = len(nums)\n",
    "for i in range(len(nums)):\n",
    "    for j in range(i+1, len(nums)):\n",
    "        if nums[i][1] == nums[j][1]:\n",
    "            ans -= 1"
   ]
  },
  {
   "cell_type": "code",
   "execution_count": 12,
   "metadata": {},
   "outputs": [
    {
     "data": {
      "text/plain": [
       "3"
      ]
     },
     "execution_count": 12,
     "metadata": {},
     "output_type": "execute_result"
    }
   ],
   "source": [
    "ans"
   ]
  },
  {
   "cell_type": "code",
   "execution_count": 31,
   "metadata": {
    "collapsed": true
   },
   "outputs": [],
   "source": [
    "#\n",
    "# 代码中的类名、方法名、参数名已经指定，请勿修改，直接返回方法规定的值即可\n",
    "# 返回能交换奖品的最大数量\n",
    "# @param a int整型 \n",
    "# @param b int整型 \n",
    "# @param c int整型 \n",
    "# @return int整型\n",
    "#\n",
    "class Solution:\n",
    "    def numberofprize(self , a , b , c ):\n",
    "        # write code here\n",
    "        nums = [a, b, c]\n",
    "        min1 = min(a, b, c)\n",
    "        max1 = max(a, b, c)\n",
    "        nums.remove(min1)\n",
    "        nums.remove(max1)\n",
    "        mid = nums[0]\n",
    "        for i in range(max1):\n",
    "            if max1 - mid >= 2:\n",
    "                max1 -= 2\n",
    "                min1 += 1\n",
    "                nums = [max1, min1, mid]\n",
    "                min1 = min(nums)\n",
    "                max1 = max(nums)\n",
    "                nums.remove(min1)\n",
    "                nums.remove(max1)\n",
    "                mid = nums[0]\n",
    "            else:\n",
    "                max1 -= 1\n",
    "                mid -= 1\n",
    "                min1 += 1\n",
    "                nums = [max1, min1, mid]\n",
    "                min1 = min(nums)\n",
    "                max1 = max(nums)\n",
    "                nums.remove(min1)\n",
    "                nums.remove(max1)\n",
    "                mid = nums[0]\n",
    "            if max1 == min1 == mid:\n",
    "                return min(min1, max1, mid)\n",
    "            if mid == max1 and max1 - min1 == 1:\n",
    "                break\n",
    "        return min(min1, max1, mid)"
   ]
  },
  {
   "cell_type": "code",
   "execution_count": 32,
   "metadata": {
    "collapsed": true
   },
   "outputs": [],
   "source": [
    "a = Solution()"
   ]
  },
  {
   "cell_type": "code",
   "execution_count": 33,
   "metadata": {},
   "outputs": [
    {
     "data": {
      "text/plain": [
       "5"
      ]
     },
     "execution_count": 33,
     "metadata": {},
     "output_type": "execute_result"
    }
   ],
   "source": [
    "a.numberofprize(10, 1, 8)"
   ]
  },
  {
   "cell_type": "code",
   "execution_count": null,
   "metadata": {
    "collapsed": true
   },
   "outputs": [],
   "source": []
  }
 ],
 "metadata": {
  "kernelspec": {
   "display_name": "Python 3",
   "language": "python",
   "name": "python3"
  },
  "language_info": {
   "codemirror_mode": {
    "name": "ipython",
    "version": 3
   },
   "file_extension": ".py",
   "mimetype": "text/x-python",
   "name": "python",
   "nbconvert_exporter": "python",
   "pygments_lexer": "ipython3",
   "version": "3.6.3"
  }
 },
 "nbformat": 4,
 "nbformat_minor": 2
}
