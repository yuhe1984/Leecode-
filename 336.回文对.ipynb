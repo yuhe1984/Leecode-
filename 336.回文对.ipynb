{
 "cells": [
  {
   "cell_type": "markdown",
   "metadata": {},
   "source": [
    "# 方法一：枚举前缀和后缀"
   ]
  },
  {
   "cell_type": "markdown",
   "metadata": {},
   "source": [
    "下面给出的是使用字典树的代码："
   ]
  },
  {
   "cell_type": "code",
   "execution_count": 1,
   "metadata": {
    "collapsed": true
   },
   "outputs": [],
   "source": [
    "class Node:\n",
    "    def __init__(self):\n",
    "        self.ch = [0] * 26\n",
    "        self.flag = -1\n",
    "\n",
    "class Solution:\n",
    "    def palindromePairs(self, words):\n",
    "        tree = [Node()]\n",
    "\n",
    "        def insert(s: str, index: int):\n",
    "            length = len(s)\n",
    "            add = 0\n",
    "            for i in range(length):\n",
    "                x = ord(s[i]) - ord(\"a\")\n",
    "                if tree[add].ch[x] == 0:\n",
    "                    tree.append(Node())\n",
    "                    tree[add].ch[x] = len(tree) - 1\n",
    "                add = tree[add].ch[x]\n",
    "            tree[add].flag = index\n",
    "        \n",
    "        def findWord(s: str, left: int, right: int) -> int:\n",
    "            add = 0\n",
    "            for i in range(right, left - 1, -1):\n",
    "                x = ord(s[i]) - ord(\"a\")\n",
    "                if tree[add].ch[x] == 0:\n",
    "                    return -1\n",
    "                add = tree[add].ch[x]\n",
    "            return tree[add].flag\n",
    "        \n",
    "        def isPalindrome(s: str, left: int, right: int) -> bool:\n",
    "            length = right - left + 1\n",
    "            return length < 0 or all(s[left + i] == s[right - i] for i in range(length // 2))\n",
    "        \n",
    "        n = len(words)\n",
    "        for i, word in enumerate(words):\n",
    "            insert(word, i)\n",
    "        \n",
    "        ret = list()\n",
    "        for i, word in enumerate(words):\n",
    "            m = len(word)\n",
    "            for j in range(m + 1):\n",
    "                if isPalindrome(word, j, m - 1):\n",
    "                    leftId = findWord(word, 0, j - 1)\n",
    "                    if leftId != -1 and leftId != i:\n",
    "                        ret.append([i, leftId])\n",
    "                if j and isPalindrome(word, 0, j - 1):\n",
    "                    rightId = findWord(word, j, m - 1)\n",
    "                    if rightId != -1 and rightId != i:\n",
    "                        ret.append([rightId, i])\n",
    "\n",
    "        return ret"
   ]
  },
  {
   "cell_type": "markdown",
   "metadata": {},
   "source": [
    "下面给出的是使用哈希表的代码："
   ]
  },
  {
   "cell_type": "code",
   "execution_count": 2,
   "metadata": {},
   "outputs": [
    {
     "ename": "SyntaxError",
     "evalue": "invalid syntax (<ipython-input-2-8a3cc2d93a10>, line 8)",
     "output_type": "error",
     "traceback": [
      "\u001b[1;36m  File \u001b[1;32m\"<ipython-input-2-8a3cc2d93a10>\"\u001b[1;36m, line \u001b[1;32m8\u001b[0m\n\u001b[1;33m    return (sub := s[left:right+1]) == sub[::-1]\u001b[0m\n\u001b[1;37m                ^\u001b[0m\n\u001b[1;31mSyntaxError\u001b[0m\u001b[1;31m:\u001b[0m invalid syntax\n"
     ]
    }
   ],
   "source": [
    "class Solution:\n",
    "    def palindromePairs(self, words):\n",
    "\n",
    "        def findWord(s: str, left: int, right: int) -> int:\n",
    "            return indices.get(s[left:right+1], -1)\n",
    "        \n",
    "        def isPalindrome(s: str, left: int, right: int) -> bool:\n",
    "            return (sub := s[left:right+1]) == sub[::-1]\n",
    "        \n",
    "        n = len(words)\n",
    "        indices = {word[::-1]: i for i, word in enumerate(words)}\n",
    "        \n",
    "        ret = list()\n",
    "        for i, word in enumerate(words):\n",
    "            m = len(word)\n",
    "            for j in range(m + 1):\n",
    "                if isPalindrome(word, j, m - 1):\n",
    "                    leftId = findWord(word, 0, j - 1)\n",
    "                    if leftId != -1 and leftId != i:\n",
    "                        ret.append([i, leftId])\n",
    "                if j and isPalindrome(word, 0, j - 1):\n",
    "                    rightId = findWord(word, j, m - 1)\n",
    "                    if rightId != -1 and rightId != i:\n",
    "                        ret.append([rightId, i])\n",
    "\n",
    "        return ret"
   ]
  },
  {
   "cell_type": "code",
   "execution_count": null,
   "metadata": {
    "collapsed": true
   },
   "outputs": [],
   "source": []
  }
 ],
 "metadata": {
  "kernelspec": {
   "display_name": "Python 3",
   "language": "python",
   "name": "python3"
  },
  "language_info": {
   "codemirror_mode": {
    "name": "ipython",
    "version": 3
   },
   "file_extension": ".py",
   "mimetype": "text/x-python",
   "name": "python",
   "nbconvert_exporter": "python",
   "pygments_lexer": "ipython3",
   "version": "3.6.3"
  }
 },
 "nbformat": 4,
 "nbformat_minor": 2
}
