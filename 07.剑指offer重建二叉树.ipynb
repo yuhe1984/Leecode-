{
 "cells": [
  {
   "cell_type": "markdown",
   "metadata": {},
   "source": [
    "# 递归"
   ]
  },
  {
   "cell_type": "code",
   "execution_count": 2,
   "metadata": {
    "collapsed": true
   },
   "outputs": [],
   "source": [
    "class Solution:\n",
    "    def buildTree(self, preorder, inorde):\n",
    "        self.dic, self.po = {}, preorder\n",
    "        for i in range(len(inorder)):\n",
    "            self.dic[inorder[i]] = i\n",
    "        return self.recur(0, 0, len(inorder) - 1)\n",
    "\n",
    "    def recur(self, pre_root, in_left, in_right):\n",
    "        if in_left > in_right: return # 终止条件：中序遍历为空\n",
    "        root = TreeNode(self.po[pre_root]) # 建立当前子树的根节点\n",
    "        i = self.dic[self.po[pre_root]]    # 搜索根节点在中序遍历中的索引，从而可对根节点、左子树、右子树完成划分。\n",
    "        root.left = self.recur(pre_root + 1, in_left, i - 1) # 开启左子树的下层递归\n",
    "        root.right = self.recur(i - in_left + pre_root + 1, i + 1, in_right) # 开启右子树的下层递归\n",
    "        return root # 返回根节点，作为上层递归的左（右）子节点"
   ]
  },
  {
   "cell_type": "code",
   "execution_count": 5,
   "metadata": {
    "collapsed": true
   },
   "outputs": [],
   "source": [
    "# Definition for a binary tree node.\n",
    "# class TreeNode(object):\n",
    "#     def __init__(self, x):\n",
    "#         self.val = x\n",
    "#         self.left = None\n",
    "#         self.right = None\n",
    "\n",
    "class Solution(object):\n",
    "    def buildTree(self, preorder, inorder):\n",
    "        \"\"\"\n",
    "        :type preorder: List[int]\n",
    "        :type inorder: List[int]\n",
    "        :rtype: TreeNode\n",
    "        \"\"\"\n",
    "        if len(preorder) == 0:\n",
    "            return None\n",
    "        # 创建当前节点\n",
    "        node = TreeNode(preorder[0]) \n",
    "        # 在中序遍历中查找第一个节点的位置\n",
    "        index = inorder.index(preorder[0]) \n",
    "        # 划分左右子树\n",
    "        left_pre = preorder[1:index+1]\n",
    "        left_in = inorder[:index]\n",
    "        right_pre = preorder[index+1:]\n",
    "        right_in = inorder[index+1:]\n",
    "        # 遍历创建子树\n",
    "        node.left = self.buildTree(left_pre, left_in)\n",
    "        node.right = self.buildTree(right_pre, right_in)\n",
    "        # 返回当前节点\n",
    "        return node"
   ]
  },
  {
   "cell_type": "markdown",
   "metadata": {},
   "source": [
    "# 迭代"
   ]
  },
  {
   "cell_type": "code",
   "execution_count": 4,
   "metadata": {
    "collapsed": true
   },
   "outputs": [],
   "source": [
    "class Solution:\n",
    "    def buildTree(self, preorder, inorder):\n",
    "        if not preorder:\n",
    "            return None\n",
    "        \n",
    "        root = TreeNode(preorder[0])\n",
    "        length = len(preorder)\n",
    "        stack = []\n",
    "        stack.append(root)\n",
    "        index = 0\n",
    "        for i in range(1, length):\n",
    "            preorderval = preorder[i]\n",
    "            node = stack[-1]\n",
    "            if node.val != inorder[index]: # 每次比较栈顶元素和inorder[index]\n",
    "                node.left = TreeNode(preorderval)\n",
    "                stack.append(node.left)\n",
    "            else:\n",
    "                while stack and stack[-1].val == inorder[index]:# 栈顶元素等于inorder[index],弹出；并且index += 1\n",
    "                    node = stack[-1]\n",
    "                    stack.pop()\n",
    "                    index += 1\n",
    "                node.right = TreeNode(preorderval)\n",
    "                stack.append(node.right)\n",
    "        return root"
   ]
  },
  {
   "cell_type": "code",
   "execution_count": null,
   "metadata": {
    "collapsed": true
   },
   "outputs": [],
   "source": []
  }
 ],
 "metadata": {
  "kernelspec": {
   "display_name": "Python 3",
   "language": "python",
   "name": "python3"
  },
  "language_info": {
   "codemirror_mode": {
    "name": "ipython",
    "version": 3
   },
   "file_extension": ".py",
   "mimetype": "text/x-python",
   "name": "python",
   "nbconvert_exporter": "python",
   "pygments_lexer": "ipython3",
   "version": "3.6.3"
  }
 },
 "nbformat": 4,
 "nbformat_minor": 2
}
