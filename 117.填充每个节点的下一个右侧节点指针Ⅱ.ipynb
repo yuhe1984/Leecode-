{
 "cells": [
  {
   "cell_type": "markdown",
   "metadata": {},
   "source": [
    "# 层次遍历"
   ]
  },
  {
   "cell_type": "code",
   "execution_count": 1,
   "metadata": {
    "collapsed": true
   },
   "outputs": [],
   "source": [
    "\"\"\"\n",
    "# Definition for a Node.\n",
    "class Node:\n",
    "    def __init__(self, val: int = 0, left: 'Node' = None, right: 'Node' = None, next: 'Node' = None):\n",
    "        self.val = val\n",
    "        self.left = left\n",
    "        self.right = right\n",
    "        self.next = next\n",
    "\"\"\"\n",
    "\n",
    "class Solution:\n",
    "    def connect(self, root):\n",
    "        if root == None:\n",
    "            return None\n",
    "        from collections import deque\n",
    "        queue = deque([root])\n",
    "        \n",
    "        while len(queue) != 0:\n",
    "            tmp1 = queue.popleft()\n",
    "            n = len(queue)\n",
    "            \n",
    "            if tmp1.left: queue.append(tmp1.left)\n",
    "            if tmp1.right: queue.append(tmp1.right)\n",
    "                \n",
    "            for i in range(n):\n",
    "                if i == n-1:\n",
    "                    tmp1.next = None\n",
    "                tmp2 = queue.popleft()\n",
    "                tmp1.next = tmp2\n",
    "                tmp1 = tmp2\n",
    "                \n",
    "                if tmp1.left:\n",
    "                    queue.append(tmp1.left)\n",
    "                if tmp1.right:\n",
    "                    queue.append(tmp1.right)\n",
    "        return root"
   ]
  },
  {
   "cell_type": "markdown",
   "metadata": {},
   "source": [
    "# 方法二：使用已建立的 "
   ]
  },
  {
   "cell_type": "code",
   "execution_count": 2,
   "metadata": {
    "collapsed": true
   },
   "outputs": [],
   "source": [
    "class Solution:\n",
    "    def connect(self, root):\n",
    "        if root == None:\n",
    "            return None\n",
    "        \n",
    "        start = root\n",
    "        while (start != None):\n",
    "            last = None\n",
    "            nextStart = None\n",
    "            p = start\n",
    "            while p != None:\n",
    "                if p.left != None:\n",
    "                    if last != None:\n",
    "                        last.next = p.left\n",
    "                    if nextStart == None:\n",
    "                        nextStart = p.left\n",
    "                    last = p.left\n",
    "                if p.right != None:\n",
    "                    if last != None:\n",
    "                        last.next = p.right\n",
    "                    if nextStart == None:\n",
    "                        nextStart = p.right\n",
    "                    last = p.right\n",
    "                p = p.next\n",
    "            start = nextStart\n",
    "        return root            "
   ]
  },
  {
   "cell_type": "code",
   "execution_count": null,
   "metadata": {
    "collapsed": true
   },
   "outputs": [],
   "source": []
  }
 ],
 "metadata": {
  "kernelspec": {
   "display_name": "Python 3",
   "language": "python",
   "name": "python3"
  },
  "language_info": {
   "codemirror_mode": {
    "name": "ipython",
    "version": 3
   },
   "file_extension": ".py",
   "mimetype": "text/x-python",
   "name": "python",
   "nbconvert_exporter": "python",
   "pygments_lexer": "ipython3",
   "version": "3.6.3"
  }
 },
 "nbformat": 4,
 "nbformat_minor": 2
}
