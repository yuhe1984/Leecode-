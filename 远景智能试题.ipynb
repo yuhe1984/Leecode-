{
 "cells": [
  {
   "cell_type": "code",
   "execution_count": 1,
   "metadata": {},
   "outputs": [
    {
     "name": "stdout",
     "output_type": "stream",
     "text": [
      "abcd\n",
      "abcde\n",
      "1\n"
     ]
    }
   ],
   "source": [
    "word1 = input()\n",
    "word2 = input()\n",
    "n1, n2 = len(word1), len(word2) \n",
    "dp = [[0] * (n2 + 1) for _ in range(n1 + 1)]\n",
    "# 第一行\n",
    "for j in range(1, n2 + 1):\n",
    "    dp[0][j] = j\n",
    "(3236)# 第一列\n",
    "for i in range(1, n1 + 1):\n",
    "    dp[i][0] = i\n",
    "     \n",
    "for i in range(1, n1 + 1):\n",
    "    for j in range(1, n2 + 1):\n",
    "        if word1[i-1] == word2[j-1]:\n",
    "            dp[i][j] = dp[i-1][j-1]\n",
    "        else:\n",
    "            dp[i][j] = min(dp[i][j-1], dp[i-1][j], dp[i-1][j-1] ) + 1     \n",
    "print(dp[-1][-1])"
   ]
  },
  {
   "cell_type": "code",
   "execution_count": 5,
   "metadata": {},
   "outputs": [
    {
     "name": "stdout",
     "output_type": "stream",
     "text": [
      "[(1, 75), (2, 66), (3, 88), (4, 75)]\n",
      "[(2, 66), (1, 75), (4, 75), (3, 88)]\n"
     ]
    }
   ],
   "source": [
    "L = [(1, 75), (4, 75), (2, 66), (3, 88)]\n",
    "def by_name(t):\n",
    "    return t[0]\n",
    "L2 = sorted(L, key=by_name)\n",
    "print(L2)\n",
    "def by_score(t):\n",
    "    return -t[1]\n",
    "L2 = sorted(L, key=by_score, reverse=True)\n",
    "print(L2)"
   ]
  },
  {
   "cell_type": "code",
   "execution_count": null,
   "metadata": {
    "collapsed": true
   },
   "outputs": [],
   "source": []
  }
 ],
 "metadata": {
  "kernelspec": {
   "display_name": "Python 3",
   "language": "python",
   "name": "python3"
  },
  "language_info": {
   "codemirror_mode": {
    "name": "ipython",
    "version": 3
   },
   "file_extension": ".py",
   "mimetype": "text/x-python",
   "name": "python",
   "nbconvert_exporter": "python",
   "pygments_lexer": "ipython3",
   "version": "3.6.3"
  }
 },
 "nbformat": 4,
 "nbformat_minor": 2
}
