{
 "cells": [
  {
   "cell_type": "code",
   "execution_count": 1,
   "metadata": {
    "collapsed": true
   },
   "outputs": [],
   "source": [
    "class Solution:\n",
    "    def distributeCandies(self, candies, num_people):\n",
    "        ans = [0] * num_people\n",
    "        j = 1\n",
    "        while candies > 0:\n",
    "            for i in range(num_people):\n",
    "                if candies < j:\n",
    "                    ans[i] += candies\n",
    "                else:\n",
    "                    ans[i] += j\n",
    "                candies -= j\n",
    "                j += 1\n",
    "                if candies < 0: break\n",
    "        return ans"
   ]
  },
  {
   "cell_type": "code",
   "execution_count": 2,
   "metadata": {},
   "outputs": [],
   "source": [
    "class Solution:\n",
    "    def distributeCandies(self, candies, num_people):\n",
    "        ans = [0] * num_people\n",
    "        i = 0\n",
    "        while candies != 0:\n",
    "            ans[i % num_people] += min(i + 1, candies)\n",
    "            candies -= min(i + 1, candies)\n",
    "            i += 1\n",
    "        return ans"
   ]
  },
  {
   "cell_type": "code",
   "execution_count": null,
   "metadata": {
    "collapsed": true
   },
   "outputs": [],
   "source": []
  }
 ],
 "metadata": {
  "kernelspec": {
   "display_name": "Python 3",
   "language": "python",
   "name": "python3"
  },
  "language_info": {
   "codemirror_mode": {
    "name": "ipython",
    "version": 3
   },
   "file_extension": ".py",
   "mimetype": "text/x-python",
   "name": "python",
   "nbconvert_exporter": "python",
   "pygments_lexer": "ipython3",
   "version": "3.6.3"
  }
 },
 "nbformat": 4,
 "nbformat_minor": 2
}
