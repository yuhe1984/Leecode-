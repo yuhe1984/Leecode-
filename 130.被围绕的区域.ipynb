{
 "cells": [
  {
   "cell_type": "markdown",
   "metadata": {},
   "source": [
    "# dfs"
   ]
  },
  {
   "cell_type": "code",
   "execution_count": 1,
   "metadata": {
    "collapsed": true
   },
   "outputs": [],
   "source": [
    "class Solution:\n",
    "    def solove(self, board):\n",
    "        if not board:\n",
    "            return\n",
    "        \n",
    "        n, m = len(board), len(board[0])\n",
    "\n",
    "        def dfs(x, y):\n",
    "            if not 0 <= x < n or not 0 <= y < m or board[x][y] != 'O':\n",
    "                return\n",
    "            \n",
    "            board[x][y] = \"A\"\n",
    "            dfs(x + 1, y)\n",
    "            dfs(x - 1, y)\n",
    "            dfs(x, y + 1)\n",
    "            dfs(x, y - 1)\n",
    "        \n",
    "        for i in range(n):\n",
    "            dfs(i, 0)\n",
    "            dfs(i, m - 1)\n",
    "        \n",
    "        for i in range(m - 1):\n",
    "            dfs(0, i)\n",
    "            dfs(n - 1, i)\n",
    "        \n",
    "        for i in range(n):\n",
    "            for j in range(m):\n",
    "                if board[i][j] == \"A\":\n",
    "                    board[i][j] = \"O\"\n",
    "                elif board[i][j] == \"O\":\n",
    "                    board[i][j] = \"X\"\n",
    "        return board"
   ]
  },
  {
   "cell_type": "markdown",
   "metadata": {},
   "source": [
    "# bfs"
   ]
  },
  {
   "cell_type": "code",
   "execution_count": 3,
   "metadata": {
    "collapsed": true
   },
   "outputs": [],
   "source": [
    "class Solution:\n",
    "    def solve(self, board):\n",
    "        if not board:\n",
    "            return\n",
    "        \n",
    "        n, m = len(board), len(board[0])\n",
    "        que = collections.deque()\n",
    "        for i in range(n):\n",
    "            if board[i][0] == \"O\":\n",
    "                que.append((i, 0))\n",
    "            if board[i][m - 1] == \"O\":\n",
    "                que.append((i, m - 1))\n",
    "        for i in range(m - 1):\n",
    "            if board[0][i] == \"O\":\n",
    "                que.append((0, i))\n",
    "            if board[n - 1][i] == \"O\":\n",
    "                que.append((n - 1, i))\n",
    "        \n",
    "        while que:\n",
    "            x, y = que.popleft()\n",
    "            board[x][y] = \"A\"\n",
    "            for mx, my in [(x - 1, y), (x + 1, y), (x, y - 1), (x, y + 1)]:\n",
    "                if 0 <= mx < n and 0 <= my < m and board[mx][my] == \"O\":\n",
    "                    que.append((mx, my))\n",
    "        \n",
    "        for i in range(n):\n",
    "            for j in range(m):\n",
    "                if board[i][j] == \"A\":\n",
    "                    board[i][j] = \"O\"\n",
    "                elif board[i][j] == \"O\":\n",
    "                    board[i][j] = \"X\"\n",
    "        return board"
   ]
  },
  {
   "cell_type": "code",
   "execution_count": null,
   "metadata": {
    "collapsed": true
   },
   "outputs": [],
   "source": []
  }
 ],
 "metadata": {
  "kernelspec": {
   "display_name": "Python 3",
   "language": "python",
   "name": "python3"
  },
  "language_info": {
   "codemirror_mode": {
    "name": "ipython",
    "version": 3
   },
   "file_extension": ".py",
   "mimetype": "text/x-python",
   "name": "python",
   "nbconvert_exporter": "python",
   "pygments_lexer": "ipython3",
   "version": "3.6.3"
  }
 },
 "nbformat": 4,
 "nbformat_minor": 2
}
