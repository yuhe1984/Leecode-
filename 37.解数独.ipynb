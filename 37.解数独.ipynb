{
 "cells": [
  {
   "cell_type": "code",
   "execution_count": 1,
   "metadata": {},
   "outputs": [],
   "source": [
    "class Solution:\n",
    "    def solveSudoku(self, board):\n",
    "        row = [set(range(1, 10)) for _ in range(9)]  # 行剩余可用数字\n",
    "        col = [set(range(1, 10)) for _ in range(9)]  # 列剩余可用数字\n",
    "        block = [set(range(1, 10)) for _ in range(9)]  # 块剩余可用数字\n",
    "\n",
    "        empty = []  # 收集需填数位置\n",
    "        for i in range(9):\n",
    "            for j in range(9):\n",
    "                if board[i][j] != '.':  # 更新可用数字\n",
    "                    val = int(board[i][j])\n",
    "                    row[i].remove(val)\n",
    "                    col[j].remove(val)\n",
    "                    block[(i // 3)*3 + j // 3].remove(val)\n",
    "                else:\n",
    "                    empty.append((i, j))\n",
    "\n",
    "        def backtrack(iter=0):\n",
    "            if iter == len(empty):  # 处理完empty代表找到了答案\n",
    "                return True\n",
    "            i, j = empty[iter]\n",
    "            b = (i // 3)*3 + j // 3\n",
    "            for val in row[i] & col[j] & block[b]:\n",
    "                row[i].remove(val)\n",
    "                col[j].remove(val)\n",
    "                block[b].remove(val)\n",
    "                board[i][j] = str(val)\n",
    "                if backtrack(iter+1):\n",
    "                    return True\n",
    "                row[i].add(val)  # 回溯\n",
    "                col[j].add(val)\n",
    "                block[b].add(val)\n",
    "            return False\n",
    "        backtrack()"
   ]
  },
  {
   "cell_type": "code",
   "execution_count": 2,
   "metadata": {
    "collapsed": true
   },
   "outputs": [],
   "source": [
    "a = Solution"
   ]
  },
  {
   "cell_type": "code",
   "execution_count": 3,
   "metadata": {
    "collapsed": true
   },
   "outputs": [],
   "source": [
    "board = [\n",
    "    [\"5\",\"3\",\".\",\".\",\"7\",\".\",\".\",\".\",\".\"],\n",
    "    [\"6\",\".\",\".\",\"1\",\"9\",\"5\",\".\",\".\",\".\"],\n",
    "    [\".\",\"9\",\"8\",\".\",\".\",\".\",\".\",\"6\",\".\"],\n",
    "    [\"8\",\".\",\".\",\".\",\"6\",\".\",\".\",\".\",\"3\"],\n",
    "    [\"4\",\".\",\".\",\"8\",\".\",\"3\",\".\",\".\",\"1\"],\n",
    "    [\"7\",\".\",\".\",\".\",\"2\",\".\",\".\",\".\",\"6\"],\n",
    "    [\".\",\"6\",\".\",\".\",\".\",\".\",\"2\",\"8\",\".\"],\n",
    "    [\".\",\".\",\".\",\"4\",\"1\",\"9\",\".\",\".\",\"5\"],\n",
    "    [\".\",\".\",\".\",\".\",\"8\",\".\",\".\",\"7\",\"9\"]\n",
    "]"
   ]
  },
  {
   "cell_type": "code",
   "execution_count": 4,
   "metadata": {
    "collapsed": true
   },
   "outputs": [],
   "source": [
    "b = a.solveSudoku([],board)"
   ]
  },
  {
   "cell_type": "code",
   "execution_count": 5,
   "metadata": {},
   "outputs": [
    {
     "name": "stdout",
     "output_type": "stream",
     "text": [
      "None\n"
     ]
    }
   ],
   "source": [
    "print(b)"
   ]
  }
 ],
 "metadata": {
  "kernelspec": {
   "display_name": "Python 3",
   "language": "python",
   "name": "python3"
  },
  "language_info": {
   "codemirror_mode": {
    "name": "ipython",
    "version": 3
   },
   "file_extension": ".py",
   "mimetype": "text/x-python",
   "name": "python",
   "nbconvert_exporter": "python",
   "pygments_lexer": "ipython3",
   "version": "3.6.3"
  }
 },
 "nbformat": 4,
 "nbformat_minor": 2
}
