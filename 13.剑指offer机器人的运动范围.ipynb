{
 "cells": [
  {
   "cell_type": "markdown",
   "metadata": {},
   "source": [
    "# 深度优先搜索"
   ]
  },
  {
   "cell_type": "code",
   "execution_count": 1,
   "metadata": {
    "collapsed": true
   },
   "outputs": [],
   "source": [
    "class Solution:\n",
    "    def movingCount(self, m, n, k):\n",
    "        def dfs(i, j, si, sj):\n",
    "            if not 0 <= i < m or not 0 <= j < n or k < si + sj or (i, j) in visited: return 0\n",
    "            visited.add((i,j))\n",
    "            return 1 + dfs(i + 1, j, si + 1 if (i + 1) % 10 else si - 8, sj) + dfs(i, j + 1, si, sj + 1 if (j + 1) % 10 else sj - 8)\n",
    "\n",
    "        visited = set()\n",
    "        return dfs(0, 0, 0, 0)"
   ]
  },
  {
   "cell_type": "code",
   "execution_count": 6,
   "metadata": {},
   "outputs": [],
   "source": [
    "class Solution:\n",
    "    def movingCount(self, m, n, k):\n",
    "        def dfs(i, j, si, sj):\n",
    "            if not 0 <= i < m or not 0 <= j < n or k < si + sj or (i, j) in visited: return 0\n",
    "            visited.add((i, j))\n",
    "            return 1 + dfs(i + 1, j, si + 1 if (i + 1) % 10 else si - 8, sj) + \\\n",
    "        dfs(i, j + 1, si, sj + 1 if (j + 1) % 10 else sj - 8)\n",
    "        \n",
    "        visited = set()\n",
    "        return dfs(0, 0, 0, 0)"
   ]
  },
  {
   "cell_type": "code",
   "execution_count": 4,
   "metadata": {
    "collapsed": true
   },
   "outputs": [],
   "source": [
    "class Solution:\n",
    "    def movingCount(self, m: int, n: int, k: int) -> int:\n",
    "        def sumofDigit(x, y):\n",
    "            result = 0\n",
    "            while x > 0:\n",
    "                result += x % 10\n",
    "                x //= 10\n",
    "            while y > 0:\n",
    "                result += y % 10\n",
    "                y //= 10\n",
    "            return result\n",
    "        \n",
    "        def dfs(i, j):\n",
    "            if i == m or j == n or sumofDigit(i, j) > k or (i, j) in marked:\n",
    "                return \n",
    "            marked.add((i, j))\n",
    "            dfs(i + 1, j)\n",
    "            dfs(i, j + 1)\n",
    "            \n",
    "        marked = set()\n",
    "        dfs(0, 0)\n",
    "        return len(marked)"
   ]
  },
  {
   "cell_type": "code",
   "execution_count": 7,
   "metadata": {
    "collapsed": true
   },
   "outputs": [],
   "source": [
    "class Solution:\n",
    "    def movingCount(self, m: int, n: int, k: int) -> int:\n",
    "        def sumofDigit(x, y):\n",
    "            result = 0\n",
    "            while x > 0:\n",
    "                result += x % 10\n",
    "                x //= 10\n",
    "            while y > 0:\n",
    "                result += y % 10\n",
    "                y //= 10\n",
    "            return result\n",
    "        \n",
    "        def dfs(i, j):\n",
    "            if i == m or j == n or sumofDigit(i, j) > k or (i, j) in marked:\n",
    "                return\n",
    "            marked.add((i, j))\n",
    "            dfs(i + 1, j)\n",
    "            dfs(i, j + 1)\n",
    "                \n",
    "        marked = set()\n",
    "        dfs(0, 0)\n",
    "        return len(marked)"
   ]
  },
  {
   "cell_type": "markdown",
   "metadata": {},
   "source": [
    "# 广度优先搜索"
   ]
  },
  {
   "cell_type": "code",
   "execution_count": 2,
   "metadata": {
    "collapsed": true
   },
   "outputs": [],
   "source": [
    "class Solution:\n",
    "    def movingCount(self, m, n, k):\n",
    "        queue, visited,  = [(0, 0, 0, 0)], set()\n",
    "        while queue:\n",
    "            i, j, si, sj = queue.pop(0)\n",
    "            if not 0 <= i < m or not 0 <= j < n or k < si + sj or (i, j) in visited: continue\n",
    "            visited.add((i,j))\n",
    "            queue.append((i + 1, j, si + 1 if (i + 1) % 10 else si - 8, sj))\n",
    "            queue.append((i, j + 1, si, sj + 1 if (j + 1) % 10 else sj - 8))\n",
    "        return len(visited)"
   ]
  },
  {
   "cell_type": "code",
   "execution_count": 19,
   "metadata": {
    "collapsed": true
   },
   "outputs": [],
   "source": [
    "import queue\n",
    "class Solution:\n",
    "    def movingCount(self, m, n, k):\n",
    "        queue, visited = [(0, 0, 0, 0)], set()\n",
    "        while queue:\n",
    "            i, j, si, sj = queue.pop()\n",
    "            if not 0 <= i < m or not 0 <= j < n or k < si + sj or (i, j) in visited: continue\n",
    "            visited.add((i, j))\n",
    "            queue.append((i + 1, j, si + 1 if (i + 1) % 10 else si - 8, sj))\n",
    "            queue.append((i, j + 1, si, sj + 1 if (j + 1) % 10 else sj - 8))\n",
    "        return len(visited)"
   ]
  },
  {
   "cell_type": "code",
   "execution_count": 20,
   "metadata": {
    "collapsed": true
   },
   "outputs": [],
   "source": [
    "class Solution:\n",
    "    def movingCount(self, m, n, k):\n",
    "        queue, visited = [(0, 0, 0, 0)], set()\n",
    "        while queue:\n",
    "            i, j, si, sj = queue.pop()\n",
    "            if not 0 <= i < m or not 0 <= j <n or k < si + sj or (i, j) in visited: continue\n",
    "            visited.add((i, j))\n",
    "            queue.append((i + 1, j, si + 1 if (i + 1) % 10 else si - 8, sj))\n",
    "            queue.append((i, j + 1, si, sj + 1 if (j + 1) % 10 else sj - 8))\n",
    "        return len(visited)"
   ]
  },
  {
   "cell_type": "code",
   "execution_count": 8,
   "metadata": {
    "collapsed": true
   },
   "outputs": [],
   "source": [
    "class Solution:\n",
    "    def sum_rc(self,row,col):\n",
    "        tmp = 0\n",
    "        while row > 0:\n",
    "            tmp += row % 10\n",
    "            row //= 10\n",
    "        while col > 0:\n",
    "            tmp += col % 10\n",
    "            col //= 10\n",
    "        return tmp\n",
    "\n",
    "    def movingCount(self, m, n, k):\n",
    "        marked = set()  # 将访问过的点添加到集合marked中,从(0,0)开始\n",
    "        queue = collections.deque()\n",
    "        queue.append((0,0))\n",
    "        while queue:\n",
    "            x, y = queue.popleft()\n",
    "            if (x,y) not in marked and self.sum_rc(x,y) <= k:\n",
    "                marked.add((x,y)) \n",
    "                for dx, dy in [(1,0),(0,1)]:  # 仅考虑向右和向下即可\n",
    "                    if 0 <= x + dx < m and 0 <= y + dy < n:\n",
    "                        queue.append((x+dx,y+dy)) \n",
    "        return len(marked)"
   ]
  },
  {
   "cell_type": "code",
   "execution_count": 37,
   "metadata": {
    "collapsed": true
   },
   "outputs": [],
   "source": [
    "import collections\n",
    "class Solution:\n",
    "    def movingCount(self, m, n, k):\n",
    "        def sum_rc(row, col):\n",
    "            tmp = 0\n",
    "            while row > 0:\n",
    "                tmp += row % 10\n",
    "                row //= 10\n",
    "            while col > 0:\n",
    "                tmp += col % 10\n",
    "                col //= 10\n",
    "            return tmp\n",
    "        \n",
    "        marked = set()\n",
    "        queue = collections.deque()\n",
    "        queue.append((0, 0))\n",
    "        while queue:\n",
    "            x, y = queue.popleft()\n",
    "            if (x, y) not in marked and sum_rc(x, y) <= k:\n",
    "                marked.add((x, y))\n",
    "                for dx, dy in [(1, 0), (0, 1)]:\n",
    "                    if 0 <= x + dx < m and 0 <= y + dy < n:\n",
    "                        queue.append((x + dx, y + dy))\n",
    "        return len(marked)"
   ]
  },
  {
   "cell_type": "code",
   "execution_count": 38,
   "metadata": {
    "collapsed": true
   },
   "outputs": [],
   "source": [
    "a = Solution()"
   ]
  },
  {
   "cell_type": "code",
   "execution_count": 39,
   "metadata": {},
   "outputs": [
    {
     "data": {
      "text/plain": [
       "2"
      ]
     },
     "execution_count": 39,
     "metadata": {},
     "output_type": "execute_result"
    }
   ],
   "source": [
    "a.movingCount(1,2,1)"
   ]
  },
  {
   "cell_type": "code",
   "execution_count": null,
   "metadata": {
    "collapsed": true
   },
   "outputs": [],
   "source": []
  }
 ],
 "metadata": {
  "kernelspec": {
   "display_name": "Python 3",
   "language": "python",
   "name": "python3"
  },
  "language_info": {
   "codemirror_mode": {
    "name": "ipython",
    "version": 3
   },
   "file_extension": ".py",
   "mimetype": "text/x-python",
   "name": "python",
   "nbconvert_exporter": "python",
   "pygments_lexer": "ipython3",
   "version": "3.6.3"
  }
 },
 "nbformat": 4,
 "nbformat_minor": 2
}
