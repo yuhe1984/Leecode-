{
 "cells": [
  {
   "cell_type": "code",
   "execution_count": 3,
   "metadata": {},
   "outputs": [],
   "source": [
    "class Solution:\n",
    "    def intersection(self, start1, end1, start2, end2):\n",
    "        # 判断 (xk, yk) 是否在「线段」(x1, y1)~(x2, y2) 上\n",
    "        # 这里的前提是 (xk, yk) 一定在「直线」(x1, y1)~(x2, y2) 上\n",
    "        def inside(x1, y1, x2, y2, xk, yk):\n",
    "            # 若与 x 轴平行，只需要判断 x 的部分\n",
    "            # 若与 y 轴平行，只需要判断 y 的部分\n",
    "            # 若为普通线段，则都要判断\n",
    "            return (x1 == x2 or min(x1, x2) <= xk <= max(x1, x2)) and (y1 == y2 or min(y1, y2) <= yk <= max(y1, y2))\n",
    "        \n",
    "        def update(ans, xk, yk):\n",
    "            # 将一个交点与当前 ans 中的结果进行比较\n",
    "            # 若更优则替换\n",
    "            return [xk, yk] if not ans or [xk, yk] < ans else ans\n",
    "        \n",
    "        x1, y1 = start1\n",
    "        x2, y2 = end1\n",
    "        x3, y3 = start2\n",
    "        x4, y4 = end2\n",
    "\n",
    "        ans = list()\n",
    "        # 判断 (x1, y1)~(x2, y2) 和 (x3, y3)~(x4, y3) 是否平行\n",
    "        if (y4 - y3) * (x2 - x1) == (y2 - y1) * (x4 - x3):\n",
    "            # 若平行，则判断 (x3, y3) 是否在「直线」(x1, y1)~(x2, y2) 上\n",
    "            if (y2 - y1) * (x3 - x1) == (y3 - y1) * (x2 - x1):\n",
    "                # 判断 (x3, y3) 是否在「线段」(x1, y1)~(x2, y2) 上\n",
    "                if inside(x1, y1, x2, y2, x3, y3):\n",
    "                    ans = update(ans, x3, y3)\n",
    "                # 判断 (x4, y4) 是否在「线段」(x1, y1)~(x2, y2) 上\n",
    "                if inside(x1, y1, x2, y2, x4, y4):\n",
    "                    ans = update(ans, x4, y4)\n",
    "                # 判断 (x1, y1) 是否在「线段」(x3, y3)~(x4, y4) 上\n",
    "                if inside(x3, y3, x4, y4, x1, y1):\n",
    "                    ans = update(ans, x1, y1)\n",
    "                # 判断 (x2, y2) 是否在「线段」(x3, y3)~(x4, y4) 上\n",
    "                if inside(x3, y3, x4, y4, x2, y2):\n",
    "                    ans = update(ans, x2, y2)\n",
    "            # 在平行时，其余的所有情况都不会有交点\n",
    "        else:\n",
    "            # 联立方程得到 t1 和 t2 的值\n",
    "            t1 = (x3 * (y4 - y3) + y1 * (x4 - x3) - y3 * (x4 - x3) - x1 * (y4 - y3)) / ((x2 - x1) * (y4 - y3) - (x4 - x3) * (y2 - y1))\n",
    "            t2 = (x1 * (y2 - y1) + y3 * (x2 - x1) - y1 * (x2 - x1) - x3 * (y2 - y1)) / ((x4 - x3) * (y2 - y1) - (x2 - x1) * (y4 - y3))\n",
    "            # 判断 t1 和 t2 是否均在 [0, 1] 之间\n",
    "            if 0.0 <= t1 <= 1.0 and 0.0 <= t2 <= 1.0:\n",
    "                ans = [x1 + t1 * (x2 - x1), y1 + t1 * (y2 - y1)]\n",
    "\n",
    "        return ans"
   ]
  },
  {
   "cell_type": "code",
   "execution_count": null,
   "metadata": {
    "collapsed": true
   },
   "outputs": [],
   "source": []
  }
 ],
 "metadata": {
  "kernelspec": {
   "display_name": "Python 3",
   "language": "python",
   "name": "python3"
  },
  "language_info": {
   "codemirror_mode": {
    "name": "ipython",
    "version": 3
   },
   "file_extension": ".py",
   "mimetype": "text/x-python",
   "name": "python",
   "nbconvert_exporter": "python",
   "pygments_lexer": "ipython3",
   "version": "3.6.3"
  }
 },
 "nbformat": 4,
 "nbformat_minor": 2
}
