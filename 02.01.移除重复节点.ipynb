{
 "cells": [
  {
   "cell_type": "code",
   "execution_count": 1,
   "metadata": {
    "collapsed": true
   },
   "outputs": [],
   "source": [
    "# Definition for singly-linked list.\n",
    "class ListNode:\n",
    "    def __init__(self, x):\n",
    "        self.val = x\n",
    "        self.next = None\n",
    "\n",
    "class Solution:\n",
    "    def removeDuplicateNodes(self, head: ListNode) -> ListNode:\n",
    "        if not head: return []\n",
    "        pre = prev = ListNode(0)\n",
    "        ans = []\n",
    "        while head:\n",
    "            if head.val not in ans:\n",
    "                ans.append(head.val)\n",
    "            head= head.next\n",
    "        for i in ans:\n",
    "            node = ListNode(i)\n",
    "            prev.next = node\n",
    "            prev = prev.next\n",
    "        return pre.next"
   ]
  },
  {
   "cell_type": "markdown",
   "metadata": {},
   "source": [
    "# Hsah表"
   ]
  },
  {
   "cell_type": "code",
   "execution_count": 2,
   "metadata": {
    "collapsed": true
   },
   "outputs": [],
   "source": [
    "class Solution:\n",
    "    def removeDuplicateNodes(self, head: ListNode) -> ListNode:\n",
    "        if not head:\n",
    "            return head\n",
    "        occurred = {head.val}\n",
    "        pos = head\n",
    "        # 枚举前驱节点\n",
    "        while pos.next:\n",
    "            # 当前待删除节点\n",
    "            cur = pos.next\n",
    "            if cur.val not in occurred:\n",
    "                occurred.add(cur.val)\n",
    "                pos = pos.next\n",
    "            else:\n",
    "                pos.next = pos.next.next\n",
    "        return head"
   ]
  },
  {
   "cell_type": "code",
   "execution_count": null,
   "metadata": {
    "collapsed": true
   },
   "outputs": [],
   "source": []
  }
 ],
 "metadata": {
  "kernelspec": {
   "display_name": "Python 3",
   "language": "python",
   "name": "python3"
  },
  "language_info": {
   "codemirror_mode": {
    "name": "ipython",
    "version": 3
   },
   "file_extension": ".py",
   "mimetype": "text/x-python",
   "name": "python",
   "nbconvert_exporter": "python",
   "pygments_lexer": "ipython3",
   "version": "3.6.3"
  }
 },
 "nbformat": 4,
 "nbformat_minor": 2
}
