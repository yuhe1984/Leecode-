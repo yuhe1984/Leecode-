{
 "cells": [
  {
   "cell_type": "code",
   "execution_count": 2,
   "metadata": {},
   "outputs": [],
   "source": [
    "class Solution:\n",
    "    def fourSum(self, nums, target):\n",
    "        nums.sort()\n",
    "        n = len(nums)\n",
    "        res = []\n",
    "        p = 0 # p, k, i, j\n",
    "        while p < n - 3:  # 文中提到的两个条件，可以直接跳过\n",
    "            if nums[p] + 3 * nums[p + 1] > target: break  \n",
    "            if nums[p] + 3 * nums[-1] < target:           \n",
    "                while p < n - 4 and nums[p] == nums[p + 1]: p += 1\n",
    "                p += 1\n",
    "                continue\n",
    "            k = p + 1\n",
    "            while k < n - 2:   # k 和 p 的判断是一样的\n",
    "                if nums[p] + nums[k] + 2 * nums[k + 1] > target: break\n",
    "                if nums[p] + nums[k] + 2 * nums[-1] < target: \n",
    "                    while k < n - 3 and nums[k] == nums[k + 1]:\n",
    "                        k += 1\n",
    "                    k += 1\n",
    "                    continue\n",
    "                i = k + 1\n",
    "                j = n - 1\n",
    "                new_target = target - nums[p] - nums[k]\n",
    "                while i < j:\n",
    "                    if nums[i] + nums[j] > new_target: j -= 1\n",
    "                    elif nums[i] + nums[j] < new_target: i += 1\n",
    "                    else:\n",
    "                        res.append([nums[p],nums[k],nums[i],nums[j]])\n",
    "                        i += 1\n",
    "                        j -= 1\n",
    "                        while i < j and nums[i] == nums[i - 1]: i += 1 # 避免结果重复\n",
    "                        while i < j and nums[j] == nums[j + 1]: j -= 1 # 避免结果重复\n",
    "                while k < n - 3 and nums[k] == nums[k + 1]: k += 1\n",
    "                k += 1\n",
    "            while p < n - 4 and nums[p] == nums[p + 1]: p += 1\n",
    "            p += 1\n",
    "        return res"
   ]
  },
  {
   "cell_type": "code",
   "execution_count": 3,
   "metadata": {
    "collapsed": true
   },
   "outputs": [],
   "source": [
    "a = Solution"
   ]
  },
  {
   "cell_type": "code",
   "execution_count": 4,
   "metadata": {},
   "outputs": [
    {
     "data": {
      "text/plain": [
       "[[-2, -1, 2, 6]]"
      ]
     },
     "execution_count": 4,
     "metadata": {},
     "output_type": "execute_result"
    }
   ],
   "source": [
    "a.fourSum([],[-1,2,-2,5,6],5)"
   ]
  },
  {
   "cell_type": "code",
   "execution_count": null,
   "metadata": {
    "collapsed": true
   },
   "outputs": [],
   "source": []
  }
 ],
 "metadata": {
  "kernelspec": {
   "display_name": "Python 3",
   "language": "python",
   "name": "python3"
  },
  "language_info": {
   "codemirror_mode": {
    "name": "ipython",
    "version": 3
   },
   "file_extension": ".py",
   "mimetype": "text/x-python",
   "name": "python",
   "nbconvert_exporter": "python",
   "pygments_lexer": "ipython3",
   "version": "3.6.3"
  }
 },
 "nbformat": 4,
 "nbformat_minor": 2
}
