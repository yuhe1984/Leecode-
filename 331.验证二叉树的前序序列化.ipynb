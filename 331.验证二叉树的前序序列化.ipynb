{
 "cells": [
  {
   "cell_type": "code",
   "execution_count": 1,
   "metadata": {
    "collapsed": true
   },
   "outputs": [],
   "source": [
    "class Solution:\n",
    "    def isValidSerialization(self, preorder: str) -> bool:\n",
    "        # number of available slots\n",
    "        slots = 1\n",
    "\n",
    "        for node in preorder.split(','):\n",
    "            # one node takes one slot\n",
    "            slots -= 1\n",
    "            \n",
    "            # no more slots available\n",
    "            if slots < 0:\n",
    "                return False\n",
    "            \n",
    "            # non-empty node creates two children slots\n",
    "            if node != '#':\n",
    "                slots += 2\n",
    "        \n",
    "        # all slots should be used up\n",
    "        return slots == 0"
   ]
  },
  {
   "cell_type": "code",
   "execution_count": null,
   "metadata": {
    "collapsed": true
   },
   "outputs": [],
   "source": []
  }
 ],
 "metadata": {
  "kernelspec": {
   "display_name": "Python 3",
   "language": "python",
   "name": "python3"
  },
  "language_info": {
   "codemirror_mode": {
    "name": "ipython",
    "version": 3
   },
   "file_extension": ".py",
   "mimetype": "text/x-python",
   "name": "python",
   "nbconvert_exporter": "python",
   "pygments_lexer": "ipython3",
   "version": "3.6.3"
  }
 },
 "nbformat": 4,
 "nbformat_minor": 2
}
