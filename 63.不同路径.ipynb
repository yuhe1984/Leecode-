{
 "cells": [
  {
   "cell_type": "markdown",
   "metadata": {},
   "source": [
    "# 动态规划"
   ]
  },
  {
   "cell_type": "code",
   "execution_count": 1,
   "metadata": {
    "collapsed": true
   },
   "outputs": [],
   "source": [
    "class Solution(object):\n",
    "    def uniquePathsWithObstacles(self, obstacleGrid):\n",
    "        \"\"\"\n",
    "        :type obstacleGrid: List[List[int]]\n",
    "        :rtype: int\n",
    "        \"\"\"\n",
    "\n",
    "        m = len(obstacleGrid)\n",
    "        n = len(obstacleGrid[0])\n",
    "\n",
    "        # If the starting cell has an obstacle, then simply return as there would be\n",
    "        # no paths to the destination.\n",
    "        if obstacleGrid[0][0] == 1:\n",
    "            return 0\n",
    "\n",
    "        # Number of ways of reaching the starting cell = 1.\n",
    "        obstacleGrid[0][0] = 1\n",
    "\n",
    "        # Filling the values for the first column\n",
    "        for i in range(1,m):\n",
    "            obstacleGrid[i][0] = int(obstacleGrid[i][0] == 0 and obstacleGrid[i-1][0] == 1)\n",
    "\n",
    "        # Filling the values for the first row        \n",
    "        for j in range(1, n):\n",
    "            obstacleGrid[0][j] = int(obstacleGrid[0][j] == 0 and obstacleGrid[0][j-1] == 1)\n",
    "\n",
    "        # Starting from cell(1,1) fill up the values\n",
    "        # No. of ways of reaching cell[i][j] = cell[i - 1][j] + cell[i][j - 1]\n",
    "        # i.e. From above and left.\n",
    "        for i in range(1,m):\n",
    "            for j in range(1,n):\n",
    "                if obstacleGrid[i][j] == 0:\n",
    "                    obstacleGrid[i][j] = obstacleGrid[i-1][j] + obstacleGrid[i][j-1]\n",
    "                else:\n",
    "                    obstacleGrid[i][j] = 0\n",
    "\n",
    "        # Return value stored in rightmost bottommost cell. That is the destination.            \n",
    "        return obstacleGrid[m-1][n-1]"
   ]
  },
  {
   "cell_type": "code",
   "execution_count": 2,
   "metadata": {
    "collapsed": true
   },
   "outputs": [],
   "source": [
    "class Solution(object):\n",
    "    def uniquePathsWithObstacles(self, obstacleGrid):\n",
    "        m = len(obstacleGrid)\n",
    "        n = len(obstacleGrid[0])\n",
    "        if obstacleGrid[0][0] == 1:\n",
    "            return 0\n",
    "        obstacleGrid[0][0] = 1\n",
    "        for i in range(1, m):\n",
    "            obstacleGrid[i][0] = int(obstacleGrid[i][0] == 0 and obstacleGrid[i-1][0] == 1)\n",
    "        for j in range(1, n):\n",
    "            obstacleGrid[0][j] = int(obstacleGrid[0][j] == 0 and obstacleGrid[0][j-1] == 1)\n",
    "            \n",
    "        for i in range(1, m):\n",
    "            for j in range(1, n):\n",
    "                if obstacleGrid[i][j] == 0:\n",
    "                    obstacleGrid[i][j] = obstacleGrid[i - 1][j] + obstacleGrid[i][j - 1]\n",
    "                else:\n",
    "                    obstacleGrid[i][j] = 0\n",
    "        return obstacleGrid[m-1][n-1]"
   ]
  },
  {
   "cell_type": "code",
   "execution_count": null,
   "metadata": {
    "collapsed": true
   },
   "outputs": [],
   "source": []
  }
 ],
 "metadata": {
  "kernelspec": {
   "display_name": "Python 3",
   "language": "python",
   "name": "python3"
  },
  "language_info": {
   "codemirror_mode": {
    "name": "ipython",
    "version": 3
   },
   "file_extension": ".py",
   "mimetype": "text/x-python",
   "name": "python",
   "nbconvert_exporter": "python",
   "pygments_lexer": "ipython3",
   "version": "3.6.3"
  }
 },
 "nbformat": 4,
 "nbformat_minor": 2
}
