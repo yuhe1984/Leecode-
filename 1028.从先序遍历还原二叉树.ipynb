{
 "cells": [
  {
   "cell_type": "code",
   "execution_count": 12,
   "metadata": {},
   "outputs": [],
   "source": [
    "# Definition for a binary tree node.\n",
    "class TreeNode:\n",
    "    def __init__(self, x):\n",
    "        self.val = x\n",
    "        self.left = None\n",
    "        self.right = None\n",
    "\n",
    "class Solution:\n",
    "    def recoverFromPreorder(self, S):\n",
    "        path, pos = list(), 0\n",
    "        while pos < len(S):\n",
    "            level = 0\n",
    "            while S[pos] == '-':\n",
    "                level += 1\n",
    "                pos += 1\n",
    "            value = 0\n",
    "            while pos < len(S) and S[pos].isdigit():\n",
    "                value = value * 10 + (ord(S[pos]) - ord('0'))\n",
    "                pos += 1\n",
    "            node = TreeNode(value)\n",
    "            if level == len(path):\n",
    "                if path:\n",
    "                    path[-1].left = node\n",
    "            else:\n",
    "                path = path[:level]\n",
    "                path[-1].right = node\n",
    "            path.append(node)\n",
    "        return path[0]"
   ]
  },
  {
   "cell_type": "code",
   "execution_count": 13,
   "metadata": {
    "collapsed": true
   },
   "outputs": [],
   "source": [
    "a = Solution()"
   ]
  },
  {
   "cell_type": "code",
   "execution_count": 14,
   "metadata": {},
   "outputs": [],
   "source": [
    "b = a.recoverFromPreorder(\"1-2--3--4-5--6--7\")"
   ]
  },
  {
   "cell_type": "code",
   "execution_count": 15,
   "metadata": {},
   "outputs": [
    {
     "name": "stdout",
     "output_type": "stream",
     "text": [
      "<__main__.TreeNode object at 0x000001FE523B2EB8>\n"
     ]
    }
   ],
   "source": [
    "print(b)"
   ]
  },
  {
   "cell_type": "code",
   "execution_count": null,
   "metadata": {
    "collapsed": true
   },
   "outputs": [],
   "source": []
  }
 ],
 "metadata": {
  "kernelspec": {
   "display_name": "Python 3",
   "language": "python",
   "name": "python3"
  },
  "language_info": {
   "codemirror_mode": {
    "name": "ipython",
    "version": 3
   },
   "file_extension": ".py",
   "mimetype": "text/x-python",
   "name": "python",
   "nbconvert_exporter": "python",
   "pygments_lexer": "ipython3",
   "version": "3.6.3"
  }
 },
 "nbformat": 4,
 "nbformat_minor": 2
}
