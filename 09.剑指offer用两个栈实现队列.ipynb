{
 "cells": [
  {
   "cell_type": "code",
   "execution_count": 1,
   "metadata": {
    "collapsed": true
   },
   "outputs": [],
   "source": [
    "class CQueue:\n",
    "    def __init__(self):\n",
    "        self.A, self.B = [], []\n",
    "\n",
    "    def appendTail(self, value: int) -> None:\n",
    "        self.A.append(value)\n",
    "\n",
    "    def deleteHead(self) -> int:\n",
    "        if self.B: return self.B.pop()\n",
    "        if not self.A: return -1\n",
    "        while self.A:\n",
    "            self.B.append(self.A.pop())\n",
    "        return self.B.pop()"
   ]
  },
  {
   "cell_type": "code",
   "execution_count": null,
   "metadata": {
    "collapsed": true
   },
   "outputs": [],
   "source": []
  }
 ],
 "metadata": {
  "kernelspec": {
   "display_name": "Python 3",
   "language": "python",
   "name": "python3"
  },
  "language_info": {
   "codemirror_mode": {
    "name": "ipython",
    "version": 3
   },
   "file_extension": ".py",
   "mimetype": "text/x-python",
   "name": "python",
   "nbconvert_exporter": "python",
   "pygments_lexer": "ipython3",
   "version": "3.6.3"
  }
 },
 "nbformat": 4,
 "nbformat_minor": 2
}
