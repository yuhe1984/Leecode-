{
 "cells": [
  {
   "cell_type": "markdown",
   "metadata": {},
   "source": [
    "# 动态规划"
   ]
  },
  {
   "cell_type": "code",
   "execution_count": 2,
   "metadata": {},
   "outputs": [],
   "source": [
    "class Solution:\n",
    "    def lengthOfLIS(self, nums):\n",
    "        if not nums:\n",
    "            return 0\n",
    "        dp = []\n",
    "        for i in range(len(nums)):\n",
    "            dp.append(1)\n",
    "            for j in range(i):\n",
    "                if nums[i] > nums[j]:\n",
    "                    dp[i] = max(dp[i], dp[j] + 1)\n",
    "        return max(dp)"
   ]
  },
  {
   "cell_type": "markdown",
   "metadata": {},
   "source": [
    "# 贪心 + 二分查找"
   ]
  },
  {
   "cell_type": "code",
   "execution_count": 3,
   "metadata": {
    "collapsed": true
   },
   "outputs": [],
   "source": [
    "class Solution:\n",
    "    def lengthOfLIS(self, nums):\n",
    "        d = []\n",
    "        for n in nums:\n",
    "            if not d or n > d[-1]:\n",
    "                d.append(n)\n",
    "            else:\n",
    "                l, r = 0, len(d) - 1\n",
    "                loc = r\n",
    "                while l <= r:\n",
    "                    mid = (l + r) // 2\n",
    "                    if d[mid] >= n:\n",
    "                        loc = mid\n",
    "                        r = mid - 1\n",
    "                    else:\n",
    "                        l = mid + 1\n",
    "                d[loc] = n\n",
    "        return len(d)"
   ]
  },
  {
   "cell_type": "code",
   "execution_count": 4,
   "metadata": {
    "collapsed": true
   },
   "outputs": [],
   "source": [
    "class Solution:\n",
    "    def lengthOfLIS(self, nums):\n",
    "        d = []\n",
    "        for n in nums:\n",
    "            if not d or n > d[-1]:\n",
    "                d.append(n)\n",
    "            else:\n",
    "                l, r = 0, len(d) - 1\n",
    "                loc = r\n",
    "                while l <= r:\n",
    "                    mid = (l + r) // 2\n",
    "                    if d[mid] >= n:\n",
    "                        loc = mid\n",
    "                        r = mid - 1\n",
    "                    else:\n",
    "                        l = mid + 1\n",
    "                d[loc] = n\n",
    "        return len(d)"
   ]
  },
  {
   "cell_type": "code",
   "execution_count": null,
   "metadata": {
    "collapsed": true
   },
   "outputs": [],
   "source": []
  }
 ],
 "metadata": {
  "kernelspec": {
   "display_name": "Python 3",
   "language": "python",
   "name": "python3"
  },
  "language_info": {
   "codemirror_mode": {
    "name": "ipython",
    "version": 3
   },
   "file_extension": ".py",
   "mimetype": "text/x-python",
   "name": "python",
   "nbconvert_exporter": "python",
   "pygments_lexer": "ipython3",
   "version": "3.6.3"
  }
 },
 "nbformat": 4,
 "nbformat_minor": 2
}
