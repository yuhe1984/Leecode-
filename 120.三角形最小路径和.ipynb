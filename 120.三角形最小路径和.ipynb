{
 "cells": [
  {
   "cell_type": "code",
   "execution_count": 1,
   "metadata": {
    "collapsed": true
   },
   "outputs": [],
   "source": [
    "class Solution:\n",
    "    def minimumTotal(self, triangle):\n",
    "        n = len(triangle)\n",
    "        f = [[0] * n for _ in range(n)]\n",
    "        f[0][0] = triangle[0][0]\n",
    "\n",
    "        for i in range(1, n):\n",
    "            f[i][0] = f[i - 1][0] + triangle[i][0]\n",
    "            for j in range(1, i):\n",
    "                f[i][j] = min(f[i - 1][j - 1], f[i - 1][j]) + triangle[i][j]\n",
    "            f[i][i] = f[i - 1][i - 1] + triangle[i][i]\n",
    "        \n",
    "        return min(f[n - 1])"
   ]
  },
  {
   "cell_type": "markdown",
   "metadata": {},
   "source": [
    "# 空间优化 o(n)"
   ]
  },
  {
   "cell_type": "code",
   "execution_count": 2,
   "metadata": {
    "collapsed": true
   },
   "outputs": [],
   "source": [
    "class Solution:\n",
    "    def minimumTotal(self, triangle):\n",
    "        n = len(triangle)\n",
    "        f = [0] * n\n",
    "        f[0] = triangle[0][0]\n",
    "\n",
    "        for i in range(1, n):\n",
    "            f[i] = f[i - 1] + triangle[i][i]\n",
    "            for j in range(i - 1, 0, -1):\n",
    "                f[j] = min(f[j - 1], f[j]) + triangle[i][j]\n",
    "            f[0] += triangle[i][0]\n",
    "        \n",
    "        return min(f)"
   ]
  },
  {
   "cell_type": "code",
   "execution_count": 3,
   "metadata": {
    "collapsed": true
   },
   "outputs": [],
   "source": [
    "class Solution:\n",
    "    def minimumTotal(self, triangle):\n",
    "        \"\"\"\n",
    "        :type triangle: List[List[int]]\n",
    "        :rtype: int\n",
    "        \"\"\"\n",
    "        res = triangle[-1]\n",
    "        for i in range(len(triangle)-2,-1,-1):\n",
    "            for j in range(len(triangle[i])):\n",
    "                res[j] = min(res[j],res[j+1]) + triangle[i][j]\n",
    "        return res[0]"
   ]
  },
  {
   "cell_type": "code",
   "execution_count": null,
   "metadata": {
    "collapsed": true
   },
   "outputs": [],
   "source": []
  }
 ],
 "metadata": {
  "kernelspec": {
   "display_name": "Python 3",
   "language": "python",
   "name": "python3"
  },
  "language_info": {
   "codemirror_mode": {
    "name": "ipython",
    "version": 3
   },
   "file_extension": ".py",
   "mimetype": "text/x-python",
   "name": "python",
   "nbconvert_exporter": "python",
   "pygments_lexer": "ipython3",
   "version": "3.6.3"
  }
 },
 "nbformat": 4,
 "nbformat_minor": 2
}
