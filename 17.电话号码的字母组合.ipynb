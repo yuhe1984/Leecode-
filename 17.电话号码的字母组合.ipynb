{
 "cells": [
  {
   "cell_type": "code",
   "execution_count": 1,
   "metadata": {
    "collapsed": true
   },
   "outputs": [],
   "source": [
    "class Solution:\n",
    "    def letterCombinations(self, digits):\n",
    "        \"\"\"\n",
    "        :type digits: str\n",
    "        :rtype: List[str]\n",
    "        \"\"\"\n",
    "        phone = {'2': ['a', 'b', 'c'],\n",
    "                 '3': ['d', 'e', 'f'],\n",
    "                 '4': ['g', 'h', 'i'],\n",
    "                 '5': ['j', 'k', 'l'],\n",
    "                 '6': ['m', 'n', 'o'],\n",
    "                 '7': ['p', 'q', 'r', 's'],\n",
    "                 '8': ['t', 'u', 'v'],\n",
    "                 '9': ['w', 'x', 'y', 'z']}\n",
    "                \n",
    "        def backtrack(combination, next_digits):\n",
    "            # if there is no more digits to check\n",
    "            if len(next_digits) == 0:\n",
    "                # the combination is done\n",
    "                output.append(combination)\n",
    "            # if there are still digits to check\n",
    "            else:\n",
    "                # iterate over all letters which map \n",
    "                # the next available digit\n",
    "                for letter in phone[next_digits[0]]:\n",
    "                    # append the current letter to the combination\n",
    "                    # and proceed to the next digits\n",
    "                    backtrack(combination + letter, next_digits[1:])\n",
    "                    \n",
    "        output = []\n",
    "        if digits:\n",
    "            backtrack(\"\", digits)\n",
    "        return output"
   ]
  },
  {
   "cell_type": "code",
   "execution_count": 2,
   "metadata": {
    "collapsed": true
   },
   "outputs": [],
   "source": [
    "a = Solution"
   ]
  },
  {
   "cell_type": "code",
   "execution_count": 3,
   "metadata": {},
   "outputs": [
    {
     "data": {
      "text/plain": [
       "['wg', 'wh', 'wi', 'xg', 'xh', 'xi', 'yg', 'yh', 'yi', 'zg', 'zh', 'zi']"
      ]
     },
     "execution_count": 3,
     "metadata": {},
     "output_type": "execute_result"
    }
   ],
   "source": [
    "a.letterCombinations([],'94')"
   ]
  },
  {
   "cell_type": "code",
   "execution_count": 4,
   "metadata": {
    "collapsed": true
   },
   "outputs": [],
   "source": [
    "phone = {'2': ['a', 'b', 'c'],\n",
    "         '3': ['d', 'e', 'f'],\n",
    "         '4': ['g', 'h', 'i'],\n",
    "         '5': ['j', 'k', 'l'],\n",
    "         '6': ['m', 'n', 'o'],\n",
    "         '7': ['p', 'q', 'r', 's'],\n",
    "         '8': ['t', 'u', 'v'],\n",
    "         '9': ['w', 'x', 'y', 'z']}"
   ]
  },
  {
   "cell_type": "code",
   "execution_count": 5,
   "metadata": {},
   "outputs": [
    {
     "data": {
      "text/plain": [
       "['a', 'b', 'c']"
      ]
     },
     "execution_count": 5,
     "metadata": {},
     "output_type": "execute_result"
    }
   ],
   "source": [
    "phone['2']"
   ]
  },
  {
   "cell_type": "code",
   "execution_count": 6,
   "metadata": {
    "collapsed": true
   },
   "outputs": [],
   "source": [
    "next_digit = '2'"
   ]
  },
  {
   "cell_type": "code",
   "execution_count": 7,
   "metadata": {},
   "outputs": [
    {
     "data": {
      "text/plain": [
       "''"
      ]
     },
     "execution_count": 7,
     "metadata": {},
     "output_type": "execute_result"
    }
   ],
   "source": [
    "next_digit[1:]"
   ]
  },
  {
   "cell_type": "code",
   "execution_count": null,
   "metadata": {
    "collapsed": true
   },
   "outputs": [],
   "source": []
  }
 ],
 "metadata": {
  "kernelspec": {
   "display_name": "Python 3",
   "language": "python",
   "name": "python3"
  },
  "language_info": {
   "codemirror_mode": {
    "name": "ipython",
    "version": 3
   },
   "file_extension": ".py",
   "mimetype": "text/x-python",
   "name": "python",
   "nbconvert_exporter": "python",
   "pygments_lexer": "ipython3",
   "version": "3.6.3"
  }
 },
 "nbformat": 4,
 "nbformat_minor": 2
}
