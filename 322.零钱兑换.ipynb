{
 "cells": [
  {
   "cell_type": "code",
   "execution_count": 57,
   "metadata": {
    "collapsed": true
   },
   "outputs": [],
   "source": [
    "class Solution:\n",
    "    def coinChange(self, coins, amount):\n",
    "        ans = 0\n",
    "        i = 0\n",
    "        coins = sorted(coins)\n",
    "        coins.reverse()\n",
    "        while amount > 0:\n",
    "            if coins[i] <= amount:\n",
    "                amount -= coins[i]\n",
    "                ans += 1\n",
    "            else:\n",
    "                i += 1\n",
    "            if i >= len(coins):\n",
    "                break\n",
    "        if amount == 0:\n",
    "            return ans\n",
    "        else:\n",
    "            return -1"
   ]
  },
  {
   "cell_type": "code",
   "execution_count": 64,
   "metadata": {},
   "outputs": [],
   "source": [
    "import functools\n",
    "\n",
    "class Solution:\n",
    "    def coinChange(self, coins, amount):\n",
    "        @functools.lru_cache(amount)\n",
    "        def dp(rem):\n",
    "            if rem < 0: return -1\n",
    "            if rem == 0: return 0\n",
    "            mini = int(1e9)\n",
    "            for coin in self.coins:\n",
    "                res = dp(rem - coin)\n",
    "                if res >= 0 and res < mini:\n",
    "                    mini = res + 1\n",
    "            return mini if mini < int(1e9) else -1\n",
    "\n",
    "        self.coins = coins\n",
    "        if amount < 1: return 0\n",
    "        return dp(amount)"
   ]
  },
  {
   "cell_type": "code",
   "execution_count": 65,
   "metadata": {
    "collapsed": true
   },
   "outputs": [],
   "source": [
    "a = Solution()"
   ]
  },
  {
   "cell_type": "code",
   "execution_count": 66,
   "metadata": {},
   "outputs": [
    {
     "data": {
      "text/plain": [
       "20"
      ]
     },
     "execution_count": 66,
     "metadata": {},
     "output_type": "execute_result"
    }
   ],
   "source": [
    "a.coinChange([186,419,83,408],6249)"
   ]
  },
  {
   "cell_type": "code",
   "execution_count": 68,
   "metadata": {},
   "outputs": [],
   "source": [
    "class Solution:\n",
    "    def coinChange(self, coins, amount):\n",
    "        dp = [float('inf')] * (amount + 1)\n",
    "        dp[0] = 0\n",
    "        \n",
    "        for coin in coins:\n",
    "            for x in range(coin, amount + 1):\n",
    "                dp[x] = min(dp[x], dp[x - coin] + 1)\n",
    "        return dp[amount] if dp[amount] != float('inf') else -1"
   ]
  },
  {
   "cell_type": "code",
   "execution_count": null,
   "metadata": {
    "collapsed": true
   },
   "outputs": [],
   "source": []
  }
 ],
 "metadata": {
  "kernelspec": {
   "display_name": "Python 3",
   "language": "python",
   "name": "python3"
  },
  "language_info": {
   "codemirror_mode": {
    "name": "ipython",
    "version": 3
   },
   "file_extension": ".py",
   "mimetype": "text/x-python",
   "name": "python",
   "nbconvert_exporter": "python",
   "pygments_lexer": "ipython3",
   "version": "3.6.3"
  }
 },
 "nbformat": 4,
 "nbformat_minor": 2
}
