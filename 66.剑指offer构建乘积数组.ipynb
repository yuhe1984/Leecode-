{
 "cells": [
  {
   "cell_type": "markdown",
   "metadata": {},
   "source": [
    "# 超时"
   ]
  },
  {
   "cell_type": "code",
   "execution_count": 5,
   "metadata": {
    "collapsed": true
   },
   "outputs": [],
   "source": [
    "class Solution:\n",
    "    def constructArr(self, a: List[int]) -> List[int]:\n",
    "        b = []\n",
    "        for i in range(len(a)):\n",
    "            c = 1\n",
    "            for j in range(len(a)):\n",
    "                if j == i:\n",
    "                    continue\n",
    "                else:\n",
    "                    c *= a[j]\n",
    "            b.append(c)\n",
    "        return b"
   ]
  },
  {
   "cell_type": "markdown",
   "metadata": {},
   "source": [
    "# 左右数组"
   ]
  },
  {
   "cell_type": "code",
   "execution_count": 2,
   "metadata": {
    "collapsed": true
   },
   "outputs": [],
   "source": [
    "from typing import List"
   ]
  },
  {
   "cell_type": "code",
   "execution_count": 3,
   "metadata": {},
   "outputs": [],
   "source": [
    "class Solution:\n",
    "    def constructArr(self, a: List[int]) -> List[int]:\n",
    "        n = len(a)\n",
    "        L, R = [1] * n, [1] * n\n",
    "        for i in range(1, n):\n",
    "            L[i] = L[i - 1] * a[i - 1]\n",
    "        for j in reversed(range(n - 1)):\n",
    "            R[j] = R[j + 1] * a[j + 1]\n",
    "        for i in range(n):\n",
    "            L[i] = L[i] * R[i]\n",
    "        return L"
   ]
  },
  {
   "cell_type": "code",
   "execution_count": 6,
   "metadata": {
    "collapsed": true
   },
   "outputs": [],
   "source": [
    "class Solution:\n",
    "    def constructArr(self, a: List[int]) -> List[int]:\n",
    "        L, R = [1] * len(a), [1] * len(a)\n",
    "        b = [1] * len(a)\n",
    "        for i in range(1, len(a)):\n",
    "            L[i] = L[i-1] * a[i-1]\n",
    "        for j in range(len(a)-2,-1,-1):\n",
    "            R[j] = R[j+1] * a[j+1]\n",
    "        for i in range(len(a)):\n",
    "            b[i] = L[i] * R[i]\n",
    "        return b"
   ]
  },
  {
   "cell_type": "markdown",
   "metadata": {},
   "source": [
    "# 左(或右)数组"
   ]
  },
  {
   "cell_type": "code",
   "execution_count": 4,
   "metadata": {
    "collapsed": true
   },
   "outputs": [],
   "source": [
    "class Solution:\n",
    "    def constructArr(self, a: List[int]) -> List[int]:\n",
    "        if not a: return []\n",
    "        n = len(a)\n",
    "        res = [0] * n\n",
    "        res[0] = 1\n",
    "        for i in range(1, n):\n",
    "            res[i] = res[i - 1] * a[i - 1] # a[i] 左边的乘积现在保存在了res\n",
    "        R = 1\n",
    "        for i in reversed(range(n)):\n",
    "            res[i] = res[i] * R\n",
    "            R *= a[i]\n",
    "        return res"
   ]
  },
  {
   "cell_type": "code",
   "execution_count": null,
   "metadata": {
    "collapsed": true
   },
   "outputs": [],
   "source": []
  }
 ],
 "metadata": {
  "kernelspec": {
   "display_name": "Python 3",
   "language": "python",
   "name": "python3"
  },
  "language_info": {
   "codemirror_mode": {
    "name": "ipython",
    "version": 3
   },
   "file_extension": ".py",
   "mimetype": "text/x-python",
   "name": "python",
   "nbconvert_exporter": "python",
   "pygments_lexer": "ipython3",
   "version": "3.6.3"
  }
 },
 "nbformat": 4,
 "nbformat_minor": 2
}
