{
 "cells": [
  {
   "cell_type": "code",
   "execution_count": 5,
   "metadata": {},
   "outputs": [
    {
     "name": "stdout",
     "output_type": "stream",
     "text": [
      "5\n",
      "1 5 4 2 3\n",
      "2\n"
     ]
    }
   ],
   "source": [
    "n = int(input())\n",
    "nums = list(map(int, input().split()))\n",
    "ans = 0\n",
    "for i in range(1, n):\n",
    "    if nums[i] < nums[i-1]:\n",
    "        ans += 1\n",
    "if ans == 0:\n",
    "    print(0)\n",
    "elif ans == n - 1:\n",
    "    print(n-1)\n",
    "else:\n",
    "    print(min(ans, n - 1 - ans))"
   ]
  },
  {
   "cell_type": "code",
   "execution_count": 2,
   "metadata": {},
   "outputs": [
    {
     "data": {
      "text/plain": [
       "[4, 1, 2, 5, 3]"
      ]
     },
     "execution_count": 2,
     "metadata": {},
     "output_type": "execute_result"
    }
   ],
   "source": [
    "nums"
   ]
  },
  {
   "cell_type": "code",
   "execution_count": 3,
   "metadata": {
    "collapsed": true
   },
   "outputs": [],
   "source": [
    "nums = [1,5,4,2,3]"
   ]
  },
  {
   "cell_type": "code",
   "execution_count": 4,
   "metadata": {
    "collapsed": true
   },
   "outputs": [],
   "source": [
    "ans = 0\n",
    "for i in range(1, n):\n",
    "    if nums[i] < nums[i-1]:\n",
    "        ans += 1"
   ]
  },
  {
   "cell_type": "code",
   "execution_count": 7,
   "metadata": {},
   "outputs": [
    {
     "name": "stdout",
     "output_type": "stream",
     "text": [
      "3\n",
      "10\n",
      "2\n",
      "3\n",
      "9\n"
     ]
    }
   ],
   "source": [
    "n = int(input())\n",
    "nums = []\n",
    "for i in range(n):\n",
    "    nums.append(int(input()))\n",
    "dp = [0] * n\n",
    "if n % 2 == 1:\n",
    "    for i in range(n):\n",
    "        if i % 2 == 0:\n",
    "            max1 = max(nums)\n",
    "            dp[i] = max1\n",
    "            nums.remove(max1)\n",
    "        else:\n",
    "            min1 = min(nums)\n",
    "            dp[i] = min1\n",
    "            nums.remove(min1)\n",
    "else:\n",
    "    for i in range(n):\n",
    "        if i % 2 == 0:\n",
    "            min1 = min(nums)\n",
    "            dp[i] = min1\n",
    "            nums.remove(min1)\n",
    "        else:\n",
    "            max1 = max(nums)\n",
    "            dp[i] = max1\n",
    "            nums.remove(max1)\n",
    "ans = 0\n",
    "for i in range(1, n):\n",
    "    ans += abs(dp[i] - dp[i-1])\n",
    "print(ans)"
   ]
  },
  {
   "cell_type": "code",
   "execution_count": 39,
   "metadata": {},
   "outputs": [
    {
     "name": "stdout",
     "output_type": "stream",
     "text": [
      "3\n",
      "10\n",
      "2\n",
      "3\n",
      "15\n"
     ]
    }
   ],
   "source": [
    "n = int(input())\n",
    "nums = []\n",
    "for i in range(n):\n",
    "    nums.append(int(input()))\n",
    "dp = [0] * n\n",
    "nums.sort()\n",
    "mid = n // 2\n",
    "dp[mid] = nums[-1]\n",
    "nums.pop()\n",
    "dp[mid-1] = nums[0]\n",
    "nums.pop(0)\n",
    "dp[mid+1] = nums[0]\n",
    "nums.pop(0)\n",
    "# if n % 2 == 0:\n",
    "    \n",
    "# else:\n",
    "    \n",
    "ans = 0\n",
    "for i in range(1, n):\n",
    "    ans += abs(dp[i] - dp[i-1])\n",
    "print(ans)"
   ]
  },
  {
   "cell_type": "code",
   "execution_count": null,
   "metadata": {
    "collapsed": true
   },
   "outputs": [],
   "source": []
  }
 ],
 "metadata": {
  "kernelspec": {
   "display_name": "Python 3",
   "language": "python",
   "name": "python3"
  },
  "language_info": {
   "codemirror_mode": {
    "name": "ipython",
    "version": 3
   },
   "file_extension": ".py",
   "mimetype": "text/x-python",
   "name": "python",
   "nbconvert_exporter": "python",
   "pygments_lexer": "ipython3",
   "version": "3.6.3"
  }
 },
 "nbformat": 4,
 "nbformat_minor": 2
}
