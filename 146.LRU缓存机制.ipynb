{
 "cells": [
  {
   "cell_type": "code",
   "execution_count": 1,
   "metadata": {
    "collapsed": true
   },
   "outputs": [],
   "source": [
    "class DLinkedNode:\n",
    "    def __init__(self, key=0, value=0):\n",
    "        self.key = key\n",
    "        self.value = value\n",
    "        self.prev = None\n",
    "        self.next = None\n",
    "\n",
    "\n",
    "class LRUCache:\n",
    "\n",
    "    def __init__(self, capacity: int):\n",
    "        self.cache = dict()\n",
    "        # 使用伪头部和伪尾部节点    \n",
    "        self.head = DLinkedNode()\n",
    "        self.tail = DLinkedNode()\n",
    "        self.head.next = self.tail\n",
    "        self.tail.prev = self.head\n",
    "        self.capacity = capacity\n",
    "        self.size = 0\n",
    "\n",
    "    def get(self, key: int) -> int:\n",
    "        if key not in self.cache:\n",
    "            return -1\n",
    "        # 如果 key 存在，先通过哈希表定位，再移到头部\n",
    "        node = self.cache[key]\n",
    "        self.moveToHead(node)\n",
    "        return node.value\n",
    "\n",
    "    def put(self, key: int, value: int) -> None:\n",
    "        if key not in self.cache:\n",
    "            # 如果 key 不存在，创建一个新的节点\n",
    "            node = DLinkedNode(key, value)\n",
    "            # 添加进哈希表\n",
    "            self.cache[key] = node\n",
    "            # 添加至双向链表的头部\n",
    "            self.addToHead(node)\n",
    "            self.size += 1\n",
    "            if self.size > self.capacity:\n",
    "                # 如果超出容量，删除双向链表的尾部节点\n",
    "                removed = self.removeTail()\n",
    "                # 删除哈希表中对应的项\n",
    "                self.cache.pop(removed.key)\n",
    "                self.size -= 1\n",
    "        else:\n",
    "            # 如果 key 存在，先通过哈希表定位，再修改 value，并移到头部\n",
    "            node = self.cache[key]\n",
    "            node.value = value\n",
    "            self.moveToHead(node)\n",
    "    \n",
    "    def addToHead(self, node):\n",
    "        node.prev = self.head\n",
    "        node.next = self.head.next\n",
    "        self.head.next.prev = node\n",
    "        self.head.next = node\n",
    "    \n",
    "    def removeNode(self, node):\n",
    "        node.prev.next = node.next\n",
    "        node.next.prev = node.prev\n",
    "\n",
    "    def moveToHead(self, node):\n",
    "        self.removeNode(node)\n",
    "        self.addToHead(node)\n",
    "\n",
    "    def removeTail(self):\n",
    "        node = self.tail.prev\n",
    "        self.removeNode(node)\n",
    "        return node"
   ]
  },
  {
   "cell_type": "code",
   "execution_count": null,
   "metadata": {
    "collapsed": true
   },
   "outputs": [],
   "source": []
  }
 ],
 "metadata": {
  "kernelspec": {
   "display_name": "Python 3",
   "language": "python",
   "name": "python3"
  },
  "language_info": {
   "codemirror_mode": {
    "name": "ipython",
    "version": 3
   },
   "file_extension": ".py",
   "mimetype": "text/x-python",
   "name": "python",
   "nbconvert_exporter": "python",
   "pygments_lexer": "ipython3",
   "version": "3.6.3"
  }
 },
 "nbformat": 4,
 "nbformat_minor": 2
}
