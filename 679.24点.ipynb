{
 "cells": [
  {
   "cell_type": "code",
   "execution_count": 3,
   "metadata": {
    "collapsed": true
   },
   "outputs": [],
   "source": [
    "class Solution:\n",
    "    def judgePoint24(self, nums):\n",
    "        TARGET = 24\n",
    "        EPSILON = 1e-6\n",
    "        ADD, MULTIPLY, SUBTRACT, DIVIDE = 0, 1, 2, 3\n",
    "\n",
    "        def solve(nums: List[float]) -> bool:\n",
    "            if not nums:\n",
    "                return False\n",
    "            if len(nums) == 1:\n",
    "                return abs(nums[0] - TARGET) < EPSILON\n",
    "            for i, x in enumerate(nums):\n",
    "                for j, y in enumerate(nums):\n",
    "                    if i != j:\n",
    "                        newNums = list()\n",
    "                        for k, z in enumerate(nums):\n",
    "                            if k != i and k != j:\n",
    "                                newNums.append(z)\n",
    "                        for k in range(4):\n",
    "                            if k < 2 and i > j:\n",
    "                                continue\n",
    "                            if k == ADD:\n",
    "                                newNums.append(x + y)\n",
    "                            elif k == MULTIPLY:\n",
    "                                newNums.append(x * y)\n",
    "                            elif k == SUBTRACT:\n",
    "                                newNums.append(x - y)\n",
    "                            elif k == DIVIDE:\n",
    "                                if abs(y) < EPSILON:\n",
    "                                    continue\n",
    "                                newNums.append(x / y)\n",
    "                            if solve(newNums):\n",
    "                                return True\n",
    "                            newNums.pop()\n",
    "            return False\n",
    "\n",
    "        return solve(nums)"
   ]
  },
  {
   "cell_type": "code",
   "execution_count": null,
   "metadata": {
    "collapsed": true
   },
   "outputs": [],
   "source": []
  }
 ],
 "metadata": {
  "kernelspec": {
   "display_name": "Python 3",
   "language": "python",
   "name": "python3"
  },
  "language_info": {
   "codemirror_mode": {
    "name": "ipython",
    "version": 3
   },
   "file_extension": ".py",
   "mimetype": "text/x-python",
   "name": "python",
   "nbconvert_exporter": "python",
   "pygments_lexer": "ipython3",
   "version": "3.6.3"
  }
 },
 "nbformat": 4,
 "nbformat_minor": 2
}
