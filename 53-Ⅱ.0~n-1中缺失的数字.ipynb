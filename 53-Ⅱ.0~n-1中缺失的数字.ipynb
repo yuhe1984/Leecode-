{
 "cells": [
  {
   "cell_type": "code",
   "execution_count": null,
   "metadata": {
    "collapsed": true
   },
   "outputs": [],
   "source": [
    "class Solution:\n",
    "    def missingNumber(self, nums: List[int]) -> int:\n",
    "        if len(nums) == 1 and nums[0] == 0:\n",
    "            return nums[0] + 1\n",
    "        elif len(nums) == 1 and nums[0] != 0:\n",
    "            return nums[0] - 1\n",
    "        for i in range(1, len(nums)):\n",
    "            if nums[i] - nums[i-1] > 1:\n",
    "                return nums[i]-1\n",
    "        if nums[0] == 0:\n",
    "            return nums[len(nums)-1] + 1\n",
    "        else:\n",
    "            return 0"
   ]
  },
  {
   "cell_type": "code",
   "execution_count": null,
   "metadata": {
    "collapsed": true
   },
   "outputs": [],
   "source": [
    "class Solution:\n",
    "    def missingNumber(self, nums: List[int]) -> int:\n",
    "        i, j = 0, len(nums) - 1\n",
    "        while i <= j:\n",
    "            m = (i + j) // 2\n",
    "            if nums[m] == m: i = m + 1\n",
    "            else: j = m - 1\n",
    "        return i"
   ]
  },
  {
   "cell_type": "code",
   "execution_count": null,
   "metadata": {
    "collapsed": true
   },
   "outputs": [],
   "source": []
  }
 ],
 "metadata": {
  "kernelspec": {
   "display_name": "Python 3",
   "language": "python",
   "name": "python3"
  }
 },
 "nbformat": 4,
 "nbformat_minor": 2
}
