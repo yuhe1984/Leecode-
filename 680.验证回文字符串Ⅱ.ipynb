{
 "cells": [
  {
   "cell_type": "code",
   "execution_count": 1,
   "metadata": {
    "collapsed": true
   },
   "outputs": [],
   "source": [
    "class Solution:\n",
    "    def validPalindrome(self, s: str) -> bool:\n",
    "        def checkPalindrome(low, high):\n",
    "            i, j = low, high\n",
    "            while i < j:\n",
    "                if s[i] != s[j]:\n",
    "                    return False\n",
    "                i += 1\n",
    "                j -= 1\n",
    "            return True\n",
    "\n",
    "        low, high = 0, len(s) - 1\n",
    "        while low < high:\n",
    "            if s[low] == s[high]: \n",
    "                low += 1\n",
    "                high -= 1\n",
    "            else:\n",
    "                return checkPalindrome(low + 1, high) or checkPalindrome(low, high - 1)\n",
    "        return True"
   ]
  },
  {
   "cell_type": "code",
   "execution_count": 2,
   "metadata": {
    "collapsed": true
   },
   "outputs": [],
   "source": [
    "class Solution():\n",
    "    def validPalindrome(self, s):\n",
    "        l = len(s)\n",
    "        h = l//2\n",
    "        if s[:h] == s[-1:-1-h:-1]:\n",
    "            return True\n",
    "        for i in range(h):\n",
    "            if s[i] != s[~i]:\n",
    "                j = len(s) - 1 - i\n",
    "                h = (j-i)//2\n",
    "                return s[i:i+h] == s[j-1:j-h-1:-1] or s[i+1:i+h+1] == s[j:j-h:-1]"
   ]
  },
  {
   "cell_type": "code",
   "execution_count": 3,
   "metadata": {},
   "outputs": [
    {
     "data": {
      "text/plain": [
       "<matplotlib.axes._subplots.AxesSubplot at 0x1dabefe6668>"
      ]
     },
     "execution_count": 3,
     "metadata": {},
     "output_type": "execute_result"
    }
   ],
   "source": [
    "import numpy as np \n",
    "import seaborn as sns\n",
    "data = np.random.randint(1, 7, 10000)\n",
    "sns.distplot(data)"
   ]
  },
  {
   "cell_type": "code",
   "execution_count": null,
   "metadata": {
    "collapsed": true
   },
   "outputs": [],
   "source": []
  }
 ],
 "metadata": {
  "kernelspec": {
   "display_name": "Python 3",
   "language": "python",
   "name": "python3"
  },
  "language_info": {
   "codemirror_mode": {
    "name": "ipython",
    "version": 3
   },
   "file_extension": ".py",
   "mimetype": "text/x-python",
   "name": "python",
   "nbconvert_exporter": "python",
   "pygments_lexer": "ipython3",
   "version": "3.6.3"
  }
 },
 "nbformat": 4,
 "nbformat_minor": 2
}
