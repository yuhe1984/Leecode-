{
 "cells": [
  {
   "cell_type": "code",
   "execution_count": null,
   "metadata": {
    "collapsed": true
   },
   "outputs": [],
   "source": [
    "3 10 1000\n",
    "100 5 3\n",
    "50 3 2\n",
    "300 3 3"
   ]
  },
  {
   "cell_type": "code",
   "execution_count": 4,
   "metadata": {},
   "outputs": [
    {
     "name": "stdout",
     "output_type": "stream",
     "text": [
      "3 10 1000\n",
      "100 5 3\n",
      "50 3 2\n",
      "300 3 3\n"
     ]
    }
   ],
   "source": [
    "num = list(map(int, input().split(' ')))\n",
    "n = num[0]\n",
    "m = num[1]\n",
    "k = num[2]\n",
    "res = []\n",
    "for i in range(n):\n",
    "    nums = list(map(int, input().split(' ')))\n",
    "    res.append(nums)\n",
    "res = sorted(res, key = lambda x : x[2], reverse=True)"
   ]
  },
  {
   "cell_type": "code",
   "execution_count": 7,
   "metadata": {},
   "outputs": [
    {
     "name": "stdout",
     "output_type": "stream",
     "text": [
      "100 5 3\n",
      "300 3 3\n",
      "50 3 2\n"
     ]
    }
   ],
   "source": [
    "for i in range(1, n):\n",
    "    if res[i][2] == res[i-2][2]:\n",
    "        if res[i][1] > res[i-1][1]:\n",
    "            res[i], res[i-1] = res[i-1], res[i]"
   ]
  },
  {
   "cell_type": "code",
   "execution_count": 9,
   "metadata": {},
   "outputs": [
    {
     "ename": "SyntaxError",
     "evalue": "invalid syntax (<ipython-input-9-72e84cb8ca55>, line 2)",
     "output_type": "error",
     "traceback": [
      "\u001b[1;36m  File \u001b[1;32m\"<ipython-input-9-72e84cb8ca55>\"\u001b[1;36m, line \u001b[1;32m2\u001b[0m\n\u001b[1;33m    1 2 4\u001b[0m\n\u001b[1;37m      ^\u001b[0m\n\u001b[1;31mSyntaxError\u001b[0m\u001b[1;31m:\u001b[0m invalid syntax\n"
     ]
    }
   ],
   "source": [
    "3\n",
    "1 2 4\n",
    "1 3 1\n",
    "1 2 1"
   ]
  },
  {
   "cell_type": "code",
   "execution_count": 10,
   "metadata": {},
   "outputs": [
    {
     "name": "stdout",
     "output_type": "stream",
     "text": [
      "3\n",
      "1 2 4\n",
      "1 3 1\n",
      "1 2 1\n"
     ]
    }
   ],
   "source": [
    "n = int(input())\n",
    "res = []\n",
    "for i in range(n):\n",
    "    nums = list(map(int, input().split(' ')))\n",
    "    res.append(nums)\n",
    "ans = 0\n",
    "seen = [[0] * n for i in range(n)]\n",
    "for i in range(1, n):\n",
    "    seen[i][0] = abs(res[i][0] - res[i-1][0])\n",
    "for i in range(1, n):\n",
    "    seen[0][i] = abs(res[0][i] - res[0][i-1])"
   ]
  },
  {
   "cell_type": "code",
   "execution_count": 11,
   "metadata": {},
   "outputs": [
    {
     "data": {
      "text/plain": [
       "[[0, 1, 2], [0, 0, 0], [0, 0, 0]]"
      ]
     },
     "execution_count": 11,
     "metadata": {},
     "output_type": "execute_result"
    }
   ],
   "source": [
    "seen"
   ]
  },
  {
   "cell_type": "code",
   "execution_count": 18,
   "metadata": {},
   "outputs": [
    {
     "name": "stdout",
     "output_type": "stream",
     "text": [
      "3\n",
      "1 2 4\n",
      "1 3 1\n",
      "1 2 1\n",
      "[[0, 1, 3], [0, 0, 0], [0, 0, 0]]\n",
      "1\n"
     ]
    }
   ],
   "source": [
    "n = int(input())\n",
    "res = []\n",
    "for i in range(n):\n",
    "    nums = list(map(int, input().split(' ')))\n",
    "    res.append(nums)\n",
    "ans = 0\n",
    "seen = [[0] * n for i in range(n)]\n",
    "for i in range(1, n):\n",
    "    seen[i][0] = abs(res[i][0] - res[i-1][0])\n",
    "for i in range(1, n):\n",
    "    seen[0][i] = abs(res[0][i] - res[0][i-1])\n",
    "for i in range(1, n):\n",
    "    seen[i][0] += seen[i-1][0]\n",
    "for i in range(1, n):\n",
    "    seen[0][i] += seen[0][i-1]\n",
    "print(seen)\n",
    "for i in range(1, n):\n",
    "    for j in range(1, n):\n",
    "        seen[i][j] = min(seen[i-1][j], seen[i][j-1]) + min(abs(res[i][j]- res[i-1][j]), abs(res[i][j] - res[i][j-1]))\n",
    "print(seen[-1][-1])"
   ]
  },
  {
   "cell_type": "code",
   "execution_count": 17,
   "metadata": {},
   "outputs": [
    {
     "data": {
      "text/plain": [
       "[[0, 1, 3], [0, 1, 3], [0, 1, 1]]"
      ]
     },
     "execution_count": 17,
     "metadata": {},
     "output_type": "execute_result"
    }
   ],
   "source": [
    "seen"
   ]
  },
  {
   "cell_type": "code",
   "execution_count": null,
   "metadata": {
    "collapsed": true
   },
   "outputs": [],
   "source": []
  }
 ],
 "metadata": {
  "kernelspec": {
   "display_name": "Python 3",
   "language": "python",
   "name": "python3"
  },
  "language_info": {
   "codemirror_mode": {
    "name": "ipython",
    "version": 3
   },
   "file_extension": ".py",
   "mimetype": "text/x-python",
   "name": "python",
   "nbconvert_exporter": "python",
   "pygments_lexer": "ipython3",
   "version": "3.6.3"
  }
 },
 "nbformat": 4,
 "nbformat_minor": 2
}
