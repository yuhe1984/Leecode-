{
 "cells": [
  {
   "cell_type": "code",
   "execution_count": 2,
   "metadata": {},
   "outputs": [],
   "source": [
    "class Solution:\n",
    "    def countCharacters(self, words, chars):\n",
    "        count = 0\n",
    "        ans = 0\n",
    "        for i in words:\n",
    "            for j in i:\n",
    "                if i.count(j) <= chars.count(j):\n",
    "                    count += 1\n",
    "            if count == len(i): ans += count\n",
    "            count = 0\n",
    "        return ans"
   ]
  },
  {
   "cell_type": "code",
   "execution_count": 3,
   "metadata": {
    "collapsed": true
   },
   "outputs": [],
   "source": [
    "class Solution:\n",
    "    def countCharacters(self, words, chars):\n",
    "        count = 0\n",
    "        ans = 0\n",
    "        for i in words:\n",
    "            for j in i:\n",
    "                if i.count(j) <= chars.count(j):\n",
    "                    count += 1\n",
    "                else:\n",
    "                    break\n",
    "            if count == len(i): ans += count\n",
    "            count = 0\n",
    "        return ans"
   ]
  },
  {
   "cell_type": "code",
   "execution_count": null,
   "metadata": {
    "collapsed": true
   },
   "outputs": [],
   "source": [
    "class Solution(object):\n",
    "    def countCharacters(self, words, chars):\n",
    "        \"\"\"\n",
    "        :type words: List[str]\n",
    "        :type chars: str\n",
    "        :rtype: int\n",
    "        \"\"\"\n",
    "        ans = 0\n",
    "        for w in words:\n",
    "            for i in w:\n",
    "                if w.count(i) <= chars.count(i):\n",
    "                    flag = 1\n",
    "                    continue\n",
    "                else:\n",
    "                    flag = 0\n",
    "                    break\n",
    "            if flag == 1:\n",
    "                ans+=len(w)\n",
    "        return ans"
   ]
  }
 ],
 "metadata": {
  "kernelspec": {
   "display_name": "Python 3",
   "language": "python",
   "name": "python3"
  },
  "language_info": {
   "codemirror_mode": {
    "name": "ipython",
    "version": 3
   },
   "file_extension": ".py",
   "mimetype": "text/x-python",
   "name": "python",
   "nbconvert_exporter": "python",
   "pygments_lexer": "ipython3",
   "version": "3.6.3"
  }
 },
 "nbformat": 4,
 "nbformat_minor": 2
}
