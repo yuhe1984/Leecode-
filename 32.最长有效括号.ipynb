{
 "cells": [
  {
   "cell_type": "markdown",
   "metadata": {
    "collapsed": true
   },
   "source": [
    "# 动态规划"
   ]
  },
  {
   "cell_type": "code",
   "execution_count": 2,
   "metadata": {
    "collapsed": true
   },
   "outputs": [],
   "source": [
    "class Solution:\n",
    "    def longestValidParentheses(self, s: str) -> int:\n",
    "        n = len(s)\n",
    "        if n==0:return 0\n",
    "        dp = [0]*n\n",
    "        for i in range(len(s)):\n",
    "            # i-dp[i-1]-1是与当前)对称的位置\n",
    "            if s[i]==')' and i-dp[i-1]-1>=0 and s[i-dp[i-1]-1]=='(':\n",
    "                dp[i]=dp[i-1]+dp[i-dp[i-1]-2]+2\n",
    "        return max(dp) "
   ]
  },
  {
   "cell_type": "markdown",
   "metadata": {},
   "source": [
    "# 栈"
   ]
  },
  {
   "cell_type": "code",
   "execution_count": 3,
   "metadata": {
    "collapsed": true
   },
   "outputs": [],
   "source": [
    "class Solution:\n",
    "    def longestValidParentheses(self, s: str) -> int:\n",
    "        stack = [-1]\n",
    "        length = 0\n",
    "        max_length = 0\n",
    "        for i in range(len(s)):\n",
    "            if s[i] == '(':\n",
    "                stack.append(i)\n",
    "            else:\n",
    "                stack.pop()\n",
    "                if stack == []:\n",
    "                    stack.append(i)\n",
    "                else:\n",
    "                    length = i-stack[-1]\n",
    "                    max_length = max(max_length,length)\n",
    "        return max_length"
   ]
  },
  {
   "cell_type": "code",
   "execution_count": null,
   "metadata": {
    "collapsed": true
   },
   "outputs": [],
   "source": []
  }
 ],
 "metadata": {
  "kernelspec": {
   "display_name": "Python 3",
   "language": "python",
   "name": "python3"
  },
  "language_info": {
   "codemirror_mode": {
    "name": "ipython",
    "version": 3
   },
   "file_extension": ".py",
   "mimetype": "text/x-python",
   "name": "python",
   "nbconvert_exporter": "python",
   "pygments_lexer": "ipython3",
   "version": "3.6.3"
  }
 },
 "nbformat": 4,
 "nbformat_minor": 2
}
