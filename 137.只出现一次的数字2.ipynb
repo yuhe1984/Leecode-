{
 "cells": [
  {
   "cell_type": "code",
   "execution_count": 1,
   "metadata": {
    "collapsed": true
   },
   "outputs": [],
   "source": [
    "class Solution:\n",
    "    def singleNumber(self, nums):\n",
    "        return int((3 * sum(set(nums)) - sum(nums)) / 2)"
   ]
  },
  {
   "cell_type": "markdown",
   "metadata": {},
   "source": [
    "# HashMap"
   ]
  },
  {
   "cell_type": "code",
   "execution_count": 2,
   "metadata": {
    "collapsed": true
   },
   "outputs": [],
   "source": [
    "from collections import Counter\n",
    "class Solution:\n",
    "    def singleNumber(self, nums):\n",
    "        hashmap = Counter(nums)\n",
    "            \n",
    "        for k in hashmap.keys():\n",
    "            if hashmap[k] == 1:\n",
    "                return k"
   ]
  },
  {
   "cell_type": "markdown",
   "metadata": {},
   "source": [
    "# 位运算"
   ]
  },
  {
   "cell_type": "code",
   "execution_count": 3,
   "metadata": {
    "collapsed": true
   },
   "outputs": [],
   "source": [
    "class Solution:\n",
    "    def singleNumber(self, nums):\n",
    "        seen_once = seen_twice = 0\n",
    "        \n",
    "        for num in nums:\n",
    "            # first appearance: \n",
    "            # add num to seen_once \n",
    "            # don't add to seen_twice because of presence in seen_once\n",
    "            \n",
    "            # second appearance: \n",
    "            # remove num from seen_once \n",
    "            # add num to seen_twice\n",
    "            \n",
    "            # third appearance: \n",
    "            # don't add to seen_once because of presence in seen_twice\n",
    "            # remove num from seen_twice\n",
    "            seen_once = ~seen_twice & (seen_once ^ num)\n",
    "            seen_twice = ~seen_once & (seen_twice ^ num)\n",
    "\n",
    "        return seen_once"
   ]
  },
  {
   "cell_type": "code",
   "execution_count": 4,
   "metadata": {
    "collapsed": true
   },
   "outputs": [],
   "source": [
    "class Solution:\n",
    "    def singleNumber(self, nums):\n",
    "        res = 0\n",
    "        for i in range(32):\n",
    "            cnt = 0  # 记录当前 bit 有多少个1\n",
    "            bit = 1 << i  # 记录当前要操作的 bit\n",
    "            for num in nums:\n",
    "                if num & bit != 0:\n",
    "                    cnt += 1\n",
    "            if cnt % 3 != 0:\n",
    "                # 不等于0说明唯一出现的数字在这个 bit 上是1\n",
    "                res |= bit\n",
    "\n",
    "        return res - 2 ** 32 if res > 2 ** 31 - 1 else res"
   ]
  },
  {
   "cell_type": "code",
   "execution_count": null,
   "metadata": {
    "collapsed": true
   },
   "outputs": [],
   "source": []
  }
 ],
 "metadata": {
  "kernelspec": {
   "display_name": "Python 3",
   "language": "python",
   "name": "python3"
  },
  "language_info": {
   "codemirror_mode": {
    "name": "ipython",
    "version": 3
   },
   "file_extension": ".py",
   "mimetype": "text/x-python",
   "name": "python",
   "nbconvert_exporter": "python",
   "pygments_lexer": "ipython3",
   "version": "3.6.3"
  }
 },
 "nbformat": 4,
 "nbformat_minor": 2
}
