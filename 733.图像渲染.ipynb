{
 "cells": [
  {
   "cell_type": "markdown",
   "metadata": {},
   "source": [
    "# bfs"
   ]
  },
  {
   "cell_type": "code",
   "execution_count": 1,
   "metadata": {
    "collapsed": true
   },
   "outputs": [],
   "source": [
    "class Solution:\n",
    "    def floodFill(self, image, sr, sc, newColor):\n",
    "        from collections import deque\n",
    "        queue = deque([(sr, sc)])\n",
    "        color = image[sr][sc]\n",
    "        if color == newColor:\n",
    "            return image\n",
    "        image[sr][sc] = newColor\n",
    "\n",
    "        while queue:\n",
    "            i, j = queue.popleft()\n",
    "            for x, y in [(i-1, j), (i+1, j), (i, j-1), (i, j+1)]:\n",
    "                if 0 <= x < len(image) and 0 <= y < len(image[0]) and image[x][y] == color:\n",
    "                    queue.append((x, y))\n",
    "                    image[x][y] = newColor\n",
    "        return image"
   ]
  },
  {
   "cell_type": "markdown",
   "metadata": {},
   "source": [
    "# dfs"
   ]
  },
  {
   "cell_type": "code",
   "execution_count": 3,
   "metadata": {},
   "outputs": [],
   "source": [
    "class Solution:\n",
    "    def floodFill(self, image, sr, sc, newColor):\n",
    "        n, m = len(image), len(image[0])\n",
    "        currColor = image[sr][sc]\n",
    "\n",
    "        def dfs(x: int, y: int):\n",
    "            if image[x][y] == currColor:\n",
    "                image[x][y] = newColor\n",
    "                for mx, my in [(x - 1, y), (x + 1, y), (x, y - 1), (x, y + 1)]:\n",
    "                    if 0 <= mx < n and 0 <= my < m and image[mx][my] == currColor:\n",
    "                        dfs(mx, my)\n",
    "\n",
    "        if currColor != newColor:\n",
    "            dfs(sr, sc)\n",
    "        return image"
   ]
  },
  {
   "cell_type": "code",
   "execution_count": 4,
   "metadata": {
    "collapsed": true
   },
   "outputs": [],
   "source": [
    "class Solution:\n",
    "    def floodFill(self, image, sr, sc, newColor):\n",
    "        color = image[sr][sc]\n",
    "        if color == newColor:\n",
    "            return image\n",
    "        def dfs(i, j):\n",
    "            if 0 > i  or i >= len(image) or  0 > j or j >= len(image[0]) or image[i][j] != color:\n",
    "                return\n",
    "            image[i][j] = newColor\n",
    "            dfs(i+1, j)\n",
    "            dfs(i-1, j)\n",
    "            dfs(i, j+1)\n",
    "            dfs(i, j-1)\n",
    "\n",
    "        dfs(sr, sc)\n",
    "\n",
    "        return image"
   ]
  },
  {
   "cell_type": "code",
   "execution_count": null,
   "metadata": {
    "collapsed": true
   },
   "outputs": [],
   "source": []
  }
 ],
 "metadata": {
  "kernelspec": {
   "display_name": "Python 3",
   "language": "python",
   "name": "python3"
  },
  "language_info": {
   "codemirror_mode": {
    "name": "ipython",
    "version": 3
   },
   "file_extension": ".py",
   "mimetype": "text/x-python",
   "name": "python",
   "nbconvert_exporter": "python",
   "pygments_lexer": "ipython3",
   "version": "3.6.3"
  }
 },
 "nbformat": 4,
 "nbformat_minor": 2
}
