{
 "cells": [
  {
   "cell_type": "code",
   "execution_count": 1,
   "metadata": {
    "collapsed": true
   },
   "outputs": [],
   "source": [
    "class Solution:\n",
    "    def compressString(self, S):\n",
    "        if not S:\n",
    "            return \"\"\n",
    "        ch = S[0]\n",
    "        ans = ''\n",
    "        cnt = 0\n",
    "        for c in S:\n",
    "            if c == ch:\n",
    "                cnt += 1\n",
    "            else:\n",
    "                ans += ch + str(cnt)\n",
    "                ch = c\n",
    "                cnt = 1\n",
    "        ans += ch + str(cnt)\n",
    "        return ans if len(ans) < len(S) else S"
   ]
  },
  {
   "cell_type": "code",
   "execution_count": 2,
   "metadata": {
    "collapsed": true
   },
   "outputs": [],
   "source": [
    "class Solution:\n",
    "    def compressString(self, S):\n",
    "        if not S: return ''\n",
    "        ch = S[0]\n",
    "        ans = ''\n",
    "        cnt = 0\n",
    "        for c in S:\n",
    "            if c == ch:\n",
    "                cnt += 1\n",
    "            else:\n",
    "                ans += ch + str(cnt)\n",
    "                ch = c\n",
    "                cnt = 1\n",
    "        ans += ch + str(cnt)\n",
    "        return ans if len(ans) < len(S) else S"
   ]
  },
  {
   "cell_type": "code",
   "execution_count": 3,
   "metadata": {
    "collapsed": true
   },
   "outputs": [],
   "source": [
    "class Solution:\n",
    "    def compressString(self, S):\n",
    "        if not S: return ''\n",
    "        ch = S[0]\n",
    "        ans = ''\n",
    "        cnt = 1\n",
    "        for c in S[1:]:\n",
    "            if c == ch:\n",
    "                cnt += 1\n",
    "            else:\n",
    "                ans += ch + str(cnt)\n",
    "                ch = c\n",
    "                cnt = 1\n",
    "        ans += ch + str(cnt)\n",
    "        return ans if len(ans) < len(S) else S"
   ]
  },
  {
   "cell_type": "code",
   "execution_count": null,
   "metadata": {
    "collapsed": true
   },
   "outputs": [],
   "source": []
  }
 ],
 "metadata": {
  "kernelspec": {
   "display_name": "Python 3",
   "language": "python",
   "name": "python3"
  },
  "language_info": {
   "codemirror_mode": {
    "name": "ipython",
    "version": 3
   },
   "file_extension": ".py",
   "mimetype": "text/x-python",
   "name": "python",
   "nbconvert_exporter": "python",
   "pygments_lexer": "ipython3",
   "version": "3.6.3"
  }
 },
 "nbformat": 4,
 "nbformat_minor": 2
}
