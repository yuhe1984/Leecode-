{
 "cells": [
  {
   "cell_type": "code",
   "execution_count": 1,
   "metadata": {
    "collapsed": true
   },
   "outputs": [],
   "source": [
    "import math"
   ]
  },
  {
   "cell_type": "code",
   "execution_count": 2,
   "metadata": {},
   "outputs": [
    {
     "data": {
      "text/plain": [
       "1.7320508075688772"
      ]
     },
     "execution_count": 2,
     "metadata": {},
     "output_type": "execute_result"
    }
   ],
   "source": [
    "math.sqrt(3)"
   ]
  },
  {
   "cell_type": "code",
   "execution_count": 3,
   "metadata": {},
   "outputs": [
    {
     "data": {
      "text/plain": [
       "2.8665876100000003"
      ]
     },
     "execution_count": 3,
     "metadata": {},
     "output_type": "execute_result"
    }
   ],
   "source": [
    "1.6931**2"
   ]
  },
  {
   "cell_type": "code",
   "execution_count": 5,
   "metadata": {},
   "outputs": [
    {
     "data": {
      "text/plain": [
       "True"
      ]
     },
     "execution_count": 5,
     "metadata": {},
     "output_type": "execute_result"
    }
   ],
   "source": [
    "sorted([1, 2, 3]) == sorted([3, 2, 1])"
   ]
  },
  {
   "cell_type": "code",
   "execution_count": 6,
   "metadata": {},
   "outputs": [
    {
     "name": "stdout",
     "output_type": "stream",
     "text": [
      "0 1\n",
      "0 2\n",
      "1 2\n"
     ]
    }
   ],
   "source": [
    "for i in range(3):\n",
    "    for j in range(i+1, 3):\n",
    "        print(i, j)"
   ]
  },
  {
   "cell_type": "code",
   "execution_count": 8,
   "metadata": {},
   "outputs": [
    {
     "name": "stdout",
     "output_type": "stream",
     "text": [
      "2\n",
      "2\n",
      "1 2 3 4 5 6\n",
      "2 3 4 5 6 1\n",
      "YES\n",
      "3\n",
      "1 2 3 4 5 6\n",
      "8 5 4 1 2 3\n",
      "2 3 4 5 6 7\n",
      "NO\n"
     ]
    }
   ],
   "source": [
    "n = int(input())\n",
    "for i in range(n):\n",
    "    t = int(input())\n",
    "    res = []\n",
    "    ans = 0\n",
    "    for i in range(t):\n",
    "        num = list(map(int, input().split(' ')))\n",
    "        num.sort()\n",
    "        if num in res:\n",
    "            ans += 1\n",
    "            break\n",
    "        res.append(num)\n",
    "    if ans >= 1:\n",
    "        print('YES')\n",
    "    else:\n",
    "        print('NO')"
   ]
  },
  {
   "cell_type": "code",
   "execution_count": null,
   "metadata": {
    "collapsed": true
   },
   "outputs": [],
   "source": [
    "2\n",
    "2\n",
    "1 2 3 4 5 6\n",
    "2 3 4 5 6 1\n",
    "3\n",
    "1 2 3 4 5 6\n",
    "8 5 4 1 2 3\n",
    "2 3 4 5 6 7"
   ]
  },
  {
   "cell_type": "code",
   "execution_count": 17,
   "metadata": {},
   "outputs": [
    {
     "data": {
      "text/plain": [
       "False"
      ]
     },
     "execution_count": 17,
     "metadata": {},
     "output_type": "execute_result"
    }
   ],
   "source": [
    "[1, 5] in [[5, 1], [2]]"
   ]
  },
  {
   "cell_type": "code",
   "execution_count": 18,
   "metadata": {},
   "outputs": [],
   "source": [
    "a = [1, 2, 3]"
   ]
  },
  {
   "cell_type": "code",
   "execution_count": 19,
   "metadata": {
    "collapsed": true
   },
   "outputs": [],
   "source": [
    "b = list(map(str, a))"
   ]
  },
  {
   "cell_type": "code",
   "execution_count": 20,
   "metadata": {},
   "outputs": [
    {
     "data": {
      "text/plain": [
       "['1', '2', '3']"
      ]
     },
     "execution_count": 20,
     "metadata": {},
     "output_type": "execute_result"
    }
   ],
   "source": [
    "b"
   ]
  },
  {
   "cell_type": "code",
   "execution_count": 41,
   "metadata": {},
   "outputs": [
    {
     "name": "stdout",
     "output_type": "stream",
     "text": [
      "5.24 6.67\n"
     ]
    }
   ],
   "source": [
    "c = 5.235\n",
    "d = 6.666\n",
    "print('{:.2f} {:.2f}'.format(c, d))"
   ]
  },
  {
   "cell_type": "code",
   "execution_count": 42,
   "metadata": {},
   "outputs": [
    {
     "data": {
      "text/plain": [
       "1.6666666666666667"
      ]
     },
     "execution_count": 42,
     "metadata": {},
     "output_type": "execute_result"
    }
   ],
   "source": [
    "5/3"
   ]
  },
  {
   "cell_type": "code",
   "execution_count": 50,
   "metadata": {},
   "outputs": [
    {
     "name": "stdout",
     "output_type": "stream",
     "text": [
      "2\n",
      "1 0 -9\n",
      "-3.00 3.00\n"
     ]
    }
   ],
   "source": [
    "import math\n",
    "n = int(input())\n",
    "nums = list(map(int, input().split(' ')))\n",
    "if n == 2:\n",
    "    geng = nums[1] ** 2 - 4 * nums[0] * nums[2]\n",
    "    if geng < 0:\n",
    "        print('No')\n",
    "    elif geng > 0:\n",
    "        geng = math.sqrt(geng)\n",
    "        ans1 = (-nums[1] - geng) / 2 / nums[0]\n",
    "        ans2 = (-nums[1] + geng) / 2 / nums[0]\n",
    "        print('{:.2f} {:.2f}'.format(ans1, ans2))\n",
    "    elif geng == 0:\n",
    "        ans = (-nums[1]) / 2 / nums[0]\n",
    "        print('%.2f'%ans)"
   ]
  },
  {
   "cell_type": "code",
   "execution_count": 49,
   "metadata": {},
   "outputs": [
    {
     "data": {
      "text/plain": [
       "0"
      ]
     },
     "execution_count": 49,
     "metadata": {},
     "output_type": "execute_result"
    }
   ],
   "source": [
    "geng"
   ]
  },
  {
   "cell_type": "code",
   "execution_count": null,
   "metadata": {
    "collapsed": true
   },
   "outputs": [],
   "source": [
    "3\n",
    "9\n",
    "5 4 3 2 1 2 3 4 5\n",
    "5\n",
    "1 2 3 4 5\n",
    "14\n",
    "87 70 17 12 14 86 61 51 12 90 69 89 4 65"
   ]
  },
  {
   "cell_type": "code",
   "execution_count": 92,
   "metadata": {},
   "outputs": [
    {
     "name": "stdout",
     "output_type": "stream",
     "text": [
      "3\n",
      "9\n",
      "5 4 3 2 1 2 3 4 5\n",
      "8\n",
      "5\n",
      "1 2 3 4 5\n",
      "0\n",
      "14\n",
      "87 70 17 12 14 86 61 51 12 90 69 89 4 65\n",
      "6\n"
     ]
    }
   ],
   "source": [
    "n = int(input())\n",
    "for i in range(n):\n",
    "    t = int(input())\n",
    "    num = list(map(int, input().split(' ')))\n",
    "    mid = len(num) // 2\n",
    "    mid1 = mid + 1\n",
    "    while mid >= 0 and mid1 < t:\n",
    "        i = 0\n",
    "        if num[mid] == num[mid1]:\n",
    "            break\n",
    "        else:\n",
    "            if i % 2 == 0:\n",
    "                mid -= 1\n",
    "            else:\n",
    "                mid1 += 1\n",
    "    if mid <= 0 or mid1 >= t:\n",
    "        print(0)\n",
    "    else:\n",
    "        ans1 = 1\n",
    "        ans = 1\n",
    "        left1 = 1\n",
    "        right1 = 1\n",
    "        for i in range(mid-1):\n",
    "            if num[i] > num[i+1]:\n",
    "                ans1 += 1\n",
    "            else:\n",
    "                left1 = max(ans1, left1)\n",
    "                ans1 = 1\n",
    "        left1 = max(ans1, left1)\n",
    "        for j in range(mid1, t-1):\n",
    "            if num[j] < num[j+1]:\n",
    "                ans += 1\n",
    "            else:\n",
    "                right1 = max(ans, right1)\n",
    "                ans = 1\n",
    "        right1 = max(ans, right1)\n",
    "        print(min(left1, right1)* 2 + 2)"
   ]
  },
  {
   "cell_type": "code",
   "execution_count": 75,
   "metadata": {},
   "outputs": [
    {
     "data": {
      "text/plain": [
       "3"
      ]
     },
     "execution_count": 75,
     "metadata": {},
     "output_type": "execute_result"
    }
   ],
   "source": [
    "mid"
   ]
  },
  {
   "cell_type": "code",
   "execution_count": 76,
   "metadata": {},
   "outputs": [
    {
     "data": {
      "text/plain": [
       "8"
      ]
     },
     "execution_count": 76,
     "metadata": {},
     "output_type": "execute_result"
    }
   ],
   "source": [
    "mid1"
   ]
  },
  {
   "cell_type": "code",
   "execution_count": 88,
   "metadata": {},
   "outputs": [
    {
     "data": {
      "text/plain": [
       "2"
      ]
     },
     "execution_count": 88,
     "metadata": {},
     "output_type": "execute_result"
    }
   ],
   "source": [
    "right1"
   ]
  },
  {
   "cell_type": "code",
   "execution_count": null,
   "metadata": {
    "collapsed": true
   },
   "outputs": [],
   "source": [
    "left1"
   ]
  },
  {
   "cell_type": "code",
   "execution_count": null,
   "metadata": {
    "collapsed": true
   },
   "outputs": [],
   "source": []
  }
 ],
 "metadata": {
  "kernelspec": {
   "display_name": "Python 3",
   "language": "python",
   "name": "python3"
  },
  "language_info": {
   "codemirror_mode": {
    "name": "ipython",
    "version": 3
   },
   "file_extension": ".py",
   "mimetype": "text/x-python",
   "name": "python",
   "nbconvert_exporter": "python",
   "pygments_lexer": "ipython3",
   "version": "3.6.3"
  }
 },
 "nbformat": 4,
 "nbformat_minor": 2
}
