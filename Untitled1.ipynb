{
 "cells": [
  {
   "cell_type": "code",
   "execution_count": null,
   "metadata": {},
   "outputs": [],
   "source": [
    "#\n",
    "# 求字符串的回文子字符串的个数\n",
    "# @param str string字符串 \n",
    "# @return int整型\n",
    "#\n",
    "class Solution:\n",
    "    def num_plalindrome_substr(self , str ):\n",
    "        # write code here\n",
    "        ans = 0\n",
    "        for i in range(len(str)):\n",
    "            for j in range(i+1, len(str)+1):\n",
    "                    str1 = str[i:j]\n",
    "                    if str1 == str1[::-1]:\n",
    "                        ans += 1\n",
    "        return ans"
   ]
  },
  {
   "cell_type": "code",
   "execution_count": null,
   "metadata": {
    "collapsed": true
   },
   "outputs": [],
   "source": [
    "a = Solution()"
   ]
  },
  {
   "cell_type": "code",
   "execution_count": null,
   "metadata": {},
   "outputs": [],
   "source": [
    "a.num_plalindrome_substr('YyyY')"
   ]
  },
  {
   "cell_type": "code",
   "execution_count": null,
   "metadata": {},
   "outputs": [],
   "source": [
    "str1 = 'YyyY'\n",
    "for i in range(len(str1)):\n",
    "    for j in range(i+1, len(str1)+1):\n",
    "        print(str1[i:j])"
   ]
  },
  {
   "cell_type": "code",
   "execution_count": 2,
   "metadata": {
    "collapsed": true
   },
   "outputs": [],
   "source": [
    "import itertools"
   ]
  },
  {
   "cell_type": "code",
   "execution_count": 56,
   "metadata": {},
   "outputs": [],
   "source": [
    "a = list(itertools.permutations(range(0, 5), 3))"
   ]
  },
  {
   "cell_type": "code",
   "execution_count": 57,
   "metadata": {},
   "outputs": [
    {
     "data": {
      "text/plain": [
       "60"
      ]
     },
     "execution_count": 57,
     "metadata": {},
     "output_type": "execute_result"
    }
   ],
   "source": [
    "len(a)"
   ]
  },
  {
   "cell_type": "code",
   "execution_count": 5,
   "metadata": {},
   "outputs": [
    {
     "name": "stdout",
     "output_type": "stream",
     "text": [
      "['0', '1', '2']\n",
      "['0', '1', '3']\n",
      "['0', '1', '4']\n",
      "['0', '2', '1']\n",
      "['0', '2', '3']\n",
      "['0', '2', '4']\n",
      "['0', '3', '1']\n",
      "['0', '3', '2']\n",
      "['0', '3', '4']\n",
      "['0', '4', '1']\n",
      "['0', '4', '2']\n",
      "['0', '4', '3']\n",
      "['1', '0', '2']\n",
      "['1', '0', '3']\n",
      "['1', '0', '4']\n",
      "['1', '2', '0']\n",
      "['1', '2', '3']\n",
      "['1', '2', '4']\n",
      "['1', '3', '0']\n",
      "['1', '3', '2']\n",
      "['1', '3', '4']\n",
      "['1', '4', '0']\n",
      "['1', '4', '2']\n",
      "['1', '4', '3']\n",
      "['2', '0', '1']\n",
      "['2', '0', '3']\n",
      "['2', '0', '4']\n",
      "['2', '1', '0']\n",
      "['2', '1', '3']\n",
      "['2', '1', '4']\n",
      "['2', '3', '0']\n",
      "['2', '3', '1']\n",
      "['2', '3', '4']\n",
      "['2', '4', '0']\n",
      "['2', '4', '1']\n",
      "['2', '4', '3']\n",
      "['3', '0', '1']\n",
      "['3', '0', '2']\n",
      "['3', '0', '4']\n",
      "['3', '1', '0']\n",
      "['3', '1', '2']\n",
      "['3', '1', '4']\n",
      "['3', '2', '0']\n",
      "['3', '2', '1']\n",
      "['3', '2', '4']\n",
      "['3', '4', '0']\n",
      "['3', '4', '1']\n",
      "['3', '4', '2']\n",
      "['4', '0', '1']\n",
      "['4', '0', '2']\n",
      "['4', '0', '3']\n",
      "['4', '1', '0']\n",
      "['4', '1', '2']\n",
      "['4', '1', '3']\n",
      "['4', '2', '0']\n",
      "['4', '2', '1']\n",
      "['4', '2', '3']\n",
      "['4', '3', '0']\n",
      "['4', '3', '1']\n",
      "['4', '3', '2']\n"
     ]
    }
   ],
   "source": [
    "for i in a:\n",
    "    i = list(i)\n",
    "    j = list(map(str, i))\n",
    "    print(j)"
   ]
  },
  {
   "cell_type": "code",
   "execution_count": 75,
   "metadata": {},
   "outputs": [],
   "source": [
    "#\n",
    "# 根据给定的参数n（10>n>=0），得到0-n之间的整数组成的不含有重复数字的偶数的个数（0为偶数）\n",
    "# @param n int整型 10>n>=0\n",
    "# @return int整型\n",
    "#\n",
    "class Solution:\n",
    "    def get_even_num(self , n ):\n",
    "        # write code here\n",
    "        if n == 0:\n",
    "            return 1\n",
    "        elif n == 1:\n",
    "            return 2\n",
    "        else:\n",
    "            n += 1\n",
    "            import itertools\n",
    "            res = set()\n",
    "            ans = 0\n",
    "            for i in range(1, n+1):\n",
    "                a = list(itertools.permutations(range(n), i))\n",
    "                for j in a:\n",
    "                    k = list(j)\n",
    "                    k = list(map(str, k))\n",
    "                    res.add(int(''.join(k)))\n",
    "            for i in res:\n",
    "                if i % 2 == 0:\n",
    "                    ans += 1\n",
    "            return ans"
   ]
  },
  {
   "cell_type": "code",
   "execution_count": 76,
   "metadata": {},
   "outputs": [],
   "source": [
    "a = Solution()"
   ]
  },
  {
   "cell_type": "code",
   "execution_count": null,
   "metadata": {},
   "outputs": [],
   "source": [
    "a.get_even_num(10)"
   ]
  },
  {
   "cell_type": "code",
   "execution_count": 45,
   "metadata": {},
   "outputs": [
    {
     "data": {
      "text/plain": [
       "0"
      ]
     },
     "execution_count": 45,
     "metadata": {},
     "output_type": "execute_result"
    }
   ],
   "source": [
    "2 % 2"
   ]
  },
  {
   "cell_type": "code",
   "execution_count": null,
   "metadata": {
    "collapsed": true
   },
   "outputs": [],
   "source": []
  }
 ],
 "metadata": {
  "kernelspec": {
   "display_name": "Python 3",
   "language": "python",
   "name": "python3"
  },
  "language_info": {
   "codemirror_mode": {
    "name": "ipython",
    "version": 3
   },
   "file_extension": ".py",
   "mimetype": "text/x-python",
   "name": "python",
   "nbconvert_exporter": "python",
   "pygments_lexer": "ipython3",
   "version": "3.6.3"
  }
 },
 "nbformat": 4,
 "nbformat_minor": 2
}
