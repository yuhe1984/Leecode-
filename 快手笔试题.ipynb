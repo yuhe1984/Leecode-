{
 "cells": [
  {
   "cell_type": "code",
   "execution_count": 64,
   "metadata": {
    "collapsed": true
   },
   "outputs": [],
   "source": [
    "#\n",
    "# 返回最优路径的代价\n",
    "# @param A int整型二维数组 \n",
    "# @return int整型\n",
    "#\n",
    "class Solution:\n",
    "    def find_best_path_cost(self , A ):\n",
    "        # write code here\n",
    "        for i in range(1,len(A[0])):\n",
    "            A[0][i] = A[0][i] + A[0][i-1]\n",
    "        for j in range(1, len(A)):\n",
    "            A[j][0] = A[j][0] + A[j-1][0]\n",
    "        for i in range(1, len(A)):\n",
    "            for j in range(1, len(A[0])):\n",
    "                A[i][j] += min(A[i-1][j], A[i][j-1])\n",
    "        return A[-1][-1]"
   ]
  },
  {
   "cell_type": "code",
   "execution_count": 65,
   "metadata": {
    "collapsed": true
   },
   "outputs": [],
   "source": [
    "a = Solution()"
   ]
  },
  {
   "cell_type": "code",
   "execution_count": 66,
   "metadata": {},
   "outputs": [
    {
     "data": {
      "text/plain": [
       "13"
      ]
     },
     "execution_count": 66,
     "metadata": {},
     "output_type": "execute_result"
    }
   ],
   "source": [
    "a.find_best_path_cost([[1,2,3,4],[4,5,6,1],[7,8,9,2]])"
   ]
  },
  {
   "cell_type": "code",
   "execution_count": 40,
   "metadata": {},
   "outputs": [
    {
     "name": "stdout",
     "output_type": "stream",
     "text": [
      "[[1,2,3],[4,5,6],[7,8,9]]\n"
     ]
    }
   ],
   "source": [
    "a = input()"
   ]
  },
  {
   "cell_type": "code",
   "execution_count": 44,
   "metadata": {},
   "outputs": [],
   "source": [
    "a = a[1:len(a)-1]"
   ]
  },
  {
   "cell_type": "code",
   "execution_count": 58,
   "metadata": {},
   "outputs": [
    {
     "name": "stdout",
     "output_type": "stream",
     "text": [
      "[[1,2,3],[4,5,6],[7,8,9]]\n"
     ]
    }
   ],
   "source": [
    "a = input()\n",
    "a = a[1:len(a)-1]\n",
    "ans, res = [], []\n",
    "for i in a:\n",
    "    if i.isdigit():\n",
    "        res.append(int(i))\n",
    "    if i == ']':\n",
    "        ans.append(res[:])\n",
    "        res = []"
   ]
  },
  {
   "cell_type": "code",
   "execution_count": 59,
   "metadata": {},
   "outputs": [
    {
     "data": {
      "text/plain": [
       "[[1, 2, 3], [4, 5, 6], [7, 8, 9]]"
      ]
     },
     "execution_count": 59,
     "metadata": {},
     "output_type": "execute_result"
    }
   ],
   "source": [
    "ans"
   ]
  },
  {
   "cell_type": "code",
   "execution_count": 50,
   "metadata": {},
   "outputs": [
    {
     "data": {
      "text/plain": [
       "False"
      ]
     },
     "execution_count": 50,
     "metadata": {},
     "output_type": "execute_result"
    }
   ],
   "source": [
    "c != '['"
   ]
  },
  {
   "cell_type": "code",
   "execution_count": 54,
   "metadata": {},
   "outputs": [],
   "source": [
    "d = 'a'"
   ]
  },
  {
   "cell_type": "code",
   "execution_count": 55,
   "metadata": {},
   "outputs": [
    {
     "data": {
      "text/plain": [
       "False"
      ]
     },
     "execution_count": 55,
     "metadata": {},
     "output_type": "execute_result"
    }
   ],
   "source": [
    "d.isdigit()"
   ]
  },
  {
   "cell_type": "code",
   "execution_count": 67,
   "metadata": {},
   "outputs": [
    {
     "name": "stdout",
     "output_type": "stream",
     "text": [
      "3 7\n",
      "12.0\n"
     ]
    }
   ],
   "source": [
    "a = list(map(int, input().split()))\n",
    "m = a[0]\n",
    "n = a[1]\n",
    "ans = 1\n",
    "if n % m == 0:\n",
    "    c = n / m\n",
    "    print(c**m)\n",
    "else:\n",
    "    while m > 0:\n",
    "        n -= 3\n",
    "        m -= 1\n",
    "        if n % m == 0:\n",
    "            c = n / m\n",
    "            print(3 * c ** m)\n",
    "            break\n",
    "    if n == 1:\n",
    "        print(3 ** (m -1) * 4)\n",
    "    if n == 2:\n",
    "        print(3 ** (m-1) * 5)"
   ]
  },
  {
   "cell_type": "code",
   "execution_count": 68,
   "metadata": {},
   "outputs": [
    {
     "data": {
      "text/plain": [
       "12"
      ]
     },
     "execution_count": 68,
     "metadata": {},
     "output_type": "execute_result"
    }
   ],
   "source": [
    "int(12.0)"
   ]
  },
  {
   "cell_type": "code",
   "execution_count": null,
   "metadata": {
    "collapsed": true
   },
   "outputs": [],
   "source": []
  }
 ],
 "metadata": {
  "kernelspec": {
   "display_name": "Python 3",
   "language": "python",
   "name": "python3"
  },
  "language_info": {
   "codemirror_mode": {
    "name": "ipython",
    "version": 3
   },
   "file_extension": ".py",
   "mimetype": "text/x-python",
   "name": "python",
   "nbconvert_exporter": "python",
   "pygments_lexer": "ipython3",
   "version": "3.6.3"
  }
 },
 "nbformat": 4,
 "nbformat_minor": 2
}
