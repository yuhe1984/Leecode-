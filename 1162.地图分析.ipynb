{
 "cells": [
  {
   "cell_type": "markdown",
   "metadata": {},
   "source": [
    "# 广度优先搜索"
   ]
  },
  {
   "cell_type": "code",
   "execution_count": 1,
   "metadata": {
    "collapsed": true
   },
   "outputs": [],
   "source": [
    "class Solution:\n",
    "    def maxDistance(self, grid):\n",
    "        rows = len(grid)\n",
    "        cols = len(grid[0])\n",
    "        start = []\n",
    "        for i in range(rows): # 将所有起点存入 start 数组\n",
    "            for j in range(cols):\n",
    "                if grid[i][j] == 1:\n",
    "                    start.append((i, j, 0))\n",
    "        \n",
    "        if len(start) == 0 or len(start) == rows * cols: # 特判\n",
    "            return -1\n",
    "\n",
    "        queue = collections.deque(start) # 队列初始化\n",
    "        dr = [0, 1, 0, -1] # 建立方向数组\n",
    "        dc = [1, 0, -1, 0]\n",
    "        while queue:\n",
    "            i, j, dis = queue.popleft()\n",
    "            for d in range(4): # 四个方向\n",
    "                x = i + dr[d]\n",
    "                y = j + dc[d]\n",
    "                if x < 0 or y < 0 or x == rows or y == cols or grid[x][y] == 1: \n",
    "                    continue\n",
    "                queue.append((x, y, dis + 1))\n",
    "                grid[x][y] = 1 # 访问过的位置标记为 1\n",
    "                \n",
    "        return dis"
   ]
  },
  {
   "cell_type": "markdown",
   "metadata": {},
   "source": [
    "# 动态规划"
   ]
  },
  {
   "cell_type": "code",
   "execution_count": 3,
   "metadata": {},
   "outputs": [],
   "source": [
    "class Solution:\n",
    "    def maxDistance(self, grid):\n",
    "        n, m = len(grid), len(grid[0])\n",
    "        dis = [[float(\"inf\") for j in range(m+2)] for i in range(n+2)]\n",
    "        for i in range(1, n+1):\n",
    "            for j in range(1, m+1):\n",
    "                if grid[i-1][j-1]:\n",
    "                    dis[i][j] = 0\n",
    "                else:\n",
    "                    dis[i][j] = min(dis[i-1][j], dis[i][j-1]) + 1\n",
    "        res = -1\n",
    "        for i in range(n, 0, -1):\n",
    "            for j in range(m, 0, -1):\n",
    "                if grid[i-1][j-1]:\n",
    "                    dis[i][j] = 0\n",
    "                else:\n",
    "                    dis[i][j] = min(dis[i+1][j]+1, dis[i][j+1]+1, dis[i][j])\n",
    "                    res = max(dis[i][j], res)\n",
    "        return res if res != -1 and res != float(\"inf\") else -1"
   ]
  },
  {
   "cell_type": "code",
   "execution_count": null,
   "metadata": {
    "collapsed": true
   },
   "outputs": [],
   "source": []
  }
 ],
 "metadata": {
  "kernelspec": {
   "display_name": "Python 3",
   "language": "python",
   "name": "python3"
  },
  "language_info": {
   "codemirror_mode": {
    "name": "ipython",
    "version": 3
   },
   "file_extension": ".py",
   "mimetype": "text/x-python",
   "name": "python",
   "nbconvert_exporter": "python",
   "pygments_lexer": "ipython3",
   "version": "3.6.3"
  }
 },
 "nbformat": 4,
 "nbformat_minor": 2
}
