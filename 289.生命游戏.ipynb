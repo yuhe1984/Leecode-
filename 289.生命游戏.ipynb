{
 "cells": [
  {
   "cell_type": "markdown",
   "metadata": {},
   "source": [
    "# 使用额外空间"
   ]
  },
  {
   "cell_type": "code",
   "execution_count": 2,
   "metadata": {},
   "outputs": [],
   "source": [
    "class Solution:\n",
    "    def gameOfLife(self, board):\n",
    "        m = len(board)\n",
    "        n = len(board[0])\n",
    "        if m <= 0 or n <= 0:\n",
    "            return []\n",
    "        old = copy.deepcopy(board)\n",
    "\n",
    "        def cntLiveCell(i, j):\n",
    "            cnt = 0\n",
    "            directions = [(0, 1), (0, -1), (-1, 0), (1, 0),\n",
    "                          (1, 1), (1, -1), (-1, 1), (-1, -1)]\n",
    "            for (dx, dy) in directions:\n",
    "                if i + dx >= 0 and i + dx < m and j + dy >= 0 and j + dy < n:\n",
    "                    cnt += old[i + dx][j + dy]\n",
    "\n",
    "            return cnt\n",
    "\n",
    "        for i in range(m):\n",
    "            for j in range(n):\n",
    "                # 八个方向有几个活细胞\n",
    "                cnt = cntLiveCell(i, j)\n",
    "                if old[i][j] == 0 and cnt == 3:\n",
    "                    board[i][j] = 1\n",
    "                if old[i][j] == 1 and (cnt > 3 or cnt < 2):\n",
    "                    board[i][j] = 0"
   ]
  },
  {
   "cell_type": "code",
   "execution_count": 4,
   "metadata": {
    "collapsed": true
   },
   "outputs": [],
   "source": [
    "class Solution:\n",
    "    def gameOfLife(self, board):\n",
    "        \"\"\"\n",
    "        Do not return anything, modify board in-place instead.\n",
    "        \"\"\"\n",
    "        import copy\n",
    "        m = len(board)\n",
    "        n = len(board[0])\n",
    "        if m <= 0 or n <= 0: return []\n",
    "        old = copy.deepcopy(board)\n",
    "        \n",
    "        def cntLiveCell(i, j):\n",
    "            cnt = 0\n",
    "            directions = [(-1,0), (-1,1), (-1,-1), (1,1), (1,0), (1,-1), (0,1), (0,-1)]\n",
    "            for (dx, dy) in directions:\n",
    "                if i + dx >= 0 and i + dx < m and j + dy >= 0 and j + dy < n:\n",
    "                    cnt += old[i + dx][j + dy]\n",
    "            return cnt\n",
    "\n",
    "        for i in range(m):\n",
    "            for j in range(n):\n",
    "                cnt = cntLiveCell(i, j)\n",
    "                if old[i][j] == 0 and cnt == 3:\n",
    "                    board[i][j] = 1\n",
    "                elif old[i][j] == 1 and (cnt > 3 or cnt < 2):\n",
    "                    board[i][j] = 0\n",
    "        return board"
   ]
  },
  {
   "cell_type": "markdown",
   "metadata": {},
   "source": [
    "# 不使用额外空间"
   ]
  },
  {
   "cell_type": "code",
   "execution_count": 3,
   "metadata": {
    "collapsed": true
   },
   "outputs": [],
   "source": [
    "class Solution:\n",
    "    def gameOfLife(self, board):\n",
    "        m = len(board)\n",
    "        n = len(board[0])\n",
    "        if m <= 0 or n <= 0:\n",
    "            return []\n",
    "\n",
    "        def cntLiveCell(i, j):\n",
    "            cnt = 0\n",
    "            directions = [(0, 1), (0, -1), (-1, 0), (1, 0),\n",
    "                          (1, 1), (1, -1), (-1, 1), (-1, -1)]\n",
    "            for (dx, dy) in directions:\n",
    "                if i + dx >= 0 and i + dx < m and j + dy >= 0 and j + dy < n:\n",
    "                    cnt += (board[i + dx][j + dy] & 1)\n",
    "            return cnt\n",
    "        for i in range(m):\n",
    "            for j in range(n):\n",
    "                # 八个方向有几个活细胞\n",
    "                cnt = cntLiveCell(i, j)\n",
    "                board[i][j] |= cnt << 1\n",
    "        for i in range(m):\n",
    "            for j in range(n):\n",
    "                # 变化之前当前cell的值\n",
    "                cell = board[i][j] & 1\n",
    "                cnt = board[i][j] >> 1\n",
    "                if cell == 0 and cnt == 3:\n",
    "                    board[i][j] = 1\n",
    "                elif cell == 1 and (cnt > 3 or cnt < 2):\n",
    "                    board[i][j] = 0\n",
    "                else:\n",
    "                    board[i][j] = cell"
   ]
  },
  {
   "cell_type": "code",
   "execution_count": 5,
   "metadata": {
    "collapsed": true
   },
   "outputs": [],
   "source": [
    "class Solution:\n",
    "    def gameOfLife(self, board):\n",
    "        \"\"\"\n",
    "        Do not return anything, modify board in-place instead.\n",
    "        \"\"\"\n",
    "\n",
    "        neighbors = [(1,0), (1,-1), (0,-1), (-1,-1), (-1,0), (-1,1), (0,1), (1,1)]\n",
    "\n",
    "        rows = len(board)\n",
    "        cols = len(board[0])\n",
    "\n",
    "        # 遍历面板每一个格子里的细胞\n",
    "        for row in range(rows):\n",
    "            for col in range(cols):\n",
    "\n",
    "                # 对于每一个细胞统计其八个相邻位置里的活细胞数量\n",
    "                live_neighbors = 0\n",
    "                for neighbor in neighbors:\n",
    "\n",
    "                    # 相邻位置的坐标\n",
    "                    r = (row + neighbor[0])\n",
    "                    c = (col + neighbor[1])\n",
    "\n",
    "                    # 查看相邻的细胞是否是活细胞\n",
    "                    if (r < rows and r >= 0) and (c < cols and c >= 0) and abs(board[r][c]) == 1:\n",
    "                        live_neighbors += 1\n",
    "\n",
    "                # 规则 1 或规则 3 \n",
    "                if board[row][col] == 1 and (live_neighbors < 2 or live_neighbors > 3):\n",
    "                    # -1 代表这个细胞过去是活的现在死了\n",
    "                    board[row][col] = -1\n",
    "                # 规则 4\n",
    "                if board[row][col] == 0 and live_neighbors == 3:\n",
    "                    # 2 代表这个细胞过去是死的现在活了\n",
    "                    board[row][col] = 2\n",
    "\n",
    "        # 遍历 board 得到一次更新后的状态\n",
    "        for row in range(rows):\n",
    "            for col in range(cols):\n",
    "                if board[row][col] > 0:\n",
    "                    board[row][col] = 1\n",
    "                else:\n",
    "                    board[row][col] = 0"
   ]
  },
  {
   "cell_type": "code",
   "execution_count": 8,
   "metadata": {
    "collapsed": true
   },
   "outputs": [],
   "source": [
    "class Solution:\n",
    "    def gameOfLife(self, board):\n",
    "        directions = [(-1, 1), (-1, 0), (-1, -1), (1, -1), (1, 1), (1, 0), (0, -1), (0, 1)]\n",
    "        rows = len(board)\n",
    "        cols = len(board[0])\n",
    "        \n",
    "        for row in range(rows):\n",
    "            for col in range(cols):\n",
    "                live_neighbors = 0\n",
    "                for neighbors in directions:\n",
    "                    r = (row + neighbors[0])\n",
    "                    c = (col + neighbors[1])\n",
    "                    if (r < rows and r >= 0) and (c < cols and c >= 0) and abs(board[r][c]) == 1:\n",
    "                        live_neighbors += 1\n",
    "                        \n",
    "                if board[row][col] == 1 and (live_neighbors < 2 or live_neighbors > 3):\n",
    "                    board[row][col] = -1\n",
    "                if board[row][col] == 0 and live_neighbors == 3:\n",
    "                    board[row][col] = 2\n",
    "                    \n",
    "        for row in range(rows):\n",
    "            for col in range(cols):\n",
    "                if board[row][col] > 0:\n",
    "                    board[row][col] = 1\n",
    "                else:\n",
    "                    board[row][col] = 0"
   ]
  },
  {
   "cell_type": "code",
   "execution_count": null,
   "metadata": {
    "collapsed": true
   },
   "outputs": [],
   "source": []
  }
 ],
 "metadata": {
  "kernelspec": {
   "display_name": "Python 3",
   "language": "python",
   "name": "python3"
  },
  "language_info": {
   "codemirror_mode": {
    "name": "ipython",
    "version": 3
   },
   "file_extension": ".py",
   "mimetype": "text/x-python",
   "name": "python",
   "nbconvert_exporter": "python",
   "pygments_lexer": "ipython3",
   "version": "3.6.3"
  }
 },
 "nbformat": 4,
 "nbformat_minor": 2
}
