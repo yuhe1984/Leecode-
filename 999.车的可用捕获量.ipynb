{
 "cells": [
  {
   "cell_type": "code",
   "execution_count": null,
   "metadata": {
    "collapsed": true
   },
   "outputs": [],
   "source": [
    "class Solution:\n",
    "    def numRookCaptures(self, board):\n",
    "        cnt, st, ed = 0, 0, 0\n",
    "        dx, dy = [0, 1, 0, -1], [1, 0, -1, 0]\n",
    "        for i in range(8):\n",
    "            for j in range(8):\n",
    "                if board[i][j] == \"R\":\n",
    "                    st, ed = i, j\n",
    "        for i in range(4):\n",
    "            step = 0\n",
    "            while True:\n",
    "                tx = st + step * dx[i]\n",
    "                ty = ed + step * dy[i]\n",
    "                if tx < 0 or tx >= 8 or ty < 0 or ty >= 8 or board[tx][ty] == \"B\":\n",
    "                    break\n",
    "                if board[tx][ty] == \"p\":\n",
    "                    cnt += 1\n",
    "                    break\n",
    "                step += 1\n",
    "        return cnt"
   ]
  },
  {
   "cell_type": "code",
   "execution_count": null,
   "metadata": {
    "collapsed": true
   },
   "outputs": [],
   "source": [
    "class Solution:\n",
    "    def numRookCaptures(self, board):\n",
    "        '''首先找到车所在的行和列,然后根据所在的行和列匹配车所能捕获的卒数'''\n",
    "        output = 0\n",
    "        col = None\n",
    "        row = None\n",
    "        for i in range(len(board)):\n",
    "            if 'R' in board[i]:\n",
    "                row = i\n",
    "                break\n",
    "        col = board[row].index('R')\n",
    "        s = ''.join(board[row])\n",
    "        s = s.replace('.', '')\n",
    "        if 'pR' in s:\n",
    "            output += 1\n",
    "        if 'Rp' in s:\n",
    "            output += 1\n",
    "        s = ''.join([i[col] for i in board])\n",
    "        s = s.replace('.', '')\n",
    "        if 'pR' in s:\n",
    "            output += 1\n",
    "        if 'Rp' in s:\n",
    "            output += 1\n",
    "        return output"
   ]
  },
  {
   "cell_type": "code",
   "execution_count": null,
   "metadata": {
    "collapsed": true
   },
   "outputs": [],
   "source": [
    "class Solution:\n",
    "    def numRookCaptures(self, board: List[List[str]]) -> int:\n",
    "        cnt, ed, st = 0, 0, 0\n",
    "        for i in range(len(board)):\n",
    "            for j in range(len(board[0])):\n",
    "                if board[i][j] == 'R':\n",
    "                    ed, st = i, j\n",
    "                    break\n",
    "        dx = [1, 0, -1, 0]\n",
    "        dy = [0, 1, 0, -1]\n",
    "        for i in range(4):\n",
    "            step = 0\n",
    "            while True:\n",
    "                edx, sty = ed + step * dx[i], st + step * dy[i]\n",
    "                if edx < 0 or edx >= 8 or sty < 0 or sty >= 8 or board[edx][sty] == 'B':\n",
    "                    break\n",
    "                if board[edx][sty] == 'p':\n",
    "                    cnt += 1\n",
    "                    break\n",
    "                step += 1\n",
    "        return cnt"
   ]
  },
  {
   "cell_type": "code",
   "execution_count": null,
   "metadata": {
    "collapsed": true
   },
   "outputs": [],
   "source": []
  }
 ],
 "metadata": {
  "kernelspec": {
   "display_name": "Python 3",
   "language": "python",
   "name": "python3"
  }
 },
 "nbformat": 4,
 "nbformat_minor": 2
}
