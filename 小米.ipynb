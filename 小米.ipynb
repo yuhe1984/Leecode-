{
 "cells": [
  {
   "cell_type": "code",
   "execution_count": 21,
   "metadata": {},
   "outputs": [
    {
     "name": "stdout",
     "output_type": "stream",
     "text": [
      "2 3 2\n",
      "1 2 3\n",
      "1 2 3\n",
      "1 1\n",
      "1 1\n",
      "1 1\n",
      "6 6\n",
      "6 6\n"
     ]
    }
   ],
   "source": [
    "num = list(map(int, input().split(' ')))\n",
    "M = num[0]\n",
    "K = num[1]\n",
    "N = num[2]\n",
    "A = []\n",
    "for i in range(M):\n",
    "    res = list(map(int, input().split(' ')))\n",
    "    A.append(res)\n",
    "B = []\n",
    "for i in range(K):\n",
    "    res = list(map(int, input().split(' ')))\n",
    "    B.append(res)\n",
    "C = [[0] * len(B[0]) for i in range(len(A))]\n",
    "for i in range(len(A)):\n",
    "    for j in range(len(B[0])):\n",
    "        for k in range(len(B)):\n",
    "            C[i][j] += A[i][k] * B[k][j]\n",
    "l = []\n",
    "for i in C:\n",
    "    l.append(' '.join(str(j) for j in i))\n",
    "for i in l:\n",
    "    print(i)"
   ]
  },
  {
   "cell_type": "code",
   "execution_count": 31,
   "metadata": {},
   "outputs": [
    {
     "name": "stdout",
     "output_type": "stream",
     "text": [
      "2 3 2\n",
      "1 2 3\n",
      "1 2 3\n",
      "1 1\n",
      "1 1\n",
      "1 1\n",
      "6 6 \n",
      "6 6\n"
     ]
    }
   ],
   "source": [
    "num = list(map(int, input().split(' ')))\n",
    "M = num[0]\n",
    "K = num[1]\n",
    "N = num[2]\n",
    "A = []\n",
    "for i in range(M):\n",
    "    res = list(map(int, input().split(' ')))\n",
    "    A.append(res)\n",
    "B = []\n",
    "for i in range(K):\n",
    "    res = list(map(int, input().split(' ')))\n",
    "    B.append(res)\n",
    "C = [[0] * len(B[0]) for i in range(len(A))]\n",
    "for i in range(len(A)):\n",
    "    for j in range(len(B[0])):\n",
    "        for k in range(len(B)):\n",
    "            C[i][j] += A[i][k] * B[k][j]\n",
    "l = []\n",
    "for i in C:\n",
    "    l.append(' '.join(str(j) for j in i))\n",
    "for i in range(len(l)):\n",
    "    if i != len(l) - 1:\n",
    "        print(l[i] + ' ')\n",
    "    else:\n",
    "        print(l[i])"
   ]
  },
  {
   "cell_type": "code",
   "execution_count": 18,
   "metadata": {},
   "outputs": [
    {
     "name": "stdout",
     "output_type": "stream",
     "text": [
      "5 13\n",
      "11 29\n"
     ]
    }
   ],
   "source": [
    "for i in l:\n",
    "    print(i)"
   ]
  },
  {
   "cell_type": "code",
   "execution_count": 32,
   "metadata": {},
   "outputs": [
    {
     "name": "stdout",
     "output_type": "stream",
     "text": [
      "6 6 3\n"
     ]
    }
   ],
   "source": [
    "print(6,6,3)"
   ]
  },
  {
   "cell_type": "code",
   "execution_count": 33,
   "metadata": {
    "collapsed": true
   },
   "outputs": [],
   "source": [
    "import numpy as np"
   ]
  },
  {
   "cell_type": "code",
   "execution_count": 36,
   "metadata": {},
   "outputs": [],
   "source": [
    "A = np.array(A)\n",
    "B = np.array(B)"
   ]
  },
  {
   "cell_type": "code",
   "execution_count": 38,
   "metadata": {},
   "outputs": [],
   "source": [
    "C = A.dot(B)"
   ]
  },
  {
   "cell_type": "code",
   "execution_count": 40,
   "metadata": {},
   "outputs": [
    {
     "name": "stdout",
     "output_type": "stream",
     "text": [
      "[[6 6]\n",
      " [6 6]]\n"
     ]
    }
   ],
   "source": [
    "print(C)"
   ]
  },
  {
   "cell_type": "code",
   "execution_count": 42,
   "metadata": {},
   "outputs": [
    {
     "name": "stdout",
     "output_type": "stream",
     "text": [
      "6 6 \n",
      "6 6\n"
     ]
    }
   ],
   "source": [
    "C = C.tolist()\n",
    "l = []\n",
    "for i in C:\n",
    "    l.append(' '.join(str(j) for j in i))\n",
    "for i in range(len(l)):\n",
    "    if i != len(l) - 1:\n",
    "        print(l[i] + ' ')\n",
    "    else:\n",
    "        print(l[i])"
   ]
  },
  {
   "cell_type": "code",
   "execution_count": null,
   "metadata": {
    "collapsed": true
   },
   "outputs": [],
   "source": []
  }
 ],
 "metadata": {
  "kernelspec": {
   "display_name": "Python 3",
   "language": "python",
   "name": "python3"
  },
  "language_info": {
   "codemirror_mode": {
    "name": "ipython",
    "version": 3
   },
   "file_extension": ".py",
   "mimetype": "text/x-python",
   "name": "python",
   "nbconvert_exporter": "python",
   "pygments_lexer": "ipython3",
   "version": "3.6.3"
  }
 },
 "nbformat": 4,
 "nbformat_minor": 2
}
