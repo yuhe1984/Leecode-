{
 "cells": [
  {
   "cell_type": "code",
   "execution_count": 5,
   "metadata": {},
   "outputs": [
    {
     "name": "stdout",
     "output_type": "stream",
     "text": [
      "abda\n",
      "['a', 'b', 'd', 'a']\n",
      "['a', 'b', 'd', 'a']\n",
      "ada\n"
     ]
    }
   ],
   "source": [
    "s = input()\n",
    "s = list(s)\n",
    "for i in s:\n",
    "    s1 = s.copy()\n",
    "    s1.remove(i)\n",
    "    s2 = ''.join(s1)\n",
    "    if s2 == s2[::-1]:\n",
    "        print(s2)\n",
    "        break\n",
    "if s2 != s2[::-1]:\n",
    "    print('false')"
   ]
  },
  {
   "cell_type": "code",
   "execution_count": 3,
   "metadata": {},
   "outputs": [
    {
     "data": {
      "text/plain": [
       "['b', 'a']"
      ]
     },
     "execution_count": 3,
     "metadata": {},
     "output_type": "execute_result"
    }
   ],
   "source": [
    "s"
   ]
  },
  {
   "cell_type": "code",
   "execution_count": null,
   "metadata": {
    "collapsed": true
   },
   "outputs": [],
   "source": [
    "s = input()\n",
    "if s == s[::-1]:\n",
    "    print(s)\n",
    "else:\n",
    "    s = list(s)\n",
    "    for i in s:\n",
    "        s1 = s.copy()\n",
    "        s1.remove(i)\n",
    "        s2 = ''.join(s1)\n",
    "        if s2 == s2[::-1]:\n",
    "            print(s2)\n",
    "            break\n",
    "    if s2 != s2[::-1]:\n",
    "        print('false')"
   ]
  },
  {
   "cell_type": "code",
   "execution_count": 6,
   "metadata": {
    "collapsed": true
   },
   "outputs": [],
   "source": [
    "s = 'abcd'"
   ]
  },
  {
   "cell_type": "code",
   "execution_count": 8,
   "metadata": {},
   "outputs": [
    {
     "data": {
      "text/plain": [
       "'a'"
      ]
     },
     "execution_count": 8,
     "metadata": {},
     "output_type": "execute_result"
    }
   ],
   "source": [
    "s1 = s[:1]\n",
    "s1"
   ]
  },
  {
   "cell_type": "code",
   "execution_count": 13,
   "metadata": {},
   "outputs": [
    {
     "name": "stdout",
     "output_type": "stream",
     "text": [
      "abda\n",
      "ada\n"
     ]
    }
   ],
   "source": [
    "s = input()\n",
    "for i in range(len(s)):\n",
    "    s1 = s[:i]\n",
    "    s2 = s[i+1:]\n",
    "    s3 = s1 + s2\n",
    "    if s3 == s3[::-1]:\n",
    "        print(s3)\n",
    "        break\n",
    "if s3 != s3[::-1]:\n",
    "    print('false')"
   ]
  },
  {
   "cell_type": "code",
   "execution_count": 11,
   "metadata": {},
   "outputs": [
    {
     "data": {
      "text/plain": [
       "''"
      ]
     },
     "execution_count": 11,
     "metadata": {},
     "output_type": "execute_result"
    }
   ],
   "source": [
    "s1"
   ]
  },
  {
   "cell_type": "code",
   "execution_count": 62,
   "metadata": {
    "collapsed": true
   },
   "outputs": [],
   "source": [
    "nums = \"1,2,-1,1\"\n",
    "nums = list(map(int, nums.split(',')))\n",
    "res = [[] for i in range(len(nums))]\n",
    "x = nums.index(-1)\n",
    "for i in range(len(nums)):\n",
    "    if nums[i] != -1:\n",
    "        res[nums[i]].append(i)"
   ]
  },
  {
   "cell_type": "code",
   "execution_count": 63,
   "metadata": {
    "collapsed": true
   },
   "outputs": [],
   "source": [
    "n = len(nums)\n",
    "import collections\n",
    "vis = [x]\n",
    "que = collections.deque([x])\n",
    "\n",
    "while que:\n",
    "    x = que.popleft()\n",
    "    for i in res[x]:\n",
    "        if i not in vis:\n",
    "            vis.append(i)\n",
    "            que.append(i)"
   ]
  },
  {
   "cell_type": "code",
   "execution_count": 64,
   "metadata": {},
   "outputs": [
    {
     "data": {
      "text/plain": [
       "'2,1,0,3'"
      ]
     },
     "execution_count": 64,
     "metadata": {},
     "output_type": "execute_result"
    }
   ],
   "source": [
    "vis = list(map(str, vis))\n",
    "','.join(vis)"
   ]
  },
  {
   "cell_type": "code",
   "execution_count": 53,
   "metadata": {
    "collapsed": true
   },
   "outputs": [],
   "source": [
    "#\n",
    "# 代码中的类名、方法名、参数名已经指定，请勿修改，直接返回方法规定的值即可\n",
    "# 编译顺序\n",
    "# @param input string字符串 \n",
    "# @return string字符串\n",
    "#\n",
    "class Solution:\n",
    "    def compileSeq(self , input ):\n",
    "        # write code here\n",
    "        nums = list(map(int, input.split(',')))\n",
    "        res = [[] for i in range(len(nums))]\n",
    "        x = nums.index(-1)\n",
    "        for i in range(len(nums)):\n",
    "            if nums[i] != -1:\n",
    "                res[nums[i]].append(i)\n",
    "        n = len(nums)\n",
    "        import collections\n",
    "        vis = [x]\n",
    "        que = collections.deque([x])\n",
    "\n",
    "        while que:\n",
    "            x = que.popleft()\n",
    "            for i in res[x]:\n",
    "                if i not in vis:\n",
    "                    vis.append(i)\n",
    "                    que.append(i)\n",
    "        vis = list(map(str, vis))\n",
    "        ans = ','.join(vis)\n",
    "        return ans"
   ]
  },
  {
   "cell_type": "code",
   "execution_count": 54,
   "metadata": {
    "collapsed": true
   },
   "outputs": [],
   "source": [
    "a = Solution()"
   ]
  },
  {
   "cell_type": "code",
   "execution_count": 58,
   "metadata": {},
   "outputs": [
    {
     "data": {
      "text/plain": [
       "'2,1,0,3'"
      ]
     },
     "execution_count": 58,
     "metadata": {},
     "output_type": "execute_result"
    }
   ],
   "source": [
    "a.compileSeq(\"1,2,-1,1\")"
   ]
  },
  {
   "cell_type": "code",
   "execution_count": 65,
   "metadata": {},
   "outputs": [
    {
     "data": {
      "text/plain": [
       "[[], [0, 3], [1], []]"
      ]
     },
     "execution_count": 65,
     "metadata": {},
     "output_type": "execute_result"
    }
   ],
   "source": [
    "res"
   ]
  },
  {
   "cell_type": "code",
   "execution_count": 66,
   "metadata": {
    "collapsed": true
   },
   "outputs": [],
   "source": [
    "for i in range(len(res)):\n",
    "    res[i].sort()"
   ]
  },
  {
   "cell_type": "code",
   "execution_count": 67,
   "metadata": {},
   "outputs": [
    {
     "data": {
      "text/plain": [
       "[[], [0, 3], [1], []]"
      ]
     },
     "execution_count": 67,
     "metadata": {},
     "output_type": "execute_result"
    }
   ],
   "source": [
    "res"
   ]
  },
  {
   "cell_type": "code",
   "execution_count": null,
   "metadata": {
    "collapsed": true
   },
   "outputs": [],
   "source": []
  }
 ],
 "metadata": {
  "kernelspec": {
   "display_name": "Python 3",
   "language": "python",
   "name": "python3"
  },
  "language_info": {
   "codemirror_mode": {
    "name": "ipython",
    "version": 3
   },
   "file_extension": ".py",
   "mimetype": "text/x-python",
   "name": "python",
   "nbconvert_exporter": "python",
   "pygments_lexer": "ipython3",
   "version": "3.6.3"
  }
 },
 "nbformat": 4,
 "nbformat_minor": 2
}
