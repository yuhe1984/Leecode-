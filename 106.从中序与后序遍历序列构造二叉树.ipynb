{
 "cells": [
  {
   "cell_type": "code",
   "execution_count": 1,
   "metadata": {
    "collapsed": true
   },
   "outputs": [],
   "source": [
    "class Solution:\n",
    "    def buildTree(self, inorder, postorder):\n",
    "        def helper(in_left, in_right):\n",
    "            # if there is no elements to construct subtrees\n",
    "            if in_left > in_right:\n",
    "                return None\n",
    "            \n",
    "            # pick up the last element as a root\n",
    "            val = postorder.pop()\n",
    "            root = TreeNode(val)\n",
    "\n",
    "            # root splits inorder list\n",
    "            # into left and right subtrees\n",
    "            index = idx_map[val]\n",
    " \n",
    "            # build right subtree\n",
    "            root.right = helper(index + 1, in_right)\n",
    "            # build left subtree\n",
    "            root.left = helper(in_left, index - 1)\n",
    "            return root\n",
    "        \n",
    "        # build a hashmap value -> its index\n",
    "        idx_map = {val:idx for idx, val in enumerate(inorder)} \n",
    "        return helper(0, len(inorder) - 1)"
   ]
  },
  {
   "cell_type": "code",
   "execution_count": 6,
   "metadata": {},
   "outputs": [],
   "source": [
    "class Solution:\n",
    "    def buildTree(self, inorder, postorder):\n",
    "        def helper(in_left, in_right):\n",
    "            if in_left > in_right:\n",
    "                return None\n",
    "            val = postorder.pop()\n",
    "            root = TreeNode(val)\n",
    "            index = idx_map[val]\n",
    "            root.right = helper(index + 1, in_right)\n",
    "            root.left = helper(in_left, index - 1)\n",
    "            return root\n",
    "        \n",
    "        \n",
    "        idx_map = {val:idx for idx, val in enumerate(inorder)}\n",
    "        return helper(0, len(inorder) - 1)"
   ]
  },
  {
   "cell_type": "code",
   "execution_count": null,
   "metadata": {
    "collapsed": true
   },
   "outputs": [],
   "source": []
  }
 ],
 "metadata": {
  "kernelspec": {
   "display_name": "Python 3",
   "language": "python",
   "name": "python3"
  },
  "language_info": {
   "codemirror_mode": {
    "name": "ipython",
    "version": 3
   },
   "file_extension": ".py",
   "mimetype": "text/x-python",
   "name": "python",
   "nbconvert_exporter": "python",
   "pygments_lexer": "ipython3",
   "version": "3.6.3"
  }
 },
 "nbformat": 4,
 "nbformat_minor": 2
}
