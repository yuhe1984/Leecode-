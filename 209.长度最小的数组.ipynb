{
 "cells": [
  {
   "cell_type": "markdown",
   "metadata": {},
   "source": [
    "# 双指针"
   ]
  },
  {
   "cell_type": "code",
   "execution_count": 3,
   "metadata": {
    "collapsed": true
   },
   "outputs": [],
   "source": [
    "class Solution:\n",
    "    def minSubArrayLen(self, s, nums):\n",
    "        if not nums:\n",
    "            return 0\n",
    "        \n",
    "        n = len(nums)\n",
    "        ans = n + 1\n",
    "        start, end = 0, 0\n",
    "        total = 0\n",
    "        while end < n:\n",
    "            total += nums[end]\n",
    "            while total >= s:\n",
    "                ans = min(ans, end - start + 1)\n",
    "                total -= nums[start]\n",
    "                start += 1\n",
    "            end += 1\n",
    "        \n",
    "        return 0 if ans == n + 1 else ans"
   ]
  },
  {
   "cell_type": "markdown",
   "metadata": {},
   "source": [
    "# 前缀和+二分查找"
   ]
  },
  {
   "cell_type": "code",
   "execution_count": 2,
   "metadata": {
    "collapsed": true
   },
   "outputs": [],
   "source": [
    "class Solution:\n",
    "    def minSubArrayLen(self, s, nums):\n",
    "        if not nums:\n",
    "            return 0\n",
    "        \n",
    "        n = len(nums)\n",
    "        ans = n + 1\n",
    "        sums = [0]\n",
    "        for i in range(n):\n",
    "            sums.append(sums[-1] + nums[i])\n",
    "        \n",
    "        for i in range(1, n + 1):\n",
    "            target = s + sums[i - 1]\n",
    "            bound = bisect.bisect_left(sums, target)\n",
    "            if bound != len(sums):\n",
    "                ans = min(ans, bound - (i - 1))\n",
    "        \n",
    "        return 0 if ans == n + 1 else ans"
   ]
  },
  {
   "cell_type": "code",
   "execution_count": null,
   "metadata": {
    "collapsed": true
   },
   "outputs": [],
   "source": []
  }
 ],
 "metadata": {
  "kernelspec": {
   "display_name": "Python 3",
   "language": "python",
   "name": "python3"
  },
  "language_info": {
   "codemirror_mode": {
    "name": "ipython",
    "version": 3
   },
   "file_extension": ".py",
   "mimetype": "text/x-python",
   "name": "python",
   "nbconvert_exporter": "python",
   "pygments_lexer": "ipython3",
   "version": "3.6.3"
  }
 },
 "nbformat": 4,
 "nbformat_minor": 2
}
