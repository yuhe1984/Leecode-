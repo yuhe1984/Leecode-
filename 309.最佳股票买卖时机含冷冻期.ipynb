{
 "cells": [
  {
   "cell_type": "code",
   "execution_count": 1,
   "metadata": {
    "collapsed": true
   },
   "outputs": [],
   "source": [
    "class Solution:\n",
    "    def maxProfit(self, prices):\n",
    "        if not prices:\n",
    "            return 0\n",
    "        \n",
    "        n = len(prices)\n",
    "        # f[i][0]: 手上持有股票的最大收益\n",
    "        # f[i][1]: 手上不持有股票，并且处于冷冻期中的累计最大收益\n",
    "        # f[i][2]: 手上不持有股票，并且不在冷冻期中的累计最大收益\n",
    "        f = [[-prices[0], 0, 0]] + [[0] * 3 for _ in range(n - 1)]\n",
    "        print(f)\n",
    "        for i in range(1, n):\n",
    "            f[i][0] = max(f[i - 1][0], f[i - 1][2] - prices[i])\n",
    "            f[i][1] = f[i - 1][0] + prices[i]\n",
    "            f[i][2] = max(f[i - 1][1], f[i - 1][2])\n",
    "        \n",
    "        return max(f[n - 1][1], f[n - 1][2])"
   ]
  },
  {
   "cell_type": "code",
   "execution_count": null,
   "metadata": {
    "collapsed": true
   },
   "outputs": [],
   "source": []
  }
 ],
 "metadata": {
  "kernelspec": {
   "display_name": "Python 3",
   "language": "python",
   "name": "python3"
  },
  "language_info": {
   "codemirror_mode": {
    "name": "ipython",
    "version": 3
   },
   "file_extension": ".py",
   "mimetype": "text/x-python",
   "name": "python",
   "nbconvert_exporter": "python",
   "pygments_lexer": "ipython3",
   "version": "3.6.3"
  }
 },
 "nbformat": 4,
 "nbformat_minor": 2
}
