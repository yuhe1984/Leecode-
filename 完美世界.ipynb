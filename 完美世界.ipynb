{
 "cells": [
  {
   "cell_type": "code",
   "execution_count": 28,
   "metadata": {},
   "outputs": [
    {
     "name": "stdout",
     "output_type": "stream",
     "text": [
      "3542   3 422 51272\n"
     ]
    },
    {
     "data": {
      "text/plain": [
       "'3542   3 422 51272'"
      ]
     },
     "execution_count": 28,
     "metadata": {},
     "output_type": "execute_result"
    }
   ],
   "source": [
    "nums = input()\n",
    "nums.strip()"
   ]
  },
  {
   "cell_type": "code",
   "execution_count": 29,
   "metadata": {},
   "outputs": [
    {
     "data": {
      "text/plain": [
       "'3542   3 422 51272'"
      ]
     },
     "execution_count": 29,
     "metadata": {},
     "output_type": "execute_result"
    }
   ],
   "source": [
    "nums"
   ]
  },
  {
   "cell_type": "code",
   "execution_count": 30,
   "metadata": {},
   "outputs": [],
   "source": [
    "res = nums.split(' ')"
   ]
  },
  {
   "cell_type": "code",
   "execution_count": 31,
   "metadata": {},
   "outputs": [],
   "source": [
    "res = res[::-1]"
   ]
  },
  {
   "cell_type": "code",
   "execution_count": 32,
   "metadata": {},
   "outputs": [
    {
     "data": {
      "text/plain": [
       "['51272', '422', '3', '', '', '3542']"
      ]
     },
     "execution_count": 32,
     "metadata": {},
     "output_type": "execute_result"
    }
   ],
   "source": [
    "res"
   ]
  },
  {
   "cell_type": "code",
   "execution_count": 33,
   "metadata": {},
   "outputs": [],
   "source": [
    "ans = []\n",
    "for i in res:\n",
    "    if i != '':\n",
    "        ans.append(i)"
   ]
  },
  {
   "cell_type": "code",
   "execution_count": 34,
   "metadata": {},
   "outputs": [
    {
     "data": {
      "text/plain": [
       "['51272', '422', '3', '3542']"
      ]
     },
     "execution_count": 34,
     "metadata": {},
     "output_type": "execute_result"
    }
   ],
   "source": [
    "ans"
   ]
  },
  {
   "cell_type": "code",
   "execution_count": 39,
   "metadata": {},
   "outputs": [
    {
     "name": "stdout",
     "output_type": "stream",
     "text": [
      "6\n",
      "900 940 950 1100 1500 1800\n",
      "930 1200 1120 1130 1900 2000\n"
     ]
    }
   ],
   "source": [
    "n = int(input())\n",
    "start = list(map(int, input().split(' ')))\n",
    "end = list(map(int, input().split(' ')))"
   ]
  },
  {
   "cell_type": "code",
   "execution_count": 42,
   "metadata": {},
   "outputs": [],
   "source": [
    "nums = []\n",
    "for i, j in zip(start, end):\n",
    "    nums.append([i, j])"
   ]
  },
  {
   "cell_type": "code",
   "execution_count": 45,
   "metadata": {},
   "outputs": [
    {
     "name": "stdout",
     "output_type": "stream",
     "text": [
      "3\n"
     ]
    }
   ],
   "source": [
    "count1 = [0 for i in range(n)]\n",
    "count2 = [0 for i in range(n)]\n",
    "for i in range(0, n-1):\n",
    "    for j in range(i+1, n):\n",
    "        if nums[i][1] <= nums[j][0]:\n",
    "            break\n",
    "        if nums[i][0] >= nums[j][0] and nums[i][0] < nums[j][1]:\n",
    "            count1[i] += 1\n",
    "        if nums[i][0] >= nums[j][0] and nums[j][0] < nums[i][1]:\n",
    "            count1[i] += 1\n",
    "        if nums[i][1] >= nums[j][0] and nums[i][1] < nums[j][1]:\n",
    "            count2[i] += 1\n",
    "        if nums[j][1] >= nums[i][0] and nums[j][1] < nums[i][1]:\n",
    "            count2[i] += 1\n",
    "print(max(max(count1), max(count2)) + 1)"
   ]
  },
  {
   "cell_type": "code",
   "execution_count": null,
   "metadata": {
    "collapsed": true
   },
   "outputs": [],
   "source": [
    "n = int(input())\n",
    "start = list(map(int, input().split(' ')))\n",
    "end = list(map(int, input().split(' ')))\n",
    "nums = []\n",
    "for i, j in zip(start, end):\n",
    "    nums.append([i, j])\n",
    "nums.sort()\n",
    "count1 = [0 for i in range(n)]\n",
    "count2 = [0 for i in range(n)]\n",
    "for i in range(0, n-1):\n",
    "    for j in range(i+1, n):\n",
    "        if nums[i][1] <= nums[j][0]:\n",
    "            break\n",
    "        if nums[i][0] >= nums[j][0] and nums[i][0] < nums[j][1]:\n",
    "            count1[i] += 1\n",
    "        if nums[j][0] >= nums[i][0] and nums[j][0] < nums[i][1]:\n",
    "            count1[j] += 1\n",
    "        if nums[i][1] >= nums[j][0] and nums[i][1] < nums[j][1]:\n",
    "            count2[i] += 1\n",
    "        if nums[j][1] >= nums[i][0] and nums[j][1] < nums[i][1]:\n",
    "            count2[j] += 1\n",
    "print(max(max(count1), max(count2)) + 1)"
   ]
  },
  {
   "cell_type": "code",
   "execution_count": null,
   "metadata": {
    "collapsed": true
   },
   "outputs": [],
   "source": []
  }
 ],
 "metadata": {
  "kernelspec": {
   "display_name": "Python 3",
   "language": "python",
   "name": "python3"
  },
  "language_info": {
   "codemirror_mode": {
    "name": "ipython",
    "version": 3
   },
   "file_extension": ".py",
   "mimetype": "text/x-python",
   "name": "python",
   "nbconvert_exporter": "python",
   "pygments_lexer": "ipython3",
   "version": "3.6.3"
  }
 },
 "nbformat": 4,
 "nbformat_minor": 2
}
