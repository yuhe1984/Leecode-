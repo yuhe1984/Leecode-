{
 "cells": [
  {
   "cell_type": "code",
   "execution_count": 3,
   "metadata": {
    "collapsed": true
   },
   "outputs": [],
   "source": [
    "class ListNode:\n",
    "    def __init__(self, x):\n",
    "        self.val = x\n",
    "        self.next = None\n",
    "class Solution:\n",
    "    def mergeTwoLists(self, l1, l2):\n",
    "        if l1 is None:\n",
    "            return l2\n",
    "        elif l2 is None:\n",
    "            return l1\n",
    "        elif l1.val < l2.val:\n",
    "            l1.next = self.mergeTwoLists(l1.next, l2)\n",
    "            return l1\n",
    "        else:\n",
    "            l2.next = self.mergeTwoLists(l1, l2.next)\n",
    "            return l2"
   ]
  },
  {
   "cell_type": "code",
   "execution_count": 4,
   "metadata": {
    "collapsed": true
   },
   "outputs": [],
   "source": [
    "def generateList(l):\n",
    "    prenode = ListNode(0)\n",
    "    lastnode = prenode\n",
    "    for val in l:\n",
    "        lastnode.next = ListNode(val)\n",
    "        lastnode = lastnode.next\n",
    "    return prenode.next\n",
    "def printList(l: ListNode):\n",
    "    while l:\n",
    "        print(\"%d, \" %(l.val), end = '')\n",
    "        l = l.next\n",
    "    print('')"
   ]
  },
  {
   "cell_type": "code",
   "execution_count": 5,
   "metadata": {},
   "outputs": [
    {
     "name": "stdout",
     "output_type": "stream",
     "text": [
      "1, 2, 4, \n",
      "1, 3, 4, \n"
     ]
    }
   ],
   "source": [
    "l1 = generateList([1,2,4])\n",
    "l2 = generateList([1,3,4])\n",
    "printList(l1)\n",
    "printList(l2)"
   ]
  },
  {
   "cell_type": "code",
   "execution_count": 6,
   "metadata": {
    "collapsed": true
   },
   "outputs": [],
   "source": [
    "a = Solution()"
   ]
  },
  {
   "cell_type": "code",
   "execution_count": 8,
   "metadata": {},
   "outputs": [],
   "source": [
    "b = a.mergeTwoLists(l1,l2)"
   ]
  },
  {
   "cell_type": "code",
   "execution_count": 10,
   "metadata": {
    "collapsed": true
   },
   "outputs": [],
   "source": [
    "class ListNode:\n",
    "    def __init__(self, x):\n",
    "        self.val = x\n",
    "        self.next = None"
   ]
  },
  {
   "cell_type": "code",
   "execution_count": 11,
   "metadata": {
    "collapsed": true
   },
   "outputs": [],
   "source": [
    "def generateList(l):\n",
    "    prenode = ListNode(0)\n",
    "    lastnode = prenode\n",
    "    for val in l:\n",
    "        lastnode.next = ListNode(val)\n",
    "        lastnode = lastnode.next\n",
    "    return prenode.next\n",
    "def printList(l):\n",
    "    while l:\n",
    "        print(\"%d, \" %(l.val), end = '')\n",
    "        l = l.next\n",
    "    print('')"
   ]
  },
  {
   "cell_type": "code",
   "execution_count": 12,
   "metadata": {
    "collapsed": true
   },
   "outputs": [],
   "source": [
    "class Solution:\n",
    "    def mergeTwoLists(self, l1, l2):\n",
    "        prehead = ListNode(-1)\n",
    "        prev = prehead\n",
    "        while l1 and l2:\n",
    "            if l1.val <= l2.val:\n",
    "                prev.next = l1\n",
    "                l1 = l1.next\n",
    "            else:\n",
    "                prev.next = l2\n",
    "                l2 = l2.next\n",
    "            prev = prev.next\n",
    "        prev.next = l1 if l1 is not None else l2\n",
    "        return prehead.next"
   ]
  },
  {
   "cell_type": "code",
   "execution_count": 19,
   "metadata": {
    "collapsed": true
   },
   "outputs": [],
   "source": [
    "class Solution:\n",
    "    def mergeTwoLists(self, l1, l2):\n",
    "        prehead = ListNode(-1)\n",
    "        prev = prehead\n",
    "        while l1 and l2:\n",
    "            if l1.val <= l2.val:\n",
    "                prev.next = l1\n",
    "                l1 = l1.next\n",
    "            else:\n",
    "                prev.next = l2\n",
    "                l2 = l2.next\n",
    "            prev = prev.next\n",
    "        prev.next = l1 if l1 is not None else l2\n",
    "        return prehead.next"
   ]
  },
  {
   "cell_type": "code",
   "execution_count": 13,
   "metadata": {
    "collapsed": true
   },
   "outputs": [],
   "source": [
    "l1 = generateList([1,2,3])\n",
    "l2 = generateList([1,2,5])\n",
    "a = Solution()\n",
    "b = a.mergeTwoLists(l1,l2)"
   ]
  },
  {
   "cell_type": "code",
   "execution_count": 14,
   "metadata": {},
   "outputs": [
    {
     "name": "stdout",
     "output_type": "stream",
     "text": [
      "1, 1, 2, 2, 3, 5, \n"
     ]
    }
   ],
   "source": [
    "printList(b)"
   ]
  },
  {
   "cell_type": "code",
   "execution_count": 15,
   "metadata": {
    "collapsed": true
   },
   "outputs": [],
   "source": [
    "class ListNode:\n",
    "    def __init__(self, x):\n",
    "        self.val = x\n",
    "        self.next = None\n",
    "def generateList(l):\n",
    "    prenode = ListNode(0)\n",
    "    lastnode = prenode\n",
    "    for val in l:\n",
    "        lastnode.next = ListNode(val)\n",
    "        lastnode = lastnode.next\n",
    "    return prenode.next\n",
    "def printList(l):\n",
    "    while l:\n",
    "        print(\"%d, \" %(l.val), end = '')\n",
    "        l = l.next\n",
    "    print('')"
   ]
  },
  {
   "cell_type": "code",
   "execution_count": 16,
   "metadata": {
    "collapsed": true
   },
   "outputs": [],
   "source": [
    "class ListNode:\n",
    "    def __init__(self, x):\n",
    "        self.val = x\n",
    "        self.next = None\n",
    "        \n",
    "def generate(l):\n",
    "    prenode = ListNode(0)\n",
    "    lastnode = prenode\n",
    "    for val in l:\n",
    "        lastnode.next = ListNode(val)\n",
    "        lastnode = lastnode.next\n",
    "    return prenode.next\n",
    "def printList(l):\n",
    "    while l:\n",
    "        print(l.val, end='')\n",
    "        l = l.next"
   ]
  },
  {
   "cell_type": "code",
   "execution_count": 17,
   "metadata": {},
   "outputs": [
    {
     "name": "stdout",
     "output_type": "stream",
     "text": [
      "123"
     ]
    }
   ],
   "source": [
    "printList(generate([1,2,3]))"
   ]
  },
  {
   "cell_type": "code",
   "execution_count": 18,
   "metadata": {},
   "outputs": [],
   "source": [
    "class Solution:\n",
    "    def mergeTwoLists(self, l1, l2):\n",
    "        cur = dum = ListNode(0)\n",
    "        while l1 and l2:\n",
    "            if l1.val < l2.val:\n",
    "                cur.next, l1 = l1, l1.next\n",
    "            else:\n",
    "                cur.next, l2 = l2, l2.next\n",
    "            cur = cur.next\n",
    "        cur.next = l1 if l1 else l2\n",
    "        return dum.next"
   ]
  },
  {
   "cell_type": "code",
   "execution_count": null,
   "metadata": {
    "collapsed": true
   },
   "outputs": [],
   "source": []
  }
 ],
 "metadata": {
  "kernelspec": {
   "display_name": "Python 3",
   "language": "python",
   "name": "python3"
  },
  "language_info": {
   "codemirror_mode": {
    "name": "ipython",
    "version": 3
   },
   "file_extension": ".py",
   "mimetype": "text/x-python",
   "name": "python",
   "nbconvert_exporter": "python",
   "pygments_lexer": "ipython3",
   "version": "3.6.3"
  }
 },
 "nbformat": 4,
 "nbformat_minor": 2
}
