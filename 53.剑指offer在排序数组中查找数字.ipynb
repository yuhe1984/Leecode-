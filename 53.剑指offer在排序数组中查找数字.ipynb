{
 "cells": [
  {
   "cell_type": "code",
   "execution_count": 6,
   "metadata": {},
   "outputs": [],
   "source": [
    "class Solution:\n",
    "    def search(self, nums, target):\n",
    "        return nums.count(target)"
   ]
  },
  {
   "cell_type": "code",
   "execution_count": 5,
   "metadata": {
    "collapsed": true
   },
   "outputs": [],
   "source": [
    "class Solution:\n",
    "    def search(self, nums: [int], target: int) -> int:\n",
    "        i, j = 0, len(nums) - 1\n",
    "        while i <= j:\n",
    "            m = (i + j) // 2\n",
    "            if nums[m] <= target: i = m + 1\n",
    "            else: j = m - 1\n",
    "        right = i\n",
    "\n",
    "        i, j = 0, len(nums) - 1\n",
    "        while i <= j:\n",
    "            m = (i + j) // 2\n",
    "            if nums[m] < target: i = m + 1\n",
    "            else: j = m - 1\n",
    "        left = j\n",
    "        \n",
    "        return right - left - 1"
   ]
  },
  {
   "cell_type": "code",
   "execution_count": null,
   "metadata": {
    "collapsed": true
   },
   "outputs": [],
   "source": []
  }
 ],
 "metadata": {
  "kernelspec": {
   "display_name": "Python 3",
   "language": "python",
   "name": "python3"
  },
  "language_info": {
   "codemirror_mode": {
    "name": "ipython",
    "version": 3
   },
   "file_extension": ".py",
   "mimetype": "text/x-python",
   "name": "python",
   "nbconvert_exporter": "python",
   "pygments_lexer": "ipython3",
   "version": "3.6.3"
  }
 },
 "nbformat": 4,
 "nbformat_minor": 2
}
