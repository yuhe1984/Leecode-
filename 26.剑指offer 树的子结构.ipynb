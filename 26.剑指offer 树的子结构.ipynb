{
 "cells": [
  {
   "cell_type": "code",
   "execution_count": null,
   "metadata": {
    "collapsed": true
   },
   "outputs": [],
   "source": [
    "# Definition for a binary tree node.\n",
    "# class TreeNode:\n",
    "#     def __init__(self, x):\n",
    "#         self.val = x\n",
    "#         self.left = None\n",
    "#         self.right = None"
   ]
  },
  {
   "cell_type": "code",
   "execution_count": 1,
   "metadata": {
    "collapsed": true
   },
   "outputs": [],
   "source": [
    "class Solution:\n",
    "    def isSubStructure(self, A, B):\n",
    "        def recur(A, B):\n",
    "            if not B: return True\n",
    "            if not A or A.val != B.val: return False\n",
    "            return recur(A.left, B.left) and recur(A.right, B.right)\n",
    "\n",
    "        return recur(A, B) or self.isSubStructure(A.left, B) or self.isSubStructure(A.right, B) if A and B else False"
   ]
  },
  {
   "cell_type": "code",
   "execution_count": null,
   "metadata": {
    "collapsed": true
   },
   "outputs": [],
   "source": [
    "class Solution:\n",
    "    def isSubStructure(self, A: TreeNode, B: TreeNode) -> bool:\n",
    "        if not B or not A: return False\n",
    "        def helper(a, b):\n",
    "            if not b: return True\n",
    "            if not a: return False\n",
    "            if a.val == b.val:\n",
    "                if helper(a.left, b.left) and helper(a.right, b.right): return True\n",
    "            if B == b:\n",
    "                if helper(a.left, b) or helper(a.right, b): return True\n",
    "            return False\n",
    "        return helper(A, B)"
   ]
  }
 ],
 "metadata": {
  "kernelspec": {
   "display_name": "Python 3",
   "language": "python",
   "name": "python3"
  },
  "language_info": {
   "codemirror_mode": {
    "name": "ipython",
    "version": 3
   },
   "file_extension": ".py",
   "mimetype": "text/x-python",
   "name": "python",
   "nbconvert_exporter": "python",
   "pygments_lexer": "ipython3",
   "version": "3.6.3"
  }
 },
 "nbformat": 4,
 "nbformat_minor": 2
}
