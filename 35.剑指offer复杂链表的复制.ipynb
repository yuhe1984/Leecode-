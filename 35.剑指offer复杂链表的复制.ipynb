{
 "cells": [
  {
   "cell_type": "markdown",
   "metadata": {},
   "source": [
    "# Python的深拷贝(不推荐使用)"
   ]
  },
  {
   "cell_type": "code",
   "execution_count": 1,
   "metadata": {
    "collapsed": true
   },
   "outputs": [],
   "source": [
    "\"\"\"\n",
    "# Definition for a Node.\n",
    "class Node:\n",
    "    def __init__(self, x: int, next: 'Node' = None, random: 'Node' = None):\n",
    "        self.val = int(x)\n",
    "        self.next = next\n",
    "        self.random = random\n",
    "\"\"\"\n",
    "class Solution:\n",
    "    def copyRandomList(self, head: 'Node') -> 'Node':\n",
    "        import copy\n",
    "        return copy.deepcopy(head)"
   ]
  },
  {
   "cell_type": "markdown",
   "metadata": {},
   "source": [
    "# 深度优先搜索"
   ]
  },
  {
   "cell_type": "code",
   "execution_count": 2,
   "metadata": {
    "collapsed": true
   },
   "outputs": [],
   "source": [
    "class Solution:\n",
    "    def copyRandomList(self, head):\n",
    "        def dfs(head):\n",
    "            if not head: return None\n",
    "            if head in visited:\n",
    "                return visited[head]\n",
    "            # 创建新结点\n",
    "            copy = Node(head.val, None, None)\n",
    "            visited[head] = copy\n",
    "            copy.next = dfs(head.next)\n",
    "            copy.random = dfs(head.random)\n",
    "            return copy\n",
    "        visited = {}\n",
    "        return dfs(head)"
   ]
  },
  {
   "cell_type": "markdown",
   "metadata": {},
   "source": [
    "# 广度优先遍历"
   ]
  },
  {
   "cell_type": "code",
   "execution_count": 3,
   "metadata": {
    "collapsed": true
   },
   "outputs": [],
   "source": [
    "class Solution:\n",
    "    def copyRandomList(self, head: 'Node') -> 'Node':\n",
    "        visited = {}\n",
    "    \n",
    "        def bfs(head):\n",
    "            if not head: return head\n",
    "            clone = Node(head.val, None, None) # 创建新结点\n",
    "            queue = collections.deque()\n",
    "            queue.append(head)\n",
    "            visited[head] = clone\n",
    "            while queue:\n",
    "                tmp = queue.pop()\n",
    "                if tmp.next and tmp.next not in visited:\n",
    "                    visited[tmp.next] = Node(tmp.next.val, [], [])\n",
    "                    queue.append(tmp.next)  \n",
    "                if tmp.random and tmp.random not in visited:\n",
    "                    visited[tmp.random] = Node(tmp.random.val, [], [])\n",
    "                    queue.append(tmp.random)\n",
    "                visited[tmp].next = visited.get(tmp.next)\n",
    "                visited[tmp].random = visited.get(tmp.random)\n",
    "            return clone\n",
    "        return bfs(head)"
   ]
  },
  {
   "cell_type": "markdown",
   "metadata": {},
   "source": [
    "# 迭代"
   ]
  },
  {
   "cell_type": "code",
   "execution_count": 4,
   "metadata": {
    "collapsed": true
   },
   "outputs": [],
   "source": [
    "class Solution:\n",
    "    def copyRandomList(self, head: 'Node') -> 'Node':\n",
    "        visited = {}\n",
    "        def getClonedNode(node):\n",
    "            if node:\n",
    "                if node in visited:\n",
    "                    return visited[node]\n",
    "                else:\n",
    "                    visited[node] = Node(node.val,None,None)\n",
    "                    return visited[node]\n",
    "            return None\n",
    "        \n",
    "        if not head: return head\n",
    "        old_node = head\n",
    "        new_node = Node(old_node.val,None,None)\n",
    "        visited[old_node] = new_node\n",
    "\n",
    "        while old_node:\n",
    "            new_node.random = getClonedNode(old_node.random)\n",
    "            new_node.next = getClonedNode(old_node.next)\n",
    "            \n",
    "            old_node = old_node.next\n",
    "            new_node = new_node.next\n",
    "        return visited[head]"
   ]
  },
  {
   "cell_type": "code",
   "execution_count": 6,
   "metadata": {
    "collapsed": true
   },
   "outputs": [],
   "source": [
    "class Solution:\n",
    "    def copyRandomList(self, head):\n",
    "        visited = {}\n",
    "        def getCloneNode(node):\n",
    "            if node:\n",
    "                if node in visited:\n",
    "                    return visited[node]\n",
    "                else:\n",
    "                    visited[node] = Node(node.val, None, None)\n",
    "                    return visited[node]\n",
    "            return None\n",
    "        \n",
    "        if not head: return head\n",
    "        old_node = head\n",
    "        new_node = Node(old_node.val, None, None)\n",
    "        visited[old_node] = new_node\n",
    "        \n",
    "        while old_node:\n",
    "            new_node.random = getCloneNode(old_node.random)\n",
    "            new_node.next = getCloneNode(old_node.next)\n",
    "            \n",
    "            old_node = old_node.next\n",
    "            new_node = new_node.next\n",
    "        return visited[head]"
   ]
  },
  {
   "cell_type": "markdown",
   "metadata": {},
   "source": [
    "# 优化的迭代"
   ]
  },
  {
   "cell_type": "code",
   "execution_count": 5,
   "metadata": {
    "collapsed": true
   },
   "outputs": [],
   "source": [
    "class Solution:\n",
    "    def copyRandomList(self, head: 'Node') -> 'Node':\n",
    "        if not head: return head\n",
    "        cur = head\n",
    "        while cur:\n",
    "            new_node = Node(cur.val,None,None)   # 克隆新结点\n",
    "            new_node.next = cur.next\n",
    "            cur.next = new_node   # 克隆新结点在cur 后面\n",
    "            cur = new_node.next   # 移动到下一个要克隆的点\n",
    "        cur = head\n",
    "\n",
    "        while cur:  # 链接random\n",
    "            cur.next.random = cur.random.next if cur.random else None\n",
    "            cur = cur.next.next\n",
    "\n",
    "        cur_old_list = head # 将两个链表分开\n",
    "        cur_new_list = head.next\n",
    "        new_head = head.next\n",
    "        while cur_old_list:\n",
    "            cur_old_list.next = cur_old_list.next.next\n",
    "            cur_new_list.next = cur_new_list.next.next if cur_new_list.next else None\n",
    "            cur_old_list = cur_old_list.next\n",
    "            cur_new_list = cur_new_list.next\n",
    "        return new_head"
   ]
  },
  {
   "cell_type": "code",
   "execution_count": null,
   "metadata": {
    "collapsed": true
   },
   "outputs": [],
   "source": []
  }
 ],
 "metadata": {
  "kernelspec": {
   "display_name": "Python 3",
   "language": "python",
   "name": "python3"
  },
  "language_info": {
   "codemirror_mode": {
    "name": "ipython",
    "version": 3
   },
   "file_extension": ".py",
   "mimetype": "text/x-python",
   "name": "python",
   "nbconvert_exporter": "python",
   "pygments_lexer": "ipython3",
   "version": "3.6.3"
  }
 },
 "nbformat": 4,
 "nbformat_minor": 2
}
