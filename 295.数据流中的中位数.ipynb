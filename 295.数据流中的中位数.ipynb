{
 "cells": [
  {
   "cell_type": "code",
   "execution_count": 1,
   "metadata": {
    "collapsed": true
   },
   "outputs": [],
   "source": [
    "import heapq\n",
    "\n",
    "\n",
    "class MedianFinder:\n",
    "\n",
    "    def __init__(self):\n",
    "        # 当前大顶堆和小顶堆的元素个数之和\n",
    "        self.count = 0\n",
    "        self.max_heap = []\n",
    "        self.min_heap = []\n",
    "\n",
    "    def addNum(self, num):\n",
    "        self.count += 1\n",
    "        # 因为 Python 中的堆默认是小顶堆，所以要传入一个 tuple，用于比较的元素需是相反数，\n",
    "        # 才能模拟出大顶堆的效果\n",
    "        heapq.heappush(self.max_heap, (-num, num))\n",
    "        _, max_heap_top = heapq.heappop(self.max_heap)\n",
    "        heapq.heappush(self.min_heap, max_heap_top)\n",
    "        if self.count & 1:\n",
    "            min_heap_top = heapq.heappop(self.min_heap)\n",
    "            heapq.heappush(self.max_heap, (-min_heap_top, min_heap_top))\n",
    "\n",
    "    def findMedian(self):\n",
    "        if self.count & 1:\n",
    "            # 如果两个堆合起来的元素个数是奇数，数据流的中位数大顶堆的堆顶元素\n",
    "            return self.max_heap[0][1]\n",
    "        else:\n",
    "            # 如果两个堆合起来的元素个数是偶数，数据流的中位数就是各自堆顶元素的平均值\n",
    "            return (self.min_heap[0] + self.max_heap[0][1]) / 2"
   ]
  },
  {
   "cell_type": "code",
   "execution_count": 2,
   "metadata": {},
   "outputs": [],
   "source": [
    "import numpy as np\n",
    "class MedianFinder:\n",
    "\n",
    "    def __init__(self):\n",
    "        \"\"\"\n",
    "        initialize your data structure here.\n",
    "        \"\"\"\n",
    "        self.count = 0\n",
    "        self.max_heap = []\n",
    "        self.min_heap = []\n",
    "\n",
    "    def addNum(self, num):\n",
    "        self.count += 1\n",
    "        heapq.heappush(self.max_heap, (-num, num))\n",
    "        _, max_heap_top = heapq.heappop(self.max_heap)\n",
    "        heapq.heappush(self.min_heap, max_heap_top)\n",
    "        if self.count & 1:\n",
    "            min_heap_top = heapq.heappop(self.min_heap)\n",
    "            heapq.heappush(self.max_heap, (-min_heap_top, min_heap_top))\n",
    "        \n",
    "\n",
    "    def findMedian(self):\n",
    "        if self.count & 1:\n",
    "            return self.max_heap[0][1]\n",
    "        else:\n",
    "            return (self.min_heap[0] + self.max_heap[0][1]) / 2\n",
    "        \n",
    "\n",
    "\n",
    "# Your MedianFinder object will be instantiated and called as such:\n",
    "# obj = MedianFinder()\n",
    "# obj.addNum(num)\n",
    "# param_2 = obj.findMedian()"
   ]
  },
  {
   "cell_type": "code",
   "execution_count": 9,
   "metadata": {},
   "outputs": [
    {
     "name": "stdout",
     "output_type": "stream",
     "text": [
      "3.5\n"
     ]
    }
   ],
   "source": [
    "obj = MedianFinder()\n",
    "obj.addNum(1)\n",
    "param_2 = obj.findMedian()\n",
    "obj.addNum(2)\n",
    "param_2 = obj.findMedian()\n",
    "obj.addNum(3)\n",
    "param_2 = obj.findMedian()\n",
    "obj.addNum(4)\n",
    "param_2 = obj.findMedian()\n",
    "obj.addNum(5)\n",
    "param_2 = obj.findMedian()\n",
    "obj.addNum(6)\n",
    "param_2 = obj.findMedian()\n",
    "print(param_2)"
   ]
  },
  {
   "cell_type": "code",
   "execution_count": 7,
   "metadata": {},
   "outputs": [],
   "source": [
    "class MedianFinder(object):\n",
    "    import heapq\n",
    "    def __init__(self):\n",
    "        \"\"\"\n",
    "        initialize your data structure here.\n",
    "        \"\"\"\n",
    "        self.bigHpeap = []\n",
    "        self.smallHeap = []\n",
    "    def addNum(self, num):\n",
    "        \"\"\"\n",
    "        :type num: int\n",
    "        :rtype: None\n",
    "        \"\"\"\n",
    "        if len(self.bigHpeap) == len(self.smallHeap):#总数为偶数时,先插入到大根堆,在插入到小根堆\n",
    "            heapq.heappush(self.smallHeap, -heapq.heappushpop(self.bigHpeap, -num))\n",
    "        else:#总数为奇数时,先插入到小根堆,在插入到大根堆\n",
    "            heapq.heappush(self.bigHpeap, -heapq.heappushpop(self.smallHeap, num))\n",
    "\n",
    "    def findMedian(self):\n",
    "        \"\"\"\n",
    "        :rtype: float\n",
    "        \"\"\"\n",
    "        if len(self.bigHpeap) == len(self.smallHeap):\n",
    "            return (-self.bigHpeap[0] + self.smallHeap[0]) / 2.0\n",
    "        else:\n",
    "            return self.smallHeap[0]\n",
    "\n",
    "\n",
    "\n",
    "# Your MedianFinder object will be instantiated and called as such:\n",
    "# obj = MedianFinder()\n",
    "# obj.addNum(num)\n",
    "# param_2 = obj.findMedian()"
   ]
  },
  {
   "cell_type": "code",
   "execution_count": 8,
   "metadata": {},
   "outputs": [
    {
     "name": "stdout",
     "output_type": "stream",
     "text": [
      "1\n",
      "[1, 2, 3, 5, 23, 54, 132]\n"
     ]
    }
   ],
   "source": [
    "import heapq\n",
    "\n",
    "# 第一种\n",
    "\"\"\"\n",
    "函数定义：\n",
    "heapq.heappush(heap, item)\n",
    "    - Push the value item onto the heap, maintaining the heap invariant.\n",
    "heapq.heappop(heap)\n",
    "    - Pop and return the smallest item from the heap, maintaining the heap invariant.\n",
    "    If the heap is empty, IndexError is raised. To access the smallest item without popping it, use heap[0].\n",
    "\"\"\"\n",
    "nums = [2, 3, 5, 1, 54, 23, 132]\n",
    "heap = []\n",
    "for num in nums:\n",
    "    heapq.heappush(heap, num)  # 加入堆\n",
    "\n",
    "print(heap[0])  # 如果只是想获取最小值而不是弹出，使用heap[0]\n",
    "print([heapq.heappop(heap) for _ in range(len(nums))])  # 堆排序结果\n",
    "# out: [1, 2, 3, 5, 23, 54, 132]"
   ]
  },
  {
   "cell_type": "code",
   "execution_count": null,
   "metadata": {
    "collapsed": true
   },
   "outputs": [],
   "source": []
  }
 ],
 "metadata": {
  "kernelspec": {
   "display_name": "Python 3",
   "language": "python",
   "name": "python3"
  },
  "language_info": {
   "codemirror_mode": {
    "name": "ipython",
    "version": 3
   },
   "file_extension": ".py",
   "mimetype": "text/x-python",
   "name": "python",
   "nbconvert_exporter": "python",
   "pygments_lexer": "ipython3",
   "version": "3.6.3"
  }
 },
 "nbformat": 4,
 "nbformat_minor": 2
}
