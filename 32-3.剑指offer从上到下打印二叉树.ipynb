{
 "cells": [
  {
   "cell_type": "code",
   "execution_count": 3,
   "metadata": {},
   "outputs": [],
   "source": [
    "# Definition for a binary tree node.\n",
    "# class TreeNode:\n",
    "#     def __init__(self, x):\n",
    "#         self.val = x\n",
    "#         self.left = None\n",
    "#         self.right = None\n",
    "\n",
    "class Solution:\n",
    "    def levelOrder(self, root):\n",
    "        levels = []\n",
    "        if not root: return []\n",
    "        \n",
    "        def helper(node, level):\n",
    "            if len(levels) == level:\n",
    "                levels.append([])\n",
    "                \n",
    "            levels[level].append(node.val)\n",
    "            if node.left:\n",
    "                helper(node.left, level + 1)\n",
    "            if node.right:\n",
    "                helper(node.right, level + 1)\n",
    "                \n",
    "        helper(root, 0)\n",
    "        for i in range(1,len(levels)):\n",
    "            if i % 2 == 1:\n",
    "                levels[i].reverse()\n",
    "        return levels"
   ]
  },
  {
   "cell_type": "code",
   "execution_count": null,
   "metadata": {
    "collapsed": true
   },
   "outputs": [],
   "source": []
  }
 ],
 "metadata": {
  "kernelspec": {
   "display_name": "Python 3",
   "language": "python",
   "name": "python3"
  },
  "language_info": {
   "codemirror_mode": {
    "name": "ipython",
    "version": 3
   },
   "file_extension": ".py",
   "mimetype": "text/x-python",
   "name": "python",
   "nbconvert_exporter": "python",
   "pygments_lexer": "ipython3",
   "version": "3.6.3"
  }
 },
 "nbformat": 4,
 "nbformat_minor": 2
}
