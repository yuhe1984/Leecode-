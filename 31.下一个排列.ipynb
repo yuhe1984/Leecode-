{
 "cells": [
  {
   "cell_type": "code",
   "execution_count": 1,
   "metadata": {
    "collapsed": true
   },
   "outputs": [],
   "source": [
    "class Solution:\n",
    "    def nextPermutation(self, nums):\n",
    "        \"\"\"\n",
    "        Do not return anything, modify nums in-place instead.\n",
    "        \"\"\"\n",
    "        if not nums:\n",
    "            return None\n",
    "        n = len(nums)\n",
    "        if n<2:\n",
    "            return nums\n",
    "        def reverse(ind):  \n",
    "            \"\"\"\n",
    "            把nums[ind:]进行翻转\n",
    "            \"\"\"\n",
    "            a, b = ind, n-1\n",
    "            while a<b:\n",
    "                nums[a], nums[b] = nums[b], nums[a]\n",
    "                a += 1\n",
    "                b -= 1\n",
    "\n",
    "        for i in range(n-1, 0, -1):\n",
    "            if nums[i-1]<nums[i]:\n",
    "                if i==n-1:  \n",
    "                    # 如果刚好是最后两位则将其换位后输出\n",
    "                    nums[i-1], nums[i] = nums[i], nums[i-1]\n",
    "                    return nums\n",
    "                else:\n",
    "                    if nums[i-1]<nums[n-1]:\n",
    "                        # 如果nums[i-1]小于nums[i:]中最小值，则将原最小值换过来，再翻转\n",
    "                        nums[i-1], nums[n-1] = nums[n-1], nums[i-1]\n",
    "                        reverse(i) # i begin\n",
    "                        return nums\n",
    "                    else:\n",
    "                        for j in range(i, n):\n",
    "                            # 如果nums[i-1]后面有更小的，则交换再翻转\n",
    "                            if nums[i-1]>=nums[j]:\n",
    "                                nums[i-1], nums[j-1] = nums[j-1], nums[i-1]\n",
    "                                reverse(i)\n",
    "                                return nums\n",
    "        reverse(0)  # 如果是最大的，则翻转成最小的               \n",
    "        return nums"
   ]
  },
  {
   "cell_type": "code",
   "execution_count": 2,
   "metadata": {
    "collapsed": true
   },
   "outputs": [],
   "source": [
    "a = Solution"
   ]
  },
  {
   "cell_type": "code",
   "execution_count": 3,
   "metadata": {},
   "outputs": [
    {
     "data": {
      "text/plain": [
       "[1, 5, 1]"
      ]
     },
     "execution_count": 3,
     "metadata": {},
     "output_type": "execute_result"
    }
   ],
   "source": [
    "a.nextPermutation([],[1,1,5])"
   ]
  },
  {
   "cell_type": "code",
   "execution_count": null,
   "metadata": {
    "collapsed": true
   },
   "outputs": [],
   "source": []
  }
 ],
 "metadata": {
  "kernelspec": {
   "display_name": "Python 3",
   "language": "python",
   "name": "python3"
  },
  "language_info": {
   "codemirror_mode": {
    "name": "ipython",
    "version": 3
   },
   "file_extension": ".py",
   "mimetype": "text/x-python",
   "name": "python",
   "nbconvert_exporter": "python",
   "pygments_lexer": "ipython3",
   "version": "3.6.3"
  }
 },
 "nbformat": 4,
 "nbformat_minor": 2
}
