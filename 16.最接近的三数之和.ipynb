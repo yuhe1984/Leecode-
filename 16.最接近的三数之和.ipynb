{
 "cells": [
  {
   "cell_type": "code",
   "execution_count": 2,
   "metadata": {},
   "outputs": [],
   "source": [
    "class Solution:\n",
    "    def threeSumClosest(self, nums, target):        \n",
    "        n=len(nums)\n",
    "        nums.sort()\n",
    "        ans = nums[0] + nums[1] + nums[2]\n",
    "        for i in range(n):\n",
    "            L=i+1\n",
    "            R=n-1\n",
    "            while(L<R):\n",
    "                sum = nums[i] + nums[L] + nums[R]\n",
    "                if (abs(target - sum) < abs(target - ans)):\n",
    "                    ans = sum\n",
    "                if (sum > target):\n",
    "                    R -= 1\n",
    "                elif(sum < target):\n",
    "                    L += 1\n",
    "                else:\n",
    "                    return ans\n",
    "        return ans"
   ]
  },
  {
   "cell_type": "code",
   "execution_count": null,
   "metadata": {
    "collapsed": true
   },
   "outputs": [],
   "source": []
  }
 ],
 "metadata": {
  "kernelspec": {
   "display_name": "Python 3",
   "language": "python",
   "name": "python3"
  },
  "language_info": {
   "codemirror_mode": {
    "name": "ipython",
    "version": 3
   },
   "file_extension": ".py",
   "mimetype": "text/x-python",
   "name": "python",
   "nbconvert_exporter": "python",
   "pygments_lexer": "ipython3",
   "version": "3.6.3"
  }
 },
 "nbformat": 4,
 "nbformat_minor": 2
}
