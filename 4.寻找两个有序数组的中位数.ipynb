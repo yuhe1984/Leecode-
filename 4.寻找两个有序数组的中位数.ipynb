{
 "cells": [
  {
   "cell_type": "code",
   "execution_count": 16,
   "metadata": {
    "collapsed": true
   },
   "outputs": [],
   "source": [
    "class Solution:\n",
    "    def findMedianSortedArrays(self, nums1, nums2):\n",
    "        n1 = len(nums1)\n",
    "        n2 = len(nums2)\n",
    "        if n1 > n2:\n",
    "            return Solution.findMedianSortedArrays([],nums2,nums1)\n",
    "        k = (n1 + n2 + 1)//2\n",
    "        left = 0\n",
    "        right = n1\n",
    "        while left < right :\n",
    "            m1 = left +(right - left)//2\n",
    "            m2 = k - m1\n",
    "            if nums1[m1] < nums2[m2-1]:\n",
    "                left = m1 + 1\n",
    "            else:\n",
    "                right = m1\n",
    "        m1 = left\n",
    "        m2 = k - m1 \n",
    "        c1 = max(nums1[m1-1] if m1 > 0 else float(\"-inf\"), nums2[m2-1] if m2 > 0 else float(\"-inf\") )\n",
    "        if (n1 + n2) % 2 == 1:\n",
    "            return c1\n",
    "        c2 = min(nums1[m1] if m1 < n1 else float(\"inf\"), nums2[m2] if m2 <n2 else float(\"inf\"))\n",
    "        return (c1 + c2) / 2"
   ]
  },
  {
   "cell_type": "code",
   "execution_count": 17,
   "metadata": {
    "collapsed": true
   },
   "outputs": [],
   "source": [
    "nums1 = [1,2,5]\n",
    "nums2 = [3,4]"
   ]
  },
  {
   "cell_type": "code",
   "execution_count": 18,
   "metadata": {
    "collapsed": true
   },
   "outputs": [],
   "source": [
    "a = Solution"
   ]
  },
  {
   "cell_type": "code",
   "execution_count": 19,
   "metadata": {},
   "outputs": [
    {
     "data": {
      "text/plain": [
       "3"
      ]
     },
     "execution_count": 19,
     "metadata": {},
     "output_type": "execute_result"
    }
   ],
   "source": [
    "a.findMedianSortedArrays([],nums1,nums2)"
   ]
  },
  {
   "cell_type": "code",
   "execution_count": null,
   "metadata": {
    "collapsed": true
   },
   "outputs": [],
   "source": []
  }
 ],
 "metadata": {
  "kernelspec": {
   "display_name": "Python 3",
   "language": "python",
   "name": "python3"
  },
  "language_info": {
   "codemirror_mode": {
    "name": "ipython",
    "version": 3
   },
   "file_extension": ".py",
   "mimetype": "text/x-python",
   "name": "python",
   "nbconvert_exporter": "python",
   "pygments_lexer": "ipython3",
   "version": "3.6.3"
  }
 },
 "nbformat": 4,
 "nbformat_minor": 2
}
