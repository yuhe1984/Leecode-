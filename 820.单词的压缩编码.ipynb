{
 "cells": [
  {
   "cell_type": "markdown",
   "metadata": {},
   "source": [
    "# 存储后缀"
   ]
  },
  {
   "cell_type": "code",
   "execution_count": 2,
   "metadata": {},
   "outputs": [],
   "source": [
    "class Solution:\n",
    "    def minimumLengthEncoding(self, words):\n",
    "        good = set(words)\n",
    "        for word in words:\n",
    "            for k in range(1, len(word)):\n",
    "                good.discard(word[k:])\n",
    "\n",
    "        return sum(len(word) + 1 for word in good)"
   ]
  },
  {
   "cell_type": "markdown",
   "metadata": {},
   "source": [
    "# 字典树"
   ]
  },
  {
   "cell_type": "code",
   "execution_count": 4,
   "metadata": {},
   "outputs": [],
   "source": [
    "class Solution:\n",
    "    def minimumLengthEncoding(self, words):\n",
    "        words = list(set(words)) #remove duplicates\n",
    "        #Trie is a nested dictionary with nodes created\n",
    "        # when fetched entries are missing\n",
    "        Trie = lambda: collections.defaultdict(Trie)\n",
    "        trie = Trie()\n",
    "\n",
    "        #reduce(..., S, trie) is trie[S[0]][S[1]][S[2]][...][S[S.length - 1]]\n",
    "        nodes = [reduce(dict.__getitem__, word[::-1], trie)\n",
    "                 for word in words]\n",
    "\n",
    "        #Add word to the answer if it's node has no neighbors\n",
    "        return sum(len(word) + 1\n",
    "                   for i, word in enumerate(words)\n",
    "                   if len(nodes[i]) == 0)"
   ]
  },
  {
   "cell_type": "code",
   "execution_count": null,
   "metadata": {
    "collapsed": true
   },
   "outputs": [],
   "source": []
  }
 ],
 "metadata": {
  "kernelspec": {
   "display_name": "Python 3",
   "language": "python",
   "name": "python3"
  },
  "language_info": {
   "codemirror_mode": {
    "name": "ipython",
    "version": 3
   },
   "file_extension": ".py",
   "mimetype": "text/x-python",
   "name": "python",
   "nbconvert_exporter": "python",
   "pygments_lexer": "ipython3",
   "version": "3.6.3"
  }
 },
 "nbformat": 4,
 "nbformat_minor": 2
}
