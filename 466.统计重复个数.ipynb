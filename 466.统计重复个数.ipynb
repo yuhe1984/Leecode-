{
 "cells": [
  {
   "cell_type": "code",
   "execution_count": 1,
   "metadata": {
    "collapsed": true
   },
   "outputs": [],
   "source": [
    "class Solution(object):\n",
    "    def getMaxRepetitions(self, s1, n1, s2, n2):\n",
    "        \"\"\"\n",
    "        :type s1: str\n",
    "        :type n1: int\n",
    "        :type s2: str\n",
    "        :type n2: int\n",
    "        :rtype: int\n",
    "        \"\"\"\n",
    "        from bisect import bisect_right\n",
    "        if n1==0:\n",
    "            return 0\n",
    "        l1,l2 = len(s1),len(s2)\n",
    "        idx = {}\n",
    "        f = []\n",
    "        i = j = 0\n",
    "        L1 = l1*n1\n",
    "        while i<L1:\n",
    "            while i<L1 and s1[i%l1]!=s2[j%l2]:\n",
    "                i += 1\n",
    "            if i<L1 and (j+1)%l2==0:\n",
    "                if i%l1 not in idx:\n",
    "                    idx[i%l1] = len(f)\n",
    "                    f.append(i)\n",
    "                else:\n",
    "                    b = idx[i%l1]\n",
    "                    a = len(idx)\n",
    "                    rest = L1-f[b]\n",
    "                    L = i-f[b]\n",
    "                    k = bisect_right(f,rest%L+f[b]-1) if rest%L else b\n",
    "                    # print a,b,rest,L\n",
    "                    # print idx,f\n",
    "                    ans = (rest//L)*(a-b)+k\n",
    "                    return ans//n2\n",
    "            i += 1\n",
    "            j += 1\n",
    "        return len(f)//n2"
   ]
  },
  {
   "cell_type": "code",
   "execution_count": null,
   "metadata": {
    "collapsed": true
   },
   "outputs": [],
   "source": []
  }
 ],
 "metadata": {
  "kernelspec": {
   "display_name": "Python 3",
   "language": "python",
   "name": "python3"
  },
  "language_info": {
   "codemirror_mode": {
    "name": "ipython",
    "version": 3
   },
   "file_extension": ".py",
   "mimetype": "text/x-python",
   "name": "python",
   "nbconvert_exporter": "python",
   "pygments_lexer": "ipython3",
   "version": "3.6.3"
  }
 },
 "nbformat": 4,
 "nbformat_minor": 2
}
