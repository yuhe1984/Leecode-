{
 "cells": [
  {
   "cell_type": "markdown",
   "metadata": {},
   "source": [
    "# 堆"
   ]
  },
  {
   "cell_type": "code",
   "execution_count": 1,
   "metadata": {
    "collapsed": true
   },
   "outputs": [],
   "source": [
    "from heapq import heappop, heappush\n",
    "class Ugly:\n",
    "    def __init__(self):\n",
    "        seen = {1, }\n",
    "        self.nums = nums = []\n",
    "        heap = []\n",
    "        heappush(heap, 1)\n",
    "\n",
    "        for _ in range(1690):\n",
    "            curr_ugly = heappop(heap)\n",
    "            nums.append(curr_ugly)\n",
    "            for i in [2, 3, 5]:\n",
    "                new_ugly = curr_ugly * i\n",
    "                if new_ugly not in seen:\n",
    "                    seen.add(new_ugly)\n",
    "                    heappush(heap, new_ugly)\n",
    "    \n",
    "class Solution:\n",
    "    u = Ugly()\n",
    "    def nthUglyNumber(self, n):\n",
    "        return self.u.nums[n - 1]"
   ]
  },
  {
   "cell_type": "markdown",
   "metadata": {},
   "source": [
    "# 动态规划"
   ]
  },
  {
   "cell_type": "code",
   "execution_count": 2,
   "metadata": {
    "collapsed": true
   },
   "outputs": [],
   "source": [
    "class Solution:\n",
    "    def nthUglyNumber(self, n):\n",
    "        dp, a, b, c = [1] * n, 0, 0, 0\n",
    "        for i in range(1, n):\n",
    "            n2, n3, n5 = dp[a] * 2, dp[b] * 3, dp[c] * 5\n",
    "            dp[i] = min(n2, n3, n5)\n",
    "            if dp[i] == n2: a += 1\n",
    "            if dp[i] == n3: b += 1\n",
    "            if dp[i] == n5: c += 1\n",
    "        return dp[-1]"
   ]
  },
  {
   "cell_type": "code",
   "execution_count": null,
   "metadata": {
    "collapsed": true
   },
   "outputs": [],
   "source": []
  }
 ],
 "metadata": {
  "kernelspec": {
   "display_name": "Python 3",
   "language": "python",
   "name": "python3"
  },
  "language_info": {
   "codemirror_mode": {
    "name": "ipython",
    "version": 3
   },
   "file_extension": ".py",
   "mimetype": "text/x-python",
   "name": "python",
   "nbconvert_exporter": "python",
   "pygments_lexer": "ipython3",
   "version": "3.6.3"
  }
 },
 "nbformat": 4,
 "nbformat_minor": 2
}
