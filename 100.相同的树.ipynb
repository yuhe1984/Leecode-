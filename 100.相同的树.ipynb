{
 "cells": [
  {
   "cell_type": "markdown",
   "metadata": {},
   "source": [
    "# DFS"
   ]
  },
  {
   "cell_type": "code",
   "execution_count": 3,
   "metadata": {
    "collapsed": true
   },
   "outputs": [],
   "source": [
    "# Definition for a binary tree node.\n",
    "class TreeNode:\n",
    "    def __init__(self, val=0, left=None, right=None):\n",
    "        self.val = val\n",
    "        self.left = left\n",
    "        self.right = right\n",
    "class Solution:\n",
    "    def isSameTree(self, p, q):\n",
    "        if p == None and q == None: return True\n",
    "        if p == None or q == None: return False\n",
    "        if p.val != q.val: return False\n",
    "        return self.isSameTree(p.left, q.left) and self.isSameTree(p.right, q.right)"
   ]
  },
  {
   "cell_type": "markdown",
   "metadata": {},
   "source": [
    "# BFS"
   ]
  },
  {
   "cell_type": "code",
   "execution_count": 1,
   "metadata": {
    "collapsed": true
   },
   "outputs": [],
   "source": [
    "class Solution:\n",
    "    def isSameTree(self, p, q):\n",
    "        if not p and not q:\n",
    "            return True\n",
    "        if not p or not q:\n",
    "            return False\n",
    "        \n",
    "        queue1 = collections.deque([p])\n",
    "        queue2 = collections.deque([q])\n",
    "\n",
    "        while queue1 and queue2:\n",
    "            node1 = queue1.popleft()\n",
    "            node2 = queue2.popleft()\n",
    "            if node1.val != node2.val:\n",
    "                return False\n",
    "            left1, right1 = node1.left, node1.right\n",
    "            left2, right2 = node2.left, node2.right\n",
    "            if (not left1) ^ (not left2):\n",
    "                return False\n",
    "            if (not right1) ^ (not right2):\n",
    "                return False\n",
    "            if left1:\n",
    "                queue1.append(left1)\n",
    "            if right1:\n",
    "                queue1.append(right1)\n",
    "            if left2:\n",
    "                queue2.append(left2)\n",
    "            if right2:\n",
    "                queue2.append(right2)\n",
    "\n",
    "        return not queue1 and not queue2"
   ]
  },
  {
   "cell_type": "code",
   "execution_count": null,
   "metadata": {
    "collapsed": true
   },
   "outputs": [],
   "source": []
  }
 ],
 "metadata": {
  "kernelspec": {
   "display_name": "Python 3",
   "language": "python",
   "name": "python3"
  },
  "language_info": {
   "codemirror_mode": {
    "name": "ipython",
    "version": 3
   },
   "file_extension": ".py",
   "mimetype": "text/x-python",
   "name": "python",
   "nbconvert_exporter": "python",
   "pygments_lexer": "ipython3",
   "version": "3.6.3"
  }
 },
 "nbformat": 4,
 "nbformat_minor": 2
}
