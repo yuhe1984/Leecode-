{
 "cells": [
  {
   "cell_type": "markdown",
   "metadata": {},
   "source": [
    "# 递归"
   ]
  },
  {
   "cell_type": "code",
   "execution_count": 1,
   "metadata": {
    "collapsed": true
   },
   "outputs": [],
   "source": [
    "# Definition for singly-linked list.\n",
    "class ListNode:\n",
    "    def __init__(self, val=0, next=None):\n",
    "        self.val = val\n",
    "        self.next = next\n",
    "class Solution:\n",
    "    def reorderList(self, head: ListNode) -> None:\n",
    "        if  head == None or head.next == None or head.next.next == None:\n",
    "            return  head\n",
    "        current = head\n",
    "        total = 0\n",
    "        while   current != None:\n",
    "            current = current.next\n",
    "            total = total+1\n",
    "        def  helper(self,head: ListNode,total: int):\n",
    "            if  total == 1:\n",
    "                return  head\n",
    "            elif   total == 2:\n",
    "                return  head.next\n",
    "            else:\n",
    "                tail = helper(self,head.next,total-2)\n",
    "                subhead = head.next\n",
    "                subtail = tail.next\n",
    "                tail.next = tail.next.next\n",
    "                #将当前的尾部节点删除\n",
    "                head.next = subtail\n",
    "                subtail.next = subhead\n",
    "                #将尾部节点插入到当前的head与先前形成的链表之间\n",
    "                return  tail\n",
    "        helper(self,head,total)"
   ]
  },
  {
   "cell_type": "markdown",
   "metadata": {},
   "source": [
    "# 断链"
   ]
  },
  {
   "cell_type": "code",
   "execution_count": 2,
   "metadata": {
    "collapsed": true
   },
   "outputs": [],
   "source": [
    "# Definition for singly-linked list.\n",
    "# class ListNode:\n",
    "#     def __init__(self, val=0, next=None):\n",
    "#         self.val = val\n",
    "#         self.next = next\n",
    "class Solution:\n",
    "    def reorderList(self, head: ListNode) -> None:\n",
    "        if  head == None  or  head.next == None  or  head.next.next == None:\n",
    "            return \n",
    "        head1,head2 = head,head\n",
    "        pre = None\n",
    "        while   head2 != None:\n",
    "            pre = head1\n",
    "            head1 = head1.next\n",
    "            head2 = head2.next\n",
    "            if  head2 != None:\n",
    "                head2 = head2.next\n",
    "        #使用快指针和慢指针，快指针每次走两步，慢指针每次走一步\n",
    "        #从而找到第二个链表对应的头节点\n",
    "        pre.next = None\n",
    "        #断链\n",
    "        dummynode = ListNode(-1)\n",
    "        dummynode.next = None\n",
    "        while   head1 != None:\n",
    "            nexts = head1.next\n",
    "            head1.next = dummynode.next\n",
    "            dummynode.next = head1\n",
    "            head1 = nexts\n",
    "        #逆置矩阵\n",
    "        head1 = dummynode.next\n",
    "        while   head1 != None and head != None:\n",
    "            dummynode.next = dummynode.next.next\n",
    "            head1.next = head.next\n",
    "            head.next = head1\n",
    "            head1 = dummynode.next\n",
    "            head = head.next.next\n",
    "        #将对应的节点依次插入链表之中"
   ]
  },
  {
   "cell_type": "code",
   "execution_count": 3,
   "metadata": {
    "collapsed": true
   },
   "outputs": [],
   "source": [
    "# Definition for singly-linked list.\n",
    "# class ListNode:\n",
    "#     def __init__(self, val=0, next=None):\n",
    "#         self.val = val\n",
    "#         self.next = next\n",
    "class Solution:\n",
    "    def reorderList(self, head: ListNode) -> None:\n",
    "        \"\"\"\n",
    "        Do not return anything, modify head in-place instead.\n",
    "        \"\"\"\n",
    "        # 如果为空，返回None\n",
    "        if not head:\n",
    "            return None\n",
    "        # 找到链表的中间节点\n",
    "        slow = head\n",
    "        fast = head\n",
    "        while fast and fast.next:\n",
    "            slow = slow.next\n",
    "            fast = fast.next.next\n",
    "\n",
    "        # re_node记录的是后面需要反转链表的头结点，这里奇数节点和偶数节点时的操作是一样的，反转半部分的链表\n",
    "        re_node = slow.next\n",
    "        slow.next = None\n",
    "        dumm = None\n",
    "        while re_node:\n",
    "            temp = re_node.next\n",
    "            re_node.next = dumm\n",
    "            dumm = re_node\n",
    "            re_node = temp\n",
    "\n",
    "        # 开始按照要求合并两个链表\n",
    "        res = ListNode(0)\n",
    "        p = res\n",
    "        while head or dumm:\n",
    "            if head and dumm:\n",
    "                # 连接节点\n",
    "                temp_h = head.next\n",
    "                temp_d = dumm.next\n",
    "                p.next = head\n",
    "                p = p.next\n",
    "                p.next = dumm\n",
    "                p =p.next\n",
    "                head = temp_h\n",
    "                dumm = temp_d\n",
    "            else:# 这里是奇数个节点时候，其实也就是会有一个节点需要连接在最后面\n",
    "                p.next = head\n",
    "                p = p.next\n",
    "                head = head.next\n",
    "        head = res.next"
   ]
  },
  {
   "cell_type": "code",
   "execution_count": null,
   "metadata": {
    "collapsed": true
   },
   "outputs": [],
   "source": []
  }
 ],
 "metadata": {
  "kernelspec": {
   "display_name": "Python 3",
   "language": "python",
   "name": "python3"
  },
  "language_info": {
   "codemirror_mode": {
    "name": "ipython",
    "version": 3
   },
   "file_extension": ".py",
   "mimetype": "text/x-python",
   "name": "python",
   "nbconvert_exporter": "python",
   "pygments_lexer": "ipython3",
   "version": "3.6.3"
  }
 },
 "nbformat": 4,
 "nbformat_minor": 2
}
