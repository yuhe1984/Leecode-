{
 "cells": [
  {
   "cell_type": "code",
   "execution_count": 1,
   "metadata": {
    "collapsed": true
   },
   "outputs": [],
   "source": [
    "class Solution:\n",
    "    def productExceptSelf(self, nums):\n",
    "        length = len(nums)\n",
    "        \n",
    "        # L 和 R 分别表示左右两侧的乘积列表\n",
    "        L, R, answer = [0]*length, [0]*length, [0]*length\n",
    "        \n",
    "        # L[i] 为索引 i 左侧所有元素的乘积\n",
    "        # 对于索引为 '0' 的元素，因为左侧没有元素，所以 L[0] = 1\n",
    "        L[0] = 1\n",
    "        for i in range(1, length):\n",
    "            L[i] = nums[i - 1] * L[i - 1]\n",
    "        \n",
    "        # R[i] 为索引 i 右侧所有元素的乘积\n",
    "        # 对于索引为 'length-1' 的元素，因为右侧没有元素，所以 R[length-1] = 1\n",
    "        R[length - 1] = 1\n",
    "        for i in reversed(range(length - 1)):\n",
    "            R[i] = nums[i + 1] * R[i + 1]\n",
    "\n",
    "        # 对于索引 i，除 nums[i] 之外其余各元素的乘积就是左侧所有元素的乘积乘以右侧所有元素的乘积\n",
    "        for i in range(length):\n",
    "            answer[i] = L[i] * R[i]\n",
    "        \n",
    "        return answer"
   ]
  },
  {
   "cell_type": "markdown",
   "metadata": {},
   "source": [
    "# o(1)"
   ]
  },
  {
   "cell_type": "code",
   "execution_count": 2,
   "metadata": {
    "collapsed": true
   },
   "outputs": [],
   "source": [
    "class Solution:\n",
    "    def productExceptSelf(self, nums):\n",
    "        length = len(nums)\n",
    "        answer = [0]*length\n",
    "        \n",
    "        # answer[i] 表示索引 i 左侧所有元素的乘积\n",
    "        # 因为索引为 '0' 的元素左侧没有元素， 所以 answer[0] = 1\n",
    "        answer[0] = 1\n",
    "        for i in range(1, length):\n",
    "            answer[i] = nums[i - 1] * answer[i - 1]\n",
    "        \n",
    "        # R 为右侧所有元素的乘积\n",
    "        # 刚开始右边没有元素，所以 R = 1\n",
    "        R = 1;\n",
    "        for i in reversed(range(length)):\n",
    "            # 对于索引 i，左边的乘积为 answer[i]，右边的乘积为 R\n",
    "            answer[i] = answer[i] * R\n",
    "            # R 需要包含右边所有的乘积，所以计算下一个结果时需要将当前值乘到 R 上\n",
    "            R *= nums[i]\n",
    "        \n",
    "        return answer"
   ]
  },
  {
   "cell_type": "code",
   "execution_count": null,
   "metadata": {
    "collapsed": true
   },
   "outputs": [],
   "source": []
  }
 ],
 "metadata": {
  "kernelspec": {
   "display_name": "Python 3",
   "language": "python",
   "name": "python3"
  },
  "language_info": {
   "codemirror_mode": {
    "name": "ipython",
    "version": 3
   },
   "file_extension": ".py",
   "mimetype": "text/x-python",
   "name": "python",
   "nbconvert_exporter": "python",
   "pygments_lexer": "ipython3",
   "version": "3.6.3"
  }
 },
 "nbformat": 4,
 "nbformat_minor": 2
}
