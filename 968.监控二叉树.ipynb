{
 "cells": [
  {
   "cell_type": "code",
   "execution_count": 1,
   "metadata": {
    "collapsed": true
   },
   "outputs": [],
   "source": [
    "class Solution:\n",
    "    def minCameraCover(self, root):\n",
    "        def dfs(root):\n",
    "            if not root:\n",
    "                return [float(\"inf\"), 0, 0]\n",
    "            \n",
    "            la, lb, lc = dfs(root.left)\n",
    "            ra, rb, rc = dfs(root.right)\n",
    "            a = lc + rc + 1\n",
    "            b = min(a, la + rb, ra + lb)\n",
    "            c = min(a, lb + rb)\n",
    "            return [a, b, c]\n",
    "        \n",
    "        a, b, c = dfs(root)\n",
    "        return b"
   ]
  },
  {
   "cell_type": "code",
   "execution_count": null,
   "metadata": {
    "collapsed": true
   },
   "outputs": [],
   "source": []
  }
 ],
 "metadata": {
  "kernelspec": {
   "display_name": "Python 3",
   "language": "python",
   "name": "python3"
  },
  "language_info": {
   "codemirror_mode": {
    "name": "ipython",
    "version": 3
   },
   "file_extension": ".py",
   "mimetype": "text/x-python",
   "name": "python",
   "nbconvert_exporter": "python",
   "pygments_lexer": "ipython3",
   "version": "3.6.3"
  }
 },
 "nbformat": 4,
 "nbformat_minor": 2
}
