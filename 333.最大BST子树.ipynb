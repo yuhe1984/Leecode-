{
 "cells": [
  {
   "cell_type": "code",
   "execution_count": 2,
   "metadata": {},
   "outputs": [],
   "source": [
    "# Definition for a binary tree node.\n",
    "class TreeNode:\n",
    "    def __init__(self, x):\n",
    "        self.val = x\n",
    "        self.left = None\n",
    "        self.right = None\n",
    "\n",
    "class Solution:\n",
    "    def largestBSTSubtree(self, root: TreeNode) -> int:\n",
    "\n",
    "        self.res = 0\n",
    "        def isValid(root, t1, t2):\n",
    "            if not root:\n",
    "                return 0\n",
    "            if root.val >= t2 or root.val <= t1:\n",
    "                return float(\"-inf\")\n",
    "            return 1 + isValid(root.left, t1, root.val) + isValid(root.right, root.val, t2)\n",
    "\n",
    "        def helper(root):\n",
    "            if not root:\n",
    "                return \n",
    "            self.res = max(self.res, isValid(root,float(\"-inf\"), float(\"inf\")) )\n",
    "            helper(root.left)\n",
    "            helper(root.right)\n",
    "        helper(root)\n",
    "        return self.res"
   ]
  },
  {
   "cell_type": "code",
   "execution_count": 9,
   "metadata": {
    "collapsed": true
   },
   "outputs": [],
   "source": [
    "class Solution:\n",
    "    def largestBSTSubtree(self, root: TreeNode) -> int:\n",
    "        self.res = 0\n",
    "        def isValid(root, t1, t2):\n",
    "            if not root:\n",
    "                return 0\n",
    "            if root.val >= t2 or root.val <= t1:\n",
    "                return float(\"inf\")\n",
    "            return 1 + isValid(root.left, t1, root.val) + isValid(root.right, root.val, t2)\n",
    "        def helper(root):\n",
    "            if not root:\n",
    "                return\n",
    "            self.res = max(self.res, isValid(root, float(\"-inf\"), float(\"inf\")))\n",
    "            helper(root.left)\n",
    "            helper(root.right)\n",
    "        \n",
    "        helper(root)\n",
    "        return self.res"
   ]
  },
  {
   "cell_type": "code",
   "execution_count": 3,
   "metadata": {
    "collapsed": true
   },
   "outputs": [],
   "source": [
    "# Definition for a binary tree node.\n",
    "# class TreeNode:\n",
    "#     def __init__(self, x):\n",
    "#         self.val = x\n",
    "#         self.left = None\n",
    "#         self.right = None\n",
    "\n",
    "class Solution:\n",
    "    def largestBSTSubtree(self, root: TreeNode) -> int:\n",
    "        \n",
    "        def helper(root):\n",
    "            if not root:\n",
    "                return float(\"inf\"), float(\"-inf\"), 0\n",
    "            l_min, l_max, lv = helper(root.left)\n",
    "            r_min, r_max, rv = helper(root.right)\n",
    "            # print(root.val, l_max, r_min)\n",
    "            if  l_max < root.val < r_min:\n",
    "                return min(l_min, root.val), max(root.val, r_max), 1 + lv + rv\n",
    "            return float(\"-inf\"), float(\"inf\"), max(lv, rv)\n",
    "        \n",
    "        return helper(root)[2]"
   ]
  },
  {
   "cell_type": "code",
   "execution_count": 4,
   "metadata": {
    "collapsed": true
   },
   "outputs": [],
   "source": [
    "import torch\n",
    "import torch.optim as optim\n",
    "from torch.optim import lr_scheduler\n",
    "from torchvision.models import AlexNet\n",
    "import matplotlib.pyplot as plt"
   ]
  },
  {
   "cell_type": "code",
   "execution_count": 8,
   "metadata": {},
   "outputs": [
    {
     "name": "stdout",
     "output_type": "stream",
     "text": [
      "0 0.08535533905932738\n",
      "1 0.05\n",
      "2 0.014644660940672627\n",
      "3 0.0\n",
      "4 0.014644660940672622\n",
      "5 0.05000000000000001\n",
      "6 0.0853553390593274\n",
      "7 0.10000000000000003\n",
      "8 0.0853553390593274\n",
      "9 0.05000000000000003\n"
     ]
    },
    {
     "name": "stderr",
     "output_type": "stream",
     "text": [
      "D:\\Anaconda\\lib\\site-packages\\torch\\optim\\lr_scheduler.py:123: UserWarning: Detected call of `lr_scheduler.step()` before `optimizer.step()`. In PyTorch 1.1.0 and later, you should call them in the opposite order: `optimizer.step()` before `lr_scheduler.step()`.  Failure to do this will result in PyTorch skipping the first value of the learning rate schedule. See more details at https://pytorch.org/docs/stable/optim.html#how-to-adjust-learning-rate\n",
      "  \"https://pytorch.org/docs/stable/optim.html#how-to-adjust-learning-rate\", UserWarning)\n"
     ]
    },
    {
     "data": {
      "image/png": "[encoded data removed]",
      "text/plain": [
       "<matplotlib.figure.Figure at 0x16cd381e1d0>"
      ]
     },
     "metadata": {},
     "output_type": "display_data"
    }
   ],
   "source": [
    "model = AlexNet(num_classes=2)\n",
    "optimizer = optim.SGD(params = model.parameters(), lr=0.1)\n",
    "\n",
    "#根据式子进行计算\n",
    "scheduler = lr_scheduler.CosineAnnealingLR(optimizer, T_max=4)\n",
    "\n",
    "plt.figure()\n",
    "x = list(range(10))\n",
    "y = []\n",
    "\n",
    "for epoch in range(10):\n",
    "    scheduler.step()\n",
    "    lr = scheduler.get_last_lr()\n",
    "    print(epoch, scheduler.get_last_lr()[0])\n",
    "    y.append(scheduler.get_last_lr()[0])\n",
    "\n",
    "plt.plot(x,y)\n",
    "plt.show()"
   ]
  },
  {
   "cell_type": "code",
   "execution_count": 19,
   "metadata": {},
   "outputs": [
    {
     "data": {
      "image/png": "[encoded data removed]",
      "text/plain": [
       "<matplotlib.figure.Figure at 0x16cd4cc9ba8>"
      ]
     },
     "metadata": {},
     "output_type": "display_data"
    }
   ],
   "source": [
    "import numpy as np\n",
    "import matplotlib.pyplot as plt\n",
    "\n",
    "def compute_eta_t(eta_min, eta_max, T_cur, Ti):\n",
    "    '''Equation (5).\n",
    "    # Arguments\n",
    "        eta_min,eta_max,T_cur,Ti are same as equation.\n",
    "    # Returns\n",
    "        eta_t\n",
    "    '''\n",
    "    pi = np.pi\n",
    "    eta_t = eta_min + 0.5 * (eta_max - eta_min) * (np.cos(pi * T_cur / Ti) + 1)\n",
    "    return eta_t\n",
    "\n",
    "# 每Ti个epoch进行一次restart。\n",
    "Ti = [20, 40, 60, 90]\n",
    "n_batches = 200\n",
    "eta_ts = []\n",
    "for ti in Ti:\n",
    "    T_cur = np.arange(0, ti, 1 / n_batches)\n",
    "    for t_cur in T_cur:\n",
    "        eta_ts.append(compute_eta_t(0, 1, t_cur, ti))\n",
    "        \n",
    "n_iterations = sum(Ti) * n_batches\n",
    "epoch = np.arange(0, n_iterations) / n_batches\n",
    "\n",
    "plt.plot(epoch, eta_ts)\n",
    "plt.show()"
   ]
  },
  {
   "cell_type": "code",
   "execution_count": null,
   "metadata": {
    "collapsed": true
   },
   "outputs": [],
   "source": []
  }
 ],
 "metadata": {
  "kernelspec": {
   "display_name": "Python 3",
   "language": "python",
   "name": "python3"
  },
  "language_info": {
   "codemirror_mode": {
    "name": "ipython",
    "version": 3
   },
   "file_extension": ".py",
   "mimetype": "text/x-python",
   "name": "python",
   "nbconvert_exporter": "python",
   "pygments_lexer": "ipython3",
   "version": "3.6.3"
  }
 },
 "nbformat": 4,
 "nbformat_minor": 2
}
