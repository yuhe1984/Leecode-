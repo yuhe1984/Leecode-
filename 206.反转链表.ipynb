{
 "cells": [
  {
   "cell_type": "markdown",
   "metadata": {},
   "source": [
    "# 迭代"
   ]
  },
  {
   "cell_type": "code",
   "execution_count": 27,
   "metadata": {},
   "outputs": [
    {
     "name": "stdout",
     "output_type": "stream",
     "text": [
      "12345"
     ]
    }
   ],
   "source": [
    "# Definition for singly-linked list.\n",
    "class ListNode:\n",
    "    def __init__(self, x):\n",
    "        self.val = x\n",
    "        self.next = None\n",
    "def generaList(l):\n",
    "    prenode = ListNode(0)\n",
    "    lastnode = prenode\n",
    "    for val in l:\n",
    "        lastnode.next = ListNode(val)\n",
    "        lastnode = lastnode.next\n",
    "    return prenode.next\n",
    "l1 = generaList([1,2,3,4,5])\n",
    "def printList(l):\n",
    "    while l:\n",
    "        print(l.val, end='')\n",
    "        l = l.next\n",
    "printList(l1)"
   ]
  },
  {
   "cell_type": "code",
   "execution_count": 28,
   "metadata": {
    "collapsed": true
   },
   "outputs": [],
   "source": [
    "class Solution:\n",
    "    def reverseList(self, head):\n",
    "        prev = None\n",
    "        curr = generaList([1,2,3,4,5])\n",
    "        while curr != None:\n",
    "            nextTemp = curr.next\n",
    "            curr.next = prev\n",
    "            prev = curr\n",
    "            curr = nextTemp\n",
    "        return prev"
   ]
  },
  {
   "cell_type": "code",
   "execution_count": 29,
   "metadata": {
    "collapsed": true
   },
   "outputs": [],
   "source": [
    "a = Solution()"
   ]
  },
  {
   "cell_type": "code",
   "execution_count": 30,
   "metadata": {},
   "outputs": [
    {
     "name": "stdout",
     "output_type": "stream",
     "text": [
      "54321"
     ]
    }
   ],
   "source": [
    "b = a.reverseList(l1)\n",
    "printList(b)"
   ]
  },
  {
   "cell_type": "code",
   "execution_count": 31,
   "metadata": {},
   "outputs": [
    {
     "name": "stdout",
     "output_type": "stream",
     "text": [
      "12345"
     ]
    }
   ],
   "source": [
    "printList(l1)"
   ]
  },
  {
   "cell_type": "markdown",
   "metadata": {},
   "source": [
    "# 递归"
   ]
  },
  {
   "cell_type": "code",
   "execution_count": 35,
   "metadata": {
    "collapsed": true
   },
   "outputs": [],
   "source": [
    "class ListNode:\n",
    "    def __init__(self, x):\n",
    "        self.val = x\n",
    "        self.next = None\n",
    "def generateList(l):\n",
    "    prenode = ListNode(0)\n",
    "    lastnode = prenode\n",
    "    for val in l:\n",
    "        lastnode.next = ListNode(val)\n",
    "        lastnode = lastnode.next\n",
    "    return prenode.next\n",
    "def printList(l):\n",
    "    while l:\n",
    "        print(l.val,end='')\n",
    "        l = l.next"
   ]
  },
  {
   "cell_type": "code",
   "execution_count": 36,
   "metadata": {},
   "outputs": [
    {
     "name": "stdout",
     "output_type": "stream",
     "text": [
      "12345"
     ]
    }
   ],
   "source": [
    "l1 = generateList([1,2,3,4,5])\n",
    "printList(l1)"
   ]
  },
  {
   "cell_type": "code",
   "execution_count": 40,
   "metadata": {
    "collapsed": true
   },
   "outputs": [],
   "source": [
    "class Solution:\n",
    "    def reverseList(self, head):\n",
    "        if head == None or head.next == None: return head\n",
    "        p = self.reverseList(head.next)\n",
    "        head.next.next = head\n",
    "        head.next = None\n",
    "        return p"
   ]
  },
  {
   "cell_type": "code",
   "execution_count": 41,
   "metadata": {
    "collapsed": true
   },
   "outputs": [],
   "source": [
    "a = Solution()"
   ]
  },
  {
   "cell_type": "code",
   "execution_count": 42,
   "metadata": {},
   "outputs": [],
   "source": [
    "b = a.reverseList(l1)"
   ]
  },
  {
   "cell_type": "code",
   "execution_count": 43,
   "metadata": {},
   "outputs": [
    {
     "name": "stdout",
     "output_type": "stream",
     "text": [
      "54321"
     ]
    }
   ],
   "source": [
    "printList(b)"
   ]
  },
  {
   "cell_type": "code",
   "execution_count": 46,
   "metadata": {},
   "outputs": [
    {
     "name": "stdout",
     "output_type": "stream",
     "text": [
      "12345\n",
      "54321"
     ]
    }
   ],
   "source": [
    "class ListNode:\n",
    "    def __init__(self, x):\n",
    "        self.val = x\n",
    "        self.next = None\n",
    "def generateList(l):\n",
    "    prenode = ListNode(0)\n",
    "    lastnode = prenode\n",
    "    for val in l:\n",
    "        lastnode.next = ListNode(val)\n",
    "        lastnode = lastnode.next\n",
    "    return prenode.next\n",
    "def printList(l):\n",
    "    while l:\n",
    "        print(l.val,end='')\n",
    "        l = l.next\n",
    "l1 = generateList([1,2,3,4,5])\n",
    "printList(l1)\n",
    "class Solution:\n",
    "    def reverseList(self, head):\n",
    "        if head == None or head.next == None: return head\n",
    "        p = self.reverseList(head.next)\n",
    "        head.next.next = head\n",
    "        head.next = None\n",
    "        return p\n",
    "a = Solution()\n",
    "b = a.reverseList(l1)\n",
    "print('')\n",
    "printList(b)"
   ]
  },
  {
   "cell_type": "code",
   "execution_count": null,
   "metadata": {
    "collapsed": true
   },
   "outputs": [],
   "source": []
  }
 ],
 "metadata": {
  "kernelspec": {
   "display_name": "Python 3",
   "language": "python",
   "name": "python3"
  },
  "language_info": {
   "codemirror_mode": {
    "name": "ipython",
    "version": 3
   },
   "file_extension": ".py",
   "mimetype": "text/x-python",
   "name": "python",
   "nbconvert_exporter": "python",
   "pygments_lexer": "ipython3",
   "version": "3.6.3"
  }
 },
 "nbformat": 4,
 "nbformat_minor": 2
}
