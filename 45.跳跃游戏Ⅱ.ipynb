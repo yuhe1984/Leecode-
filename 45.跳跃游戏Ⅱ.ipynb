{
 "cells": [
  {
   "cell_type": "markdown",
   "metadata": {},
   "source": [
    "# 解法一"
   ]
  },
  {
   "cell_type": "code",
   "execution_count": 2,
   "metadata": {
    "collapsed": true
   },
   "outputs": [],
   "source": [
    "class Solution:\n",
    "    def jump(self, nums):\n",
    "        end = 0\n",
    "        maxPosition = 0\n",
    "        steps = 0\n",
    "        for i in range(len(nums)-1):\n",
    "            maxPosition = max(maxPosition, nums[i] + i)\n",
    "            if i == end:\n",
    "                end = maxPosition\n",
    "                steps += 1\n",
    "        return steps"
   ]
  },
  {
   "cell_type": "markdown",
   "metadata": {},
   "source": [
    "# 解法二"
   ]
  },
  {
   "cell_type": "code",
   "execution_count": 3,
   "metadata": {
    "collapsed": true
   },
   "outputs": [],
   "source": [
    "class Solution:\n",
    "    def jump(self, nums):\n",
    "        Position = len(nums)-1\n",
    "        steps = 0\n",
    "        while Position != 0:\n",
    "            for i in range(Position):\n",
    "                if nums[i] >= Position-1:\n",
    "                    Position = i\n",
    "                    steps += 1\n",
    "                    break\n",
    "        return steps"
   ]
  }
 ],
 "metadata": {
  "kernelspec": {
   "display_name": "Python 3",
   "language": "python",
   "name": "python3"
  },
  "language_info": {
   "codemirror_mode": {
    "name": "ipython",
    "version": 3
   },
   "file_extension": ".py",
   "mimetype": "text/x-python",
   "name": "python",
   "nbconvert_exporter": "python",
   "pygments_lexer": "ipython3",
   "version": "3.6.3"
  }
 },
 "nbformat": 4,
 "nbformat_minor": 2
}
