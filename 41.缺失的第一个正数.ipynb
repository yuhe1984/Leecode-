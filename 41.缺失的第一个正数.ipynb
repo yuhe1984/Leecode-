{
 "cells": [
  {
   "cell_type": "code",
   "execution_count": 1,
   "metadata": {
    "collapsed": true
   },
   "outputs": [],
   "source": [
    "# 检查 1 是否存在于数组中。如果没有，则已经完成，1 即为答案。\n",
    "# 如果 nums = [1]，答案即为 2 。\n",
    "# 将负数，零，和大于 n 的数替换为 1 。\n",
    "# 遍历数组。当读到数字 a 时，替换第 a 个元素的符号。\n",
    "# 注意重复元素：只能改变一次符号。由于没有下标 n ，使用下标 0 的元素保存是否存在数字 n。\n",
    "# 再次遍历数组。返回第一个正数元素的下标。\n",
    "# 如果 nums[0] > 0，则返回 n 。\n",
    "# 如果之前的步骤中没有发现 nums 中有正数元素，则返回n + 1。"
   ]
  },
  {
   "cell_type": "code",
   "execution_count": 3,
   "metadata": {
    "collapsed": true
   },
   "outputs": [],
   "source": [
    "class Solution:\n",
    "    def firstMissingPositive(self, nums):\n",
    "        \"\"\"\n",
    "        :type nums: List[int]\n",
    "        :rtype: int\n",
    "        \"\"\"\n",
    "        n = len(nums)\n",
    "        \n",
    "        # 基本情况\n",
    "        if 1 not in nums:\n",
    "            return 1\n",
    "        \n",
    "        # nums = [1]\n",
    "        if n == 1:\n",
    "            return 2\n",
    "        \n",
    "        # 用 1 替换负数，0，\n",
    "        # 和大于 n 的数\n",
    "        # 在转换以后，nums 只会包含\n",
    "        # 正数\n",
    "        for i in range(n):\n",
    "            if nums[i] <= 0 or nums[i] > n:\n",
    "                nums[i] = 1\n",
    "        \n",
    "        # 使用索引和数字符号作为检查器\n",
    "        # 例如，如果 nums[1] 是负数表示在数组中出现了数字 `1`\n",
    "        # 如果 nums[2] 是正数 表示数字 2 没有出现\n",
    "        for i in range(n): \n",
    "            a = abs(nums[i])\n",
    "            # 如果发现了一个数字 a - 改变第 a 个元素的符号\n",
    "            # 注意重复元素只需操作一次\n",
    "            if a == n:   # 第n个数字用第0个位置来表示\n",
    "                nums[0] = - abs(nums[0])\n",
    "            else:\n",
    "                nums[a] = - abs(nums[a])\n",
    "            \n",
    "        # 现在第一个正数的下标\n",
    "        # 就是第一个缺失的数\n",
    "        for i in range(1, n):\n",
    "            if nums[i] > 0:\n",
    "                return i\n",
    "        \n",
    "        if nums[0] > 0:\n",
    "            return n\n",
    "            \n",
    "        return n + 1"
   ]
  },
  {
   "cell_type": "code",
   "execution_count": 7,
   "metadata": {
    "collapsed": true
   },
   "outputs": [],
   "source": [
    "a = Solution()"
   ]
  },
  {
   "cell_type": "code",
   "execution_count": 9,
   "metadata": {},
   "outputs": [
    {
     "data": {
      "text/plain": [
       "2"
      ]
     },
     "execution_count": 9,
     "metadata": {},
     "output_type": "execute_result"
    }
   ],
   "source": [
    "a.firstMissingPositive([3,1,-1,-2,-3,0,5,4,6,7])"
   ]
  },
  {
   "cell_type": "code",
   "execution_count": null,
   "metadata": {
    "collapsed": true
   },
   "outputs": [],
   "source": [
    "class Solution:\n",
    "    def firstMissingPositive(self, nums: List[int]) -> int:\n",
    "        # 保证有1\n",
    "        if 1 not in nums:\n",
    "            return 1\n",
    "        \n",
    "        n = len(nums)\n",
    "        \n",
    "        # 保证都在1~n的范围内\n",
    "        for i in range(n):\n",
    "            if nums[i] <= 0 or nums[i] > n:\n",
    "                nums[i] = 1\n",
    "        \n",
    "        # 以自身正负为bitmap，标记\n",
    "        for i in range(n):\n",
    "            if nums[abs(nums[i])-1] > 0:\n",
    "                nums[abs(nums[i])-1] = -nums[abs(nums[i])-1]\n",
    "        \n",
    "        # 找到第一个为正的索引，即没有出现的最小正数\n",
    "        for i in range(n):\n",
    "            if nums[i] > 0:\n",
    "                return i+1\n",
    "        \n",
    "        # 全为负\n",
    "        return n+1"
   ]
  },
  {
   "cell_type": "code",
   "execution_count": null,
   "metadata": {
    "collapsed": true
   },
   "outputs": [],
   "source": [
    "class Solution:\n",
    "    def firstMissingPositive(self, nums: List[int]) -> int:\n",
    "        l = len(nums)\n",
    "        for i in range(1,l+2):\n",
    "            if i not in nums:\n",
    "                return i"
   ]
  }
 ],
 "metadata": {
  "kernelspec": {
   "display_name": "Python 3",
   "language": "python",
   "name": "python3"
  },
  "language_info": {
   "codemirror_mode": {
    "name": "ipython",
    "version": 3
   },
   "file_extension": ".py",
   "mimetype": "text/x-python",
   "name": "python",
   "nbconvert_exporter": "python",
   "pygments_lexer": "ipython3",
   "version": "3.6.3"
  }
 },
 "nbformat": 4,
 "nbformat_minor": 2
}
