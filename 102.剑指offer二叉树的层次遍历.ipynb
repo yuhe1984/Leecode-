{
 "cells": [
  {
   "cell_type": "markdown",
   "metadata": {},
   "source": [
    "# 递归"
   ]
  },
  {
   "cell_type": "code",
   "execution_count": 1,
   "metadata": {
    "collapsed": true
   },
   "outputs": [],
   "source": [
    "class Solution:\n",
    "    def levelOrder(self, root):\n",
    "        \"\"\"\n",
    "        :type root: TreeNode\n",
    "        :rtype: List[List[int]]\n",
    "        \"\"\"\n",
    "        levels = []\n",
    "        if not root:\n",
    "            return levels\n",
    "        \n",
    "        def helper(node, level):\n",
    "            # start the current level\n",
    "            if len(levels) == level:\n",
    "                levels.append([])\n",
    "\n",
    "            # append the current node value\n",
    "            levels[level].append(node.val)\n",
    "\n",
    "            # process child nodes for the next level\n",
    "            if node.left:\n",
    "                helper(node.left, level + 1)\n",
    "            if node.right:\n",
    "                helper(node.right, level + 1)\n",
    "            \n",
    "        helper(root, 0)\n",
    "        return levels"
   ]
  },
  {
   "cell_type": "code",
   "execution_count": 2,
   "metadata": {
    "collapsed": true
   },
   "outputs": [],
   "source": [
    "class Solution:\n",
    "    def levelOrder(self, root):\n",
    "        levels = []\n",
    "        if not root: return []\n",
    "        \n",
    "        def helper(node, level):\n",
    "            if len(levels) == level:\n",
    "                levels.append([])\n",
    "                \n",
    "            levels[level].append(node.val)\n",
    "            if node.left:\n",
    "                helper(node.left, level + 1)\n",
    "            if node.right:\n",
    "                helper(node.right, level + 1)\n",
    "                \n",
    "        hrlper(root, 0)\n",
    "        return levels"
   ]
  },
  {
   "cell_type": "markdown",
   "metadata": {},
   "source": [
    "# 迭代"
   ]
  },
  {
   "cell_type": "code",
   "execution_count": 3,
   "metadata": {
    "collapsed": true
   },
   "outputs": [],
   "source": [
    "from collections import deque\n",
    "class Solution:\n",
    "    def levelOrder(self, root):\n",
    "        \"\"\"\n",
    "        :type root: TreeNode\n",
    "        :rtype: List[List[int]]\n",
    "        \"\"\"\n",
    "        levels = []\n",
    "        if not root:\n",
    "            return levels\n",
    "        \n",
    "        level = 0\n",
    "        queue = deque([root,])\n",
    "        while queue:\n",
    "            # start the current level\n",
    "            levels.append([])\n",
    "            # number of elements in the current level \n",
    "            level_length = len(queue)\n",
    "            \n",
    "            for i in range(level_length):\n",
    "                node = queue.popleft()\n",
    "                # fulfill the current level\n",
    "                levels[level].append(node.val)\n",
    "                \n",
    "                # add child nodes of the current level\n",
    "                # in the queue for the next level\n",
    "                if node.left:\n",
    "                    queue.append(node.left)\n",
    "                if node.right:\n",
    "                    queue.append(node.right)\n",
    "            \n",
    "            # go to next level\n",
    "            level += 1\n",
    "        \n",
    "        return levels"
   ]
  },
  {
   "cell_type": "code",
   "execution_count": 6,
   "metadata": {
    "collapsed": true
   },
   "outputs": [],
   "source": [
    "from collections import deque\n",
    "class Solution:\n",
    "    def levelOrder(self, root):\n",
    "        levels = []\n",
    "        if not root: return []\n",
    "        level = 0\n",
    "        queue = deque([root,])\n",
    "        while queue:\n",
    "            levels.append([])\n",
    "            level_length = len(queue)\n",
    "            for i in range(level_length):\n",
    "                node = queue.popleft()\n",
    "                levels[level].append(node.val)\n",
    "                if node.left:\n",
    "                    queue.append(node.left)\n",
    "                if node.right:\n",
    "                    queue.append(node.right)\n",
    "                    \n",
    "            level += 1\n",
    "            \n",
    "        return levels"
   ]
  },
  {
   "cell_type": "code",
   "execution_count": null,
   "metadata": {
    "collapsed": true
   },
   "outputs": [],
   "source": []
  }
 ],
 "metadata": {
  "kernelspec": {
   "display_name": "Python 3",
   "language": "python",
   "name": "python3"
  },
  "language_info": {
   "codemirror_mode": {
    "name": "ipython",
    "version": 3
   },
   "file_extension": ".py",
   "mimetype": "text/x-python",
   "name": "python",
   "nbconvert_exporter": "python",
   "pygments_lexer": "ipython3",
   "version": "3.6.3"
  }
 },
 "nbformat": 4,
 "nbformat_minor": 2
}
