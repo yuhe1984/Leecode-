{
 "cells": [
  {
   "cell_type": "code",
   "execution_count": 3,
   "metadata": {
    "collapsed": true
   },
   "outputs": [],
   "source": [
    "# Definition for a binary tree node.\n",
    "class TreeNode:\n",
    "    def __init__(self, val=0, left=None, right=None):\n",
    "        self.val = val\n",
    "        self.left = left\n",
    "        self.right = right\n",
    "class Solution:\n",
    "    def generateTrees(self, n):\n",
    "        def generateTree(start, end):\n",
    "            if start > end:\n",
    "                return [None,]\n",
    "            allTrees = []\n",
    "            for i in range(start, end+1):\n",
    "                leftTrees = generateTree(start, i-1)\n",
    "                rightTrees = generateTree(i+1, end)\n",
    "                for l in leftTrees:\n",
    "                    for r in rightTrees:\n",
    "                        curTree = TreeNode(i)\n",
    "                        curTree.left = l\n",
    "                        curTree.right = r\n",
    "                        allTrees.append(curTree)\n",
    "            return allTrees\n",
    "                \n",
    "        return generateTree(1, n) if n else []"
   ]
  },
  {
   "cell_type": "code",
   "execution_count": null,
   "metadata": {
    "collapsed": true
   },
   "outputs": [],
   "source": []
  }
 ],
 "metadata": {
  "kernelspec": {
   "display_name": "Python 3",
   "language": "python",
   "name": "python3"
  },
  "language_info": {
   "codemirror_mode": {
    "name": "ipython",
    "version": 3
   },
   "file_extension": ".py",
   "mimetype": "text/x-python",
   "name": "python",
   "nbconvert_exporter": "python",
   "pygments_lexer": "ipython3",
   "version": "3.6.3"
  }
 },
 "nbformat": 4,
 "nbformat_minor": 2
}
