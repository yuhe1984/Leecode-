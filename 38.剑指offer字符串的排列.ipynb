{
 "cells": [
  {
   "cell_type": "code",
   "execution_count": 3,
   "metadata": {
    "collapsed": true
   },
   "outputs": [],
   "source": [
    "class Solution:\n",
    "    def permutation(self, s):\n",
    "        if len(s) == 1: return [s]\n",
    "        res = []\n",
    "        for i, x in enumerate(s):\n",
    "            n = s[:i] + s[i+1:]\n",
    "            for y in self.permutation(n):\n",
    "                res.append(x+y)\n",
    "        return list(set(res))"
   ]
  },
  {
   "cell_type": "markdown",
   "metadata": {},
   "source": [
    "# 超时"
   ]
  },
  {
   "cell_type": "code",
   "execution_count": 2,
   "metadata": {
    "collapsed": true
   },
   "outputs": [],
   "source": [
    "class Solution:\n",
    "    def permutation(self, s):\n",
    "        def backtrack(first = 0):\n",
    "            if first == n:\n",
    "                if ''.join(s[:]) not in output:\n",
    "                    output.append(''.join(s[:]))\n",
    "            for i in range(first, n):\n",
    "                s[first], s[i] = s[i], s[first]\n",
    "                backtrack(first+1)\n",
    "                s[first], s[i] = s[i], s[first]\n",
    "\n",
    "        n = len(s)\n",
    "        s = list(s)\n",
    "        output = []\n",
    "        backtrack()\n",
    "        return output"
   ]
  },
  {
   "cell_type": "code",
   "execution_count": null,
   "metadata": {
    "collapsed": true
   },
   "outputs": [],
   "source": []
  }
 ],
 "metadata": {
  "kernelspec": {
   "display_name": "Python 3",
   "language": "python",
   "name": "python3"
  },
  "language_info": {
   "codemirror_mode": {
    "name": "ipython",
    "version": 3
   },
   "file_extension": ".py",
   "mimetype": "text/x-python",
   "name": "python",
   "nbconvert_exporter": "python",
   "pygments_lexer": "ipython3",
   "version": "3.6.3"
  }
 },
 "nbformat": 4,
 "nbformat_minor": 2
}
