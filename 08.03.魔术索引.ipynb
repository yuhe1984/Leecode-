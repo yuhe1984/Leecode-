{
 "cells": [
  {
   "cell_type": "markdown",
   "metadata": {},
   "source": [
    "# 线性查找"
   ]
  },
  {
   "cell_type": "code",
   "execution_count": 1,
   "metadata": {
    "collapsed": true
   },
   "outputs": [],
   "source": [
    "class Solution():\n",
    "    def findMagicIndex(self, nums):\n",
    "        for i in range(len(nums)):\n",
    "            if i == nums[i]:\n",
    "                return i\n",
    "        return -1"
   ]
  },
  {
   "cell_type": "markdown",
   "metadata": {},
   "source": [
    "# 二分查找"
   ]
  },
  {
   "cell_type": "code",
   "execution_count": null,
   "metadata": {
    "collapsed": true
   },
   "outputs": [],
   "source": [
    "class Solution():\n",
    "    def findMagicIndex(self, nums):\n",
    "        def getAnswer(nums, left, right):\n",
    "            if left > right:\n",
    "                return -1\n",
    "            mid = (left + right) // 2\n",
    "            leftAnswer = getAnswer(nums, left, mid-1)\n",
    "            if leftAnswer != -1:\n",
    "                return leftAnswer\n",
    "            elif nums[mid] == mid:\n",
    "                return mid\n",
    "            return getAnswer(nums, mid + 1, right)\n",
    "        return getAnsewr(nums, 0, len(nums)-1)"
   ]
  },
  {
   "cell_type": "code",
   "execution_count": null,
   "metadata": {
    "collapsed": true
   },
   "outputs": [],
   "source": [
    "class Solution {\n",
    "    public int findMagicIndex(int[] nums) {\n",
    "        return getAnswer(nums, 0, nums.length - 1);\n",
    "    }\n",
    "\n",
    "    public int getAnswer(int[] nums, int left, int right) {\n",
    "        if (left > right) {\n",
    "            return -1;\n",
    "        }\n",
    "        int mid = (right - left) / 2 + left;\n",
    "        int leftAnswer = getAnswer(nums, left, mid - 1);\n",
    "        if (leftAnswer != -1) {\n",
    "            return leftAnswer;\n",
    "        } else if (nums[mid] == mid) {\n",
    "            return mid;\n",
    "        }\n",
    "        return getAnswer(nums, mid + 1, right);\n",
    "    }\n",
    "}"
   ]
  }
 ],
 "metadata": {
  "kernelspec": {
   "display_name": "Python 3",
   "language": "python",
   "name": "python3"
  },
  "language_info": {
   "codemirror_mode": {
    "name": "ipython",
    "version": 3
   },
   "file_extension": ".py",
   "mimetype": "text/x-python",
   "name": "python",
   "nbconvert_exporter": "python",
   "pygments_lexer": "ipython3",
   "version": "3.6.3"
  }
 },
 "nbformat": 4,
 "nbformat_minor": 2
}
