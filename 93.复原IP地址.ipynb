{
 "cells": [
  {
   "cell_type": "markdown",
   "metadata": {},
   "source": [
    "# 递归"
   ]
  },
  {
   "cell_type": "code",
   "execution_count": 1,
   "metadata": {
    "collapsed": true
   },
   "outputs": [],
   "source": [
    "class Solution:\n",
    "    def restoreIpAddresses(self, s):\n",
    "        SEG_COUNT = 4\n",
    "        ans = list()\n",
    "        segments = [0] * SEG_COUNT\n",
    "        \n",
    "        def dfs(segId: int, segStart: int):\n",
    "            # 如果找到了 4 段 IP 地址并且遍历完了字符串，那么就是一种答案\n",
    "            if segId == SEG_COUNT:\n",
    "                if segStart == len(s):\n",
    "                    ipAddr = \".\".join(str(seg) for seg in segments)\n",
    "                    ans.append(ipAddr)\n",
    "                return\n",
    "            \n",
    "            # 如果还没有找到 4 段 IP 地址就已经遍历完了字符串，那么提前回溯\n",
    "            if segStart == len(s):\n",
    "                return\n",
    "\n",
    "            # 由于不能有前导零，如果当前数字为 0，那么这一段 IP 地址只能为 0\n",
    "            if s[segStart] == \"0\":\n",
    "                segments[segId] = 0\n",
    "                dfs(segId + 1, segStart + 1)\n",
    "            \n",
    "            # 一般情况，枚举每一种可能性并递归\n",
    "            addr = 0\n",
    "            for segEnd in range(segStart, len(s)):\n",
    "                addr = addr * 10 + (ord(s[segEnd]) - ord(\"0\"))\n",
    "                if 0 < addr <= 0xFF:\n",
    "                    segments[segId] = addr\n",
    "                    dfs(segId + 1, segEnd + 1)\n",
    "                else:\n",
    "                    break\n",
    "        \n",
    "\n",
    "        dfs(0, 0)\n",
    "        return ans"
   ]
  },
  {
   "cell_type": "code",
   "execution_count": 3,
   "metadata": {
    "collapsed": true
   },
   "outputs": [],
   "source": [
    "class Solution(object):\n",
    "    def restoreIpAddresses(self, s):\n",
    "        \"\"\"\n",
    "        :type s: str\n",
    "        :rtype: List[str]\n",
    "        \"\"\"\n",
    "        self.res = []\n",
    "\n",
    "        def backtrack(s, tmp):\n",
    "            if len(s) == 0 and len(tmp) == 4:\n",
    "                self.res.append('.'.join(tmp))\n",
    "                return\n",
    "            if len(tmp) < 4:\n",
    "                for i in range(min(3, len(s))):\n",
    "                    p, n = s[:i + 1], s[i + 1:]\n",
    "                    if p and 0 <= int(p) <= 255 and str(int(p)) == p:\n",
    "                        backtrack(n, tmp + [p])\n",
    "\n",
    "        backtrack(s, [])\n",
    "        return self.res"
   ]
  },
  {
   "cell_type": "code",
   "execution_count": null,
   "metadata": {
    "collapsed": true
   },
   "outputs": [],
   "source": []
  }
 ],
 "metadata": {
  "kernelspec": {
   "display_name": "Python 3",
   "language": "python",
   "name": "python3"
  },
  "language_info": {
   "codemirror_mode": {
    "name": "ipython",
    "version": 3
   },
   "file_extension": ".py",
   "mimetype": "text/x-python",
   "name": "python",
   "nbconvert_exporter": "python",
   "pygments_lexer": "ipython3",
   "version": "3.6.3"
  }
 },
 "nbformat": 4,
 "nbformat_minor": 2
}
