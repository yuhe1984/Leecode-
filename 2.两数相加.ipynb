{
 "cells": [
  {
   "cell_type": "code",
   "execution_count": 3,
   "metadata": {},
   "outputs": [
    {
     "name": "stdout",
     "output_type": "stream",
     "text": [
      "1, 5, 8, \n",
      "9, 1, 2, 9, \n",
      "0, 7, 0, 0, 1, \n"
     ]
    }
   ],
   "source": [
    "# Definition for singly-linked list.\n",
    "class ListNode:\n",
    "    def __init__(self, x):\n",
    "        self.val = x\n",
    "        self.next = None\n",
    "\n",
    "class Solution:\n",
    "    def addTwoNumbers(self, l1, l2):\n",
    "        prenode = ListNode(0)\n",
    "        lastnode = prenode\n",
    "        val = 0\n",
    "        while val or l1 or l2:\n",
    "            val, cur = divmod(val + (l1.val if l1 else 0) + (l2.val if l2 else 0), 10)\n",
    "            lastnode.next = ListNode(cur)\n",
    "            lastnode = lastnode.next\n",
    "            l1 = l1.next if l1 else None\n",
    "            l2 = l2.next if l2 else None\n",
    "        return prenode.next\n",
    "\n",
    "\n",
    "def generateList(l: list) -> ListNode:\n",
    "    prenode = ListNode(0)\n",
    "    lastnode = prenode\n",
    "    for val in l:\n",
    "        lastnode.next = ListNode(val)\n",
    "        lastnode = lastnode.next\n",
    "    return prenode.next\n",
    "\n",
    "def printList(l: ListNode):\n",
    "    while l:\n",
    "        print(\"%d, \" %(l.val), end = '')\n",
    "        l = l.next\n",
    "    print('')\n",
    "\n",
    "if __name__ == \"__main__\":\n",
    "    l1 = generateList([1, 5, 8])\n",
    "    l2 = generateList([9, 1, 2, 9])\n",
    "    printList(l1)\n",
    "    printList(l2)\n",
    "    s = Solution()\n",
    "    sum = s.addTwoNumbers(l1, l2)\n",
    "    printList(sum)"
   ]
  }
 ],
 "metadata": {
  "kernelspec": {
   "display_name": "Python 3",
   "language": "python",
   "name": "python3"
  },
  "language_info": {
   "codemirror_mode": {
    "name": "ipython",
    "version": 3
   },
   "file_extension": ".py",
   "mimetype": "text/x-python",
   "name": "python",
   "nbconvert_exporter": "python",
   "pygments_lexer": "ipython3",
   "version": "3.6.3"
  }
 },
 "nbformat": 4,
 "nbformat_minor": 2
}
