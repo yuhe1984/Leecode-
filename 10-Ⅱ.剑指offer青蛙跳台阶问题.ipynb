{
 "cells": [
  {
   "cell_type": "code",
   "execution_count": 1,
   "metadata": {
    "collapsed": true
   },
   "outputs": [],
   "source": [
    "class Solution:\n",
    "    def numWays(self, n):\n",
    "        if n == 0: return 1\n",
    "        if n == 1: return 1\n",
    "        if n == 2: return 2\n",
    "        dp = [0] * n\n",
    "        dp[0] = 1\n",
    "        dp[1] = 2\n",
    "        for i in range(2, n):\n",
    "            dp[i] = dp[i-1] + dp[i-2]\n",
    "        return int(dp[-1] % 1000000007)"
   ]
  },
  {
   "cell_type": "code",
   "execution_count": null,
   "metadata": {
    "collapsed": true
   },
   "outputs": [],
   "source": []
  }
 ],
 "metadata": {
  "kernelspec": {
   "display_name": "Python 3",
   "language": "python",
   "name": "python3"
  },
  "language_info": {
   "codemirror_mode": {
    "name": "ipython",
    "version": 3
   },
   "file_extension": ".py",
   "mimetype": "text/x-python",
   "name": "python",
   "nbconvert_exporter": "python",
   "pygments_lexer": "ipython3",
   "version": "3.6.3"
  }
 },
 "nbformat": 4,
 "nbformat_minor": 2
}
