{
 "cells": [
  {
   "cell_type": "code",
   "execution_count": 1,
   "metadata": {
    "collapsed": true
   },
   "outputs": [],
   "source": [
    "from typing import List\n",
    "\n",
    "\n",
    "class Solution:\n",
    "    #         (x-1,y)\n",
    "    # (x,y-1) (x,y) (x,y+1)\n",
    "    #         (x+1,y)\n",
    "\n",
    "    directions = [(0, -1), (-1, 0), (0, 1), (1, 0)]\n",
    "\n",
    "    def exist(self, board: List[List[str]], word: str) -> bool:\n",
    "        m = len(board)\n",
    "        if m == 0:\n",
    "            return False\n",
    "        n = len(board[0])\n",
    "\n",
    "        marked = [[False for _ in range(n)] for _ in range(m)]\n",
    "        for i in range(m):\n",
    "            for j in range(n):\n",
    "                # 对每一个格子都从头开始搜索\n",
    "                if self.__search_word(board, word, 0, i, j, marked, m, n):\n",
    "                    return True\n",
    "        return False\n",
    "\n",
    "    def __search_word(self, board, word, index,\n",
    "                      start_x, start_y, marked, m, n):\n",
    "        # 先写递归终止条件\n",
    "        if index == len(word) - 1:\n",
    "            return board[start_x][start_y] == word[index]\n",
    "\n",
    "        # 中间匹配了，再继续搜索\n",
    "        if board[start_x][start_y] == word[index]:\n",
    "            # 先占住这个位置，搜索不成功的话，要释放掉\n",
    "            marked[start_x][start_y] = True\n",
    "            for direction in self.directions:\n",
    "                new_x = start_x + direction[0]\n",
    "                new_y = start_y + direction[1]\n",
    "                # 注意：如果这一次 search word 成功的话，就返回\n",
    "                if 0 <= new_x < m and 0 <= new_y < n and \\\n",
    "                        not marked[new_x][new_y] and \\\n",
    "                        self.__search_word(board, word,\n",
    "                                           index + 1,\n",
    "                                           new_x, new_y,\n",
    "                                           marked, m, n):\n",
    "                    return True\n",
    "            marked[start_x][start_y] = False\n",
    "        return False"
   ]
  },
  {
   "cell_type": "code",
   "execution_count": 7,
   "metadata": {},
   "outputs": [],
   "source": [
    "class Solution:\n",
    "    directions = [(0, -1), (-1, 0), (0, 1), (1, 0)]\n",
    "    def exist(self, board, word):\n",
    "        m = len(board)\n",
    "        if m == 0:\n",
    "            return False\n",
    "        n = len(board[0])\n",
    "        marked = [[False for _ in range(n)] for _ in range(m)]\n",
    "        for i in range(m):\n",
    "            for j in range(n):\n",
    "                if self.__search_word(board, word, 0, i, j, marked, m, n):\n",
    "                    return True\n",
    "        return False\n",
    "    \n",
    "    def __search_word(self, board, word, index, start_x, start_y, marked, m, n):\n",
    "        if index == len(word) - 1:\n",
    "            return board[start_x][start_y] == word[index]\n",
    "        if board[start_x][start_y] == word[index]:\n",
    "            marked[start_x][start_y] = True\n",
    "            for direction in self.directions:\n",
    "                new_x = start_x + direction[0]\n",
    "                new_y = start_y + direction[1]\n",
    "                if 0 <= new_x < m and 0 <= new_y < n and not marked[new_x][new_y] and self.__search_word\\\n",
    "                (noard, word, index + 1, new_x, new_y, marked, m, n):\n",
    "                    return True\n",
    "            marked[start_x][start_y] = False\n",
    "        return False"
   ]
  },
  {
   "cell_type": "code",
   "execution_count": null,
   "metadata": {
    "collapsed": true
   },
   "outputs": [],
   "source": []
  }
 ],
 "metadata": {
  "kernelspec": {
   "display_name": "Python 3",
   "language": "python",
   "name": "python3"
  },
  "language_info": {
   "codemirror_mode": {
    "name": "ipython",
    "version": 3
   },
   "file_extension": ".py",
   "mimetype": "text/x-python",
   "name": "python",
   "nbconvert_exporter": "python",
   "pygments_lexer": "ipython3",
   "version": "3.6.3"
  }
 },
 "nbformat": 4,
 "nbformat_minor": 2
}
