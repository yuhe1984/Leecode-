{
 "cells": [
  {
   "cell_type": "code",
   "execution_count": 1,
   "metadata": {
    "collapsed": true
   },
   "outputs": [],
   "source": [
    "class Solution:\n",
    "    def exchange(self, nums):\n",
    "        ans = [0] * len(nums)\n",
    "        i, j = 0, len(nums) - 1\n",
    "        m = 0\n",
    "        while j >= i:\n",
    "            if nums[m] % 2 == 1:\n",
    "                ans[i] = nums[m]\n",
    "                i += 1\n",
    "            else:\n",
    "                ans[j] = nums[m]\n",
    "                j -= 1\n",
    "            m += 1\n",
    "        return ans"
   ]
  },
  {
   "cell_type": "code",
   "execution_count": 2,
   "metadata": {
    "collapsed": true
   },
   "outputs": [],
   "source": [
    "class Solution:\n",
    "    def exchange(self, nums):\n",
    "        i, j = 0, len(nums) - 1\n",
    "        while i < j:\n",
    "            while i < j and nums[i] & 1 == 1: i += 1\n",
    "            while i < j and nums[j] & 1 == 0: j -= 1\n",
    "            nums[i], nums[j] = nums[j], nums[i]\n",
    "        return nums"
   ]
  },
  {
   "cell_type": "code",
   "execution_count": 3,
   "metadata": {
    "collapsed": true
   },
   "outputs": [],
   "source": [
    "class Solution:\n",
    "    def exchange(self, nums):\n",
    "        i, j = 0, len(nums) - 1\n",
    "        while i < j:\n",
    "            while i < j and nums[i] & 1 == 1: i += 1\n",
    "            while i < j and nums[j] & 1 == 0: j -= 1\n",
    "            nums[i], nums[j] = nums[j], nums[i]\n",
    "            i += 1\n",
    "            j -= 1\n",
    "        return nums"
   ]
  },
  {
   "cell_type": "code",
   "execution_count": null,
   "metadata": {
    "collapsed": true
   },
   "outputs": [],
   "source": []
  }
 ],
 "metadata": {
  "kernelspec": {
   "display_name": "Python 3",
   "language": "python",
   "name": "python3"
  },
  "language_info": {
   "codemirror_mode": {
    "name": "ipython",
    "version": 3
   },
   "file_extension": ".py",
   "mimetype": "text/x-python",
   "name": "python",
   "nbconvert_exporter": "python",
   "pygments_lexer": "ipython3",
   "version": "3.6.3"
  }
 },
 "nbformat": 4,
 "nbformat_minor": 2
}
