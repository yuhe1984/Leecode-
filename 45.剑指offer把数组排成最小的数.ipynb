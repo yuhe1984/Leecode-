{
 "cells": [
  {
   "cell_type": "code",
   "execution_count": 2,
   "metadata": {
    "collapsed": true
   },
   "outputs": [],
   "source": [
    "class Solution(object):\n",
    "    def minNumber(self, nums):\n",
    "        \"\"\"\n",
    "        :type nums: List[int]\n",
    "        :rtype: str\n",
    "        \"\"\"\n",
    "        if not nums:\n",
    "            return None\n",
    "        for i in range(len(nums)):\n",
    "            nums[i] = str(nums[i])\n",
    "        for i in range(len(nums)):\n",
    "            for j in range(i+1,len(nums)):\n",
    "                if (nums[i] + nums[j]) > (nums[j] + nums[i]):\n",
    "                    nums[i], nums[j] = nums[j], nums[i]\n",
    "        \n",
    "        return ''.join(nums)"
   ]
  },
  {
   "cell_type": "code",
   "execution_count": 10,
   "metadata": {
    "collapsed": true
   },
   "outputs": [],
   "source": [
    "class Solution(object):\n",
    "    def minNumber(self, nums):\n",
    "        if not nums: return None\n",
    "        nums = list(map(str, nums))\n",
    "        for i in range(len(nums)):\n",
    "            for j in range(i+1, len(nums)):\n",
    "                if (nums[i] + nums[j]) > (nums[j] + nums[i]):\n",
    "                    nums[i], nums[j] = nums[j], nums[i]\n",
    "        return ''.join(nums)"
   ]
  },
  {
   "cell_type": "code",
   "execution_count": 11,
   "metadata": {
    "collapsed": true
   },
   "outputs": [],
   "source": [
    "class cmp(str):\n",
    "    def __lt__(self, other):\n",
    "        return self+other < other+self\n",
    "        \n",
    "class Solution:\n",
    "    def minNumber(self, nums):\n",
    "        nums = sorted( [str(i) for i in nums] , key=cmp)\n",
    "        return \"\".join(nums)"
   ]
  },
  {
   "cell_type": "code",
   "execution_count": 12,
   "metadata": {
    "collapsed": true
   },
   "outputs": [],
   "source": [
    "class Solution(object):\n",
    "    def minNumber(self, nums):\n",
    "        nums = sorted( [str(i) for i in nums], key = cmp)\n",
    "        return ''.join(nums)\n",
    "\n",
    "class cmp(str):\n",
    "    def __lt__(self, other):\n",
    "        return self + other < other + self"
   ]
  },
  {
   "cell_type": "code",
   "execution_count": 13,
   "metadata": {
    "collapsed": true
   },
   "outputs": [],
   "source": [
    "class Solution(object):\n",
    "    def minNumber(self, nums):\n",
    "        from functools import cmp_to_key\n",
    "        def compare(a, b):\n",
    "            return 1 if a + b > b + a else -1\n",
    "\n",
    "        nums = sorted( [str(i) for i in nums], key = cmp_to_key(compare))\n",
    "        return ''.join(nums)"
   ]
  },
  {
   "cell_type": "code",
   "execution_count": 18,
   "metadata": {
    "collapsed": true
   },
   "outputs": [],
   "source": [
    "class Solution(object):\n",
    "    def minNumber(self, nums):\n",
    "        from functools import cmp_to_key\n",
    "        def compare(a, b):\n",
    "            return 1 if a + b > b + a else -1\n",
    "        nums = sorted( [str(i) for i in nums], key=cmp_to_key(compare))\n",
    "        return ''.join(nums)"
   ]
  },
  {
   "cell_type": "code",
   "execution_count": 1,
   "metadata": {
    "collapsed": true
   },
   "outputs": [],
   "source": [
    "class Solution:\n",
    "    def minNumber(self, nums):\n",
    "        def fast_sort(l , r):\n",
    "            if l >= r: return\n",
    "            i, j = l, r\n",
    "            while i < j:\n",
    "                while strs[j] + strs[l] >= strs[l] + strs[j] and i < j: j -= 1\n",
    "                while strs[i] + strs[l] <= strs[l] + strs[i] and i < j: i += 1\n",
    "                strs[i], strs[j] = strs[j], strs[i]\n",
    "            strs[i], strs[l] = strs[l], strs[i]\n",
    "            fast_sort(l, i - 1)\n",
    "            fast_sort(i + 1, r)\n",
    "        \n",
    "        strs = [str(num) for num in nums]\n",
    "        fast_sort(0, len(strs) - 1)\n",
    "        return ''.join(strs)"
   ]
  },
  {
   "cell_type": "code",
   "execution_count": null,
   "metadata": {
    "collapsed": true
   },
   "outputs": [],
   "source": []
  }
 ],
 "metadata": {
  "kernelspec": {
   "display_name": "Python 3",
   "language": "python",
   "name": "python3"
  },
  "language_info": {
   "codemirror_mode": {
    "name": "ipython",
    "version": 3
   },
   "file_extension": ".py",
   "mimetype": "text/x-python",
   "name": "python",
   "nbconvert_exporter": "python",
   "pygments_lexer": "ipython3",
   "version": "3.6.3"
  }
 },
 "nbformat": 4,
 "nbformat_minor": 2
}
