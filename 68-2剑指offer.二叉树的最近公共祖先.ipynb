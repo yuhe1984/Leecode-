{
 "cells": [
  {
   "cell_type": "markdown",
   "metadata": {},
   "source": [
    "# 递归"
   ]
  },
  {
   "cell_type": "code",
   "execution_count": 1,
   "metadata": {
    "collapsed": true
   },
   "outputs": [],
   "source": [
    "class Solution:\n",
    "\n",
    "    def __init__(self):\n",
    "        # Variable to store LCA node.\n",
    "        self.ans = None\n",
    "\n",
    "    def lowestCommonAncestor(self, root, p, q):\n",
    "        \"\"\"\n",
    "        :type root: TreeNode\n",
    "        :type p: TreeNode\n",
    "        :type q: TreeNode\n",
    "        :rtype: TreeNode\n",
    "        \"\"\"\n",
    "        def recurse_tree(current_node):\n",
    "\n",
    "            # If reached the end of a branch, return False.\n",
    "            if not current_node:\n",
    "                return False\n",
    "\n",
    "            # Left Recursion\n",
    "            left = recurse_tree(current_node.left)\n",
    "\n",
    "            # Right Recursion\n",
    "            right = recurse_tree(current_node.right)\n",
    "\n",
    "            # If the current node is one of p or q\n",
    "            mid = current_node == p or current_node == q\n",
    "\n",
    "            # If any two of the three flags left, right or mid become True.\n",
    "            if mid + left + right >= 2:\n",
    "                self.ans = current_node\n",
    "\n",
    "            # Return True if either of the three bool values is True.\n",
    "            return mid or left or right\n",
    "\n",
    "        # Traverse the tree\n",
    "        recurse_tree(root)\n",
    "        return self.ans"
   ]
  },
  {
   "cell_type": "code",
   "execution_count": null,
   "metadata": {
    "collapsed": true
   },
   "outputs": [],
   "source": [
    "# Definition for a binary tree node.\n",
    "# class TreeNode:\n",
    "#     def __init__(self, x):\n",
    "#         self.val = x\n",
    "#         self.left = None\n",
    "#         self.right = None\n",
    "\n",
    "class Solution:\n",
    "    def lowestCommonAncestor(self, root, p, q):\n",
    "        if root in (None, p, q):\n",
    "            return root\n",
    "        L = self.lowestCommonAncestor(root.left,p,q)\n",
    "        R = self.lowestCommonAncestor(root.right,p,q)\n",
    "        return R if None == L else L if None == R else root\n",
    "        if root in (None, p, q):\n",
    "            return root\n",
    "        L = self.lowestCommonAncestor(root.left, p, q)\n",
    "        R = self.lowestCommonAncestor(root.right, p, q)\n",
    "        return R if None == L else L if None == R else root"
   ]
  },
  {
   "cell_type": "markdown",
   "metadata": {},
   "source": [
    "# 使用父指针迭代"
   ]
  },
  {
   "cell_type": "code",
   "execution_count": 4,
   "metadata": {
    "collapsed": true
   },
   "outputs": [],
   "source": [
    "class Solution:\n",
    "\n",
    "    def lowestCommonAncestor(self, root, p, q):\n",
    "        \"\"\"\n",
    "        :type root: TreeNode\n",
    "        :type p: TreeNode\n",
    "        :type q: TreeNode\n",
    "        :rtype: TreeNode\n",
    "        \"\"\"\n",
    "\n",
    "        # Stack for tree traversal\n",
    "        stack = [root]\n",
    "\n",
    "        # Dictionary for parent pointers\n",
    "        parent = {root: None}\n",
    "\n",
    "        # Iterate until we find both the nodes p and q\n",
    "        while p not in parent or q not in parent:\n",
    "\n",
    "            node = stack.pop()\n",
    "\n",
    "            # While traversing the tree, keep saving the parent pointers.\n",
    "            if node.left:\n",
    "                parent[node.left] = node\n",
    "                stack.append(node.left)\n",
    "            if node.right:\n",
    "                parent[node.right] = node\n",
    "                stack.append(node.right)\n",
    "\n",
    "        # Ancestors set() for node p.\n",
    "        ancestors = set()\n",
    "\n",
    "        # Process all ancestors for node p using parent pointers.\n",
    "        while p:\n",
    "            ancestors.add(p)\n",
    "            p = parent[p]\n",
    "\n",
    "        # The first ancestor of q which appears in\n",
    "        # p's ancestor set() is their lowest common ancestor.\n",
    "        while q not in ancestors:\n",
    "            q = parent[q]\n",
    "        return q"
   ]
  },
  {
   "cell_type": "markdown",
   "metadata": {},
   "source": [
    "# 无父指针迭代"
   ]
  },
  {
   "cell_type": "code",
   "execution_count": 5,
   "metadata": {
    "collapsed": true
   },
   "outputs": [],
   "source": [
    "class Solution:\n",
    "\n",
    "    # Three static flags to keep track of post-order traversal.\n",
    "\n",
    "    # Both left and right traversal pending for a node.\n",
    "    # Indicates the nodes children are yet to be traversed.\n",
    "    BOTH_PENDING = 2\n",
    "    # Left traversal done.\n",
    "    LEFT_DONE = 1\n",
    "    # Both left and right traversal done for a node.\n",
    "    # Indicates the node can be popped off the stack.\n",
    "    BOTH_DONE = 0\n",
    "\n",
    "    def lowestCommonAncestor(self, root, p, q):\n",
    "        \"\"\"\n",
    "        :type root: TreeNode\n",
    "        :type p: TreeNode\n",
    "        :type q: TreeNode\n",
    "        :rtype: TreeNode\n",
    "        \"\"\"\n",
    "\n",
    "        # Initialize the stack with the root node.\n",
    "        stack = [(root, Solution.BOTH_PENDING)]\n",
    "\n",
    "        # This flag is set when either one of p or q is found.\n",
    "        one_node_found = False\n",
    "\n",
    "        # This is used to keep track of LCA index.\n",
    "        LCA_index = -1\n",
    "\n",
    "        # We do a post order traversal of the binary tree using stack\n",
    "        while stack:\n",
    "\n",
    "            parent_node, parent_state = stack[-1]\n",
    "\n",
    "            # If the parent_state is not equal to BOTH_DONE,\n",
    "            # this means the parent_node can't be popped of yet.\n",
    "            if parent_state != Solution.BOTH_DONE:\n",
    "\n",
    "                # If both child traversals are pending\n",
    "                if parent_state == Solution.BOTH_PENDING:\n",
    "\n",
    "                    # Check if the current parent_node is either p or q.\n",
    "                    if parent_node == p or parent_node == q:\n",
    "\n",
    "                        # If one_node_found is set already, this means we have found both the nodes.\n",
    "                        if one_node_found:\n",
    "                            return stack[LCA_index][0]\n",
    "                        else:\n",
    "                            # Otherwise, set one_node_found to True,\n",
    "                            # to mark one of p and q is found.\n",
    "                            one_node_found = True\n",
    "\n",
    "                            # Save the current top index of stack as the LCA_index.\n",
    "                            LCA_index = len(stack) - 1\n",
    "\n",
    "                    # If both pending, traverse the left child first\n",
    "                    child_node = parent_node.left\n",
    "                else:\n",
    "                    # traverse right child\n",
    "                    child_node = parent_node.right\n",
    "\n",
    "                # Update the node state at the top of the stack\n",
    "                # Since we have visited one more child.\n",
    "                stack.pop()\n",
    "                stack.append((parent_node, parent_state - 1))\n",
    "\n",
    "                # Add the child node to the stack for traversal.\n",
    "                if child_node:\n",
    "                    stack.append((child_node, Solution.BOTH_PENDING))\n",
    "            else:\n",
    "\n",
    "                # If the parent_state of the node is both done,\n",
    "                # the top node could be popped off the stack.\n",
    "\n",
    "                # i.e. If LCA_index is equal to length of stack. Then we decrease LCA_index by 1.\n",
    "                if one_node_found and LCA_index == len(stack) - 1:\n",
    "                    LCA_index -= 1\n",
    "                stack.pop()\n",
    "\n",
    "        return None"
   ]
  },
  {
   "cell_type": "code",
   "execution_count": 14,
   "metadata": {
    "collapsed": true
   },
   "outputs": [],
   "source": [
    "# Definition for a binary tree node.\n",
    "# class TreeNode:\n",
    "#     def __init__(self, x):\n",
    "#         self.val = x\n",
    "#         self.left = None\n",
    "#         self.right = None\n",
    "\n",
    "class Solution:\n",
    "    def lowestCommonAncestor(self, root, p, q):\n",
    "        if root in (None, p, q):\n",
    "            return root\n",
    "        L = self.lowestCommonAncestor(root.left,p,q)\n",
    "        R = self.lowestCommonAncestor(root.right,p,q)\n",
    "        return R if None == L else L if None == R else root"
   ]
  },
  {
   "cell_type": "code",
   "execution_count": null,
   "metadata": {
    "collapsed": true
   },
   "outputs": [],
   "source": []
  }
 ],
 "metadata": {
  "kernelspec": {
   "display_name": "Python 3",
   "language": "python",
   "name": "python3"
  },
  "language_info": {
   "codemirror_mode": {
    "name": "ipython",
    "version": 3
   },
   "file_extension": ".py",
   "mimetype": "text/x-python",
   "name": "python",
   "nbconvert_exporter": "python",
   "pygments_lexer": "ipython3",
   "version": "3.6.3"
  }
 },
 "nbformat": 4,
 "nbformat_minor": 2
}
