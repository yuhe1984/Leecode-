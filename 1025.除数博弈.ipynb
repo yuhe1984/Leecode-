{
 "cells": [
  {
   "cell_type": "code",
   "execution_count": 1,
   "metadata": {
    "collapsed": true
   },
   "outputs": [],
   "source": [
    "class Solution:\n",
    "    def divisorGame(self, N: int) -> bool:\n",
    "        return N % 2 == 0"
   ]
  },
  {
   "cell_type": "markdown",
   "metadata": {},
   "source": [
    "# 动态规划"
   ]
  },
  {
   "cell_type": "code",
   "execution_count": 2,
   "metadata": {
    "collapsed": true
   },
   "outputs": [],
   "source": [
    "class Solution:\n",
    "    def divisorGame(self, N: int) -> bool:\n",
    "        target = [0 for i in range(N+1)]\n",
    "        target[1] = 0 #若爱丽丝抽到1，则爱丽丝输\n",
    "        if N<=1:\n",
    "            return False\n",
    "        else:\n",
    "        \n",
    "            target[2] = 1 #若爱丽丝抽到2，则爱丽丝赢\n",
    "            for i in range(3,N+1):\n",
    "                for j in range(1,i//2):\n",
    "                    # 若j是i的余数且target[i-j]为假（0）的话，则代表当前为真（1）\n",
    "                    if i%j==0 and target[i-j]==0:\n",
    "                        target[i] = 1\n",
    "                        break\n",
    "            return target[N]==1"
   ]
  },
  {
   "cell_type": "code",
   "execution_count": null,
   "metadata": {
    "collapsed": true
   },
   "outputs": [],
   "source": []
  }
 ],
 "metadata": {
  "kernelspec": {
   "display_name": "Python 3",
   "language": "python",
   "name": "python3"
  },
  "language_info": {
   "codemirror_mode": {
    "name": "ipython",
    "version": 3
   },
   "file_extension": ".py",
   "mimetype": "text/x-python",
   "name": "python",
   "nbconvert_exporter": "python",
   "pygments_lexer": "ipython3",
   "version": "3.6.3"
  }
 },
 "nbformat": 4,
 "nbformat_minor": 2
}
