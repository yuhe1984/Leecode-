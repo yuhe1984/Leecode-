{
 "cells": [
  {
   "cell_type": "code",
   "execution_count": 1,
   "metadata": {
    "collapsed": true
   },
   "outputs": [],
   "source": [
    "# Definition for a binary tree node.\n",
    "# class TreeNode:\n",
    "#     def __init__(self, x):\n",
    "#         self.val = x\n",
    "#         self.left = None\n",
    "#         self.right = None\n",
    "\n",
    "class Solution:\n",
    "    def diameterOfBinaryTree(self, root):\n",
    "        self.ans = 1\n",
    "        def depth(node):\n",
    "            # 访问到空节点了，返回0\n",
    "            if not node: return 0\n",
    "            # 左儿子为根的子树的深度\n",
    "            L = depth(node.left)\n",
    "            # 右儿子为根的子树的深度\n",
    "            R = depth(node.right)\n",
    "            # 计算d_node即L+R+1 并更新ans\n",
    "            self.ans = max(self.ans, L+R+1)\n",
    "            # 返回该节点为根的子树的深度\n",
    "            return max(L, R) + 1\n",
    "\n",
    "        depth(root)\n",
    "        return self.ans - 1"
   ]
  },
  {
   "cell_type": "code",
   "execution_count": null,
   "metadata": {
    "collapsed": true
   },
   "outputs": [],
   "source": [
    "# Definition for a binary tree node.\n",
    "# class TreeNode:\n",
    "#     def __init__(self, x):\n",
    "#         self.val = x\n",
    "#         self.left = None\n",
    "#         self.right = None\n",
    "\n",
    "class Solution:\n",
    "    def diameterOfBinaryTree(self, root):\n",
    "        self.ans = 1\n",
    "        def depth(node):\n",
    "            if not node: return 0\n",
    "            L = depth(node.left)\n",
    "            R = depth(node.right)\n",
    "            self.ans = max(self.ans, L+R+1)\n",
    "            return max(L, R) + 1\n",
    "        depth(root)\n",
    "        return self.ans - 1"
   ]
  }
 ],
 "metadata": {
  "kernelspec": {
   "display_name": "Python 3",
   "language": "python",
   "name": "python3"
  },
  "language_info": {
   "codemirror_mode": {
    "name": "ipython",
    "version": 3
   },
   "file_extension": ".py",
   "mimetype": "text/x-python",
   "name": "python",
   "nbconvert_exporter": "python",
   "pygments_lexer": "ipython3",
   "version": "3.6.3"
  }
 },
 "nbformat": 4,
 "nbformat_minor": 2
}
