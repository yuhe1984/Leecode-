{
 "cells": [
  {
   "cell_type": "code",
   "execution_count": 1,
   "metadata": {
    "collapsed": true
   },
   "outputs": [],
   "source": [
    "class Solution:\n",
    "    def treeToDoublyList(self, root):\n",
    "        def dfs(cur):\n",
    "            if not cur: return\n",
    "            dfs(cur.left) # 递归左子树\n",
    "            self.pre.right, cur.left = cur, self.pre # 修改引用\n",
    "            self.pre = cur # 保存 cur\n",
    "            dfs(cur.right) # 递归右子树\n",
    "        \n",
    "        if not root: return\n",
    "        head = self.pre = ListNode(0) # 伪头节点\n",
    "        dfs(root)\n",
    "        head = head.right\n",
    "        head.left, self.pre.right = self.pre, head\n",
    "        return head"
   ]
  },
  {
   "cell_type": "code",
   "execution_count": 3,
   "metadata": {
    "collapsed": true
   },
   "outputs": [],
   "source": [
    "class Solution:\n",
    "    def treeToDoublyList(self, root):\n",
    "        def dfs(cur):\n",
    "            if not cur: return\n",
    "            dfs(cur.left)\n",
    "            self.pre.right, cur.left = cur, self.pre\n",
    "            self.pre = cur\n",
    "            dfs(cur.right)\n",
    "            \n",
    "        if not root: return\n",
    "        head = self.pre = ListNode(0)\n",
    "        dfs(root)\n",
    "        head = head.right\n",
    "        head.left, self.pre.right = self.pre, head\n",
    "        return head"
   ]
  },
  {
   "cell_type": "code",
   "execution_count": null,
   "metadata": {
    "collapsed": true
   },
   "outputs": [],
   "source": []
  }
 ],
 "metadata": {
  "kernelspec": {
   "display_name": "Python 3",
   "language": "python",
   "name": "python3"
  },
  "language_info": {
   "codemirror_mode": {
    "name": "ipython",
    "version": 3
   },
   "file_extension": ".py",
   "mimetype": "text/x-python",
   "name": "python",
   "nbconvert_exporter": "python",
   "pygments_lexer": "ipython3",
   "version": "3.6.3"
  }
 },
 "nbformat": 4,
 "nbformat_minor": 2
}
