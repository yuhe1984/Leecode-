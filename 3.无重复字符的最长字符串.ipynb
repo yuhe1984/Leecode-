{
 "cells": [
  {
   "cell_type": "code",
   "execution_count": 1,
   "metadata": {
    "collapsed": true
   },
   "outputs": [],
   "source": [
    "class Solution:\n",
    "    def lengthOfLongestSubstring(self, s: str) -> int:\n",
    "        max = 0\n",
    "        i = 0\n",
    "        for j in range(len(s)):\n",
    "            for k in range(i,j):\n",
    "                if(s[k] == s[j]):\n",
    "                    i = k + 1\n",
    "                    break\n",
    "            if(j-i+1 > max):\n",
    "                max = j-i+1\n",
    "        return max"
   ]
  },
  {
   "cell_type": "code",
   "execution_count": 2,
   "metadata": {},
   "outputs": [
    {
     "name": "stdout",
     "output_type": "stream",
     "text": [
      "abcdefg\n",
      "7\n"
     ]
    }
   ],
   "source": [
    "class Solution:\n",
    "    def lengthOfLongestSubstring(self, s):\n",
    "        max = 0\n",
    "        i = 0\n",
    "        for j in range(len(s)):\n",
    "            for k in range(i,j):\n",
    "                if(s[k] == s[j]):\n",
    "                    i = k + 1\n",
    "                    break\n",
    "            if(j-i+1 > max):\n",
    "                max = j-i+1\n",
    "        return max\n",
    "    \n",
    "a = list(map(str, input().split()))\n",
    "b = a[0]\n",
    "c = Solution()\n",
    "d = c.lengthOfLongestSubstring(b)\n",
    "print(d)"
   ]
  },
  {
   "cell_type": "code",
   "execution_count": 5,
   "metadata": {},
   "outputs": [
    {
     "name": "stdout",
     "output_type": "stream",
     "text": [
      "5\n",
      "11 22 33 33 33\n",
      "1\n",
      "11 22 33 33 33 "
     ]
    }
   ],
   "source": [
    "n = int(input())\n",
    "res = list(map(int, input().split()))\n",
    "m = int(input())\n",
    "ans = []\n",
    "j = 0\n",
    "if m == 1:\n",
    "    for i in range(len(res)):\n",
    "        print(res[i], end=' ')\n",
    "else:\n",
    "    for i in range(m, len(res)+1):\n",
    "        ans.append(max(res[j:i]))\n",
    "        j += 1\n",
    "    for i in range(len(ans)):\n",
    "        print(ans[i], end=' ')"
   ]
  },
  {
   "cell_type": "code",
   "execution_count": null,
   "metadata": {
    "collapsed": true
   },
   "outputs": [],
   "source": []
  }
 ],
 "metadata": {
  "kernelspec": {
   "display_name": "Python 3",
   "language": "python",
   "name": "python3"
  },
  "language_info": {
   "codemirror_mode": {
    "name": "ipython",
    "version": 3
   },
   "file_extension": ".py",
   "mimetype": "text/x-python",
   "name": "python",
   "nbconvert_exporter": "python",
   "pygments_lexer": "ipython3",
   "version": "3.6.3"
  }
 },
 "nbformat": 4,
 "nbformat_minor": 2
}
