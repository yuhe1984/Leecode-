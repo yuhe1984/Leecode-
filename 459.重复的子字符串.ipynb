{
 "cells": [
  {
   "cell_type": "markdown",
   "metadata": {},
   "source": [
    "# 方法一：枚举"
   ]
  },
  {
   "cell_type": "code",
   "execution_count": 1,
   "metadata": {
    "collapsed": true
   },
   "outputs": [],
   "source": [
    "class Solution:\n",
    "    def repeatedSubstringPattern(self, s):\n",
    "        n = len(s)\n",
    "        for i in range(1, n // 2 + 1):\n",
    "            if n % i == 0:\n",
    "                if all(s[j] == s[j-i] for j in range(i, n)):\n",
    "                    return True\n",
    "        return False"
   ]
  },
  {
   "cell_type": "markdown",
   "metadata": {},
   "source": [
    "# 方法二：字符串匹配"
   ]
  },
  {
   "cell_type": "code",
   "execution_count": 2,
   "metadata": {
    "collapsed": true
   },
   "outputs": [],
   "source": [
    "class Solution:\n",
    "    def repeatedSubstringPattern(self, s: str) -> bool:\n",
    "        return (s + s).find(s, 1) != len(s)"
   ]
  },
  {
   "cell_type": "markdown",
   "metadata": {},
   "source": [
    "# 方法三：KMP 算法"
   ]
  },
  {
   "cell_type": "code",
   "execution_count": 3,
   "metadata": {
    "collapsed": true
   },
   "outputs": [],
   "source": [
    "class Solution:\n",
    "    def repeatedSubstringPattern(self, s: str) -> bool:\n",
    "        def kmp(query: str, pattern: str) -> bool:\n",
    "            n, m = len(query), len(pattern)\n",
    "            fail = [-1] * m\n",
    "            for i in range(1, m):\n",
    "                j = fail[i - 1]\n",
    "                while j != -1 and pattern[j + 1] != pattern[i]:\n",
    "                    j = fail[j]\n",
    "                if pattern[j + 1] == pattern[i]:\n",
    "                    fail[i] = j + 1\n",
    "            match = -1\n",
    "            for i in range(1, n - 1):\n",
    "                while match != -1 and pattern[match + 1] != query[i]:\n",
    "                    match = fail[match]\n",
    "                if pattern[match + 1] == query[i]:\n",
    "                    match += 1\n",
    "                    if match == m - 1:\n",
    "                        return True\n",
    "            return False\n",
    "        \n",
    "        return kmp(s + s, s)"
   ]
  },
  {
   "cell_type": "code",
   "execution_count": null,
   "metadata": {
    "collapsed": true
   },
   "outputs": [],
   "source": []
  }
 ],
 "metadata": {
  "kernelspec": {
   "display_name": "Python 3",
   "language": "python",
   "name": "python3"
  },
  "language_info": {
   "codemirror_mode": {
    "name": "ipython",
    "version": 3
   },
   "file_extension": ".py",
   "mimetype": "text/x-python",
   "name": "python",
   "nbconvert_exporter": "python",
   "pygments_lexer": "ipython3",
   "version": "3.6.3"
  }
 },
 "nbformat": 4,
 "nbformat_minor": 2
}
