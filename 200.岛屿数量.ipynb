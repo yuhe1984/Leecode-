{
 "cells": [
  {
   "cell_type": "code",
   "execution_count": 3,
   "metadata": {
    "collapsed": true
   },
   "outputs": [],
   "source": [
    "class Solution:\n",
    "    def numIslands(self, grid):\n",
    "        res = 0\n",
    "        if not grid: return 0\n",
    "        for i in range(len(grid)):\n",
    "            for j in range(len(grid[0])):\n",
    "                if int(grid[i][j]) != 0:\n",
    "                    res += 1\n",
    "                    self.dfs(i, j, grid)\n",
    "        return res\n",
    "\n",
    "    def dfs(self, i, j, grid):\n",
    "        if 0 > i or i >= len(grid) or 0 > j or j >= len(grid[0]) or not int(grid[i][j]):\n",
    "            return 0\n",
    "        grid[i][j] = 0\n",
    "        return self.dfs(i+1, j, grid) + self.dfs(i-1, j, grid) + self.dfs(i, j+1, grid) + self.dfs(i, j-1, grid)"
   ]
  },
  {
   "cell_type": "code",
   "execution_count": null,
   "metadata": {
    "collapsed": true
   },
   "outputs": [],
   "source": []
  }
 ],
 "metadata": {
  "kernelspec": {
   "display_name": "Python 3",
   "language": "python",
   "name": "python3"
  },
  "language_info": {
   "codemirror_mode": {
    "name": "ipython",
    "version": 3
   },
   "file_extension": ".py",
   "mimetype": "text/x-python",
   "name": "python",
   "nbconvert_exporter": "python",
   "pygments_lexer": "ipython3",
   "version": "3.6.3"
  }
 },
 "nbformat": 4,
 "nbformat_minor": 2
}
