{
 "cells": [
  {
   "cell_type": "code",
   "execution_count": 1,
   "metadata": {},
   "outputs": [
    {
     "name": "stdout",
     "output_type": "stream",
     "text": [
      "4\n"
     ]
    }
   ],
   "source": [
    "n = int(input())\n",
    "\n",
    "m = n * n"
   ]
  },
  {
   "cell_type": "code",
   "execution_count": 3,
   "metadata": {},
   "outputs": [
    {
     "data": {
      "text/plain": [
       "16"
      ]
     },
     "execution_count": 3,
     "metadata": {},
     "output_type": "execute_result"
    }
   ],
   "source": [
    "m"
   ]
  },
  {
   "cell_type": "code",
   "execution_count": 18,
   "metadata": {
    "collapsed": true
   },
   "outputs": [],
   "source": [
    "def fib(m):\n",
    "    a, b = 1, 1\n",
    "    res = []\n",
    "    while m >= 1:\n",
    "        res.append(a)\n",
    "        a, b = b, a + b\n",
    "        m -= 1\n",
    "    return res"
   ]
  },
  {
   "cell_type": "code",
   "execution_count": 19,
   "metadata": {},
   "outputs": [],
   "source": [
    "res = fib(m)"
   ]
  },
  {
   "cell_type": "code",
   "execution_count": 22,
   "metadata": {},
   "outputs": [],
   "source": [
    "res = res[::-1]"
   ]
  },
  {
   "cell_type": "code",
   "execution_count": 23,
   "metadata": {},
   "outputs": [
    {
     "data": {
      "text/plain": [
       "[987, 610, 377, 233, 144, 89, 55, 34, 21, 13, 8, 5, 3, 2, 1, 1]"
      ]
     },
     "execution_count": 23,
     "metadata": {},
     "output_type": "execute_result"
    }
   ],
   "source": [
    "res"
   ]
  },
  {
   "cell_type": "code",
   "execution_count": 50,
   "metadata": {},
   "outputs": [
    {
     "name": "stdout",
     "output_type": "stream",
     "text": [
      "4\n"
     ]
    }
   ],
   "source": [
    "n = int(input())\n",
    "\n",
    "m = n * n\n",
    "def fib(m):\n",
    "    a, b = 1, 1\n",
    "    res = []\n",
    "    while m >= 1:\n",
    "        res.append(a)\n",
    "        a, b = b, a + b\n",
    "        m -= 1\n",
    "    return res\n",
    "res = fib(m)\n",
    "res = res[::-1]\n",
    "l, r, t, b = 0, n-1, 0, n-1\n",
    "mat = [[0 for _ in range(n)] for _ in range(n)]\n",
    "num, tar = 0, n * n\n",
    "while num <= tar-1:\n",
    "    for i in range(l, r+1):\n",
    "        mat[t][i] = res[num]\n",
    "        num += 1\n",
    "    t += 1\n",
    "    for i in range(t, b+1):\n",
    "        mat[i][r] = res[num]\n",
    "        num += 1\n",
    "    r -= 1\n",
    "    for i in range(r, l-1, -1):\n",
    "        mat[b][i] = res[num]\n",
    "        num += 1\n",
    "    b -= 1\n",
    "    for i in range(b, t-1, -1):\n",
    "        mat[i][l] = res[num]\n",
    "        num += 1\n",
    "    l += 1"
   ]
  },
  {
   "cell_type": "code",
   "execution_count": 59,
   "metadata": {},
   "outputs": [
    {
     "name": "stdout",
     "output_type": "stream",
     "text": [
      "987 610 377 233 \n",
      "5 3 2 144 \n",
      "8 1 1 89 \n",
      "13 21 34 55 \n"
     ]
    }
   ],
   "source": [
    "for i in range(n):\n",
    "    for j in range(n):\n",
    "        print(mat[i][j], end = ' ')\n",
    "    print()"
   ]
  },
  {
   "cell_type": "code",
   "execution_count": 58,
   "metadata": {},
   "outputs": [
    {
     "data": {
      "text/plain": [
       "[[987, 610, 377, 233], [5, 3, 2, 144], [8, 1, 1, 89], [13, 21, 34, 55]]"
      ]
     },
     "execution_count": 58,
     "metadata": {},
     "output_type": "execute_result"
    }
   ],
   "source": [
    "mat"
   ]
  },
  {
   "cell_type": "code",
   "execution_count": 60,
   "metadata": {},
   "outputs": [
    {
     "name": "stdout",
     "output_type": "stream",
     "text": [
      "4\n",
      "CHIN\n",
      "CNDH\n",
      "ASNB\n",
      "ZXCG\n"
     ]
    }
   ],
   "source": [
    "n = int(input())\n",
    "res = []\n",
    "for i in range(n):\n",
    "    num = list(input())\n",
    "    res.append(num)"
   ]
  },
  {
   "cell_type": "code",
   "execution_count": 61,
   "metadata": {},
   "outputs": [
    {
     "data": {
      "text/plain": [
       "[['C', 'H', 'I', 'N'],\n",
       " ['C', 'N', 'D', 'H'],\n",
       " ['A', 'S', 'N', 'B'],\n",
       " ['Z', 'X', 'C', 'G']]"
      ]
     },
     "execution_count": 61,
     "metadata": {},
     "output_type": "execute_result"
    }
   ],
   "source": [
    "res"
   ]
  },
  {
   "cell_type": "code",
   "execution_count": null,
   "metadata": {
    "collapsed": true
   },
   "outputs": [],
   "source": []
  }
 ],
 "metadata": {
  "kernelspec": {
   "display_name": "Python 3",
   "language": "python",
   "name": "python3"
  },
  "language_info": {
   "codemirror_mode": {
    "name": "ipython",
    "version": 3
   },
   "file_extension": ".py",
   "mimetype": "text/x-python",
   "name": "python",
   "nbconvert_exporter": "python",
   "pygments_lexer": "ipython3",
   "version": "3.6.3"
  }
 },
 "nbformat": 4,
 "nbformat_minor": 2
}
