{
 "cells": [
  {
   "cell_type": "code",
   "execution_count": 2,
   "metadata": {},
   "outputs": [],
   "source": [
    "from functools import lru_cache\n",
    "class Solution:\n",
    "    def mincostTickets(self, days, costs):\n",
    "        dayset = set(days)\n",
    "        durations = [1, 7, 30]\n",
    "\n",
    "        @lru_cache(None)\n",
    "        def dp(i):\n",
    "            if i > 365:\n",
    "                return 0\n",
    "            elif i in dayset:\n",
    "                return min(dp(i + d) + c for c, d in zip(costs, durations))\n",
    "            else:\n",
    "                return dp(i + 1)\n",
    "\n",
    "        return dp(1)"
   ]
  },
  {
   "cell_type": "code",
   "execution_count": 4,
   "metadata": {
    "collapsed": true
   },
   "outputs": [],
   "source": [
    "class Solution:\n",
    "    def mincostTickets(self, days, costs):\n",
    "        dp = [0 for _ in range(days[-1] + 1)]  # dp数组，每个元素代表到当前天数最少钱数，为下标方便对应，多加一个 0 位置\n",
    "        days_idx = 0  # 设定一个days指标，标记应该处理 days 数组中哪一个元素\n",
    "        for i in range(1, len(dp)):\n",
    "            if i != days[days_idx]:  # 若当前天数不是待处理天数，则其花费费用和前一天相同\n",
    "                dp[i] = dp[i - 1]\n",
    "            else:\n",
    "                # 若 i 走到了待处理天数，则从三种方式中选一个最小的\n",
    "                dp[i] = min(dp[max(0, i - 1)] + costs[0],\n",
    "                            dp[max(0, i - 7)] + costs[1],\n",
    "                            dp[max(0, i - 30)] + costs[2])\n",
    "                days_idx += 1\n",
    "        return dp[-1]  # 返回最后一天对应的费用即可"
   ]
  },
  {
   "cell_type": "code",
   "execution_count": 5,
   "metadata": {
    "collapsed": true
   },
   "outputs": [],
   "source": [
    "from functools import lru_cache\n",
    "class Solution:\n",
    "    def mincostTickets(self, days, costs):\n",
    "        N = len(days)\n",
    "        durations = [1, 7, 30]\n",
    "\n",
    "        @lru_cache(None)\n",
    "        def dp(i):\n",
    "            if i >= N:\n",
    "                return 0\n",
    "            ans = 10**9\n",
    "            j = i\n",
    "            for c, d in zip(costs, durations):\n",
    "                while j < N and days[j] < days[i] + d:\n",
    "                    j += 1\n",
    "                ans = min(ans, dp(j) + c)\n",
    "            return ans\n",
    "\n",
    "        return dp(0)"
   ]
  },
  {
   "cell_type": "code",
   "execution_count": null,
   "metadata": {
    "collapsed": true
   },
   "outputs": [],
   "source": []
  }
 ],
 "metadata": {
  "kernelspec": {
   "display_name": "Python 3",
   "language": "python",
   "name": "python3"
  },
  "language_info": {
   "codemirror_mode": {
    "name": "ipython",
    "version": 3
   },
   "file_extension": ".py",
   "mimetype": "text/x-python",
   "name": "python",
   "nbconvert_exporter": "python",
   "pygments_lexer": "ipython3",
   "version": "3.6.3"
  }
 },
 "nbformat": 4,
 "nbformat_minor": 2
}
