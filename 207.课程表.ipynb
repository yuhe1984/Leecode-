{
 "cells": [
  {
   "cell_type": "markdown",
   "metadata": {},
   "source": [
    "# 方法一：入度表（广度优先遍历）"
   ]
  },
  {
   "cell_type": "code",
   "execution_count": 1,
   "metadata": {
    "collapsed": true
   },
   "outputs": [],
   "source": [
    "from collections import deque\n",
    "\n",
    "class Solution:\n",
    "    def canFinish(self, numCourses, prerequisites):\n",
    "        indegrees = [0 for _ in range(numCourses)]\n",
    "        adjacency = [[] for _ in range(numCourses)]\n",
    "        queue = deque()\n",
    "        # Get the indegree and adjacency of every course.\n",
    "        for cur, pre in prerequisites:\n",
    "            indegrees[cur] += 1\n",
    "            adjacency[pre].append(cur)\n",
    "        # Get all the courses with the indegree of 0.\n",
    "        for i in range(len(indegrees)):\n",
    "            if not indegrees[i]: queue.append(i)\n",
    "        # BFS TopSort.\n",
    "        while queue:\n",
    "            pre = queue.popleft()\n",
    "            numCourses -= 1\n",
    "            for cur in adjacency[pre]:\n",
    "                indegrees[cur] -= 1\n",
    "                if not indegrees[cur]: queue.append(cur)\n",
    "        return not numCourses"
   ]
  },
  {
   "cell_type": "code",
   "execution_count": 3,
   "metadata": {
    "collapsed": true
   },
   "outputs": [],
   "source": [
    "import collections\n",
    "class Solution:\n",
    "    def canFinish(self, numCourses, prerequisites):\n",
    "        edges = collections.defaultdict(list)\n",
    "        indegrees = [0] * numCourses\n",
    "        result = []\n",
    "        for i, j in prerequisites:\n",
    "            edges[j].append(i)\n",
    "            indegrees[i] += 1\n",
    "\n",
    "        q = collections.deque([u for u in range(numCourses) if indegrees[u] == 0])\n",
    "        # q = collections.deque([u for u in indegrees if u == 0])\n",
    "\n",
    "        while q:\n",
    "            u = q.popleft()\n",
    "            result.append(u)\n",
    "            for v in edges[u]:\n",
    "                indegrees[v] -= 1\n",
    "                if indegrees[v] == 0:\n",
    "                    q.append(v)\n",
    "\n",
    "        if len(result) != numCourses:\n",
    "            return False\n",
    "        return True"
   ]
  },
  {
   "cell_type": "markdown",
   "metadata": {},
   "source": [
    "# 方法二：深度优先遍历"
   ]
  },
  {
   "cell_type": "code",
   "execution_count": 5,
   "metadata": {
    "collapsed": true
   },
   "outputs": [],
   "source": [
    "class Solution:\n",
    "    def canFinish(self, numCourses, prerequisites):\n",
    "        def dfs(i, adjacency, flags):\n",
    "            if flags[i] == -1: return True\n",
    "            if flags[i] == 1: return False\n",
    "            flags[i] = 1\n",
    "            for j in adjacency[i]:\n",
    "                if not dfs(j, adjacency, flags): return False\n",
    "            flags[i] = -1\n",
    "            return True\n",
    "\n",
    "        adjacency = [[] for _ in range(numCourses)]\n",
    "        flags = [0 for _ in range(numCourses)]\n",
    "        for cur, pre in prerequisites:\n",
    "            adjacency[pre].append(cur)\n",
    "        for i in range(numCourses):\n",
    "            if not dfs(i, adjacency, flags): return False\n",
    "        return True"
   ]
  },
  {
   "cell_type": "code",
   "execution_count": null,
   "metadata": {
    "collapsed": true
   },
   "outputs": [],
   "source": []
  }
 ],
 "metadata": {
  "kernelspec": {
   "display_name": "Python 3",
   "language": "python",
   "name": "python3"
  },
  "language_info": {
   "codemirror_mode": {
    "name": "ipython",
    "version": 3
   },
   "file_extension": ".py",
   "mimetype": "text/x-python",
   "name": "python",
   "nbconvert_exporter": "python",
   "pygments_lexer": "ipython3",
   "version": "3.6.3"
  }
 },
 "nbformat": 4,
 "nbformat_minor": 2
}
