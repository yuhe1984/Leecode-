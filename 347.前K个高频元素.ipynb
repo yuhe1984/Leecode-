{
 "cells": [
  {
   "cell_type": "code",
   "execution_count": 1,
   "metadata": {
    "collapsed": true
   },
   "outputs": [],
   "source": [
    "class Solution:\n",
    "    def topKFrequent(self, nums, k):\n",
    "        counter = collections.Counter(nums)\n",
    "        val = list(counter.keys())\n",
    "        l, r = 0, len(val) - 1\n",
    "        while l <= r:\n",
    "            pivot = self.partition(val, l, r, counter)\n",
    "            if pivot == k - 1:\n",
    "                return val[:k]\n",
    "            if pivot > k - 1:\n",
    "                r = pivot - 1\n",
    "            else:\n",
    "                l = pivot + 1\n",
    "\n",
    "    def partition(self, val, l, r, counter):\n",
    "        ran = random.randint(l, r)\n",
    "        val[ran], val[r] = val[r], val[ran]\n",
    "        pivot = r\n",
    "        right = l\n",
    "        for i in range(l, r):\n",
    "            if counter.get(val[i]) >= counter.get(val[pivot]):\n",
    "                val[i], val[right] = val[right], val[i]\n",
    "                right += 1\n",
    "        val[right], val[pivot] = val[pivot], val[right]\n",
    "        return right"
   ]
  },
  {
   "cell_type": "code",
   "execution_count": null,
   "metadata": {
    "collapsed": true
   },
   "outputs": [],
   "source": []
  }
 ],
 "metadata": {
  "kernelspec": {
   "display_name": "Python 3",
   "language": "python",
   "name": "python3"
  },
  "language_info": {
   "codemirror_mode": {
    "name": "ipython",
    "version": 3
   },
   "file_extension": ".py",
   "mimetype": "text/x-python",
   "name": "python",
   "nbconvert_exporter": "python",
   "pygments_lexer": "ipython3",
   "version": "3.6.3"
  }
 },
 "nbformat": 4,
 "nbformat_minor": 2
}
