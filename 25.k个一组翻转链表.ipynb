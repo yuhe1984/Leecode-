{
 "cells": [
  {
   "cell_type": "code",
   "execution_count": 1,
   "metadata": {
    "collapsed": true
   },
   "outputs": [],
   "source": [
    "class Solution(object):\n",
    "    def reverseKGroup(self, head, k):\n",
    "        \"\"\"\n",
    "        :type head: ListNode\n",
    "        :type k: int\n",
    "        :rtype: ListNode\n",
    "        \"\"\"\n",
    "        pre, end, pre.next, end.next = self, self, head, head\n",
    "\n",
    "        while end:\n",
    "            for i in range(k):\n",
    "                if end is None:\n",
    "                    break\n",
    "                end = end.next\n",
    "            if end is None:\n",
    "                break\n",
    "            start, _next, end.next = pre.next, end.next, None\n",
    "            pre.next, start.next = self.reverse(start), _next\n",
    "            end = pre = start\n",
    "        return self.next\n",
    "\n",
    "    def reverse(self, head):\n",
    "        pre, curr = None, head\n",
    "        while curr:\n",
    "            curr.next, pre, curr = pre, curr, curr.next\n",
    "        return pre"
   ]
  },
  {
   "cell_type": "code",
   "execution_count": 5,
   "metadata": {},
   "outputs": [],
   "source": [
    "# Definition for singly-linked list.\n",
    "# class ListNode:\n",
    "#     def __init__(self, x):\n",
    "#         self.val = x\n",
    "#         self.next = None\n",
    "\n",
    "class Solution:\n",
    "    def reverseKGroup(self, head, k):\n",
    "        dummy = ListNode(0)\n",
    "        dummy.next = head\n",
    "        pre = dummy\n",
    "        end = dummy\n",
    "        while True:\n",
    "            count = k\n",
    "            while count and end:\n",
    "                count -= 1\n",
    "                end = end.next\n",
    "            if not end: break\n",
    "            head = pre.next\n",
    "            while pre.next != end:\n",
    "                cur = pre.next # 获取下一个元素\n",
    "                # pre与cur.next连接起来,此时cur(孤单)掉了出来\n",
    "                pre.next = cur.next \n",
    "                cur.next = end.next # 和剩余的链表连接起来\n",
    "                end.next = cur #插在end后面\n",
    "            # 改变 pre end 的值\n",
    "            pre = head \n",
    "            end = head\n",
    "        return dummy.next"
   ]
  },
  {
   "cell_type": "code",
   "execution_count": null,
   "metadata": {
    "collapsed": true
   },
   "outputs": [],
   "source": []
  }
 ],
 "metadata": {
  "kernelspec": {
   "display_name": "Python 3",
   "language": "python",
   "name": "python3"
  },
  "language_info": {
   "codemirror_mode": {
    "name": "ipython",
    "version": 3
   },
   "file_extension": ".py",
   "mimetype": "text/x-python",
   "name": "python",
   "nbconvert_exporter": "python",
   "pygments_lexer": "ipython3",
   "version": "3.6.3"
  }
 },
 "nbformat": 4,
 "nbformat_minor": 2
}
