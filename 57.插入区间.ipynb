{
 "cells": [
  {
   "cell_type": "code",
   "execution_count": 1,
   "metadata": {
    "collapsed": true
   },
   "outputs": [],
   "source": [
    "class Solution:\n",
    "    def insert(self, intervals, newInterval):\n",
    "        # init data\n",
    "        new_start, new_end = newInterval\n",
    "        idx, n = 0, len(intervals)\n",
    "        output = []\n",
    "        \n",
    "        # add all intervals starting before newInterval\n",
    "        while idx < n and new_start > intervals[idx][0]:\n",
    "            output.append(intervals[idx])\n",
    "            idx += 1\n",
    "            \n",
    "        # add newInterval\n",
    "        # if there is no overlap, just add the interval\n",
    "        if not output or output[-1][1] < new_start:\n",
    "            output.append(newInterval)\n",
    "        # if there is an overlap, merge with the last interval\n",
    "        else:\n",
    "            output[-1][1] = max(output[-1][1], new_end)\n",
    "        \n",
    "        # add next intervals, merge with newInterval if needed\n",
    "        while idx < n:\n",
    "            interval = intervals[idx]\n",
    "            start, end = interval\n",
    "            idx += 1\n",
    "            # if there is no overlap, just add an interval\n",
    "            if output[-1][1] < start:\n",
    "                output.append(interval)\n",
    "            # if there is an overlap, merge with the last interval\n",
    "            else:\n",
    "                output[-1][1] = max(output[-1][1], end)\n",
    "        return output"
   ]
  },
  {
   "cell_type": "code",
   "execution_count": 2,
   "metadata": {
    "collapsed": true
   },
   "outputs": [],
   "source": [
    "class Solution:\n",
    "    def insert(self, intervals, newInterval):\n",
    "        intervals = sorted(intervals + [newInterval])\n",
    "        tmp = intervals[0]\n",
    "        for i in range(1, len(intervals)):\n",
    "            if intervals[i][0] <= tmp[-1]:\n",
    "                if intervals[i][1] <= tmp[-1]:\n",
    "                    continue\n",
    "                else:\n",
    "                    tmp[-1] = intervals[i][1]\n",
    "            else:\n",
    "                tmp.extend(intervals[i])\n",
    "        return [[tmp[i], tmp[i+1]] for i in range(0, len(tmp), 2)]"
   ]
  },
  {
   "cell_type": "code",
   "execution_count": 3,
   "metadata": {
    "collapsed": true
   },
   "outputs": [],
   "source": [
    "class Solution:\n",
    "    def insert(self, intervals, newInterval):\n",
    "        intervals.append(newInterval)\n",
    "        intervals.sort()\n",
    "        res = []\n",
    "        for i in intervals:\n",
    "            if not res or i[0]>res[-1][1]:\n",
    "                res.append(i)\n",
    "            else:\n",
    "                # res[-1][0] = min(res[-1][0], i[0])\n",
    "                res[-1][1] = max(res[-1][1], i[1])\n",
    "        return res"
   ]
  },
  {
   "cell_type": "code",
   "execution_count": null,
   "metadata": {
    "collapsed": true
   },
   "outputs": [],
   "source": []
  }
 ],
 "metadata": {
  "kernelspec": {
   "display_name": "Python 3",
   "language": "python",
   "name": "python3"
  },
  "language_info": {
   "codemirror_mode": {
    "name": "ipython",
    "version": 3
   },
   "file_extension": ".py",
   "mimetype": "text/x-python",
   "name": "python",
   "nbconvert_exporter": "python",
   "pygments_lexer": "ipython3",
   "version": "3.6.3"
  }
 },
 "nbformat": 4,
 "nbformat_minor": 2
}
