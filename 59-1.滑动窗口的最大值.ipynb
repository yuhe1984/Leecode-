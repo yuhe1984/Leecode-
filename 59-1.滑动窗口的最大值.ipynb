{
 "cells": [
  {
   "cell_type": "code",
   "execution_count": 1,
   "metadata": {
    "collapsed": true
   },
   "outputs": [],
   "source": [
    "class Solution:\n",
    "    def maxSlidingWindow(self, nums, k):\n",
    "        deque = [];result = [] # deque也可以用collection里的双端队列实现\n",
    "        for i in range(0, len(nums)):\n",
    "            while deque and nums[i]>nums[deque[-1]]: # 只存有可能成为最大值的数字的index进deque\n",
    "                deque.pop()\n",
    "            deque.append(i)\n",
    "            while i-deque[0]>k-1: # 如果相距超过窗口k长度则弃掉\n",
    "                deque.pop(0)\n",
    "            if i >= k-1:\n",
    "                result.append(nums[deque[0]]) # 这过程中始终保持deque[0]为最大值的index\n",
    "        return result"
   ]
  },
  {
   "cell_type": "code",
   "execution_count": 2,
   "metadata": {
    "collapsed": true
   },
   "outputs": [],
   "source": [
    "class Solution:\n",
    "    def maxSlidingWindow(self, nums, k):\n",
    "        ans = []\n",
    "        if not nums: return []\n",
    "        for i in range(len(nums)-k+1):\n",
    "            a = max(nums[i:i+k])\n",
    "            ans.append(a)\n",
    "        return ans"
   ]
  },
  {
   "cell_type": "code",
   "execution_count": null,
   "metadata": {
    "collapsed": true
   },
   "outputs": [],
   "source": []
  }
 ],
 "metadata": {
  "kernelspec": {
   "display_name": "Python 3",
   "language": "python",
   "name": "python3"
  },
  "language_info": {
   "codemirror_mode": {
    "name": "ipython",
    "version": 3
   },
   "file_extension": ".py",
   "mimetype": "text/x-python",
   "name": "python",
   "nbconvert_exporter": "python",
   "pygments_lexer": "ipython3",
   "version": "3.6.3"
  }
 },
 "nbformat": 4,
 "nbformat_minor": 2
}
