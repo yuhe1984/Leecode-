{
 "cells": [
  {
   "cell_type": "code",
   "execution_count": 2,
   "metadata": {
    "collapsed": true
   },
   "outputs": [],
   "source": [
    "class Solution:\n",
    "    def setZeroes(self, matrix):\n",
    "        \"\"\"\n",
    "        Do not return anything, modify matrix in-place instead.\n",
    "        \"\"\"\n",
    "        res = set()\n",
    "        for i in range(len(matrix)):\n",
    "            for j in range(len(matrix[0])):\n",
    "                if matrix[i][j] == 0:\n",
    "                    res.add((i, j))\n",
    "        for k in range(len(res)):\n",
    "            i, j = res.pop()\n",
    "            for m in range(len(matrix)):\n",
    "                matrix[m][j] = 0\n",
    "            for n in range(len(matrix[0])):\n",
    "                matrix[i][n] = 0\n",
    "        # print(matrix)\n",
    "        return matrix"
   ]
  },
  {
   "cell_type": "code",
   "execution_count": 1,
   "metadata": {
    "collapsed": true
   },
   "outputs": [],
   "source": [
    "class Solution(object):\n",
    "    def setZeroes(self, matrix):\n",
    "        \"\"\"\n",
    "        :type matrix: List[List[int]]\n",
    "        :rtype: void Do not return anything, modify matrix in-place instead.\n",
    "        \"\"\"\n",
    "        is_col = False\n",
    "        R = len(matrix)\n",
    "        C = len(matrix[0])\n",
    "        for i in range(R):\n",
    "            # Since first cell for both first row and first column is the same i.e. matrix[0][0]\n",
    "            # We can use an additional variable for either the first row/column.\n",
    "            # For this solution we are using an additional variable for the first column\n",
    "            # and using matrix[0][0] for the first row.\n",
    "            if matrix[i][0] == 0:\n",
    "                is_col = True\n",
    "            for j in range(1, C):\n",
    "                # If an element is zero, we set the first element of the corresponding row and column to 0\n",
    "                if matrix[i][j]  == 0:\n",
    "                    matrix[0][j] = 0\n",
    "                    matrix[i][0] = 0\n",
    "\n",
    "        # Iterate over the array once again and using the first row and first column, update the elements.\n",
    "        for i in range(1, R):\n",
    "            for j in range(1, C):\n",
    "                if not matrix[i][0] or not matrix[0][j]:\n",
    "                    matrix[i][j] = 0\n",
    "\n",
    "        # See if the first row needs to be set to zero as well\n",
    "        if matrix[0][0] == 0:\n",
    "            for j in range(C):\n",
    "                matrix[0][j] = 0\n",
    "\n",
    "        # See if the first column needs to be set to zero as well        \n",
    "        if is_col:\n",
    "            for i in range(R):\n",
    "                matrix[i][0] = 0"
   ]
  },
  {
   "cell_type": "code",
   "execution_count": 3,
   "metadata": {
    "collapsed": true
   },
   "outputs": [],
   "source": [
    "class Solution:\n",
    "    # def setZeroes(self, matrix: List[List[int]]) -> None:\n",
    "    def setZeroes(self, matrix):\n",
    "        \"\"\"\n",
    "        Do not return anything, modify matrix in-place instead.\n",
    "        \"\"\"\n",
    "        n = len(matrix[0])\n",
    "        cols = []\n",
    "        for row in matrix:\n",
    "            if 0 in row:\n",
    "                for col, element in enumerate(row):\n",
    "                    if element == 0:\n",
    "                        cols.append(col)\n",
    "\n",
    "        for row in matrix:\n",
    "            if 0 in row:\n",
    "                row[:] = [0] * n\n",
    "            else:\n",
    "                for col in cols:\n",
    "                    row[col] = 0"
   ]
  },
  {
   "cell_type": "code",
   "execution_count": null,
   "metadata": {
    "collapsed": true
   },
   "outputs": [],
   "source": []
  }
 ],
 "metadata": {
  "kernelspec": {
   "display_name": "Python 3",
   "language": "python",
   "name": "python3"
  },
  "language_info": {
   "codemirror_mode": {
    "name": "ipython",
    "version": 3
   },
   "file_extension": ".py",
   "mimetype": "text/x-python",
   "name": "python",
   "nbconvert_exporter": "python",
   "pygments_lexer": "ipython3",
   "version": "3.6.3"
  }
 },
 "nbformat": 4,
 "nbformat_minor": 2
}
