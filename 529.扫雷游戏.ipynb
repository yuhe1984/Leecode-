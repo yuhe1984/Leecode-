{
 "cells": [
  {
   "cell_type": "code",
   "execution_count": 1,
   "metadata": {
    "collapsed": true
   },
   "outputs": [],
   "source": [
    "class Solution(object):\n",
    "    def updateBoard(self, board, click):\n",
    "        M = len(board)\n",
    "        if M == 0:\n",
    "            return board\n",
    "        N = len(board[0])\n",
    "        if N == 0:\n",
    "            return board\n",
    "\n",
    "        def search_mine(i,j):\n",
    "            count = 0\n",
    "            if i-1 >= 0 and i - 1 < M and j >= 0 and j < N and board[i-1][j] == \"M\":\n",
    "                count += 1\n",
    "            if i+1 >= 0 and i + 1 < M and j >= 0 and j < N and board[i+1][j] == \"M\":\n",
    "                count += 1\n",
    "            if i >= 0 and i < M and j-1 >= 0 and j-1 < N and  board[i][j-1] == \"M\":\n",
    "                count += 1\n",
    "            if i >= 0 and i < M and j + 1 >= 0 and j + 1 < N and board[i][j+1] == \"M\":\n",
    "                count += 1\n",
    "            if i-1 >= 0 and i - 1 < M and j + 1 >= 0 and j + 1 < N  and board[i-1][j+1] == \"M\":\n",
    "                count += 1\n",
    "            if i+1 >= 0 and i + 1 < M and j + 1 >= 0 and j + 1 < N and  board[i+1][j+1] == \"M\":\n",
    "                count += 1\n",
    "            if i-1 >= 0 and i - 1 < M and j -1 >= 0 and j - 1 < N and board[i-1][j-1] == \"M\":\n",
    "                count += 1\n",
    "            if i+1 >= 0 and i + 1 < M and j -1 >= 0 and j-1 < N and board[i+1][j-1] == \"M\":\n",
    "                count += 1\n",
    "            return count\n",
    "        i = click[0]\n",
    "        j = click[1]\n",
    "\n",
    "        if board[i][j] == \"M\":\n",
    "            board[i][j] = \"X\"\n",
    "            return board\n",
    "\n",
    "        def dfs(i,j):\n",
    "            if i < 0 or i >= M or j < 0 or j >= N or board[i][j] not in \"EM\":\n",
    "                return\n",
    "            if board[i][j] == \"M\":\n",
    "                return \n",
    "            elif board[i][j] == \"E\":\n",
    "                c = search_mine(i,j)\n",
    "                if c == 0:\n",
    "                    board[i][j] = \"B\"\n",
    "                    dfs(i-1,j)\n",
    "                    dfs(i+1,j)\n",
    "                    dfs(i,j-1)\n",
    "                    dfs(i,j+1)\n",
    "                    dfs(i-1,j+1)\n",
    "                    dfs(i-1,j-1)\n",
    "                    dfs(i+1,j+1)\n",
    "                    dfs(i+1,j-1)\n",
    "                else:\n",
    "                    board[i][j] = str(c)\n",
    "                \n",
    "        dfs(i,j)\n",
    "        return board"
   ]
  },
  {
   "cell_type": "code",
   "execution_count": null,
   "metadata": {
    "collapsed": true
   },
   "outputs": [],
   "source": []
  }
 ],
 "metadata": {
  "kernelspec": {
   "display_name": "Python 3",
   "language": "python",
   "name": "python3"
  },
  "language_info": {
   "codemirror_mode": {
    "name": "ipython",
    "version": 3
   },
   "file_extension": ".py",
   "mimetype": "text/x-python",
   "name": "python",
   "nbconvert_exporter": "python",
   "pygments_lexer": "ipython3",
   "version": "3.6.3"
  }
 },
 "nbformat": 4,
 "nbformat_minor": 2
}
