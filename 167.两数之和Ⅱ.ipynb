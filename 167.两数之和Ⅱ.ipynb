{
 "cells": [
  {
   "cell_type": "markdown",
   "metadata": {},
   "source": [
    "# 二分查找"
   ]
  },
  {
   "cell_type": "code",
   "execution_count": 2,
   "metadata": {},
   "outputs": [],
   "source": [
    "class Solution:\n",
    "    def twoSum(self, numbers, target):\n",
    "        n = len(numbers)\n",
    "        for i in range(n):\n",
    "            low, high = i + 1, n - 1\n",
    "            while low <= high:\n",
    "                mid = (low + high) // 2\n",
    "                if numbers[mid] == target - numbers[i]:\n",
    "                    return [i + 1, mid + 1]\n",
    "                elif numbers[mid] > target - numbers[i]:\n",
    "                    high = mid - 1\n",
    "                else:\n",
    "                    low = mid + 1\n",
    "        \n",
    "        return [-1, -1]"
   ]
  },
  {
   "cell_type": "markdown",
   "metadata": {},
   "source": [
    "# 双指针"
   ]
  },
  {
   "cell_type": "code",
   "execution_count": 3,
   "metadata": {
    "collapsed": true
   },
   "outputs": [],
   "source": [
    "class Solution:\n",
    "    def twoSum(self, numbers, target):\n",
    "        i, j = 0, len(numbers) - 1\n",
    "        while i < j:\n",
    "            ans = numbers[i] + numbers[j]\n",
    "            if ans > target:\n",
    "                j -= 1\n",
    "            elif ans < target:\n",
    "                i += 1\n",
    "            else:\n",
    "                return i+1, j+1\n",
    "        return []"
   ]
  },
  {
   "cell_type": "code",
   "execution_count": null,
   "metadata": {
    "collapsed": true
   },
   "outputs": [],
   "source": []
  }
 ],
 "metadata": {
  "kernelspec": {
   "display_name": "Python 3",
   "language": "python",
   "name": "python3"
  },
  "language_info": {
   "codemirror_mode": {
    "name": "ipython",
    "version": 3
   },
   "file_extension": ".py",
   "mimetype": "text/x-python",
   "name": "python",
   "nbconvert_exporter": "python",
   "pygments_lexer": "ipython3",
   "version": "3.6.3"
  }
 },
 "nbformat": 4,
 "nbformat_minor": 2
}
