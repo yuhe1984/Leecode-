{
 "cells": [
  {
   "cell_type": "code",
   "execution_count": 6,
   "metadata": {},
   "outputs": [
    {
     "name": "stdout",
     "output_type": "stream",
     "text": [
      "8\n"
     ]
    }
   ],
   "source": [
    "n = int(input())"
   ]
  },
  {
   "cell_type": "code",
   "execution_count": 24,
   "metadata": {},
   "outputs": [
    {
     "name": "stdout",
     "output_type": "stream",
     "text": [
      "0 0\n",
      "0 5\n",
      "2 2\n",
      "2 7\n",
      "3 -2\n",
      "5 0\n",
      "4 -2\n",
      "8 2\n"
     ]
    }
   ],
   "source": [
    "from collections import deque\n",
    "res = []\n",
    "for i in range(n):\n",
    "    j = list(map(int, input().split()))\n",
    "    res.append(j)"
   ]
  },
  {
   "cell_type": "code",
   "execution_count": 85,
   "metadata": {},
   "outputs": [],
   "source": [
    "count = []\n",
    "ans = 0\n",
    "for i in range(n):\n",
    "    for j in range(i+1, n):\n",
    "        if res[i][0] == res[j][1]:\n",
    "            continue\n",
    "        if res[i][0] == res[j][0]:\n",
    "            ans = 100000000\n",
    "            count.append(ans)\n",
    "        else:\n",
    "            ans = (res[i][1] - res[j][1]) / (res[i][0] - res[j][0])\n",
    "            count.append(ans)"
   ]
  },
  {
   "cell_type": "code",
   "execution_count": 86,
   "metadata": {},
   "outputs": [],
   "source": [
    "from collections import Counter"
   ]
  },
  {
   "cell_type": "code",
   "execution_count": 87,
   "metadata": {
    "collapsed": true
   },
   "outputs": [],
   "source": [
    "s = Counter(count)"
   ]
  },
  {
   "cell_type": "code",
   "execution_count": 88,
   "metadata": {},
   "outputs": [
    {
     "data": {
      "text/plain": [
       "Counter({-9.0: 1,\n",
       "         -4.5: 1,\n",
       "         -4.0: 1,\n",
       "         -2.3333333333333335: 2,\n",
       "         -2.0: 1,\n",
       "         -1.75: 1,\n",
       "         -1.5: 1,\n",
       "         -0.6666666666666666: 2,\n",
       "         -0.5: 1,\n",
       "         -0.375: 1,\n",
       "         -0.0: 1,\n",
       "         0.25: 1,\n",
       "         0.6666666666666666: 1,\n",
       "         0.8: 1,\n",
       "         1.0: 4,\n",
       "         2.0: 1,\n",
       "         3.5: 1,\n",
       "         100000000: 2})"
      ]
     },
     "execution_count": 88,
     "metadata": {},
     "output_type": "execute_result"
    }
   ],
   "source": [
    "s"
   ]
  },
  {
   "cell_type": "code",
   "execution_count": 94,
   "metadata": {},
   "outputs": [],
   "source": [
    "count = []\n",
    "ans = 0\n",
    "for i in range(n-1):\n",
    "    coun = []\n",
    "    for j in range(i+1, n):\n",
    "        \n",
    "        count.append(res[i], res[j])"
   ]
  },
  {
   "cell_type": "code",
   "execution_count": 95,
   "metadata": {},
   "outputs": [
    {
     "data": {
      "text/plain": [
       "[[100000000, 1.0, 3.5, -0.6666666666666666, -0.0, -0.5, 0.25],\n",
       " [-1.5, 1.0, -2.3333333333333335, -1.0, -1.75, -0.375],\n",
       " [100000000, -4.0, -0.6666666666666666, -2.0, -0.0],\n",
       " [-9.0, -2.3333333333333335, -4.5, -0.8333333333333334],\n",
       " [1.0, -0.0, 0.8],\n",
       " [2.0, 0.6666666666666666],\n",
       " [1.0]]"
      ]
     },
     "execution_count": 95,
     "metadata": {},
     "output_type": "execute_result"
    }
   ],
   "source": [
    "count"
   ]
  },
  {
   "cell_type": "code",
   "execution_count": null,
   "metadata": {
    "collapsed": true
   },
   "outputs": [],
   "source": []
  }
 ],
 "metadata": {
  "kernelspec": {
   "display_name": "Python 3",
   "language": "python",
   "name": "python3"
  },
  "language_info": {
   "codemirror_mode": {
    "name": "ipython",
    "version": 3
   },
   "file_extension": ".py",
   "mimetype": "text/x-python",
   "name": "python",
   "nbconvert_exporter": "python",
   "pygments_lexer": "ipython3",
   "version": "3.6.3"
  }
 },
 "nbformat": 4,
 "nbformat_minor": 2
}
