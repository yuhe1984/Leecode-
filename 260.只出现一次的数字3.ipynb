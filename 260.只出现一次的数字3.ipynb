{
 "cells": [
  {
   "cell_type": "markdown",
   "metadata": {},
   "source": [
    "# 位运算"
   ]
  },
  {
   "cell_type": "code",
   "execution_count": 2,
   "metadata": {
    "collapsed": true
   },
   "outputs": [],
   "source": [
    "class Solution:\n",
    "    def singleNumbers(self, nums):\n",
    "        ret = 0  # 所有数字异或的结果\n",
    "        a = 0\n",
    "        b = 0\n",
    "        for n in nums:\n",
    "            ret ^= n\n",
    "        # 找到第一位不是0的\n",
    "        h = 1\n",
    "        while(ret & h == 0):\n",
    "            h <<= 1\n",
    "        for n in nums:\n",
    "            # 根据该位是否为0将其分为两组\n",
    "            if (h & n == 0):\n",
    "                a ^= n\n",
    "            else:\n",
    "                b ^= n\n",
    "\n",
    "        return [a, b]"
   ]
  },
  {
   "cell_type": "code",
   "execution_count": 5,
   "metadata": {
    "collapsed": true
   },
   "outputs": [],
   "source": [
    "class Solution:\n",
    "    def singleNumber(self, nums):\n",
    "        # difference between two numbers (x and y) which were seen only once\n",
    "        bitmask = 0\n",
    "        for num in nums:\n",
    "            bitmask ^= num\n",
    "        \n",
    "        # rightmost 1-bit diff between x and y\n",
    "        diff = bitmask & (-bitmask)\n",
    "        \n",
    "        x = 0\n",
    "        for num in nums:\n",
    "            # bitmask which will contain only x\n",
    "            if num & diff:\n",
    "                x ^= num\n",
    "        \n",
    "        return [x, bitmask^x]"
   ]
  },
  {
   "cell_type": "markdown",
   "metadata": {},
   "source": [
    "# 哈希表"
   ]
  },
  {
   "cell_type": "code",
   "execution_count": 4,
   "metadata": {
    "collapsed": true
   },
   "outputs": [],
   "source": [
    "class Solution:\n",
    "    def singleNumbers(self, nums):\n",
    "        from collections import Counter\n",
    "        b = Counter(nums)\n",
    "        return [x for x in b.keys() if b[x] == 1]"
   ]
  },
  {
   "cell_type": "code",
   "execution_count": null,
   "metadata": {
    "collapsed": true
   },
   "outputs": [],
   "source": []
  }
 ],
 "metadata": {
  "kernelspec": {
   "display_name": "Python 3",
   "language": "python",
   "name": "python3"
  },
  "language_info": {
   "codemirror_mode": {
    "name": "ipython",
    "version": 3
   },
   "file_extension": ".py",
   "mimetype": "text/x-python",
   "name": "python",
   "nbconvert_exporter": "python",
   "pygments_lexer": "ipython3",
   "version": "3.6.3"
  }
 },
 "nbformat": 4,
 "nbformat_minor": 2
}
