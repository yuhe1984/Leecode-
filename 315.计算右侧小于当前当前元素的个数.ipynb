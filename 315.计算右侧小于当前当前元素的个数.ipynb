{
 "cells": [
  {
   "cell_type": "markdown",
   "metadata": {},
   "source": [
    "# 归并排序"
   ]
  },
  {
   "cell_type": "code",
   "execution_count": 1,
   "metadata": {
    "collapsed": true
   },
   "outputs": [],
   "source": [
    "class Solution:\n",
    "    def countSmaller(self, nums):\n",
    "        size = len(nums)\n",
    "        if size == 0:\n",
    "            return []\n",
    "        if size == 1:\n",
    "            return [0]\n",
    "\n",
    "        temp = [None] * size\n",
    "        indexes = list(range(size))\n",
    "        res = [0] * size\n",
    "\n",
    "        self.__helper(nums, 0, size - 1, temp, indexes, res)\n",
    "        return res\n",
    "\n",
    "    def __helper(self, nums, left, right, temp, indexes, res):\n",
    "        if left == right:\n",
    "            return\n",
    "        mid = (left + right) // 2\n",
    "\n",
    "        # 计算一下左边\n",
    "        self.__helper(nums, left, mid, temp, indexes, res)\n",
    "        # 计算一下右边\n",
    "        self.__helper(nums, mid + 1, right, temp, indexes, res)\n",
    "\n",
    "        if nums[indexes[mid]] <= nums[indexes[mid + 1]]:\n",
    "            return\n",
    "        self.__sort_and_count_smaller(nums, left, mid, right, temp, indexes, res)\n",
    "\n",
    "    def __sort_and_count_smaller(self, nums, left, mid, right, temp, indexes, res):\n",
    "        # [left,mid] 前有序数组\n",
    "        # [mid+1,right] 后有序数组\n",
    "\n",
    "        # 先拷贝，再合并\n",
    "\n",
    "        for i in range(left, right + 1):\n",
    "            temp[i] = indexes[i]\n",
    "\n",
    "        l = left\n",
    "        r = mid + 1\n",
    "        for i in range(left, right + 1):\n",
    "            if l > mid:\n",
    "                # l 用完，就拼命使用 r\n",
    "                # [1,2,3,4] [5,6,7,8]\n",
    "                indexes[i] = temp[r]\n",
    "                r += 1\n",
    "            elif r > right:\n",
    "                # r 用完，就拼命使用 l\n",
    "                # [6,7,8,9] [1,2,3,4]\n",
    "                indexes[i] = temp[l]\n",
    "                l += 1\n",
    "                # 注意：此时前面剩下的数，比后面所有的数都大\n",
    "                res[indexes[i]] += (right - mid)\n",
    "            elif nums[temp[l]] <= nums[temp[r]]:\n",
    "                # [3,5,7,9] [4,6,8,10]\n",
    "                indexes[i] = temp[l]\n",
    "                l += 1\n",
    "                # 注意：\n",
    "                res[indexes[i]] += (r - mid - 1)\n",
    "            else:\n",
    "                assert nums[temp[l]] > nums[temp[r]]\n",
    "                # 上面两种情况只在其中一种统计就可以了\n",
    "                # [3,5,7,9] [4,6,8,10]\n",
    "                indexes[i] = temp[r]\n",
    "                r += 1"
   ]
  },
  {
   "cell_type": "markdown",
   "metadata": {},
   "source": [
    "# 二叉搜索树"
   ]
  },
  {
   "cell_type": "code",
   "execution_count": 2,
   "metadata": {
    "collapsed": true
   },
   "outputs": [],
   "source": [
    "# 定义一个树的节点类\n",
    "class TreeNode(object):\n",
    "    def __init__(self, val):\n",
    "        self.left = None\n",
    "        self.right = None\n",
    "        self.val = val  # 节点值\n",
    "        self.count = 0  # 左子树节点数量\n",
    "\n",
    "class Solution(object):\n",
    "    def countSmaller(self, nums):\n",
    "        \"\"\"\n",
    "        :type nums: List[int]\n",
    "        :rtype: List[int]\n",
    "        \"\"\"\n",
    "        length = len(nums)        \n",
    "        root = None\n",
    "        # 结果集\n",
    "        res = [0 for _ in range(length)]\n",
    "        # nums 反序加入搜索树\n",
    "        for i in reversed(range(length)):\n",
    "            root = self.insertNode(root, nums[i], res, i)\n",
    "        return res\n",
    "    \n",
    "    # 往二叉搜索树中插入新的节点\n",
    "    def insertNode(self, root, val, res, res_index):\n",
    "        if root == None:\n",
    "            root = TreeNode(val)\n",
    "        elif val <= root.val: # 小于当前节点值则放入左子树\n",
    "            # root 的左侧节点数量值 +1\n",
    "            root.count += 1\n",
    "            root.left = self.insertNode(root.left, val, res, res_index)\n",
    "        elif val > root.val: # 大于当前节点值则放入右子树\n",
    "            # 计算题目所求的结果\n",
    "            res[res_index] += root.count + 1\n",
    "            root.right = self.insertNode(root.right, val, res, res_index)\n",
    "            \n",
    "        return root"
   ]
  },
  {
   "cell_type": "code",
   "execution_count": null,
   "metadata": {
    "collapsed": true
   },
   "outputs": [],
   "source": []
  }
 ],
 "metadata": {
  "kernelspec": {
   "display_name": "Python 3",
   "language": "python",
   "name": "python3"
  },
  "language_info": {
   "codemirror_mode": {
    "name": "ipython",
    "version": 3
   },
   "file_extension": ".py",
   "mimetype": "text/x-python",
   "name": "python",
   "nbconvert_exporter": "python",
   "pygments_lexer": "ipython3",
   "version": "3.6.3"
  }
 },
 "nbformat": 4,
 "nbformat_minor": 2
}
