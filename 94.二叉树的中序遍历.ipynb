{
 "cells": [
  {
   "cell_type": "markdown",
   "metadata": {},
   "source": [
    "# 递归"
   ]
  },
  {
   "cell_type": "code",
   "execution_count": 1,
   "metadata": {
    "collapsed": true
   },
   "outputs": [],
   "source": [
    "# Definition for a binary tree node.\n",
    "# class TreeNode:\n",
    "#     def __init__(self, x):\n",
    "#         self.val = x\n",
    "#         self.left = None\n",
    "#         self.right = None\n",
    "\n",
    "class Solution:\n",
    "    def inorderTraversal(self, root):\n",
    "        res = []\n",
    "        if not root: return []\n",
    "        def dfs(root):\n",
    "            if root.left:\n",
    "                dfs(root.left)\n",
    "            res.append(root.val)\n",
    "            if root.right:\n",
    "                dfs(root.right)\n",
    "\n",
    "        dfs(root)\n",
    "        return res"
   ]
  },
  {
   "cell_type": "markdown",
   "metadata": {},
   "source": [
    "# 迭代"
   ]
  },
  {
   "cell_type": "code",
   "execution_count": 2,
   "metadata": {
    "collapsed": true
   },
   "outputs": [],
   "source": [
    "class Solution:\n",
    "    def inorderTraversal(self, root):\n",
    "        res = []\n",
    "        queue = collections.deque()\n",
    "        while root != None or queue :\n",
    "            while root != None:\n",
    "                queue.append(root)\n",
    "                root = root.left\n",
    "            root = queue.pop()\n",
    "            res.append(root.val)\n",
    "            root = root.right\n",
    "        return res"
   ]
  },
  {
   "cell_type": "markdown",
   "metadata": {},
   "source": [
    "# Morris 中序遍历"
   ]
  },
  {
   "cell_type": "code",
   "execution_count": 5,
   "metadata": {
    "collapsed": true
   },
   "outputs": [],
   "source": [
    "# Definition for a binary tree node.\n",
    "class TreeNode:\n",
    "    def __init__(self, x):\n",
    "        self.val = x\n",
    "        self.left = None\n",
    "        self.right = None\n",
    "\n",
    "class Solution:\n",
    "    def inorderTraversal(self, root):\n",
    "        res = []\n",
    "        predecessor = None\n",
    "        while root != None:\n",
    "            if root.left != None:\n",
    "                # predecessor 节点就是当前 root 节点向左走一步，然后一直向右走至无法走为止\n",
    "                predecessor = root.left\n",
    "                while predecessor.right != None and predecessor.right != root:\n",
    "                    predecessor = predecessor.right\n",
    "                    \n",
    "                # 让 predecessor 的右指针指向 root，继续遍历左子树\n",
    "                if predecessor.right == None:\n",
    "                    predecessor.right = root\n",
    "                    root = root.left\n",
    "                # 说明左子树已经访问完了，我们需要断开链接\n",
    "                else:\n",
    "                    res.append(root.val)\n",
    "                    predecessor.right = None\n",
    "                    root = root.right\n",
    "            # 如果没有左孩子，则直接访问右孩子\n",
    "            else:\n",
    "                res.append(root.val)\n",
    "                root = root.right\n",
    "        return res"
   ]
  },
  {
   "cell_type": "code",
   "execution_count": null,
   "metadata": {
    "collapsed": true
   },
   "outputs": [],
   "source": []
  }
 ],
 "metadata": {
  "kernelspec": {
   "display_name": "Python 3",
   "language": "python",
   "name": "python3"
  },
  "language_info": {
   "codemirror_mode": {
    "name": "ipython",
    "version": 3
   },
   "file_extension": ".py",
   "mimetype": "text/x-python",
   "name": "python",
   "nbconvert_exporter": "python",
   "pygments_lexer": "ipython3",
   "version": "3.6.3"
  }
 },
 "nbformat": 4,
 "nbformat_minor": 2
}
