{
 "cells": [
  {
   "cell_type": "code",
   "execution_count": 23,
   "metadata": {
    "collapsed": true
   },
   "outputs": [],
   "source": [
    "class Solution:\n",
    "    def generateMatrix(self, n):\n",
    "        ans = []\n",
    "        res = []\n",
    "        for i in range(1, n * n + 1, 1):\n",
    "            res.append(i)\n",
    "            if i % n == 0:\n",
    "                ans.append(res)\n",
    "                res = []\n",
    "        R, C = n, n\n",
    "        res = []\n",
    "        seen = [[False] * C for _ in ans]\n",
    "        dr = [0, 1, 0, -1]\n",
    "        dc = [1, 0, -1, 0]\n",
    "        r = c = di = 0\n",
    "        for j in range(R * C):\n",
    "            res.append(ans[r][c])\n",
    "            seen[r][c] = True\n",
    "            cr, cc = r + dr[di], c + dc[di]\n",
    "            if 0 <= cr < R and 0 <= cc < C and not seen[cr][cc]:\n",
    "                r, c = cr, cc\n",
    "            else:\n",
    "                di = (di + 1) % 4\n",
    "                r, c = r + dr[di], c + dc[di]\n",
    "        cur = []\n",
    "        mat = []\n",
    "        for i in res:\n",
    "            cur.append(i)\n",
    "            if len(cur) % n == 0:\n",
    "                mat.append(cur)\n",
    "                cur = []\n",
    "        return mat"
   ]
  },
  {
   "cell_type": "code",
   "execution_count": 24,
   "metadata": {
    "collapsed": true
   },
   "outputs": [],
   "source": [
    "a = Solution()"
   ]
  },
  {
   "cell_type": "code",
   "execution_count": 25,
   "metadata": {},
   "outputs": [
    {
     "data": {
      "text/plain": [
       "[[1, 2, 3], [6, 9, 8], [7, 4, 5]]"
      ]
     },
     "execution_count": 25,
     "metadata": {},
     "output_type": "execute_result"
    }
   ],
   "source": [
    "a.generateMatrix(3)"
   ]
  },
  {
   "cell_type": "code",
   "execution_count": 26,
   "metadata": {
    "collapsed": true
   },
   "outputs": [],
   "source": [
    "class Solution:\n",
    "    def generateMatrix(self, n):\n",
    "        R, C = n, n\n",
    "        ans = [[0] * n for _ in range(n)]\n",
    "        seen = [[False] * C for _ in range(n)]\n",
    "        dr = [0, 1, 0, -1]\n",
    "        dc = [1, 0, -1, 0]\n",
    "        r = c = di = 0\n",
    "        for j in range(1, R * C+1, 1):\n",
    "            ans[r][c] = j\n",
    "            seen[r][c] = True\n",
    "            cr, cc = r + dr[di], c + dc[di]\n",
    "            if 0 <= cr < R and 0 <= cc < C and not seen[cr][cc]:\n",
    "                r, c = cr, cc\n",
    "            else:\n",
    "                di = (di + 1) % 4\n",
    "                r, c = r + dr[di], c + dc[di]\n",
    "        return ans"
   ]
  },
  {
   "cell_type": "code",
   "execution_count": 27,
   "metadata": {
    "collapsed": true
   },
   "outputs": [],
   "source": [
    "a = Solution()"
   ]
  },
  {
   "cell_type": "code",
   "execution_count": 28,
   "metadata": {},
   "outputs": [
    {
     "data": {
      "text/plain": [
       "[[1, 2, 3], [8, 9, 4], [7, 6, 5]]"
      ]
     },
     "execution_count": 28,
     "metadata": {},
     "output_type": "execute_result"
    }
   ],
   "source": [
    "a.generateMatrix(3)"
   ]
  },
  {
   "cell_type": "code",
   "execution_count": 29,
   "metadata": {
    "collapsed": true
   },
   "outputs": [],
   "source": [
    "class Solution:\n",
    "    def generateMatrix(self, n: int) -> [[int]]:\n",
    "        l, r, t, b = 0, n - 1, 0, n - 1\n",
    "        mat = [[0 for _ in range(n)] for _ in range(n)]\n",
    "        num, tar = 1, n * n\n",
    "        while num <= tar:\n",
    "            for i in range(l, r + 1): # left to right\n",
    "                mat[t][i] = num\n",
    "                num += 1\n",
    "            t += 1\n",
    "            for i in range(t, b + 1): # top to bottom\n",
    "                mat[i][r] = num\n",
    "                num += 1\n",
    "            r -= 1\n",
    "            for i in range(r, l - 1, -1): # right to left\n",
    "                mat[b][i] = num\n",
    "                num += 1\n",
    "            b -= 1\n",
    "            for i in range(b, t - 1, -1): # bottom to top\n",
    "                mat[i][l] = num\n",
    "                num += 1\n",
    "            l += 1\n",
    "        return mat"
   ]
  },
  {
   "cell_type": "code",
   "execution_count": null,
   "metadata": {
    "collapsed": true
   },
   "outputs": [],
   "source": []
  }
 ],
 "metadata": {
  "kernelspec": {
   "display_name": "Python 3",
   "language": "python",
   "name": "python3"
  },
  "language_info": {
   "codemirror_mode": {
    "name": "ipython",
    "version": 3
   },
   "file_extension": ".py",
   "mimetype": "text/x-python",
   "name": "python",
   "nbconvert_exporter": "python",
   "pygments_lexer": "ipython3",
   "version": "3.6.3"
  }
 },
 "nbformat": 4,
 "nbformat_minor": 2
}
