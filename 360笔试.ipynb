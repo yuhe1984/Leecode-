{
 "cells": [
  {
   "cell_type": "code",
   "execution_count": 26,
   "metadata": {},
   "outputs": [
    {
     "name": "stdout",
     "output_type": "stream",
     "text": [
      "3\n",
      "1 2 1\n",
      "[0, 1, 0]\n",
      "4.0\n"
     ]
    }
   ],
   "source": [
    "n = int(input())\n",
    "m = list(map(int, input().split()))\n",
    "ans = 0\n",
    "res = [0] * n\n",
    "for i in range(len(m)):\n",
    "    if m[i] == 2:\n",
    "        ans += 1\n",
    "        res[i] += 1\n",
    "summ = 0\n",
    "for i in range(ans+1):\n",
    "    a = 1\n",
    "    for j in range(len(m)):\n",
    "        if res[j] != 1:\n",
    "            summ += a\n",
    "            a += 1\n",
    "        if res[j] == 1:\n",
    "            a = 1\n",
    "            res[j] = 0\n",
    "print(summ/(ans+1))"
   ]
  },
  {
   "cell_type": "code",
   "execution_count": 24,
   "metadata": {},
   "outputs": [
    {
     "data": {
      "text/plain": [
       "7"
      ]
     },
     "execution_count": 24,
     "metadata": {},
     "output_type": "execute_result"
    }
   ],
   "source": [
    "summ"
   ]
  },
  {
   "cell_type": "code",
   "execution_count": 10,
   "metadata": {},
   "outputs": [
    {
     "data": {
      "text/plain": [
       "2"
      ]
     },
     "execution_count": 10,
     "metadata": {},
     "output_type": "execute_result"
    }
   ],
   "source": [
    "a"
   ]
  },
  {
   "cell_type": "code",
   "execution_count": 6,
   "metadata": {
    "collapsed": true
   },
   "outputs": [],
   "source": [
    "a = [1,2,3,2,3,2]"
   ]
  },
  {
   "cell_type": "code",
   "execution_count": 7,
   "metadata": {},
   "outputs": [
    {
     "data": {
      "text/plain": [
       "3"
      ]
     },
     "execution_count": 7,
     "metadata": {},
     "output_type": "execute_result"
    }
   ],
   "source": [
    "a.count(2)"
   ]
  },
  {
   "cell_type": "code",
   "execution_count": 13,
   "metadata": {},
   "outputs": [
    {
     "name": "stdout",
     "output_type": "stream",
     "text": [
      "5\n",
      "76\n",
      "4\n",
      "41\n",
      "3\n",
      "16\n",
      "2\n",
      "1\n",
      "1\n",
      "-4\n",
      "6\n",
      "121\n",
      "7\n",
      "176\n",
      "8\n",
      "241\n",
      "9\n",
      "316\n",
      "10\n",
      "401\n",
      "11\n",
      "496\n",
      "12\n",
      "601\n",
      "\n"
     ]
    },
    {
     "ename": "ValueError",
     "evalue": "invalid literal for int() with base 10: ''",
     "output_type": "error",
     "traceback": [
      "\u001b[1;31m---------------------------------------------------------------------------\u001b[0m",
      "\u001b[1;31mValueError\u001b[0m                                Traceback (most recent call last)",
      "\u001b[1;32m<ipython-input-13-4ca83773b00f>\u001b[0m in \u001b[0;36m<module>\u001b[1;34m()\u001b[0m\n\u001b[0;32m      1\u001b[0m \u001b[1;32mwhile\u001b[0m \u001b[1;32mTrue\u001b[0m\u001b[1;33m:\u001b[0m\u001b[1;33m\u001b[0m\u001b[0m\n\u001b[1;32m----> 2\u001b[1;33m         \u001b[0mn\u001b[0m \u001b[1;33m=\u001b[0m \u001b[0mint\u001b[0m\u001b[1;33m(\u001b[0m\u001b[0minput\u001b[0m\u001b[1;33m(\u001b[0m\u001b[1;33m)\u001b[0m\u001b[1;33m)\u001b[0m\u001b[1;33m\u001b[0m\u001b[0m\n\u001b[0m\u001b[0;32m      3\u001b[0m         \u001b[0ma\u001b[0m \u001b[1;33m=\u001b[0m \u001b[0mn\u001b[0m \u001b[1;33m-\u001b[0m \u001b[1;36m1\u001b[0m\u001b[1;33m\u001b[0m\u001b[0m\n\u001b[0;32m      4\u001b[0m         \u001b[0mb\u001b[0m \u001b[1;33m=\u001b[0m \u001b[0mn\u001b[0m \u001b[1;33m+\u001b[0m \u001b[1;36m1\u001b[0m\u001b[1;33m\u001b[0m\u001b[0m\n\u001b[0;32m      5\u001b[0m         \u001b[0mc\u001b[0m \u001b[1;33m=\u001b[0m \u001b[0mn\u001b[0m \u001b[1;33m-\u001b[0m \u001b[1;36m1\u001b[0m\u001b[1;33m\u001b[0m\u001b[0m\n",
      "\u001b[1;31mValueError\u001b[0m: invalid literal for int() with base 10: ''"
     ]
    }
   ],
   "source": [
    "while True:\n",
    "\tn = int(input())\n",
    "\ta = n - 1\n",
    "\tb = n + 1\n",
    "\tc = n - 1\n",
    "\tans = a * b * c - (a - 2) * (b - 1) * (c - 2)\n",
    "\tprint(ans)"
   ]
  },
  {
   "cell_type": "code",
   "execution_count": 27,
   "metadata": {},
   "outputs": [
    {
     "data": {
      "text/plain": [
       "2"
      ]
     },
     "execution_count": 27,
     "metadata": {},
     "output_type": "execute_result"
    }
   ],
   "source": [
    "int(2.0)"
   ]
  },
  {
   "cell_type": "code",
   "execution_count": null,
   "metadata": {
    "collapsed": true
   },
   "outputs": [],
   "source": [
    "n = int(input())\n",
    "m = list(map(int, input().split()))\n",
    "ans = 0\n",
    "res = [0] * n\n",
    "for i in range(len(m)):\n",
    "    if m[i] == 2:\n",
    "        ans += 1\n",
    "        res[i] += 1\n",
    "summ = 0\n",
    "if ans == 1:\n",
    "    for i in range(ans+1):\n",
    "        a = 1\n",
    "        for j in range(len(m)):\n",
    "            if res[j] != 1:\n",
    "                summ += a\n",
    "                a += 1\n",
    "            if res[j] == 1:\n",
    "                a = 1\n",
    "                res[j] = 0\n",
    "    #print(int(summ/(ans+1)))\n",
    "    print(summ//(ans+1))\n",
    "elif ans == 2:\n",
    "    abc = res.copy()\n",
    "    for i in range(m):\n",
    "        summ += i + 1\n",
    "    for j in range(len(m)):\n",
    "        if abc[j] != 1:\n",
    "           summ += a\n",
    "           a += 1\n",
    "        if abc[j] == 1:\n",
    "           a = 1\n",
    "           abc[j] = 0\n",
    "    abcd = res.copy()\n",
    "    a = 1\n",
    "    for i in range(len(abcd)):\n",
    "        if i == 2:\n",
    "            abcd[i] == 0\n",
    "    for j in range(len(m)):\n",
    "        if abcd[j] != 1:\n",
    "           summ += a\n",
    "           a += 1\n",
    "        if abcd[j] == 1:\n",
    "           a = 1\n",
    "           abcd[j] = 0\n",
    "    abcde = res.copy()\n",
    "    a = 1\n",
    "    for i in range(len(abcd),-1,-1):\n",
    "        if i == 2:\n",
    "            abcde[i] == 0\n",
    "    for j in range(len(m)):\n",
    "        if abcde[j] != 1:\n",
    "           summ += a\n",
    "           a += 1\n",
    "        if abcde[j] == 1:\n",
    "           a = 1\n",
    "           abcde[j] = 0\n",
    "    print(summ//(ans+1))"
   ]
  }
 ],
 "metadata": {
  "kernelspec": {
   "display_name": "Python 3",
   "language": "python",
   "name": "python3"
  },
  "language_info": {
   "codemirror_mode": {
    "name": "ipython",
    "version": 3
   },
   "file_extension": ".py",
   "mimetype": "text/x-python",
   "name": "python",
   "nbconvert_exporter": "python",
   "pygments_lexer": "ipython3",
   "version": "3.6.3"
  }
 },
 "nbformat": 4,
 "nbformat_minor": 2
}
