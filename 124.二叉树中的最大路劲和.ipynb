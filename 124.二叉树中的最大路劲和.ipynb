{
 "cells": [
  {
   "cell_type": "code",
   "execution_count": 3,
   "metadata": {},
   "outputs": [],
   "source": [
    "class Solution:\n",
    "    def __init__(self):\n",
    "        self.maxSum = float(\"-inf\")\n",
    "\n",
    "    def maxPathSum(self, root):\n",
    "        def maxGain(node):\n",
    "            if not node:\n",
    "                return 0\n",
    "\n",
    "            # 递归计算左右子节点的最大贡献值\n",
    "            # 只有在最大贡献值大于 0 时，才会选取对应子节点\n",
    "            leftGain = max(maxGain(node.left), 0)\n",
    "            rightGain = max(maxGain(node.right), 0)\n",
    "            \n",
    "            # 节点的最大路径和取决于该节点的值与该节点的左右子节点的最大贡献值\n",
    "            priceNewpath = node.val + leftGain + rightGain\n",
    "            \n",
    "            # 更新答案\n",
    "            self.maxSum = max(self.maxSum, priceNewpath)\n",
    "        \n",
    "            # 返回节点的最大贡献值\n",
    "            return node.val + max(leftGain, rightGain)\n",
    "   \n",
    "        maxGain(root)\n",
    "        return self.maxSum"
   ]
  },
  {
   "cell_type": "code",
   "execution_count": null,
   "metadata": {
    "collapsed": true
   },
   "outputs": [],
   "source": []
  }
 ],
 "metadata": {
  "kernelspec": {
   "display_name": "Python 3",
   "language": "python",
   "name": "python3"
  },
  "language_info": {
   "codemirror_mode": {
    "name": "ipython",
    "version": 3
   },
   "file_extension": ".py",
   "mimetype": "text/x-python",
   "name": "python",
   "nbconvert_exporter": "python",
   "pygments_lexer": "ipython3",
   "version": "3.6.3"
  }
 },
 "nbformat": 4,
 "nbformat_minor": 2
}
