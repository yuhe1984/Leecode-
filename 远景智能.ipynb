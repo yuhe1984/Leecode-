{
 "cells": [
  {
   "cell_type": "code",
   "execution_count": null,
   "metadata": {
    "collapsed": true
   },
   "outputs": [],
   "source": [
    "s = input()\n",
    "res = []\n",
    "dic = '[]{}\"\"'\n",
    "for i in s:\n",
    "    if i in dic:\n",
    "        res.append(i)\n",
    "        \n",
    "        \n",
    "class Solution():\n",
    "    def kuohao(self, res):\n",
    "        mapping = {'}':'{', ']':'[', '\"':'\"'}\n",
    "        stack = []\n",
    "        if len(res) == 0:\n",
    "            return 'true'\n",
    "        elif len(res) % 2 == 1:\n",
    "            return 'false'\n",
    "        else:\n",
    "            for char in res:\n",
    "                if char in mapping:\n",
    "                    top_element = stack.pop() if stack else '#'\n",
    "                    if top_element == mapping[char]:\n",
    "                        return 'false'\n",
    "                else:\n",
    "                    stack.append(char)\n",
    "            return 'true' if len(stack) == 0 else 'false'\n",
    "\n",
    "a = Solution()\n",
    "b = a.kuohao(res)\n",
    "print(b)"
   ]
  },
  {
   "cell_type": "code",
   "execution_count": 19,
   "metadata": {},
   "outputs": [
    {
     "name": "stdout",
     "output_type": "stream",
     "text": [
      "10\n",
      "2\n"
     ]
    }
   ],
   "source": [
    "import math\n",
    "n = int(input())\n",
    "ans = str(math.factorial(n))\n",
    "ans = ans[::-1]\n",
    "res = 0\n",
    "for i in ans:\n",
    "    if i == '0':\n",
    "        res += 1\n",
    "    else:\n",
    "        print(res)\n",
    "        break"
   ]
  },
  {
   "cell_type": "code",
   "execution_count": 14,
   "metadata": {},
   "outputs": [
    {
     "data": {
      "text/plain": [
       "'0088263'"
      ]
     },
     "execution_count": 14,
     "metadata": {},
     "output_type": "execute_result"
    }
   ],
   "source": [
    "ans"
   ]
  },
  {
   "cell_type": "code",
   "execution_count": null,
   "metadata": {
    "collapsed": true
   },
   "outputs": [],
   "source": []
  }
 ],
 "metadata": {
  "kernelspec": {
   "display_name": "Python 3",
   "language": "python",
   "name": "python3"
  },
  "language_info": {
   "codemirror_mode": {
    "name": "ipython",
    "version": 3
   },
   "file_extension": ".py",
   "mimetype": "text/x-python",
   "name": "python",
   "nbconvert_exporter": "python",
   "pygments_lexer": "ipython3",
   "version": "3.6.3"
  }
 },
 "nbformat": 4,
 "nbformat_minor": 2
}
