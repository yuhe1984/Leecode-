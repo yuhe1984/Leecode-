{
 "cells": [
  {
   "cell_type": "code",
   "execution_count": null,
   "metadata": {
    "collapsed": true
   },
   "outputs": [],
   "source": []
  },
  {
   "cell_type": "code",
   "execution_count": null,
   "metadata": {
    "collapsed": true
   },
   "outputs": [],
   "source": []
  },
  {
   "cell_type": "code",
   "execution_count": null,
   "metadata": {
    "collapsed": true
   },
   "outputs": [],
   "source": []
  },
  {
   "cell_type": "code",
   "execution_count": 30,
   "metadata": {},
   "outputs": [],
   "source": [
    "candidates = [10,1,2,7,6,1,5]\n",
    "target = 8"
   ]
  },
  {
   "cell_type": "code",
   "execution_count": 55,
   "metadata": {},
   "outputs": [
    {
     "name": "stdout",
     "output_type": "stream",
     "text": [
      "[[1, 1, 6], [1, 2, 5], [1, 7], [2, 6]]\n"
     ]
    }
   ],
   "source": [
    "from typing import List\n",
    "\n",
    "class Solution:\n",
    "    def combinationSum2(self, candidates: List[int], target: int) -> List[List[int]]:\n",
    "        size = len(candidates)\n",
    "        if size == 0:\n",
    "            return []\n",
    "\n",
    "        # 剪枝的前提是数组元素排序\n",
    "        # 深度深的边不能比深度浅的边还小\n",
    "        # 要排序的理由：1、前面用过的数后面不能再用；2、下一层边上的数不能小于上一层边上的数。\n",
    "        candidates.sort()\n",
    "        # 在遍历的过程中记录路径，一般而言它是一个栈\n",
    "        path = []\n",
    "        res = []\n",
    "        # 注意要传入 size ，在 range 中， size 取不到\n",
    "        self.__dfs(candidates, 0, size, path, res, target)\n",
    "                \n",
    "        \n",
    "        return res\n",
    "\n",
    "    def __dfs(self, candidates, begin, size, path, res, target):\n",
    "        # 先写递归终止的情况\n",
    "        if target == 0:\n",
    "            # Python 中可变对象是引用传递，因此需要将当前 path 里的值拷贝出来\n",
    "            # 或者使用 path.copy()\n",
    "#             if path[:] not in res:\n",
    "            res.append(path[:])\n",
    "\n",
    "        for index in range(begin, size):\n",
    "            residue = target - candidates[index]\n",
    "            #  “剪枝”操作，不必递归到下一层，并且后面的分支也不必执行\n",
    "            if residue < 0:\n",
    "                break\n",
    "            if index > begin and candidates[index - 1] == candidates[index]:\n",
    "                continue\n",
    "            path.append(candidates[index])\n",
    "            # 因为下一层不能比上一层还小，起始索引还从 index 开始\n",
    "            self.__dfs(candidates, index+1, size, path, res, residue)\n",
    "            path.pop()\n",
    "if __name__ =='__main__':\n",
    "    candidates = [10,1,2,7,6,1,5]\n",
    "    target = 8\n",
    "    a = Solution()\n",
    "    b = a.combinationSum2(candidates, target)\n",
    "    print(b)"
   ]
  },
  {
   "cell_type": "code",
   "execution_count": 47,
   "metadata": {},
   "outputs": [
    {
     "name": "stdout",
     "output_type": "stream",
     "text": [
      "[[1, 1, 6], [1, 2, 5], [1, 7], [1, 2, 5], [1, 7], [2, 6]]\n"
     ]
    }
   ],
   "source": [
    "print(b)"
   ]
  },
  {
   "cell_type": "code",
   "execution_count": 40,
   "metadata": {},
   "outputs": [
    {
     "data": {
      "text/plain": [
       "True"
      ]
     },
     "execution_count": 40,
     "metadata": {},
     "output_type": "execute_result"
    }
   ],
   "source": [
    "b[1] == b[3]"
   ]
  },
  {
   "cell_type": "code",
   "execution_count": 52,
   "metadata": {
    "collapsed": true
   },
   "outputs": [],
   "source": [
    "from typing import List\n",
    "\n",
    "\n",
    "class Solution:\n",
    "\n",
    "    def combinationSum2(self, candidates: List[int], target: int) -> List[List[int]]:\n",
    "        def dfs(begin, path, residue):\n",
    "            if residue == 0:\n",
    "                res.append(path[:])\n",
    "                return\n",
    "\n",
    "            for index in range(begin, size):\n",
    "                if candidates[index] > residue:\n",
    "                    break\n",
    "\n",
    "                if index > begin and candidates[index - 1] == candidates[index]:\n",
    "                    continue\n",
    "\n",
    "                path.append(candidates[index])\n",
    "                dfs(index + 1, path, residue - candidates[index])\n",
    "                path.pop()\n",
    "\n",
    "        size = len(candidates)\n",
    "        if size == 0:\n",
    "            return []\n",
    "\n",
    "        candidates.sort()\n",
    "        res = []\n",
    "        dfs(0, [], target)\n",
    "        return res"
   ]
  },
  {
   "cell_type": "code",
   "execution_count": null,
   "metadata": {
    "collapsed": true
   },
   "outputs": [],
   "source": [
    "# 解释语句: if cur > begin and candidates[cur-1] == candidates[cur] 是如何避免重复的。\n",
    "\n",
    "\n",
    "\n",
    "# 这个避免重复当思想是在是太重要了。\n",
    "# 这个方法最重要的作用是，可以让同一层级，不出现相同的元素。即\n",
    "#                   1\n",
    "#                  / \\\n",
    "#                 2   2  这种情况不会发生 但是却允许了不同层级之间的重复即：\n",
    "#                /     \\\n",
    "#               5       5\n",
    "#                 例2\n",
    "#                   1\n",
    "#                  /\n",
    "#                 2      这种情况确是允许的\n",
    "#                /\n",
    "#               2  \n",
    "                \n",
    "# 为何会有这种神奇的效果呢？\n",
    "# 首先 cur-1 == cur 是用于判定当前元素是否和之前元素相同的语句。这个语句就能砍掉例1。\n",
    "# 可是问题来了，如果把所有当前与之前一个元素相同的都砍掉，那么例二的情况也会消失。 \n",
    "# 因为当第二个2出现的时候，他就和前一个2相同了。\n",
    "                \n",
    "# 那么如何保留例2呢？\n",
    "# 那么就用cur > begin 来避免这种情况，你发现例1中的两个2是处在同一个层级上的，\n",
    "# 例2的两个2是处在不同层级上的。\n",
    "# 在一个for循环中，所有被遍历到的数都是属于一个层级的。我们要让一个层级中，\n",
    "# 必须出现且只出现一个2，那么就放过第一个出现重复的2，但不放过后面出现的2。\n",
    "# 第一个出现的2的特点就是 cur == begin. 第二个出现的2 特点是cur > begin.\n"
   ]
  }
 ],
 "metadata": {
  "kernelspec": {
   "display_name": "Python 3",
   "language": "python",
   "name": "python3"
  },
  "language_info": {
   "codemirror_mode": {
    "name": "ipython",
    "version": 3
   },
   "file_extension": ".py",
   "mimetype": "text/x-python",
   "name": "python",
   "nbconvert_exporter": "python",
   "pygments_lexer": "ipython3",
   "version": "3.6.3"
  }
 },
 "nbformat": 4,
 "nbformat_minor": 2
}
