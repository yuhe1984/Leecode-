{
 "cells": [
  {
   "cell_type": "code",
   "execution_count": 1,
   "metadata": {
    "collapsed": true
   },
   "outputs": [],
   "source": [
    "class Solution:\n",
    "    directions = [(0, -1), (-1, 0), (0, 1), (1, 0)]\n",
    "    def exist(self, board, word):\n",
    "        m = len(board)\n",
    "        if m == 0:\n",
    "            return False\n",
    "        n = len(board[0])\n",
    "        marked = [[False for _ in range(n)] for _ in range(m)]\n",
    "        for i in range(m):\n",
    "            for j in range(n):\n",
    "                if self.__search_word(board, word, 0, i, j, marked, m, n):\n",
    "                    return True\n",
    "        return False\n",
    "    \n",
    "    def __search_word(self, board, word, index, start_x, start_y, marked, m, n):\n",
    "        if index == len(word) - 1:\n",
    "            return board[start_x][start_y] == word[index]\n",
    "        if board[start_x][start_y] == word[index]:\n",
    "            marked[start_x][start_y] = True\n",
    "            for direction in self.directions:\n",
    "                new_x = start_x + direction[0]\n",
    "                new_y = start_y + direction[1]\n",
    "                if 0 <= new_x < m and 0 <= new_y < n and not marked[new_x][new_y] and self.__search_word\\\n",
    "                (noard, word, index + 1, new_x, new_y, marked, m, n):\n",
    "                    return True\n",
    "            marked[start_x][start_y] = False\n",
    "        return False"
   ]
  },
  {
   "cell_type": "code",
   "execution_count": 51,
   "metadata": {},
   "outputs": [],
   "source": [
    "class Solution:\n",
    "    def zhongshu(self, n, m):\n",
    "        if n[0] == 0: return -1\n",
    "        sorted(m)\n",
    "        ans = [0] * (max(m)+1)\n",
    "        for i in m:\n",
    "            ans[i] += 1\n",
    "        res = max(ans)\n",
    "        return res\n",
    "if __name__ == \"__main__\":\n",
    "    a = Solution()\n",
    "    b = []\n",
    "    for i in range(2):\n",
    "        c = []\n",
    "        s = input()\n",
    "        if s != \"\":\n",
    "            for x in s.split():\n",
    "                c.append(int(x))\n",
    "            b.append(c)\n",
    "    n = b[0]\n",
    "    m = b[1]\n",
    "    a.zhongshu(n, m)"
   ]
  },
  {
   "cell_type": "code",
   "execution_count": 52,
   "metadata": {},
   "outputs": [
    {
     "name": "stdout",
     "output_type": "stream",
     "text": [
      "5 2\n",
      "2 3 1 4 4\n"
     ]
    }
   ],
   "source": [
    "if __name__ == \"__main__\":\n",
    "    a = Solution()\n",
    "    b = []\n",
    "    for i in range(2):\n",
    "        c = []\n",
    "        s = input()\n",
    "        if s != \"\":\n",
    "            for x in s.split():\n",
    "                c.append(int(x))\n",
    "            b.append(c)\n",
    "    n = b[0]\n",
    "    m = b[1]\n",
    "    a.zhongshu(n, m)"
   ]
  },
  {
   "cell_type": "code",
   "execution_count": 39,
   "metadata": {},
   "outputs": [],
   "source": [
    "a = Solution()"
   ]
  },
  {
   "cell_type": "code",
   "execution_count": 53,
   "metadata": {},
   "outputs": [
    {
     "data": {
      "text/plain": [
       "2"
      ]
     },
     "execution_count": 53,
     "metadata": {},
     "output_type": "execute_result"
    }
   ],
   "source": [
    "a.zhongshu([5,2], [2,3,1,4,4,3])"
   ]
  },
  {
   "cell_type": "code",
   "execution_count": null,
   "metadata": {
    "collapsed": true
   },
   "outputs": [],
   "source": [
    "import sys\n",
    "class Solution:\n",
    "    def zhongshu(self, n, m):\n",
    "        if n == 0: return -1\n",
    "        sorted(m)\n",
    "        ans = [0] * (max(m)+1)\n",
    "        for i in m:\n",
    "            ans[i] += 1\n",
    "        res = max(ans)\n",
    "        return res\n",
    "#if __name__ == \"__main__\":\n",
    "a = Solution()\n",
    "b = sys.stdin.readline().split()\n",
    "m = sys.stdin.readline().split()\n",
    "for i in range(len(b)):\n",
    "    b[i] = int(b[i])\n",
    "for j in range(len(m)):\n",
    "    m[j] = int(m[j])\n",
    "n = b[0]\n",
    "b = a.zhongshu(n, m)\n",
    "print(b)"
   ]
  }
 ],
 "metadata": {
  "kernelspec": {
   "display_name": "Python 3",
   "language": "python",
   "name": "python3"
  },
  "language_info": {
   "codemirror_mode": {
    "name": "ipython",
    "version": 3
   },
   "file_extension": ".py",
   "mimetype": "text/x-python",
   "name": "python",
   "nbconvert_exporter": "python",
   "pygments_lexer": "ipython3",
   "version": "3.6.3"
  }
 },
 "nbformat": 4,
 "nbformat_minor": 2
}
