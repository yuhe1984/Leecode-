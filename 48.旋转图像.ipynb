{
 "cells": [
  {
   "cell_type": "markdown",
   "metadata": {},
   "source": [
    "# 方法一 转置加翻转"
   ]
  },
  {
   "cell_type": "code",
   "execution_count": 1,
   "metadata": {
    "collapsed": true
   },
   "outputs": [],
   "source": [
    "class Solution:\n",
    "    def rotate(self, matrix):\n",
    "        \"\"\"\n",
    "        :type matrix: List[List[int]]\n",
    "        :rtype: void Do not return anything, modify matrix in-place instead.\n",
    "        \"\"\"\n",
    "        n = len(matrix[0])        \n",
    "        # transpose matrix\n",
    "        for i in range(n):\n",
    "            for j in range(i, n):\n",
    "                matrix[j][i], matrix[i][j] = matrix[i][j], matrix[j][i] \n",
    "        \n",
    "        # reverse each row\n",
    "        for i in range(n):\n",
    "            matrix[i].reverse()"
   ]
  },
  {
   "cell_type": "markdown",
   "metadata": {},
   "source": [
    "# 方法二 旋转四个矩形"
   ]
  },
  {
   "cell_type": "code",
   "execution_count": 2,
   "metadata": {
    "collapsed": true
   },
   "outputs": [],
   "source": [
    "class Solution:\n",
    "    def rotate(self, matrix):\n",
    "        \"\"\"\n",
    "        :type matrix: List[List[int]]\n",
    "        :rtype: void Do not return anything, modify matrix in-place instead.\n",
    "        \"\"\"\n",
    "        n = len(matrix[0])\n",
    "        for i in range(n // 2 + n % 2):\n",
    "            for j in range(n // 2):\n",
    "                tmp = [0] * 4\n",
    "                row, col = i, j\n",
    "                # store 4 elements in tmp\n",
    "                for k in range(4):\n",
    "                    tmp[k] = matrix[row][col]\n",
    "                    row, col = col, n - 1 - row\n",
    "                # rotate 4 elements   \n",
    "                for k in range(4):\n",
    "                    matrix[row][col] = tmp[(k - 1) % 4]\n",
    "                    row, col = col, n - 1 - row"
   ]
  },
  {
   "cell_type": "markdown",
   "metadata": {},
   "source": [
    "# 方法三 在单次旋转中4个矩形"
   ]
  },
  {
   "cell_type": "code",
   "execution_count": 3,
   "metadata": {
    "collapsed": true
   },
   "outputs": [],
   "source": [
    "class Solution:\n",
    "    def rotate(self, matrix):\n",
    "        \"\"\"\n",
    "        :type matrix: List[List[int]]\n",
    "        :rtype: void Do not return anything, modify matrix in-place instead.\n",
    "        \"\"\"\n",
    "        n = len(matrix[0])        \n",
    "        for i in range(n // 2 + n % 2):\n",
    "            for j in range(n // 2):\n",
    "                tmp = matrix[n - 1 - j][i]\n",
    "                matrix[n - 1 - j][i] = matrix[n - 1 - i][n - j - 1]\n",
    "                matrix[n - 1 - i][n - j - 1] = matrix[j][n - 1 -i]\n",
    "                matrix[j][n - 1 - i] = matrix[i][j]\n",
    "                matrix[i][j] = tmp"
   ]
  },
  {
   "cell_type": "code",
   "execution_count": null,
   "metadata": {
    "collapsed": true
   },
   "outputs": [],
   "source": []
  }
 ],
 "metadata": {
  "kernelspec": {
   "display_name": "Python 3",
   "language": "python",
   "name": "python3"
  },
  "language_info": {
   "codemirror_mode": {
    "name": "ipython",
    "version": 3
   },
   "file_extension": ".py",
   "mimetype": "text/x-python",
   "name": "python",
   "nbconvert_exporter": "python",
   "pygments_lexer": "ipython3",
   "version": "3.6.3"
  }
 },
 "nbformat": 4,
 "nbformat_minor": 2
}
