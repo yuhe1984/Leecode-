{
 "cells": [
  {
   "cell_type": "code",
   "execution_count": null,
   "metadata": {
    "collapsed": true
   },
   "outputs": [],
   "source": [
    "class Solution:\n",
    "    def new21Game(self, N, K, W):\n",
    "        if K == 0:\n",
    "            return 1.0\n",
    "        dp = [0.0] * (K + W + 1)\n",
    "        for i in range(K, min(N, K + W - 1) + 1):\n",
    "            dp[i] = 1.0\n",
    "        dp[K - 1] = float(min(N - K + 1, W)) / W\n",
    "        for i in range(K - 2, -1, -1):\n",
    "            dp[i] = dp[i + 1] - (dp[i + W + 1] - dp[i + 1]) / W\n",
    "        return dp[0]"
   ]
  },
  {
   "cell_type": "code",
   "execution_count": null,
   "metadata": {
    "collapsed": true
   },
   "outputs": [],
   "source": []
  }
 ],
 "metadata": {
  "kernelspec": {
   "display_name": "Python 3",
   "language": "python",
   "name": "python3"
  }
 },
 "nbformat": 4,
 "nbformat_minor": 2
}
