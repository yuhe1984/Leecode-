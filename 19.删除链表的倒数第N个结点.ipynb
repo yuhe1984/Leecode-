{
 "cells": [
  {
   "cell_type": "code",
   "execution_count": null,
   "metadata": {
    "collapsed": true
   },
   "outputs": [],
   "source": [
    "# Definition for singly-linked list.\n",
    "class ListNode:\n",
    "    def __init__(self, x):\n",
    "        self.val = x\n",
    "        self.next = None\n",
    "\n",
    "class Solution:\n",
    "    def removeNthFromEnd(self, head: ListNode, n: int) -> ListNode:\n",
    "        for i in range(n+1):\n",
    "            first = first.next\n",
    "        while (first != null):\n",
    "            first = first.next\n",
    "            second = second.next\n",
    "        second.next = second.next.next\n",
    "        return dummy.next"
   ]
  },
  {
   "cell_type": "code",
   "execution_count": null,
   "metadata": {
    "collapsed": true
   },
   "outputs": [],
   "source": [
    "public ListNode removeNthFromEnd(ListNode head, int n) {\n",
    "    ListNode dummy = new ListNode(0);\n",
    "    dummy.next = head;\n",
    "    ListNode first = dummy;\n",
    "    ListNode second = dummy;\n",
    "    // Advances first pointer so that the gap between first and second is n nodes apart\n",
    "    for (int i = 1; i <= n + 1; i++) {\n",
    "        first = first.next;\n",
    "    }\n",
    "    // Move first to the end, maintaining the gap\n",
    "    while (first != null) {\n",
    "        first = first.next;\n",
    "        second = second.next;\n",
    "    }\n",
    "    second.next = second.next.next;\n",
    "    return dummy.next;\n",
    "}"
   ]
  },
  {
   "cell_type": "code",
   "execution_count": 5,
   "metadata": {
    "collapsed": true
   },
   "outputs": [],
   "source": [
    "class Solution:\n",
    "    def removeNthFromEnd(self, head, n):\n",
    "        \"\"\"\n",
    "        :type head: ListNode\n",
    "        :type n: int\n",
    "        :rtype: ListNode\n",
    "        \"\"\"\n",
    "        def travel(node):\n",
    "            if node.next == None:\n",
    "                return 1\n",
    "            nth = travel(node.next) + 1\n",
    "            if nth == n+1:\n",
    "                node.next = node.next.next\n",
    "            return nth\n",
    "            \n",
    "        nth = travel(head)\n",
    "        if nth == n:\n",
    "            head = head.next\n",
    "            \n",
    "        return head"
   ]
  }
 ],
 "metadata": {
  "kernelspec": {
   "display_name": "Python 3",
   "language": "python",
   "name": "python3"
  },
  "language_info": {
   "codemirror_mode": {
    "name": "ipython",
    "version": 3
   },
   "file_extension": ".py",
   "mimetype": "text/x-python",
   "name": "python",
   "nbconvert_exporter": "python",
   "pygments_lexer": "ipython3",
   "version": "3.6.3"
  }
 },
 "nbformat": 4,
 "nbformat_minor": 2
}
