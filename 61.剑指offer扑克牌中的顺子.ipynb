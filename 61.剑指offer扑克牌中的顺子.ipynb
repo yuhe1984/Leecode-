{
 "cells": [
  {
   "cell_type": "code",
   "execution_count": 2,
   "metadata": {},
   "outputs": [],
   "source": [
    "class Solution:\n",
    "    def isStraight(self, nums):\n",
    "        nums = [num for num in nums if num] #筛选非0值\n",
    "        return len(set(nums)) == len(nums) and max(nums)-min(nums) < 5 #判断非0值是否有重复及跨度区间"
   ]
  },
  {
   "cell_type": "code",
   "execution_count": 4,
   "metadata": {},
   "outputs": [],
   "source": [
    "class Solution:\n",
    "    def isStraight(self, nums):\n",
    "        nums.sort()\n",
    "        zeroCnt = diff = 0\n",
    "        for i in range(len(nums)-1):\n",
    "            if nums[i] == 0:\n",
    "                zeroCnt += 1\n",
    "            elif nums[i] == nums[i+1]: return False\n",
    "            elif nums[i] + 1 != nums[i + 1]: \n",
    "                diff += nums[i+1] - nums[i] - 1\n",
    "        return zeroCnt >= diff"
   ]
  },
  {
   "cell_type": "code",
   "execution_count": null,
   "metadata": {
    "collapsed": true
   },
   "outputs": [],
   "source": []
  }
 ],
 "metadata": {
  "kernelspec": {
   "display_name": "Python 3",
   "language": "python",
   "name": "python3"
  },
  "language_info": {
   "codemirror_mode": {
    "name": "ipython",
    "version": 3
   },
   "file_extension": ".py",
   "mimetype": "text/x-python",
   "name": "python",
   "nbconvert_exporter": "python",
   "pygments_lexer": "ipython3",
   "version": "3.6.3"
  }
 },
 "nbformat": 4,
 "nbformat_minor": 2
}
