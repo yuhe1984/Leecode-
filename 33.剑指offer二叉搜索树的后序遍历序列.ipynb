{
 "cells": [
  {
   "cell_type": "markdown",
   "metadata": {},
   "source": [
    "# 递归"
   ]
  },
  {
   "cell_type": "code",
   "execution_count": 1,
   "metadata": {
    "collapsed": true
   },
   "outputs": [],
   "source": [
    "class Solution:\n",
    "    def verifyPostorder(self, postorder: [int]) -> bool:\n",
    "        def recur(i, j):\n",
    "            if i >= j: return True\n",
    "            l = i\n",
    "            while postorder[l] < postorder[j]: l += 1\n",
    "            m = l\n",
    "            while postorder[l] > postorder[j]: l += 1\n",
    "            return l == j and recur(i, m - 1) and recur(m, j - 1)\n",
    "\n",
    "        return recur(0, len(postorder) - 1)"
   ]
  },
  {
   "cell_type": "code",
   "execution_count": 3,
   "metadata": {},
   "outputs": [],
   "source": [
    "class Solution:\n",
    "    def verifyPostorder(self, postorder):\n",
    "        \n",
    "        def helper(nums):\n",
    "            if len(nums) <= 1: return True\n",
    "            root = nums[-1]\n",
    "            for i in range(len(nums)):\n",
    "                if nums[i] > root: break\n",
    "            for j in range(i, len(nums)-1):\n",
    "                if nums[j] < root: return False\n",
    "            return helper(nums[:i]) and helper(nums[i:-1])\n",
    "        \n",
    "        if not postorder: return True\n",
    "        return helper(postorder)"
   ]
  },
  {
   "cell_type": "markdown",
   "metadata": {},
   "source": [
    "# 辅助单调栈"
   ]
  },
  {
   "cell_type": "code",
   "execution_count": null,
   "metadata": {
    "collapsed": true
   },
   "outputs": [],
   "source": [
    "class Solution:\n",
    "    def verifyPostorder(self, postorder: [int]) -> bool:\n",
    "        stack, root = [], float(\"+inf\")\n",
    "        for i in range(len(postorder) - 1, -1, -1):\n",
    "            if postorder[i] > root: return False\n",
    "            while(stack and postorder[i] < stack[-1]):\n",
    "                root = stack.pop()\n",
    "            stack.append(postorder[i])\n",
    "        return True"
   ]
  }
 ],
 "metadata": {
  "kernelspec": {
   "display_name": "Python 3",
   "language": "python",
   "name": "python3"
  },
  "language_info": {
   "codemirror_mode": {
    "name": "ipython",
    "version": 3
   },
   "file_extension": ".py",
   "mimetype": "text/x-python",
   "name": "python",
   "nbconvert_exporter": "python",
   "pygments_lexer": "ipython3",
   "version": "3.6.3"
  }
 },
 "nbformat": 4,
 "nbformat_minor": 2
}
