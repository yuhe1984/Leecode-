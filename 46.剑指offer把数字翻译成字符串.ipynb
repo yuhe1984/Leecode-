{
 "cells": [
  {
   "cell_type": "markdown",
   "metadata": {},
   "source": [
    "# 深度优先搜索"
   ]
  },
  {
   "cell_type": "code",
   "execution_count": 1,
   "metadata": {
    "collapsed": true
   },
   "outputs": [],
   "source": [
    "class Solution:\n",
    "    def translateNum(self, num: int) -> int:\n",
    "        self.s = set()\n",
    "        num = str(num)\n",
    "        n = len(num)\n",
    "\n",
    "        def dfs(cur, tmp):\n",
    "            if cur==n:\n",
    "                self.s.add(tuple(tmp))\n",
    "                return\n",
    "            for i in range(cur, n):\n",
    "                if len(num[cur:i+1])>1 and num[cur]=='0':\n",
    "                    continue\n",
    "                if 0<=int(num[cur:i+1])<=25:\n",
    "                    dfs(i+1, tmp+[num[cur:i+1]])\n",
    "        \n",
    "        dfs(0, [])\n",
    "        return len(self.s)"
   ]
  },
  {
   "cell_type": "markdown",
   "metadata": {},
   "source": [
    "# 动态规划"
   ]
  },
  {
   "cell_type": "code",
   "execution_count": 3,
   "metadata": {
    "collapsed": true
   },
   "outputs": [],
   "source": [
    "class Solution:\n",
    "    def translateNum(self, num):\n",
    "        str_num = str(num)\n",
    "        n = len(str_num)\n",
    "        dp = [1 for _ in range(n + 1)] \n",
    "        for i in range(2, n + 1):\n",
    "            if str_num[i - 2] == '1' or \\\n",
    "            (str_num[i - 2] == '2' and str_num[i - 1] < '6'):\n",
    "                dp[i] = dp[i - 2] + dp[i - 1]\n",
    "            else:\n",
    "                dp[i] = dp[i - 1]\n",
    "        return dp[n]"
   ]
  },
  {
   "cell_type": "code",
   "execution_count": 4,
   "metadata": {
    "collapsed": true
   },
   "outputs": [],
   "source": [
    "class Solution:\n",
    "    def translateNum(self, num):\n",
    "        str_num = str(num)\n",
    "        n = len(str_num)\n",
    "        dp = [1] * (n + 1)\n",
    "        for i in range(2, n + 1):\n",
    "            if str_num[i - 2] == '1' or (str_num[i-2] == '2' and str_num[i-1] < '6'):\n",
    "                dp[i] = dp[i - 1] + dp[i - 2]\n",
    "            else:\n",
    "                dp[i] = dp[i - 1]\n",
    "        return dp[-1]"
   ]
  },
  {
   "cell_type": "markdown",
   "metadata": {},
   "source": [
    "# 递归"
   ]
  },
  {
   "cell_type": "code",
   "execution_count": null,
   "metadata": {
    "collapsed": true
   },
   "outputs": [],
   "source": [
    "class Solution:\n",
    "    def translateNum(self, num):\n",
    "        def backtrack(s, idx):\n",
    "            n = len(s)\n",
    "            if idx == n: return 1\n",
    "            if idx == n - 1 or s[idx] == '0' or s[idx:idx + 2] > '25':\n",
    "                return backtrack(s, idx + 1)\n",
    "            else:\n",
    "                return backtrack(s, idx + 1) + backtrack(s, idx + 2)\n",
    "        \n",
    "        s = str(num)\n",
    "        return backtrack(s, 0)"
   ]
  },
  {
   "cell_type": "code",
   "execution_count": 6,
   "metadata": {
    "collapsed": true
   },
   "outputs": [],
   "source": [
    "class Solution:\n",
    "    def translateNum(self, num):\n",
    "        def backtrack(s, idx):\n",
    "            n = len(s)\n",
    "            if idx == n: return 1\n",
    "            if idx == n - 1 or s[idx] == '0' or s[idx:idx + 2] > '25':\n",
    "                return backtrack(s, idx + 1)\n",
    "            else:\n",
    "                return backtrack(s, idx + 1) + backtrack(s, idx + 2)\n",
    "        s = str(num)\n",
    "        return backtrack(s, 0)"
   ]
  },
  {
   "cell_type": "code",
   "execution_count": null,
   "metadata": {
    "collapsed": true
   },
   "outputs": [],
   "source": []
  }
 ],
 "metadata": {
  "kernelspec": {
   "display_name": "Python 3",
   "language": "python",
   "name": "python3"
  },
  "language_info": {
   "codemirror_mode": {
    "name": "ipython",
    "version": 3
   },
   "file_extension": ".py",
   "mimetype": "text/x-python",
   "name": "python",
   "nbconvert_exporter": "python",
   "pygments_lexer": "ipython3",
   "version": "3.6.3"
  }
 },
 "nbformat": 4,
 "nbformat_minor": 2
}
