{
 "cells": [
  {
   "cell_type": "markdown",
   "metadata": {},
   "source": [
    "# 递归"
   ]
  },
  {
   "cell_type": "code",
   "execution_count": 1,
   "metadata": {
    "collapsed": true
   },
   "outputs": [],
   "source": [
    "class Solution:\n",
    "    def reverseBetween(self, head, m, n):\n",
    "        \"\"\"\n",
    "        :type head: ListNode\n",
    "        :type m: int\n",
    "        :type n: int\n",
    "        :rtype: ListNode\n",
    "        \"\"\"\n",
    "\n",
    "        if not head:\n",
    "            return None\n",
    "\n",
    "        left, right = head, head\n",
    "        stop = False\n",
    "        def recurseAndReverse(right, m, n):\n",
    "            nonlocal left, stop\n",
    "\n",
    "            # base case. Don't proceed any further\n",
    "            if n == 1:\n",
    "                return\n",
    "\n",
    "            # Keep moving the right pointer one step forward until (n == 1)\n",
    "            right = right.next\n",
    "\n",
    "            # Keep moving left pointer to the right until we reach the proper node\n",
    "            # from where the reversal is to start.\n",
    "            if m > 1:\n",
    "                left = left.next\n",
    "\n",
    "            # Recurse with m and n reduced.\n",
    "            recurseAndReverse(right, m - 1, n - 1)\n",
    "\n",
    "            # In case both the pointers cross each other or become equal, we\n",
    "            # stop i.e. don't swap data any further. We are done reversing at this\n",
    "            # point.\n",
    "            if left == right or right.next == left:\n",
    "                stop = True\n",
    "\n",
    "            # Until the boolean stop is false, swap data between the two pointers     \n",
    "            if not stop:\n",
    "                left.val, right.val = right.val, left.val\n",
    "\n",
    "                # Move left one step to the right.\n",
    "                # The right pointer moves one step back via backtracking.\n",
    "                left = left.next           \n",
    "\n",
    "        recurseAndReverse(right, m, n)\n",
    "        return head"
   ]
  },
  {
   "cell_type": "markdown",
   "metadata": {},
   "source": [
    "# 迭代"
   ]
  },
  {
   "cell_type": "code",
   "execution_count": 2,
   "metadata": {
    "collapsed": true
   },
   "outputs": [],
   "source": [
    "class Solution:\n",
    "    def reverseBetween(self, head, m, n):\n",
    "        \"\"\"\n",
    "        :type head: ListNode\n",
    "        :type m: int\n",
    "        :type n: int\n",
    "        :rtype: ListNode\n",
    "        \"\"\"\n",
    "\n",
    "        # Empty list\n",
    "        if not head:\n",
    "            return None\n",
    "\n",
    "        # Move the two pointers until they reach the proper starting point\n",
    "        # in the list.\n",
    "        cur, prev = head, None\n",
    "        while m > 1:\n",
    "            prev = cur\n",
    "            cur = cur.next\n",
    "            m, n = m - 1, n - 1\n",
    "\n",
    "        # The two pointers that will fix the final connections.\n",
    "        tail, con = cur, prev\n",
    "\n",
    "        # Iteratively reverse the nodes until n becomes 0.\n",
    "        while n:\n",
    "            third = cur.next\n",
    "            cur.next = prev\n",
    "            prev = cur\n",
    "            cur = third\n",
    "            n -= 1\n",
    "\n",
    "        # Adjust the final connections as explained in the algorithm\n",
    "        if con:\n",
    "            con.next = prev\n",
    "        else:\n",
    "            head = prev\n",
    "        tail.next = cur\n",
    "        return head"
   ]
  },
  {
   "cell_type": "code",
   "execution_count": null,
   "metadata": {
    "collapsed": true
   },
   "outputs": [],
   "source": []
  }
 ],
 "metadata": {
  "kernelspec": {
   "display_name": "Python 3",
   "language": "python",
   "name": "python3"
  },
  "language_info": {
   "codemirror_mode": {
    "name": "ipython",
    "version": 3
   },
   "file_extension": ".py",
   "mimetype": "text/x-python",
   "name": "python",
   "nbconvert_exporter": "python",
   "pygments_lexer": "ipython3",
   "version": "3.6.3"
  }
 },
 "nbformat": 4,
 "nbformat_minor": 2
}
