{
 "cells": [
  {
   "cell_type": "markdown",
   "metadata": {},
   "source": [
    "# BFS"
   ]
  },
  {
   "cell_type": "code",
   "execution_count": 2,
   "metadata": {},
   "outputs": [],
   "source": [
    "class Solution:\n",
    "    def updateMatrix(self, matrix):\n",
    "        m, n = len(matrix), len(matrix[0])\n",
    "        dist = [[0] * n for _ in range(m)]\n",
    "        zeroes_pos = [(i, j) for i in range(m) for j in range(n) if matrix[i][j] == 0]\n",
    "        # 将所有的 0 添加进初始队列中\n",
    "        q = collections.deque(zeroes_pos)\n",
    "        seen = set(zeroes_pos)\n",
    "\n",
    "        # 广度优先搜索\n",
    "        while q:\n",
    "            i, j = q.popleft()\n",
    "            for ni, nj in [(i - 1, j), (i + 1, j), (i, j - 1), (i, j + 1)]:\n",
    "                if 0 <= ni < m and 0 <= nj < n and (ni, nj) not in seen:\n",
    "                    dist[ni][nj] = dist[i][j] + 1\n",
    "                    q.append((ni, nj))\n",
    "                    seen.add((ni, nj))\n",
    "        \n",
    "        return dist"
   ]
  },
  {
   "cell_type": "markdown",
   "metadata": {},
   "source": [
    "# 动态规划"
   ]
  },
  {
   "cell_type": "code",
   "execution_count": 3,
   "metadata": {
    "collapsed": true
   },
   "outputs": [],
   "source": [
    "class Solution:\n",
    "    def updateMatrix(self, matrix):\n",
    "        m, n = len(matrix), len(matrix[0])\n",
    "        # 初始化动态规划的数组，所有的距离值都设置为一个很大的数\n",
    "        dist = [[10**9] * n for _ in range(m)]\n",
    "        # 如果 (i, j) 的元素为 0，那么距离为 0\n",
    "        for i in range(m):\n",
    "            for j in range(n):\n",
    "                if matrix[i][j] == 0:\n",
    "                    dist[i][j] = 0\n",
    "        # 只有 水平向左移动 和 竖直向上移动，注意动态规划的计算顺序\n",
    "        for i in range(m):\n",
    "            for j in range(n):\n",
    "                if i - 1 >= 0:\n",
    "                    dist[i][j] = min(dist[i][j], dist[i - 1][j] + 1)\n",
    "                if j - 1 >= 0:\n",
    "                    dist[i][j] = min(dist[i][j], dist[i][j - 1] + 1)\n",
    "        # 只有 水平向左移动 和 竖直向下移动，注意动态规划的计算顺序\n",
    "        for i in range(m - 1, -1, -1):\n",
    "            for j in range(n):\n",
    "                if i + 1 < m:\n",
    "                    dist[i][j] = min(dist[i][j], dist[i + 1][j] + 1)\n",
    "                if j - 1 >= 0:\n",
    "                    dist[i][j] = min(dist[i][j], dist[i][j - 1] + 1)\n",
    "        # 只有 水平向右移动 和 竖直向上移动，注意动态规划的计算顺序\n",
    "        for i in range(m):\n",
    "            for j in range(n - 1, -1, -1):\n",
    "                if i - 1 >= 0:\n",
    "                    dist[i][j] = min(dist[i][j], dist[i - 1][j] + 1)\n",
    "                if j + 1 < n:\n",
    "                    dist[i][j] = min(dist[i][j], dist[i][j + 1] + 1)\n",
    "        # 只有 水平向右移动 和 竖直向下移动，注意动态规划的计算顺序\n",
    "        for i in range(m - 1, -1, -1):\n",
    "            for j in range(n - 1, -1, -1):\n",
    "                if i + 1 < m:\n",
    "                    dist[i][j] = min(dist[i][j], dist[i + 1][j] + 1)\n",
    "                if j + 1 < n:\n",
    "                    dist[i][j] = min(dist[i][j], dist[i][j + 1] + 1)\n",
    "        return dist"
   ]
  },
  {
   "cell_type": "code",
   "execution_count": 4,
   "metadata": {
    "collapsed": true
   },
   "outputs": [],
   "source": [
    "class Solution:\n",
    "    def updateMatrix(self, matrix):\n",
    "        m, n = len(matrix), len(matrix[0])\n",
    "        # 初始化动态规划的数组，所有的距离值都设置为一个很大的数\n",
    "        dist = [[10**9] * n for _ in range(m)]\n",
    "        # 如果 (i, j) 的元素为 0，那么距离为 0\n",
    "        for i in range(m):\n",
    "            for j in range(n):\n",
    "                if matrix[i][j] == 0:\n",
    "                    dist[i][j] = 0\n",
    "        # 只有 水平向左移动 和 竖直向上移动，注意动态规划的计算顺序\n",
    "        for i in range(m):\n",
    "            for j in range(n):\n",
    "                if i - 1 >= 0:\n",
    "                    dist[i][j] = min(dist[i][j], dist[i - 1][j] + 1)\n",
    "                if j - 1 >= 0:\n",
    "                    dist[i][j] = min(dist[i][j], dist[i][j - 1] + 1)\n",
    "        # 只有 水平向右移动 和 竖直向下移动，注意动态规划的计算顺序\n",
    "        for i in range(m - 1, -1, -1):\n",
    "            for j in range(n - 1, -1, -1):\n",
    "                if i + 1 < m:\n",
    "                    dist[i][j] = min(dist[i][j], dist[i + 1][j] + 1)\n",
    "                if j + 1 < n:\n",
    "                    dist[i][j] = min(dist[i][j], dist[i][j + 1] + 1)\n",
    "        return dist"
   ]
  },
  {
   "cell_type": "code",
   "execution_count": null,
   "metadata": {
    "collapsed": true
   },
   "outputs": [],
   "source": []
  }
 ],
 "metadata": {
  "kernelspec": {
   "display_name": "Python 3",
   "language": "python",
   "name": "python3"
  },
  "language_info": {
   "codemirror_mode": {
    "name": "ipython",
    "version": 3
   },
   "file_extension": ".py",
   "mimetype": "text/x-python",
   "name": "python",
   "nbconvert_exporter": "python",
   "pygments_lexer": "ipython3",
   "version": "3.6.3"
  }
 },
 "nbformat": 4,
 "nbformat_minor": 2
}
