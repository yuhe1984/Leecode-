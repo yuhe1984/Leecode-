{
 "cells": [
  {
   "cell_type": "code",
   "execution_count": 2,
   "metadata": {
    "collapsed": true
   },
   "outputs": [],
   "source": [
    "class Solution:\n",
    "    def findSubsequences(self, nums):\n",
    "        ans, seq = set(), []\n",
    "        def dfs(i): \n",
    "            if len(seq) >= 2:\n",
    "                ans.add(tuple(seq))\n",
    "            for j in range(i, len(nums)):\n",
    "                if len(seq) == 0 or nums[j] >= seq[-1]:\n",
    "                    seq.append(nums[j])\n",
    "                    dfs(j+1)\n",
    "                    seq.pop()\n",
    "        dfs(0)         \n",
    "        return list(ans)"
   ]
  },
  {
   "cell_type": "code",
   "execution_count": null,
   "metadata": {
    "collapsed": true
   },
   "outputs": [],
   "source": []
  }
 ],
 "metadata": {
  "kernelspec": {
   "display_name": "Python 3",
   "language": "python",
   "name": "python3"
  },
  "language_info": {
   "codemirror_mode": {
    "name": "ipython",
    "version": 3
   },
   "file_extension": ".py",
   "mimetype": "text/x-python",
   "name": "python",
   "nbconvert_exporter": "python",
   "pygments_lexer": "ipython3",
   "version": "3.6.3"
  }
 },
 "nbformat": 4,
 "nbformat_minor": 2
}
