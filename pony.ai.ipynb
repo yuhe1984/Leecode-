{
 "cells": [
  {
   "cell_type": "code",
   "execution_count": 1,
   "metadata": {
    "collapsed": true
   },
   "outputs": [],
   "source": [
    "a = [[], [], []]"
   ]
  },
  {
   "cell_type": "code",
   "execution_count": 5,
   "metadata": {},
   "outputs": [
    {
     "data": {
      "text/plain": [
       "([], True)"
      ]
     },
     "execution_count": 5,
     "metadata": {},
     "output_type": "execute_result"
    }
   ],
   "source": [
    "[],[] in a"
   ]
  },
  {
   "cell_type": "code",
   "execution_count": null,
   "metadata": {
    "collapsed": true
   },
   "outputs": [],
   "source": [
    "n = int(input())\n",
    "for i in range(n):\n",
    "    m = int(input())\n",
    "    res = []\n",
    "    for j in range(m):\n",
    "        s = input()\n",
    "        res.append(s)\n",
    "    ans = [[], [], [], []]\n",
    "    for k in res:\n",
    "        if '=' in k:\n",
    "            ans[0].append(k)\n",
    "        if '!=' in k:\n",
    "            ans[1].append(k)\n",
    "        if '>' in k:\n",
    "            ans[2].append(k)\n",
    "        if '<' in k:\n",
    "            ans[3].append(k)\n",
    "    x = 0\n",
    "    for p in ans:\n",
    "        if p == []:\n",
    "            x += 1\n",
    "    if x == 2:\n",
    "        print('False')\n",
    "    elif len(ans[0]) == m:\n",
    "        print('True')\n",
    "    else:\n",
    "        if x == 1:\n",
    "            print('True')\n",
    "        else:\n",
    "            print('False')"
   ]
  },
  {
   "cell_type": "code",
   "execution_count": null,
   "metadata": {
    "collapsed": true
   },
   "outputs": [],
   "source": []
  }
 ],
 "metadata": {
  "kernelspec": {
   "display_name": "Python 3",
   "language": "python",
   "name": "python3"
  },
  "language_info": {
   "codemirror_mode": {
    "name": "ipython",
    "version": 3
   },
   "file_extension": ".py",
   "mimetype": "text/x-python",
   "name": "python",
   "nbconvert_exporter": "python",
   "pygments_lexer": "ipython3",
   "version": "3.6.3"
  }
 },
 "nbformat": 4,
 "nbformat_minor": 2
}
