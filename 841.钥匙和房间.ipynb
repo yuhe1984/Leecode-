{
 "cells": [
  {
   "cell_type": "markdown",
   "metadata": {},
   "source": [
    "# DFS"
   ]
  },
  {
   "cell_type": "code",
   "execution_count": 1,
   "metadata": {
    "collapsed": true
   },
   "outputs": [],
   "source": [
    "class Solution:\n",
    "    def canVisitAllRooms(self, rooms):\n",
    "        def dfs(x: int):\n",
    "            vis.add(x)\n",
    "            nonlocal num\n",
    "            num += 1\n",
    "            for it in rooms[x]:\n",
    "                if it not in vis:\n",
    "                    dfs(it)\n",
    "        \n",
    "        n = len(rooms)\n",
    "        num = 0\n",
    "        vis = set()\n",
    "        dfs(0)\n",
    "        return num == n"
   ]
  },
  {
   "cell_type": "markdown",
   "metadata": {},
   "source": [
    "# BFS"
   ]
  },
  {
   "cell_type": "code",
   "execution_count": 2,
   "metadata": {
    "collapsed": true
   },
   "outputs": [],
   "source": [
    "class Solution:\n",
    "    def canVisitAllRooms(self, rooms):\n",
    "        n = len(rooms)\n",
    "        num = 0\n",
    "        vis = {0}\n",
    "        que = collections.deque([0])\n",
    "\n",
    "        while que:\n",
    "            x = que.popleft()\n",
    "            num += 1\n",
    "            for it in rooms[x]:\n",
    "                if it not in vis:\n",
    "                    vis.add(it)\n",
    "                    que.append(it)\n",
    "        \n",
    "        return num == n"
   ]
  },
  {
   "cell_type": "code",
   "execution_count": null,
   "metadata": {
    "collapsed": true
   },
   "outputs": [],
   "source": []
  }
 ],
 "metadata": {
  "kernelspec": {
   "display_name": "Python 3",
   "language": "python",
   "name": "python3"
  },
  "language_info": {
   "codemirror_mode": {
    "name": "ipython",
    "version": 3
   },
   "file_extension": ".py",
   "mimetype": "text/x-python",
   "name": "python",
   "nbconvert_exporter": "python",
   "pygments_lexer": "ipython3",
   "version": "3.6.3"
  }
 },
 "nbformat": 4,
 "nbformat_minor": 2
}
