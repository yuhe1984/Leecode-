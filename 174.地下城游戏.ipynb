{
 "cells": [
  {
   "cell_type": "code",
   "execution_count": 1,
   "metadata": {
    "collapsed": true
   },
   "outputs": [],
   "source": [
    "class Solution:\n",
    "    def calculateMinimumHP(self, dungeon):\n",
    "        n, m = len(dungeon), len(dungeon[0])\n",
    "        BIG = 10 ** 9\n",
    "        dp = [[BIG] * (m + 1) for _ in range(n + 1)]\n",
    "        dp[n-1][m] = dp[n][m-1] = 1\n",
    "        for i in range(n-1, -1, -1):\n",
    "            for j in range(m-1, -1, -1):\n",
    "                minn = min(dp[i+1][j], dp[i][j+1])\n",
    "                dp[i][j] = max(minn-dungeon[i][j], 1)\n",
    "        return dp[0][0]   "
   ]
  },
  {
   "cell_type": "code",
   "execution_count": null,
   "metadata": {
    "collapsed": true
   },
   "outputs": [],
   "source": []
  }
 ],
 "metadata": {
  "kernelspec": {
   "display_name": "Python 3",
   "language": "python",
   "name": "python3"
  },
  "language_info": {
   "codemirror_mode": {
    "name": "ipython",
    "version": 3
   },
   "file_extension": ".py",
   "mimetype": "text/x-python",
   "name": "python",
   "nbconvert_exporter": "python",
   "pygments_lexer": "ipython3",
   "version": "3.6.3"
  }
 },
 "nbformat": 4,
 "nbformat_minor": 2
}
