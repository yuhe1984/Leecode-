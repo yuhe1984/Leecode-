{
 "cells": [
  {
   "cell_type": "code",
   "execution_count": 1,
   "metadata": {
    "collapsed": true
   },
   "outputs": [],
   "source": [
    "class Solution:\n",
    "    def patternMatching(self, pattern: str, value: str) -> bool:\n",
    "        count_a = sum(1 for ch in pattern if ch == 'a')\n",
    "        count_b = len(pattern) - count_a\n",
    "        if count_a < count_b:\n",
    "            count_a, count_b = count_b, count_a\n",
    "            pattern = ''.join('a' if ch == 'b' else 'b' for ch in pattern)\n",
    "        \n",
    "        if not value:\n",
    "            return count_b == 0\n",
    "        if not pattern:\n",
    "            return False\n",
    "        \n",
    "        for len_a in range(len(value) // count_a + 1):\n",
    "            rest = len(value) - count_a * len_a\n",
    "            if (count_b == 0 and rest == 0) or (count_b != 0 and rest % count_b == 0):\n",
    "                len_b = 0 if count_b == 0 else rest // count_b\n",
    "                pos, correct = 0, True\n",
    "                value_a, value_b = None, None\n",
    "                for ch in pattern:\n",
    "                    if ch == 'a':\n",
    "                        sub = value[pos:pos+len_a]\n",
    "                        if not value_a:\n",
    "                            value_a = sub\n",
    "                        elif value_a != sub:\n",
    "                            correct = False\n",
    "                            break\n",
    "                        pos += len_a\n",
    "                    else:\n",
    "                        sub = value[pos:pos+len_b]\n",
    "                        if not value_b:\n",
    "                            value_b = sub\n",
    "                        elif value_b != sub:\n",
    "                            correct = False\n",
    "                            break\n",
    "                        pos += len_b\n",
    "                if correct and value_a != value_b:\n",
    "                    return True\n",
    "        \n",
    "        return False"
   ]
  },
  {
   "cell_type": "code",
   "execution_count": null,
   "metadata": {
    "collapsed": true
   },
   "outputs": [],
   "source": []
  }
 ],
 "metadata": {
  "kernelspec": {
   "display_name": "Python 3",
   "language": "python",
   "name": "python3"
  },
  "language_info": {
   "codemirror_mode": {
    "name": "ipython",
    "version": 3
   },
   "file_extension": ".py",
   "mimetype": "text/x-python",
   "name": "python",
   "nbconvert_exporter": "python",
   "pygments_lexer": "ipython3",
   "version": "3.6.3"
  }
 },
 "nbformat": 4,
 "nbformat_minor": 2
}
