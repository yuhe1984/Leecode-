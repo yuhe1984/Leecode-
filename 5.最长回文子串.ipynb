{
 "cells": [
  {
   "cell_type": "code",
   "execution_count": 9,
   "metadata": {
    "collapsed": true
   },
   "outputs": [],
   "source": [
    "class Solution:\n",
    "    def longestPalindrome(self, s: str) -> str:\n",
    "        size = len(s)\n",
    "        if size < 2:\n",
    "            return s\n",
    "\n",
    "        dp = [[False for _ in range(size)] for _ in range(size)]\n",
    "\n",
    "        max_len = 1\n",
    "        start = 0\n",
    "\n",
    "        for i in range(size):\n",
    "            dp[i][i] = True\n",
    "\n",
    "        for j in range(1, size):\n",
    "            for i in range(0, j):\n",
    "                if s[i] == s[j]:\n",
    "                    if j - i < 3:\n",
    "                        dp[i][j] = True\n",
    "                    else:\n",
    "                        dp[i][j] = dp[i + 1][j - 1]\n",
    "                else:\n",
    "                    dp[i][j] = False\n",
    "\n",
    "                if dp[i][j]:\n",
    "                    cur_len = j - i + 1\n",
    "                    if cur_len > max_len:\n",
    "                        max_len = cur_len\n",
    "                        start = i\n",
    "        return s[start:start + max_len]"
   ]
  },
  {
   "cell_type": "code",
   "execution_count": null,
   "metadata": {
    "collapsed": true
   },
   "outputs": [],
   "source": []
  },
  {
   "cell_type": "code",
   "execution_count": 10,
   "metadata": {
    "collapsed": true
   },
   "outputs": [],
   "source": [
    "s = \"abcbc\""
   ]
  },
  {
   "cell_type": "code",
   "execution_count": 11,
   "metadata": {
    "collapsed": true
   },
   "outputs": [],
   "source": [
    "a = Solution"
   ]
  },
  {
   "cell_type": "code",
   "execution_count": 12,
   "metadata": {},
   "outputs": [
    {
     "data": {
      "text/plain": [
       "'bcb'"
      ]
     },
     "execution_count": 12,
     "metadata": {},
     "output_type": "execute_result"
    }
   ],
   "source": [
    "a.longestPalindrome([],s)"
   ]
  },
  {
   "cell_type": "code",
   "execution_count": 15,
   "metadata": {},
   "outputs": [
    {
     "name": "stdout",
     "output_type": "stream",
     "text": [
      "10\n",
      "[1, 1, 1, 1, 1, 1, 1, 1, 1, 1, 1]\n",
      "[1, 1, 1, 1, 1, 2, 2, 2, 2, 2, 3]\n",
      "[1, 1, 1, 1, 1, 2, 2, 2, 2, 2, 4]\n",
      "[1, 1, 1, 1, 1, 2, 2, 2, 2, 2, 4]\n",
      "[1, 1, 1, 1, 1, 2, 2, 2, 2, 2, 4]\n",
      "[1, 1, 1, 1, 1, 2, 2, 2, 2, 2, 4]\n"
     ]
    }
   ],
   "source": [
    "money=[1,5,10,20,50,100]\n",
    "n = int(input())\n",
    "li=[]\n",
    "for i in range(n+1):\n",
    "    li.append(0)\n",
    "li[0]=1\n",
    "for i in money:\n",
    "    for j in range(n+1):\n",
    "        if j>=i:\n",
    "            li[j]=li[j]+li[j-i]\n",
    "    print(li)"
   ]
  },
  {
   "cell_type": "code",
   "execution_count": 16,
   "metadata": {
    "collapsed": true
   },
   "outputs": [],
   "source": [
    "def FindGreatestSumOfSubArray(array):\n",
    "        f = array[0]\n",
    "        res = array[0]\n",
    "        for i in range(1,len(array)):\n",
    "            f = max(f+array[i],array[i])\n",
    "            res = max(res,f)\n",
    "        return res"
   ]
  },
  {
   "cell_type": "code",
   "execution_count": 17,
   "metadata": {
    "collapsed": true
   },
   "outputs": [],
   "source": [
    "array = [6,-3,-2,7,-15,1,2,2]"
   ]
  },
  {
   "cell_type": "code",
   "execution_count": 18,
   "metadata": {},
   "outputs": [
    {
     "data": {
      "text/plain": [
       "8"
      ]
     },
     "execution_count": 18,
     "metadata": {},
     "output_type": "execute_result"
    }
   ],
   "source": [
    "FindGreatestSumOfSubArray(array)"
   ]
  },
  {
   "cell_type": "code",
   "execution_count": null,
   "metadata": {
    "collapsed": true
   },
   "outputs": [],
   "source": []
  }
 ],
 "metadata": {
  "kernelspec": {
   "display_name": "Python 3",
   "language": "python",
   "name": "python3"
  },
  "language_info": {
   "codemirror_mode": {
    "name": "ipython",
    "version": 3
   },
   "file_extension": ".py",
   "mimetype": "text/x-python",
   "name": "python",
   "nbconvert_exporter": "python",
   "pygments_lexer": "ipython3",
   "version": "3.6.3"
  }
 },
 "nbformat": 4,
 "nbformat_minor": 2
}
