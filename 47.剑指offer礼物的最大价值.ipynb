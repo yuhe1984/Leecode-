{
 "cells": [
  {
   "cell_type": "code",
   "execution_count": 2,
   "metadata": {},
   "outputs": [],
   "source": [
    "class Solution:\n",
    "    def maxValue(self, grid):\n",
    "        dp = [[0] * len(grid[0]) for i in range(len(grid))]\n",
    "        dp[0][0] = grid[0][0]\n",
    "        for i in range(1, len(grid[0])):\n",
    "            dp[0][i] = dp[0][i-1] + grid[0][i]\n",
    "        for j in range(1, len(grid)):\n",
    "            dp[j][0] = dp[j-1][0] + grid[j][0]\n",
    "        for i in range(1, len(grid)):\n",
    "            for j in range(1, len(grid[0])):\n",
    "                dp[i][j] = grid[i][j] + max(dp[i-1][j], dp[i][j-1])\n",
    "        return dp[-1][-1]"
   ]
  },
  {
   "cell_type": "code",
   "execution_count": null,
   "metadata": {
    "collapsed": true
   },
   "outputs": [],
   "source": []
  }
 ],
 "metadata": {
  "kernelspec": {
   "display_name": "Python 3",
   "language": "python",
   "name": "python3"
  },
  "language_info": {
   "codemirror_mode": {
    "name": "ipython",
    "version": 3
   },
   "file_extension": ".py",
   "mimetype": "text/x-python",
   "name": "python",
   "nbconvert_exporter": "python",
   "pygments_lexer": "ipython3",
   "version": "3.6.3"
  }
 },
 "nbformat": 4,
 "nbformat_minor": 2
}
