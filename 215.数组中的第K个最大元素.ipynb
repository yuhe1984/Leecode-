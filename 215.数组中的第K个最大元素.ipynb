{
 "cells": [
  {
   "cell_type": "markdown",
   "metadata": {},
   "source": [
    "# 快速排序"
   ]
  },
  {
   "cell_type": "code",
   "execution_count": 1,
   "metadata": {
    "collapsed": true
   },
   "outputs": [],
   "source": [
    "import random\n",
    "class Solution:\n",
    "    def quickSelect(self, a, l, r, index):\n",
    "        q = self.randomPartition(a, l, r)\n",
    "        if q == index:\n",
    "            return a[q]\n",
    "        else:\n",
    "            return self.quickSelect(a, q+1, r, index) if q < index else self.quickSelect(a, l, q-1, index)\n",
    "    def randomPartition(self, a, l, r):\n",
    "        i = random.randint(l, r)\n",
    "        a[i], a[r] = a[r], a[i]\n",
    "        return self.partition(a, l, r)\n",
    "    def partition(self, a, l, r):        \n",
    "        x = a[r]\n",
    "        i = l - 1\n",
    "        for j in range(l, r):\n",
    "            if a[j] < x:\n",
    "                i += 1\n",
    "                a[i], a[j] = a[j], a[i]\n",
    "        i += 1\n",
    "        a[i], a[r] = a[r], a[i]\n",
    "        return i\n",
    "            \n",
    "    def findKthLargest(self, nums, k):\n",
    "        return self.quickSelect(nums, 0, len(nums)-1, len(nums)-k)"
   ]
  },
  {
   "cell_type": "markdown",
   "metadata": {},
   "source": [
    "# 堆排序"
   ]
  },
  {
   "cell_type": "code",
   "execution_count": null,
   "metadata": {
    "collapsed": true
   },
   "outputs": [],
   "source": [
    "class Solution {\n",
    "public:\n",
    "    void maxHeapify(vector<int>& a, int i, int heapSize) {\n",
    "        int l = i * 2 + 1, r = i * 2 + 2, largest = i;\n",
    "        if (l < heapSize && a[l] > a[largest]) {\n",
    "            largest = l;\n",
    "        } \n",
    "        if (r < heapSize && a[r] > a[largest]) {\n",
    "            largest = r;\n",
    "        }\n",
    "        if (largest != i) {\n",
    "            swap(a[i], a[largest]);\n",
    "            maxHeapify(a, largest, heapSize);\n",
    "        }\n",
    "    }\n",
    "\n",
    "    void buildMaxHeap(vector<int>& a, int heapSize) {\n",
    "        for (int i = heapSize / 2; i >= 0; --i) {\n",
    "            maxHeapify(a, i, heapSize);\n",
    "        } \n",
    "    }\n",
    "\n",
    "    int findKthLargest(vector<int>& nums, int k) {\n",
    "        int heapSize = nums.size();\n",
    "        buildMaxHeap(nums, heapSize);\n",
    "        for (int i = nums.size() - 1; i >= nums.size() - k + 1; --i) {\n",
    "            swap(nums[0], nums[i]);\n",
    "            --heapSize;\n",
    "            maxHeapify(nums, 0, heapSize);\n",
    "        }\n",
    "        return nums[0];\n",
    "    }\n",
    "};"
   ]
  },
  {
   "cell_type": "code",
   "execution_count": 3,
   "metadata": {},
   "outputs": [],
   "source": [
    "class Solution:\n",
    "    def maxHeapify(self, a, i, heapSize):\n",
    "        l = i * 2 + 1\n",
    "        r = i * 2 + 2\n",
    "        largest = i\n",
    "        if l < heapSize and a[l] > a[largest]:\n",
    "            largest = l\n",
    "        if r < heapSize and a[r] > a[largest]:\n",
    "            largest = r\n",
    "        if largest != i:\n",
    "            a[i], a[largest] = a[largest], a[i]\n",
    "            self.maxHeapify(a, largest, heapSize)\n",
    "\n",
    "    def buildMaxHeap(self, a, heapSize):\n",
    "        for i in range(heapSize//2, -1, -1):\n",
    "            self.maxHeapify(a, i, heapSize)\n",
    "\n",
    "    def findKthLargest(self, nums, k):\n",
    "        heapSize = len(nums)\n",
    "        self.buildMaxHeap(nums, heapSize)\n",
    "        for i in range(len(nums)-1, len(nums)-k+1, -1):\n",
    "            nums[0], nums[i] = nums[i], nums[0]\n",
    "            heapSize -= 1\n",
    "            self.maxHeapify(nums, 0, heapSize)\n",
    "        return nums[0]"
   ]
  },
  {
   "cell_type": "code",
   "execution_count": null,
   "metadata": {
    "collapsed": true
   },
   "outputs": [],
   "source": []
  }
 ],
 "metadata": {
  "kernelspec": {
   "display_name": "Python 3",
   "language": "python",
   "name": "python3"
  },
  "language_info": {
   "codemirror_mode": {
    "name": "ipython",
    "version": 3
   },
   "file_extension": ".py",
   "mimetype": "text/x-python",
   "name": "python",
   "nbconvert_exporter": "python",
   "pygments_lexer": "ipython3",
   "version": "3.6.3"
  }
 },
 "nbformat": 4,
 "nbformat_minor": 2
}
