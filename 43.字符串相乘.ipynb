{
 "cells": [
  {
   "cell_type": "markdown",
   "metadata": {},
   "source": [
    "# 转换相乘(题目并不允许)"
   ]
  },
  {
   "cell_type": "code",
   "execution_count": 1,
   "metadata": {
    "collapsed": true
   },
   "outputs": [],
   "source": [
    "class Solution:\n",
    "    def multiply(self, num1: str, num2: str) -> str:\n",
    "        a = int(num1) * int(num2)\n",
    "        return str(a)"
   ]
  },
  {
   "cell_type": "markdown",
   "metadata": {},
   "source": [
    "# 方法二：普通竖式"
   ]
  },
  {
   "cell_type": "code",
   "execution_count": null,
   "metadata": {
    "collapsed": true
   },
   "outputs": [],
   "source": [
    "class Solution {\n",
    "public:\n",
    "    string multiply(string num1, string num2) {\n",
    "        int n1=num1.size();\n",
    "        int n2=num2.size();\n",
    "        string res(n1+n2,'0');\n",
    "        for(int i=n2-1;i>=0;i--){\n",
    "            for(int j=n1-1;j>=0;j--){\n",
    "                int temp=(res[i+j+1]-'0')+(num1[j]-'0')*(num2[i]-'0');\n",
    "                res[i+j+1]=temp%10+'0';//当前位\n",
    "                res[i+j]+=temp/10; //前一位加上进位，res[i+j]已经初始化为'0'，加上int类型自动转化为char，所以此处不加'0'\n",
    "            }\n",
    "        }\n",
    "        \n",
    "//去除首位'0'\n",
    "        for(int i=0;i<n1+n2;i++){\n",
    "            if(res[i]!='0')\n",
    "                return res.substr(i);\n",
    "        }\n",
    "        return \"0\";\n",
    "       \n",
    "        \n",
    "    }\n",
    "};"
   ]
  },
  {
   "cell_type": "code",
   "execution_count": 39,
   "metadata": {},
   "outputs": [],
   "source": [
    "class Solution:\n",
    "    def multiply(self, num1: str, num2: str) -> str:\n",
    "        num1_len = len(num1)\n",
    "        num2_len = len(num2)\n",
    "        res = [0] * (num1_len + num2_len)\n",
    "        for i in range(num1_len-1,-1,-1):\n",
    "            for j in range(num2_len-1,-1,-1):\n",
    "                tmp = int(num1[i]) * int(num2[j]) + int(res[i+j+1])\n",
    "                res[i+j+1] = tmp%10 # 余数作为当前位\n",
    "                res[i+j] = res[i+j] + tmp//10 # 前一位加上，进位（商作为进位）\n",
    "        res = list(map(str, res))\n",
    "        # print(res)\n",
    "        for i in range(num1_len+num2_len):\n",
    "            if res[i]!='0': # 找到第一个非0数字，后面就是结果\n",
    "                return ''.join(res[i:])\n",
    "        return '0'"
   ]
  },
  {
   "cell_type": "code",
   "execution_count": 72,
   "metadata": {},
   "outputs": [],
   "source": [
    "a = Solution()"
   ]
  },
  {
   "cell_type": "code",
   "execution_count": 73,
   "metadata": {},
   "outputs": [
    {
     "data": {
      "text/plain": [
       "'56088'"
      ]
     },
     "execution_count": 73,
     "metadata": {},
     "output_type": "execute_result"
    }
   ],
   "source": [
    "a.multiply('123','456')"
   ]
  },
  {
   "cell_type": "code",
   "execution_count": 71,
   "metadata": {},
   "outputs": [],
   "source": [
    "class Solution:\n",
    "    def multiply(self, num1, num2):\n",
    "        num1_len = len(num1)\n",
    "        num2_len = len(num2)\n",
    "        ans = 1\n",
    "        res = 0\n",
    "        for i in range(num2_len,0,-1):\n",
    "            res += int(num1) * int(num2[i-1]) * ans\n",
    "            ans *= 10\n",
    "        return str(res)"
   ]
  },
  {
   "cell_type": "code",
   "execution_count": 67,
   "metadata": {},
   "outputs": [
    {
     "name": "stdout",
     "output_type": "stream",
     "text": [
      "3\n",
      "2\n",
      "1\n"
     ]
    }
   ],
   "source": [
    "for i in range(3,0,-1):\n",
    "    print(i)"
   ]
  },
  {
   "cell_type": "code",
   "execution_count": null,
   "metadata": {
    "collapsed": true
   },
   "outputs": [],
   "source": []
  }
 ],
 "metadata": {
  "kernelspec": {
   "display_name": "Python 3",
   "language": "python",
   "name": "python3"
  },
  "language_info": {
   "codemirror_mode": {
    "name": "ipython",
    "version": 3
   },
   "file_extension": ".py",
   "mimetype": "text/x-python",
   "name": "python",
   "nbconvert_exporter": "python",
   "pygments_lexer": "ipython3",
   "version": "3.6.3"
  }
 },
 "nbformat": 4,
 "nbformat_minor": 2
}
