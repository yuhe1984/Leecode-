{
 "cells": [
  {
   "cell_type": "code",
   "execution_count": 66,
   "metadata": {},
   "outputs": [
    {
     "name": "stdout",
     "output_type": "stream",
     "text": [
      "bdac dbca\n"
     ]
    }
   ],
   "source": [
    "s = input().split(' ')\n",
    "inorder = list(s[0])\n",
    "pos = list(s[1])\n",
    "class TreeNode():\n",
    "    def __init__(self, val):\n",
    "        self.val = val\n",
    "        self.left = None\n",
    "        self.right = None\n",
    "\n",
    "class Solution():\n",
    "    def buildTree(self, inordr, pos):\n",
    "        def helper(in_left, in_right):\n",
    "            if in_left > in_right:\n",
    "                return None\n",
    "            val = pos.pop()\n",
    "            root = TreeNode(val)\n",
    "            index = idx_map[val]\n",
    "            root.right = helper(index+1, in_right)\n",
    "            root.left = helper(in_left, index-1)\n",
    "            return root\n",
    "            \n",
    "        idx_map = {val:idx for idx, val in enumerate(inorder)}\n",
    "        return helper(0, len(inorder)-1)"
   ]
  },
  {
   "cell_type": "code",
   "execution_count": 67,
   "metadata": {},
   "outputs": [
    {
     "data": {
      "text/plain": [
       "['b', 'd', 'a', 'c']"
      ]
     },
     "execution_count": 67,
     "metadata": {},
     "output_type": "execute_result"
    }
   ],
   "source": [
    "inorder = list(inorder)\n",
    "inorder"
   ]
  },
  {
   "cell_type": "code",
   "execution_count": 68,
   "metadata": {
    "collapsed": true
   },
   "outputs": [],
   "source": [
    "a = Solution()"
   ]
  },
  {
   "cell_type": "code",
   "execution_count": 69,
   "metadata": {},
   "outputs": [],
   "source": [
    "root = a.buildTree(inorder, pos)"
   ]
  },
  {
   "cell_type": "code",
   "execution_count": 70,
   "metadata": {},
   "outputs": [],
   "source": [
    "ans = []\n",
    "def dfs(root):\n",
    "    ans.append(root.val)\n",
    "    if root.left:\n",
    "        dfs(root.left)\n",
    "    if root.right:\n",
    "        dfs(root.right)"
   ]
  },
  {
   "cell_type": "code",
   "execution_count": 71,
   "metadata": {},
   "outputs": [
    {
     "name": "stdout",
     "output_type": "stream",
     "text": [
      "abdc\n"
     ]
    }
   ],
   "source": [
    "dfs(root)\n",
    "print(''.join(ans))"
   ]
  },
  {
   "cell_type": "code",
   "execution_count": 87,
   "metadata": {},
   "outputs": [
    {
     "name": "stdout",
     "output_type": "stream",
     "text": [
      "1432319\n",
      "3\n",
      "1219\n"
     ]
    }
   ],
   "source": [
    "N = input()\n",
    "x = int(input())\n",
    "N = list(N)\n",
    "for i in range(x):\n",
    "    for j in range(1, len(N)):\n",
    "        if N[0] > N[1]:\n",
    "            N.remove(N[0])\n",
    "            break\n",
    "        if N[j] > N[j-1] and N[j+1] < N[j]:\n",
    "            N.remove(N[j])\n",
    "            break\n",
    "        elif N[j+1] < N[j] and max(N) == N[-1]:\n",
    "            N.remove(N[-1])\n",
    "            break\n",
    "\n",
    "\n",
    "\n",
    "\n",
    "print(int(''.join(N)))"
   ]
  },
  {
   "cell_type": "code",
   "execution_count": null,
   "metadata": {
    "collapsed": true
   },
   "outputs": [],
   "source": []
  }
 ],
 "metadata": {
  "kernelspec": {
   "display_name": "Python 3",
   "language": "python",
   "name": "python3"
  },
  "language_info": {
   "codemirror_mode": {
    "name": "ipython",
    "version": 3
   },
   "file_extension": ".py",
   "mimetype": "text/x-python",
   "name": "python",
   "nbconvert_exporter": "python",
   "pygments_lexer": "ipython3",
   "version": "3.6.3"
  }
 },
 "nbformat": 4,
 "nbformat_minor": 2
}
