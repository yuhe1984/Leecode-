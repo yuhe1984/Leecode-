{
 "cells": [
  {
   "cell_type": "markdown",
   "metadata": {},
   "source": [
    "# 递归"
   ]
  },
  {
   "cell_type": "code",
   "execution_count": 1,
   "metadata": {
    "collapsed": true
   },
   "outputs": [],
   "source": [
    "class Solution:\n",
    "    def lowestCommonAncestor(self, root, p, q):\n",
    "        \"\"\"\n",
    "        :type root: TreeNode\n",
    "        :type p: TreeNode\n",
    "        :type q: TreeNode\n",
    "        :rtype: TreeNode\n",
    "        \"\"\"\n",
    "        # Value of current node or parent node.\n",
    "        parent_val = root.val\n",
    "\n",
    "        # Value of p\n",
    "        p_val = p.val\n",
    "\n",
    "        # Value of q\n",
    "        q_val = q.val\n",
    "\n",
    "        # If both p and q are greater than parent\n",
    "        if p_val > parent_val and q_val > parent_val:    \n",
    "            return self.lowestCommonAncestor(root.right, p, q)\n",
    "        # If both p and q are lesser than parent\n",
    "        elif p_val < parent_val and q_val < parent_val:    \n",
    "            return self.lowestCommonAncestor(root.left, p, q)\n",
    "        # We have found the split point, i.e. the LCA node.\n",
    "        else:\n",
    "            return root"
   ]
  },
  {
   "cell_type": "code",
   "execution_count": 2,
   "metadata": {
    "collapsed": true
   },
   "outputs": [],
   "source": [
    "class Solution:\n",
    "    def lowestCommonAncestor(self, root, p, q):\n",
    "        \"\"\"\n",
    "        :type root: TreeNode\n",
    "        :type p: TreeNode\n",
    "        :type q: TreeNode\n",
    "        :rtype: TreeNode\n",
    "        \"\"\"\n",
    "        parent_val = root.val\n",
    "        p_val = p.val\n",
    "        q_val = q.val\n",
    "        if p_val > parent_val and q_val > parent_val:\n",
    "            return self.lowestCommonAncestor(root.right, p, q)\n",
    "        elif p_val < parent_val and q_val < parent_val:\n",
    "            return self.lowestCommonAncestor(root.left, p, q)\n",
    "        else:\n",
    "            return root"
   ]
  },
  {
   "cell_type": "code",
   "execution_count": 6,
   "metadata": {
    "collapsed": true
   },
   "outputs": [],
   "source": [
    "# Definition for a binary tree node.\n",
    "# class TreeNode:\n",
    "#     def __init__(self, x):\n",
    "#         self.val = x\n",
    "#         self.left = None\n",
    "#         self.right = None\n",
    "\n",
    "class Solution:\n",
    "    def lowestCommonAncestor(self, root: 'TreeNode', p: 'TreeNode', q: 'TreeNode') -> 'TreeNode':\n",
    "        if root in (None, p, q):\n",
    "            return root\n",
    "        L = self.lowestCommonAncestor(root.left,p,q)\n",
    "        R = self.lowestCommonAncestor(root.right,p,q)\n",
    "        return R if None == L else L if None == R else rootA"
   ]
  },
  {
   "cell_type": "markdown",
   "metadata": {},
   "source": [
    "# 迭代"
   ]
  },
  {
   "cell_type": "code",
   "execution_count": 3,
   "metadata": {
    "collapsed": true
   },
   "outputs": [],
   "source": [
    "class Solution:\n",
    "    def lowestCommonAncestor(self, root, p, q):\n",
    "        \"\"\"\n",
    "        :type root: TreeNode\n",
    "        :type p: TreeNode\n",
    "        :type q: TreeNode\n",
    "        :rtype: TreeNode\n",
    "        \"\"\"\n",
    "\n",
    "        # Value of p\n",
    "        p_val = p.val\n",
    "\n",
    "        # Value of q\n",
    "        q_val = q.val\n",
    "\n",
    "        # Start from the root node of the tree\n",
    "        node = root\n",
    "\n",
    "        # Traverse the tree\n",
    "        while node:\n",
    "\n",
    "            # Value of current node or parent node.\n",
    "            parent_val = node.val\n",
    "\n",
    "            if p_val > parent_val and q_val > parent_val:    \n",
    "                # If both p and q are greater than parent\n",
    "                node = node.right\n",
    "            elif p_val < parent_val and q_val < parent_val:\n",
    "                # If both p and q are lesser than parent\n",
    "                node = node.left\n",
    "            else:\n",
    "                # We have found the split point, i.e. the LCA node.\n",
    "                return node"
   ]
  },
  {
   "cell_type": "code",
   "execution_count": 4,
   "metadata": {
    "collapsed": true
   },
   "outputs": [],
   "source": [
    "class Solution:\n",
    "    def lowestCommonAncestor(self, root, p, q):\n",
    "        \"\"\"\n",
    "        :type root: TreeNode\n",
    "        :type p: TreeNode\n",
    "        :type q: TreeNode\n",
    "        :rtype: TreeNode\n",
    "        \"\"\"\n",
    "        p_val = p.val\n",
    "        q_val = q.val\n",
    "        node = root\n",
    "        while node:\n",
    "            parent_val = node.val\n",
    "            if p_val > parent_val and q_val > parent_val:\n",
    "                node = node.right\n",
    "            elif p_val < parent_val and q_val < parent_val:\n",
    "                node = node.left\n",
    "            else:\n",
    "                return root"
   ]
  },
  {
   "cell_type": "code",
   "execution_count": null,
   "metadata": {
    "collapsed": true
   },
   "outputs": [],
   "source": [
    "# Definition for a binary tree node.\n",
    "# class TreeNode:\n",
    "#     def __init__(self, x):\n",
    "#         self.val = x\n",
    "#         self.left = None\n",
    "#         self.right = None\n",
    "\n",
    "class Solution:\n",
    "    def lowestCommonAncestor(self, root: 'TreeNode', p: 'TreeNode', q: 'TreeNode') -> 'TreeNode':\n",
    "        if root in (None, p, q):\n",
    "            return root\n",
    "        L = self.lowestCommonAncestor(root.left,p,q)\n",
    "        R = self.lowestCommonAncestor(root.right,p,q)\n",
    "        return R if None == L else L if None == R else rootA"
   ]
  },
  {
   "cell_type": "code",
   "execution_count": null,
   "metadata": {
    "collapsed": true
   },
   "outputs": [],
   "source": [
    "def generateList(l):\n",
    "    prenode = ListNode(0)\n",
    "    lastnode = prenode\n",
    "    for val in l:\n",
    "        lastnode.next = ListNode(val)\n",
    "        lastnode = lastnode.next\n",
    "    return prenode.next\n",
    "def printList(l):\n",
    "    while l:\n",
    "        print(\"%d, \" %(l.val), end = '')\n",
    "        l = l.next\n",
    "    print('')"
   ]
  }
 ],
 "metadata": {
  "kernelspec": {
   "display_name": "Python 3",
   "language": "python",
   "name": "python3"
  },
  "language_info": {
   "codemirror_mode": {
    "name": "ipython",
    "version": 3
   },
   "file_extension": ".py",
   "mimetype": "text/x-python",
   "name": "python",
   "nbconvert_exporter": "python",
   "pygments_lexer": "ipython3",
   "version": "3.6.3"
  }
 },
 "nbformat": 4,
 "nbformat_minor": 2
}
