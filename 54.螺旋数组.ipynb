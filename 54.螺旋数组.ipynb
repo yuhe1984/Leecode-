{
 "cells": [
  {
   "cell_type": "markdown",
   "metadata": {},
   "source": [
    "# 模拟"
   ]
  },
  {
   "cell_type": "code",
   "execution_count": 1,
   "metadata": {
    "collapsed": true
   },
   "outputs": [],
   "source": [
    "class Solution(object):\n",
    "    def spiralOrder(self, matrix):\n",
    "        if not matrix: return []\n",
    "        R, C = len(matrix), len(matrix[0])\n",
    "        seen = [[False] * C for _ in matrix]\n",
    "        ans = []\n",
    "        dr = [0, 1, 0, -1]\n",
    "        dc = [1, 0, -1, 0]\n",
    "        r = c = di = 0\n",
    "        for _ in range(R * C):\n",
    "            ans.append(matrix[r][c])\n",
    "            seen[r][c] = True\n",
    "            cr, cc = r + dr[di], c + dc[di]\n",
    "            if 0 <= cr < R and 0 <= cc < C and not seen[cr][cc]:\n",
    "                r, c = cr, cc\n",
    "            else:\n",
    "                di = (di + 1) % 4\n",
    "                r, c = r + dr[di], c + dc[di]\n",
    "        return ans"
   ]
  },
  {
   "cell_type": "code",
   "execution_count": 3,
   "metadata": {
    "collapsed": true
   },
   "outputs": [],
   "source": [
    "class Solution(object):\n",
    "    def spiralOrder(self, matrix):\n",
    "        if not matrix: return []\n",
    "        R, C = len(matrix), len(matrix[0])\n",
    "        seen = [[False] * C for _ in matrix]\n",
    "        ans = []\n",
    "        dr = [0, 1, 0, -1]\n",
    "        dc = [1, 0, -1, 0]\n",
    "        r = c = di = 0\n",
    "        for _ in range(R * C):\n",
    "            ans.append(matrix[r][c])\n",
    "            seen[r][c] = True\n",
    "            cr, cc = r + dr[di], c + dc[di]\n",
    "            if 0 <= cr < R and 0 <= cc < C and not seen[cr][cc]:\n",
    "                r, c = cr, cc\n",
    "            else:\n",
    "                di = (di + 1) % 4\n",
    "                r, c = r + dr[di], c + dc[di]\n",
    "        return ans"
   ]
  },
  {
   "cell_type": "markdown",
   "metadata": {},
   "source": [
    "# 按层模拟"
   ]
  },
  {
   "cell_type": "code",
   "execution_count": 2,
   "metadata": {
    "collapsed": true
   },
   "outputs": [],
   "source": [
    "class Solution(object):\n",
    "    def spiralOrder(self, matrix):\n",
    "        def spiral_coords(r1, c1, r2, c2):\n",
    "            for c in range(c1, c2 + 1):\n",
    "                yield r1, c\n",
    "            for r in range(r1 + 1, r2 + 1):\n",
    "                yield r, c2\n",
    "            if r1 < r2 and c1 < c2:\n",
    "                for c in range(c2 - 1, c1, -1):\n",
    "                    yield r2, c\n",
    "                for r in range(r2, r1, -1):\n",
    "                    yield r, c1\n",
    "\n",
    "        if not matrix: return []\n",
    "        ans = []\n",
    "        r1, r2 = 0, len(matrix) - 1\n",
    "        c1, c2 = 0, len(matrix[0]) - 1\n",
    "        while r1 <= r2 and c1 <= c2:\n",
    "            for r, c in spiral_coords(r1, c1, r2, c2):\n",
    "                ans.append(matrix[r][c])\n",
    "            r1 += 1; r2 -= 1\n",
    "            c1 += 1; c2 -= 1\n",
    "        return ans"
   ]
  },
  {
   "cell_type": "code",
   "execution_count": null,
   "metadata": {
    "collapsed": true
   },
   "outputs": [],
   "source": []
  }
 ],
 "metadata": {
  "kernelspec": {
   "display_name": "Python 3",
   "language": "python",
   "name": "python3"
  },
  "language_info": {
   "codemirror_mode": {
    "name": "ipython",
    "version": 3
   },
   "file_extension": ".py",
   "mimetype": "text/x-python",
   "name": "python",
   "nbconvert_exporter": "python",
   "pygments_lexer": "ipython3",
   "version": "3.6.3"
  }
 },
 "nbformat": 4,
 "nbformat_minor": 2
}
