{
 "cells": [
  {
   "cell_type": "code",
   "execution_count": 1,
   "metadata": {
    "collapsed": true
   },
   "outputs": [],
   "source": [
    "class Solution(object):\n",
    "    def search(self, nums, target):\n",
    "        \"\"\"\n",
    "        :type nums: List[int]\n",
    "        :type target: int\n",
    "        :rtype: int\n",
    "        \"\"\"\n",
    "        def search_erfen(nums,left,right,target):\n",
    "            if(left > right):\n",
    "                return -1\n",
    "            elif(left == right):\n",
    "                if(nums[left] == target):\n",
    "                    return left\n",
    "                else:\n",
    "                    return -1\n",
    "            elif(left < right):\n",
    "                if (target < nums[left] or nums[right] < target):\n",
    "                    return -1\n",
    "                while(left < right):\n",
    "                    mid = int((left + right)/2)\n",
    "                    if(nums[mid] < target):\n",
    "                        left = mid\n",
    "                        if(right == left + 1):\n",
    "                            if(nums[right] == target):\n",
    "                                return right\n",
    "                            else:\n",
    "                                return -1\n",
    "                    elif(nums[mid] > target):\n",
    "                        right = mid\n",
    "                    elif(nums[mid] == target):\n",
    "                        return mid\n",
    "\n",
    "        left = 0\n",
    "        right = len(nums)-1\n",
    "        if(left > right):\n",
    "            return -1\n",
    "        elif(left == right):\n",
    "            if(nums[left] == target):\n",
    "                return left\n",
    "            else:\n",
    "                return -1\n",
    "        elif(left < right):\n",
    "            while(left < right):\n",
    "                if(right == left+1):\n",
    "                    if(nums[left] == target):\n",
    "                        return left\n",
    "                    elif(nums[right] == target):\n",
    "                        return right\n",
    "                    else:\n",
    "                        return -1\n",
    "\n",
    "                mid = int((left + right)/2)\n",
    "                if(nums[mid] < nums[right]):\n",
    "                    ans = search_erfen(nums,mid,right,target)\n",
    "                    if (ans != -1):\n",
    "                        return ans\n",
    "                    right = mid\n",
    "                elif(nums[left] < nums[mid]):                   \n",
    "                    ans = search_erfen(nums,left,mid,target)\n",
    "                    if (ans != -1):\n",
    "                        return ans\n",
    "                    left = mid"
   ]
  },
  {
   "cell_type": "code",
   "execution_count": 2,
   "metadata": {
    "collapsed": true
   },
   "outputs": [],
   "source": [
    "class Solution(object):\n",
    "    def search(self, nums, target):\n",
    "        \"\"\"\n",
    "        :type nums: List[int]\n",
    "        :type target: int\n",
    "        :rtype: int\n",
    "        \"\"\"\n",
    "        def search_erfen(nums,left,right,target):\n",
    "            if (left > right):\n",
    "                return -1\n",
    "            elif(left == right):\n",
    "                if (nums[left] == target):return left\n",
    "                else: return -1\n",
    "            elif(left < right):\n",
    "                if (target < nums[left] or nums[right] < target): return -1\n",
    "                while(left < right):\n",
    "                    mid = int((left + right)/2)\n",
    "                    if (nums[mid] < target):\n",
    "                        left = mid\n",
    "                        if (right == left + 1):\n",
    "                            if (nums[right] == target):\n",
    "                                return right\n",
    "                            else:\n",
    "                                return -1\n",
    "                    elif(nums[mid] > target):\n",
    "                        right = mid\n",
    "                    elif(nums[mid] == target):\n",
    "                        return mid\n",
    "            \n",
    "        left = 0\n",
    "        right = len(nums)-1\n",
    "        if (left > right):\n",
    "            return -1\n",
    "        elif(left == right):\n",
    "            if (nums[left] == target):return left\n",
    "            else: return -1\n",
    "        elif(left < right):\n",
    "            while(left < right):\n",
    "                if(right == left+1):\n",
    "                    if(nums[left] == target):\n",
    "                        return left\n",
    "                    elif(nums[right] == target):\n",
    "                        return right\n",
    "                    else:\n",
    "                        return -1\n",
    "                    \n",
    "                mid = int((left + right)/2)\n",
    "                if (nums[mid] < nums[right]):\n",
    "                    ans = search_erfen(nums,mid,right,target)\n",
    "                    if (ans != -1):\n",
    "                        return ans\n",
    "                    right = mid\n",
    "                elif (nums[left] < nums[mid]):\n",
    "                    ans = search_erfen(nums,left,mid,target)\n",
    "                    if (ans != -1):\n",
    "                        return ans\n",
    "                    left= mid"
   ]
  },
  {
   "cell_type": "code",
   "execution_count": 3,
   "metadata": {
    "collapsed": true
   },
   "outputs": [],
   "source": [
    "a = Solution"
   ]
  },
  {
   "cell_type": "code",
   "execution_count": 4,
   "metadata": {},
   "outputs": [
    {
     "data": {
      "text/plain": [
       "6"
      ]
     },
     "execution_count": 4,
     "metadata": {},
     "output_type": "execute_result"
    }
   ],
   "source": [
    "a.search([],[4,5,6,7,8,1,2,3],2)"
   ]
  },
  {
   "cell_type": "code",
   "execution_count": 8,
   "metadata": {
    "collapsed": true
   },
   "outputs": [],
   "source": [
    "class Solution(object):\n",
    "    def search(self, nums, target):\n",
    "        \"\"\"\n",
    "        :type nums: List[int]\n",
    "        :type target: int\n",
    "        :rtype: int\n",
    "        \"\"\"\n",
    "        if len(nums) == 0:return -1\n",
    "        else:\n",
    "            for i in range(len(nums)):\n",
    "                if (nums[i] == target): return i\n",
    "                if i == len(nums)-1 and nums[i] != target: return -1"
   ]
  },
  {
   "cell_type": "code",
   "execution_count": 9,
   "metadata": {
    "collapsed": true
   },
   "outputs": [],
   "source": [
    "a = Solution"
   ]
  },
  {
   "cell_type": "code",
   "execution_count": 10,
   "metadata": {},
   "outputs": [
    {
     "data": {
      "text/plain": [
       "-1"
      ]
     },
     "execution_count": 10,
     "metadata": {},
     "output_type": "execute_result"
    }
   ],
   "source": [
    "a.search([],[],5)"
   ]
  },
  {
   "cell_type": "code",
   "execution_count": null,
   "metadata": {
    "collapsed": true
   },
   "outputs": [],
   "source": []
  }
 ],
 "metadata": {
  "kernelspec": {
   "display_name": "Python 3",
   "language": "python",
   "name": "python3"
  },
  "language_info": {
   "codemirror_mode": {
    "name": "ipython",
    "version": 3
   },
   "file_extension": ".py",
   "mimetype": "text/x-python",
   "name": "python",
   "nbconvert_exporter": "python",
   "pygments_lexer": "ipython3",
   "version": "3.6.3"
  }
 },
 "nbformat": 4,
 "nbformat_minor": 2
}
