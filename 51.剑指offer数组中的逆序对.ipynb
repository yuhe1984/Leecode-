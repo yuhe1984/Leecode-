{
 "cells": [
  {
   "cell_type": "markdown",
   "metadata": {},
   "source": [
    "# 暴力法(超时)"
   ]
  },
  {
   "cell_type": "code",
   "execution_count": 8,
   "metadata": {
    "collapsed": true
   },
   "outputs": [],
   "source": [
    "class Solution:\n",
    "    def reversePairs(self, nums):\n",
    "        res = 0\n",
    "        for i in range(len(nums)-1):\n",
    "            for j in range(i+1, len(nums)):\n",
    "                if nums[i] > nums[j]:\n",
    "                    res += 1\n",
    "        return res"
   ]
  },
  {
   "cell_type": "code",
   "execution_count": 9,
   "metadata": {
    "collapsed": true
   },
   "outputs": [],
   "source": [
    "a = Solution()"
   ]
  },
  {
   "cell_type": "code",
   "execution_count": 12,
   "metadata": {},
   "outputs": [
    {
     "data": {
      "text/plain": [
       "5"
      ]
     },
     "execution_count": 12,
     "metadata": {},
     "output_type": "execute_result"
    }
   ],
   "source": [
    "a.reversePairs([7,5,6,4])"
   ]
  },
  {
   "cell_type": "code",
   "execution_count": 13,
   "metadata": {
    "collapsed": true
   },
   "outputs": [],
   "source": [
    "# 后有序数组中元素出列的时候，计算逆序个数\n",
    "\n",
    "from typing import List\n",
    "\n",
    "\n",
    "class Solution:\n",
    "\n",
    "    def reversePairs(self, nums: List[int]) -> int:\n",
    "        size = len(nums)\n",
    "        if size < 2:\n",
    "            return 0\n",
    "\n",
    "        # 用于归并的辅助数组\n",
    "        temp = [0 for _ in range(size)]\n",
    "        return self.count_reverse_pairs(nums, 0, size - 1, temp)\n",
    "\n",
    "    def count_reverse_pairs(self, nums, left, right, temp):\n",
    "        # 在数组 nums 的区间 [left, right] 统计逆序对\n",
    "        if left == right:\n",
    "            return 0\n",
    "        mid = (left + right) >> 1\n",
    "        left_pairs = self.count_reverse_pairs(nums, left, mid, temp)\n",
    "        right_pairs = self.count_reverse_pairs(nums, mid + 1, right, temp)\n",
    "\n",
    "        reverse_pairs = left_pairs + right_pairs\n",
    "        # 代码走到这里的时候，[left, mid] 和 [mid + 1, right] 已经完成了排序并且计算好逆序对\n",
    "\n",
    "        if nums[mid] <= nums[mid + 1]:\n",
    "            # 此时不用计算横跨两个区间的逆序对，直接返回 reverse_pairs\n",
    "            return reverse_pairs\n",
    "\n",
    "        reverse_cross_pairs = self.merge_and_count(nums, left, mid, right, temp)\n",
    "        return reverse_pairs + reverse_cross_pairs\n",
    "\n",
    "    def merge_and_count(self, nums, left, mid, right, temp):\n",
    "        \"\"\"\n",
    "        [left, mid] 有序，[mid + 1, right] 有序\n",
    "\n",
    "        前：[2, 3, 5, 8]，后：[4, 6, 7, 12]\n",
    "        只在后面数组元素出列的时候，数一数前面这个数组还剩下多少个数字，\n",
    "        由于\"前\"数组和\"后\"数组都有序，\n",
    "        此时\"前\"数组剩下的元素个数 mid - i + 1 就是与\"后\"数组元素出列的这个元素构成的逆序对个数\n",
    "\n",
    "        \"\"\"\n",
    "        for i in range(left, right + 1):\n",
    "            temp[i] = nums[i]\n",
    "\n",
    "        i = left\n",
    "        j = mid + 1\n",
    "        res = 0\n",
    "        for k in range(left, right + 1):\n",
    "            if i > mid:\n",
    "                nums[k] = temp[j]\n",
    "                j += 1\n",
    "            elif j > right:\n",
    "                nums[k] = temp[i]\n",
    "                i += 1\n",
    "            elif temp[i] <= temp[j]:\n",
    "                # 此时前数组元素出列，不统计逆序对\n",
    "                nums[k] = temp[i]\n",
    "                i += 1\n",
    "            else:\n",
    "                # assert temp[i] > temp[j]\n",
    "                # 此时后数组元素出列，统计逆序对，快就快在这里，一次可以统计出一个区间的个数的逆序对\n",
    "                nums[k] = temp[j]\n",
    "                j += 1\n",
    "                # 例：[7, 8, 9][4, 6, 9]，4 与 7 以及 7 后面所有的数都构成逆序对\n",
    "                res += (mid - i + 1)\n",
    "        return res"
   ]
  },
  {
   "cell_type": "code",
   "execution_count": 14,
   "metadata": {
    "collapsed": true
   },
   "outputs": [],
   "source": [
    "a = Solution()"
   ]
  },
  {
   "cell_type": "code",
   "execution_count": 15,
   "metadata": {},
   "outputs": [
    {
     "data": {
      "text/plain": [
       "5"
      ]
     },
     "execution_count": 15,
     "metadata": {},
     "output_type": "execute_result"
    }
   ],
   "source": [
    "a.reversePairs([7,5,6,4])"
   ]
  },
  {
   "cell_type": "code",
   "execution_count": 16,
   "metadata": {
    "collapsed": true
   },
   "outputs": [],
   "source": [
    "class Solution:\n",
    "    def reversePairs(self, nums: List[int]) -> int:\n",
    "        self.cnt = 0\n",
    "        def merge(nums, start, mid, end, temp):\n",
    "            i, j = start, mid + 1\n",
    "            while i <= mid and j <= end:\n",
    "                if nums[i] <= nums[j]:\n",
    "                    temp.append(nums[i])\n",
    "                    i += 1\n",
    "                else:\n",
    "                    self.cnt += mid - i + 1\n",
    "                    temp.append(nums[j])\n",
    "                    j += 1\n",
    "            while i <= mid:\n",
    "                temp.append(nums[i])\n",
    "                i += 1\n",
    "            while j <= end:\n",
    "                temp.append(nums[j])\n",
    "                j += 1\n",
    "            \n",
    "            for i in range(len(temp)):\n",
    "                nums[start + i] = temp[i]\n",
    "            temp.clear()\n",
    "                    \n",
    "\n",
    "        def mergeSort(nums, start, end, temp):\n",
    "            if start >= end: return\n",
    "            mid = (start + end) >> 1\n",
    "            mergeSort(nums, start, mid, temp)\n",
    "            mergeSort(nums, mid + 1, end, temp)\n",
    "            merge(nums, start, mid,  end, temp)\n",
    "        mergeSort(nums, 0, len(nums) - 1, [])\n",
    "        return self.cnt"
   ]
  },
  {
   "cell_type": "code",
   "execution_count": 17,
   "metadata": {
    "collapsed": true
   },
   "outputs": [],
   "source": [
    "a = Solution()"
   ]
  },
  {
   "cell_type": "code",
   "execution_count": 18,
   "metadata": {},
   "outputs": [
    {
     "data": {
      "text/plain": [
       "5"
      ]
     },
     "execution_count": 18,
     "metadata": {},
     "output_type": "execute_result"
    }
   ],
   "source": [
    "a.reversePairs([7,5,6,4])"
   ]
  },
  {
   "cell_type": "code",
   "execution_count": null,
   "metadata": {
    "collapsed": true
   },
   "outputs": [],
   "source": [
    "class Solution(object):\n",
    "    def reversePairs(self, nums):\n",
    "        \"\"\"\n",
    "        :type nums: List[int]\n",
    "        :rtype: int\n",
    "        \"\"\"\n",
    "        result = [0]\n",
    "        def Merge_sort(s):\n",
    "            n = len(s)\n",
    "            if n < 2:\n",
    "                return\n",
    "            mid = n // 2\n",
    "            s1 = s[0:mid]\n",
    "            s2 = s[mid:n]\n",
    "            Merge_sort(s1)\n",
    "            Merge_sort(s2)\n",
    "            Merge(s1,s2,s)\n",
    "\n",
    "        def Merge(s1,s2,s):\n",
    "            len_s1 = len(s1) - 1\n",
    "            len_s2 = len(s2) - 1\n",
    "            temp = len(s) - 1\n",
    "            \n",
    "            while len_s1 >=0 and len_s2 >= 0:\n",
    "                if s1[len_s1] > s2[len_s2]:\n",
    "                    s[temp] = s1[len_s1]\n",
    "                    result[0] += len_s2 + 1\n",
    "                    len_s1 -= 1\n",
    "                    temp -= 1\n",
    "                else:\n",
    "                    s[temp] = s2[len_s2]\n",
    "                    len_s2 -= 1\n",
    "                    temp -= 1\n",
    "                    \n",
    "            while len_s1 >= 0:\n",
    "                s[temp] = s1[len_s1]\n",
    "                len_s1 -= 1\n",
    "                temp -= 1\n",
    "            while len_s2 >= 0:\n",
    "                s[temp] = s2[len_s2]\n",
    "                temp -= 1\n",
    "                len_s2 -= 1\n",
    "\n",
    "        Merge_sort(nums)\n",
    "        return result[0]"
   ]
  },
  {
   "cell_type": "code",
   "execution_count": null,
   "metadata": {
    "collapsed": true
   },
   "outputs": [],
   "source": []
  }
 ],
 "metadata": {
  "kernelspec": {
   "display_name": "Python 3",
   "language": "python",
   "name": "python3"
  },
  "language_info": {
   "codemirror_mode": {
    "name": "ipython",
    "version": 3
   },
   "file_extension": ".py",
   "mimetype": "text/x-python",
   "name": "python",
   "nbconvert_exporter": "python",
   "pygments_lexer": "ipython3",
   "version": "3.6.3"
  }
 },
 "nbformat": 4,
 "nbformat_minor": 2
}
