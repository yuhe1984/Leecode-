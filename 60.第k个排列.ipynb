{
 "cells": [
  {
   "cell_type": "markdown",
   "metadata": {},
   "source": [
    "# 超时"
   ]
  },
  {
   "cell_type": "code",
   "execution_count": 1,
   "metadata": {
    "collapsed": true
   },
   "outputs": [],
   "source": [
    "class Solution:\n",
    "    def getPermutation(self, n, k):\n",
    "        def backtrack(first = 0):\n",
    "            # if all integers are used up\n",
    "            if first == n:  \n",
    "                output.append(nums[:])\n",
    "            for i in range(first, n):\n",
    "                # place i-th integer first \n",
    "                # in the current permutation\n",
    "                nums[first], nums[i] = nums[i], nums[first]\n",
    "                # use next integers to complete the permutations\n",
    "                backtrack(first + 1)\n",
    "                # backtrack\n",
    "                nums[first], nums[i] = nums[i], nums[first]\n",
    "        \n",
    "        nums = list(range(1, n+1))\n",
    "        output = []\n",
    "        backtrack()\n",
    "        output = sorted(output)\n",
    "        return ''.join(list(map(str, output[k-1])))"
   ]
  },
  {
   "cell_type": "markdown",
   "metadata": {},
   "source": [
    "# 数学推断"
   ]
  },
  {
   "cell_type": "code",
   "execution_count": 2,
   "metadata": {
    "collapsed": true
   },
   "outputs": [],
   "source": [
    "import math\n",
    "class Solution:\n",
    "    def getPermutation(self, n, k):\n",
    "        def mul(n):\n",
    "            if n<=1:\n",
    "                return 1\n",
    "            else:\n",
    "                return n*mul(n-1)\n",
    "        \n",
    "        l=list(range(1,n+1))\n",
    "        res=[]\n",
    "        while l:\n",
    "            a=mul(len(l)-1)\n",
    "            tmp=math.ceil(k/a)-1\n",
    "            value=l[tmp]\n",
    "            res.append(value)\n",
    "            l.remove(value)\n",
    "            k=k-tmp*a\n",
    "        res=list(map(str,res+l))\n",
    "        return ''.join(res)"
   ]
  },
  {
   "cell_type": "code",
   "execution_count": null,
   "metadata": {
    "collapsed": true
   },
   "outputs": [],
   "source": [
    "import math\n",
    "class Solution:\n",
    "    def getPermutation(self, n, k):\n",
    "        l=list(range(1,n+1))\n",
    "        res=[]\n",
    "        while l:\n",
    "            a=math.factorial(len(l)-1)\n",
    "            tmp=math.ceil(k/a)-1\n",
    "            value=l[tmp]\n",
    "            res.append(value)\n",
    "            l.remove(value)\n",
    "            k=k-tmp*a\n",
    "        res=list(map(str,res+l))\n",
    "        return ''.join(res)"
   ]
  },
  {
   "cell_type": "code",
   "execution_count": 15,
   "metadata": {
    "collapsed": true
   },
   "outputs": [],
   "source": [
    "import math\n",
    "class Solution:\n",
    "    def getPermutation(self, n, k):\n",
    "        l = list(range(1, n + 1))\n",
    "        res = []\n",
    "        while l:\n",
    "            a = math.factorial(len(l) - 1)\n",
    "            tmp = math.ceil(k / a) - 1\n",
    "            value = l[tmp]\n",
    "            res.append(value)\n",
    "            l.remove(value)\n",
    "            k -= tmp * a\n",
    "        res = list(map(str, res + l))\n",
    "        return ''.join(res)"
   ]
  },
  {
   "cell_type": "code",
   "execution_count": 16,
   "metadata": {
    "collapsed": true
   },
   "outputs": [],
   "source": [
    "a = Solution()"
   ]
  },
  {
   "cell_type": "code",
   "execution_count": 17,
   "metadata": {},
   "outputs": [
    {
     "data": {
      "text/plain": [
       "'25341'"
      ]
     },
     "execution_count": 17,
     "metadata": {},
     "output_type": "execute_result"
    }
   ],
   "source": [
    "a.getPermutation(5, 46)"
   ]
  },
  {
   "cell_type": "code",
   "execution_count": null,
   "metadata": {
    "collapsed": true
   },
   "outputs": [],
   "source": []
  }
 ],
 "metadata": {
  "kernelspec": {
   "display_name": "Python 3",
   "language": "python",
   "name": "python3"
  },
  "language_info": {
   "codemirror_mode": {
    "name": "ipython",
    "version": 3
   },
   "file_extension": ".py",
   "mimetype": "text/x-python",
   "name": "python",
   "nbconvert_exporter": "python",
   "pygments_lexer": "ipython3",
   "version": "3.6.3"
  }
 },
 "nbformat": 4,
 "nbformat_minor": 2
}
