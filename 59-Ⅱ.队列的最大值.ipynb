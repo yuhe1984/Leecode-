{
 "cells": [
  {
   "cell_type": "code",
   "execution_count": 4,
   "metadata": {
    "collapsed": true
   },
   "outputs": [],
   "source": [
    "from collections import deque\n",
    "class MaxQueue:\n",
    "\n",
    "    def __init__(self):\n",
    "        self.que = deque()\n",
    "        self.sort_que = deque()\n",
    "\n",
    "\n",
    "    def max_value(self):\n",
    "        return self.sort_que[0] if self.sort_que else -1\n",
    "\n",
    "\n",
    "    def push_back(self, value):\n",
    "        self.que.append(value)\n",
    "        while self.sort_que and self.sort_que[-1] < value:\n",
    "            self.sort_que.pop()\n",
    "        self.sort_que.append(value)\n",
    "\n",
    "    def pop_front(self):\n",
    "        if not self.que: return -1\n",
    "        res = self.que.popleft()\n",
    "        if res == self.sort_que[0]:\n",
    "            self.sort_que.popleft()\n",
    "        return res\n",
    "\n",
    "\n",
    "# Your MaxQueue object will be instantiated and called as such:\n",
    "# obj = MaxQueue()\n",
    "# param_1 = obj.max_value()\n",
    "# obj.push_back(value)\n",
    "# param_3 = obj.pop_front()"
   ]
  },
  {
   "cell_type": "markdown",
   "metadata": {},
   "source": [
    "# 方法一"
   ]
  },
  {
   "cell_type": "code",
   "execution_count": 1,
   "metadata": {
    "collapsed": true
   },
   "outputs": [],
   "source": [
    "import queue\n",
    "class MaxQueue:\n",
    "\n",
    "    def __init__(self):\n",
    "        self.deque = queue.deque()\n",
    "\n",
    "    def max_value(self) -> int:\n",
    "        return max(self.deque) if self.deque else -1\n",
    "\n",
    "    def push_back(self, value: int) -> None:\n",
    "        self.deque.append(value)\n",
    "\n",
    "    def pop_front(self) -> int:\n",
    "        return self.deque.popleft() if self.deque else -1"
   ]
  },
  {
   "cell_type": "markdown",
   "metadata": {},
   "source": [
    "# 方法二"
   ]
  },
  {
   "cell_type": "code",
   "execution_count": 2,
   "metadata": {
    "collapsed": true
   },
   "outputs": [],
   "source": [
    "import queue\n",
    "class MaxQueue:\n",
    "\n",
    "    def __init__(self):\n",
    "        self.deque = queue.deque()\n",
    "        self.queue = queue.Queue()\n",
    "\n",
    "    def max_value(self) -> int:\n",
    "        return self.deque[0] if self.deque else -1\n",
    "\n",
    "\n",
    "    def push_back(self, value: int) -> None:\n",
    "        while self.deque and self.deque[-1] < value:\n",
    "            self.deque.pop()\n",
    "        self.deque.append(value)\n",
    "        self.queue.put(value)\n",
    "\n",
    "    def pop_front(self) -> int:\n",
    "        if not self.deque:\n",
    "            return -1\n",
    "        ans = self.queue.get()\n",
    "        if ans == self.deque[0]:\n",
    "            self.deque.popleft()\n",
    "        return ans"
   ]
  },
  {
   "cell_type": "code",
   "execution_count": 3,
   "metadata": {
    "collapsed": true
   },
   "outputs": [],
   "source": [
    "class MaxQueue(object):\n",
    "\n",
    "    def __init__(self):\n",
    "        from collections import deque\n",
    "        self.que = deque()\n",
    "        self.sort_que = deque()   \n",
    "\n",
    "    def max_value(self):\n",
    "        \"\"\"\n",
    "        :rtype: int\n",
    "        \"\"\"\n",
    "        return self.sort_que[0] if self.sort_que else -1   \n",
    "\n",
    "    def push_back(self, value):\n",
    "        \"\"\"\n",
    "        :type value: int\n",
    "        :rtype: None\n",
    "        \"\"\"\n",
    "        self.que.append(value)\n",
    "        while self.sort_que and self.sort_que[-1] < value:\n",
    "            self.sort_que.pop()\n",
    "        self.sort_que.append(value)\n",
    "        \n",
    "    def pop_front(self):\n",
    "        \"\"\"\n",
    "        :rtype: int\n",
    "        \"\"\"\n",
    "        if not self.que: return -1\n",
    "        res = self.que.popleft()\n",
    "        if res == self.sort_que[0]:\n",
    "            self.sort_que.popleft()\n",
    "        return res"
   ]
  },
  {
   "cell_type": "code",
   "execution_count": null,
   "metadata": {
    "collapsed": true
   },
   "outputs": [],
   "source": []
  }
 ],
 "metadata": {
  "kernelspec": {
   "display_name": "Python 3",
   "language": "python",
   "name": "python3"
  },
  "language_info": {
   "codemirror_mode": {
    "name": "ipython",
    "version": 3
   },
   "file_extension": ".py",
   "mimetype": "text/x-python",
   "name": "python",
   "nbconvert_exporter": "python",
   "pygments_lexer": "ipython3",
   "version": "3.6.3"
  }
 },
 "nbformat": 4,
 "nbformat_minor": 2
}
