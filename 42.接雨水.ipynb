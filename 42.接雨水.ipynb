{
 "cells": [
  {
   "cell_type": "markdown",
   "metadata": {},
   "source": [
    "# 按行求(超时)"
   ]
  },
  {
   "cell_type": "code",
   "execution_count": 1,
   "metadata": {
    "collapsed": true
   },
   "outputs": [],
   "source": [
    "class Solution:\n",
    "    def trap(self, height):\n",
    "        summ = 0\n",
    "        if not height: return 0\n",
    "        maxx = max(height)\n",
    "        for i in range(1,maxx+1,1):\n",
    "            isStart = False\n",
    "            temp_sum = 0\n",
    "            for j in range(len(height)):\n",
    "                if (isStart and height[j] < i):\n",
    "                    temp_sum += 1\n",
    "                if height[j] >= i:\n",
    "                    summ += temp_sum\n",
    "                    temp_sum = 0\n",
    "                    isStart = True\n",
    "        return summ"
   ]
  },
  {
   "cell_type": "code",
   "execution_count": 2,
   "metadata": {
    "collapsed": true
   },
   "outputs": [],
   "source": [
    "a = Solution()"
   ]
  },
  {
   "cell_type": "code",
   "execution_count": 3,
   "metadata": {},
   "outputs": [
    {
     "data": {
      "text/plain": [
       "6"
      ]
     },
     "execution_count": 3,
     "metadata": {},
     "output_type": "execute_result"
    }
   ],
   "source": [
    "a.trap([0,1,0,2,1,0,1,3,2,1,2,1])"
   ]
  },
  {
   "cell_type": "markdown",
   "metadata": {},
   "source": [
    "# 按列求"
   ]
  },
  {
   "cell_type": "code",
   "execution_count": 4,
   "metadata": {
    "collapsed": true
   },
   "outputs": [],
   "source": [
    "class Solution:\n",
    "    def trap(self, height):\n",
    "        summ = 0\n",
    "        if not height: return 0\n",
    "        for i in range(1,len(height)-1,1):\n",
    "            max_left = 0\n",
    "            for j in range(i-1,-1,-1):\n",
    "                if height[j] > max_left:\n",
    "                    max_left = height[j]\n",
    "            max_right = 0\n",
    "            for j in range(i+1, len(height)):\n",
    "                if height[j] > max_right:\n",
    "                    max_right = height[j]\n",
    "                    \n",
    "            minn = min(max_left, max_right)\n",
    "            if minn > height[i]:\n",
    "                summ += (minn - height[i])\n",
    "        return summ"
   ]
  },
  {
   "cell_type": "code",
   "execution_count": 5,
   "metadata": {
    "collapsed": true
   },
   "outputs": [],
   "source": [
    "class Solution:\n",
    "    def trap(self, height):\n",
    "        summ = 0\n",
    "        if not height: return 0\n",
    "        for i in range(1,len(height)-1,1):\n",
    "            max_left = max(height[:i])\n",
    "            max_right = max(height[i:])\n",
    "                    \n",
    "            minn = min(max_left, max_right)\n",
    "            if minn > height[i]:\n",
    "                summ += (minn - height[i])\n",
    "        return summ"
   ]
  },
  {
   "cell_type": "markdown",
   "metadata": {},
   "source": [
    "# 动态规划+双指针"
   ]
  },
  {
   "cell_type": "code",
   "execution_count": 12,
   "metadata": {
    "collapsed": true
   },
   "outputs": [],
   "source": [
    "class Solution:\n",
    "    def trap(self, height):\n",
    "        # 边界条件\n",
    "        if not height: return 0\n",
    "        n = len(height)\n",
    "        maxleft = [0] * n\n",
    "        maxright = [0] * n\n",
    "        ans = 0\n",
    "        # 初始化\n",
    "        maxleft[0] = height[0]\n",
    "        maxright[n-1] = height[n-1]\n",
    "        # 设置备忘录，分别存储左边和右边最高的柱子高度\n",
    "        for i in range(1,n):\n",
    "            maxleft[i] = max(height[i],maxleft[i-1])\n",
    "        for j in range(n-2,-1,-1):\n",
    "            maxright[j] = max(height[j],maxright[j+1])\n",
    "        # 一趟遍历，比较每个位置可以存储多少水\n",
    "        for i in range(n):\n",
    "            if min(maxleft[i],maxright[i]) > height[i]:\n",
    "                ans += min(maxleft[i],maxright[i]) - height[i]\n",
    "        return ans"
   ]
  },
  {
   "cell_type": "code",
   "execution_count": 6,
   "metadata": {
    "collapsed": true
   },
   "outputs": [],
   "source": [
    "class Solution:\n",
    "    def trap(self, height):\n",
    "        summ = 0\n",
    "        max_left = 0\n",
    "        max_right = 0\n",
    "        left = 1\n",
    "        right = len(height) - 2\n",
    "        for i in range(1,len(height)-1,1):\n",
    "            if height[left-1] < height[right+1]:\n",
    "                max_left = max(max_left, height[left-1])\n",
    "                minn = max_left\n",
    "                if minn > height[left]:\n",
    "                    summ += (minn - height[left])\n",
    "                left += 1\n",
    "            else:\n",
    "                max_right = max(max_right, height[right+1])\n",
    "                minn = max_right\n",
    "                if minn > height[right]:\n",
    "                    summ += (minn - height[right])\n",
    "                right -= 1\n",
    "        return summ"
   ]
  },
  {
   "cell_type": "code",
   "execution_count": 7,
   "metadata": {
    "collapsed": true
   },
   "outputs": [],
   "source": [
    "class Solution:\n",
    "    def trap(self, height):\n",
    "        # 边界条件\n",
    "        if not height: return 0\n",
    "        n = len(height)\n",
    "\n",
    "        left,right = 0, n - 1  # 分别位于输入数组的两端\n",
    "        maxleft,maxright = height[0],height[n - 1]\n",
    "        ans = 0\n",
    "\n",
    "        while left <= right:\n",
    "            maxleft = max(height[left],maxleft)\n",
    "            maxright = max(height[right],maxright)\n",
    "            if maxleft < maxright:\n",
    "                ans += maxleft - height[left]\n",
    "                left += 1\n",
    "            else:\n",
    "                ans += maxright - height[right]\n",
    "                right -= 1\n",
    "\n",
    "        return ans\n",
    "    "
   ]
  },
  {
   "cell_type": "markdown",
   "metadata": {},
   "source": [
    "# 栈"
   ]
  },
  {
   "cell_type": "code",
   "execution_count": 16,
   "metadata": {
    "collapsed": true
   },
   "outputs": [],
   "source": [
    "class Solution:\n",
    "    def trap(self, height):\n",
    "        # 边界条件\n",
    "        if not height: return 0\n",
    "        n = len(height)\n",
    "        \n",
    "        left, right = 0, n-1\n",
    "        maxleft,maxright = height[0], height[n-1]\n",
    "        ans = 0\n",
    "        \n",
    "        while left <= right:\n",
    "            maxleft = max(height[left], maxleft)\n",
    "            maxright = max(height[right],maxright)\n",
    "            if maxleft < maxright:\n",
    "                ans += maxleft - height[left]\n",
    "                left += 1\n",
    "            else:\n",
    "                ans += maxright - height[right]\n",
    "                right -= 1\n",
    "                \n",
    "        return ans"
   ]
  },
  {
   "cell_type": "code",
   "execution_count": null,
   "metadata": {
    "collapsed": true
   },
   "outputs": [],
   "source": []
  },
  {
   "cell_type": "code",
   "execution_count": null,
   "metadata": {
    "collapsed": true
   },
   "outputs": [],
   "source": []
  }
 ],
 "metadata": {
  "kernelspec": {
   "display_name": "Python 3",
   "language": "python",
   "name": "python3"
  },
  "language_info": {
   "codemirror_mode": {
    "name": "ipython",
    "version": 3
   },
   "file_extension": ".py",
   "mimetype": "text/x-python",
   "name": "python",
   "nbconvert_exporter": "python",
   "pygments_lexer": "ipython3",
   "version": "3.6.3"
  }
 },
 "nbformat": 4,
 "nbformat_minor": 2
}
