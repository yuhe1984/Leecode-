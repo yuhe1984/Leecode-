{
 "cells": [
  {
   "cell_type": "code",
   "execution_count": 2,
   "metadata": {
    "collapsed": true
   },
   "outputs": [],
   "source": [
    "class Solution:\n",
    "    def combinationSum3(self, k, n):\n",
    "        # i 索引, k 数量, n target\n",
    "        res = []\n",
    "        def dfs(i, k, n, t):\n",
    "            if k == 0 and n == 0:\n",
    "                res.append(t)\n",
    "            if 10 > i and i <= n:\n",
    "                dfs(i+1, k-1, n-i, t+[i])\n",
    "                dfs(i+1, k, n, t)\n",
    "        dfs(1, k, n, [])\n",
    "        return res"
   ]
  },
  {
   "cell_type": "code",
   "execution_count": 3,
   "metadata": {
    "collapsed": true
   },
   "outputs": [],
   "source": [
    "class Solution:\n",
    "    def combinationSum3(self, k, n):\n",
    "        def helper(res, index, target):\n",
    "            if target == 0 and len(res) == k:\n",
    "                result.append(res)\n",
    "                return\n",
    "            if len(res) == k:\n",
    "                return\n",
    "            for i in range(index, 10):\n",
    "                if target-i < 0:\n",
    "                    break\n",
    "                helper(res+[i], i+1, target-i)\n",
    "\n",
    "        result = []\n",
    "        helper([], 1, n)\n",
    "        return result"
   ]
  },
  {
   "cell_type": "code",
   "execution_count": null,
   "metadata": {
    "collapsed": true
   },
   "outputs": [],
   "source": []
  }
 ],
 "metadata": {
  "kernelspec": {
   "display_name": "Python 3",
   "language": "python",
   "name": "python3"
  },
  "language_info": {
   "codemirror_mode": {
    "name": "ipython",
    "version": 3
   },
   "file_extension": ".py",
   "mimetype": "text/x-python",
   "name": "python",
   "nbconvert_exporter": "python",
   "pygments_lexer": "ipython3",
   "version": "3.6.3"
  }
 },
 "nbformat": 4,
 "nbformat_minor": 2
}
