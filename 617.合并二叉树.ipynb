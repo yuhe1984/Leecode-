{
 "cells": [
  {
   "cell_type": "markdown",
   "metadata": {},
   "source": [
    "# dfs"
   ]
  },
  {
   "cell_type": "code",
   "execution_count": 1,
   "metadata": {
    "collapsed": true
   },
   "outputs": [],
   "source": [
    "class Solution:\n",
    "    def mergeTrees(self, t1, t2):\n",
    "        if not t1:\n",
    "            return t2\n",
    "        if not t2:\n",
    "            return t1\n",
    "        \n",
    "        merged = TreeNode(t1.val + t2.val)\n",
    "        merged.left = self.mergeTrees(t1.left, t2.left)\n",
    "        merged.right = self.mergeTrees(t1.right, t2.right)\n",
    "        return merged"
   ]
  },
  {
   "cell_type": "markdown",
   "metadata": {
    "collapsed": true
   },
   "source": [
    "# bfs"
   ]
  },
  {
   "cell_type": "code",
   "execution_count": 2,
   "metadata": {
    "collapsed": true
   },
   "outputs": [],
   "source": [
    "# Definition for a binary tree node.\n",
    "# class TreeNode:\n",
    "#     def __init__(self, x):\n",
    "#         self.val = x\n",
    "#         self.left = None\n",
    "#         self.right = None\n",
    "\n",
    "class Solution:\n",
    "    def mergeTrees(self, t1, t2):\n",
    "        if not t1:\n",
    "            return t2\n",
    "        if not t2:\n",
    "            return t1\n",
    "        \n",
    "        merged = TreeNode(t1.val + t2.val)\n",
    "        queue = collections.deque([merged])\n",
    "        queue1 = collections.deque([t1])\n",
    "        queue2 = collections.deque([t2])\n",
    "\n",
    "        while queue1 and queue2:\n",
    "            node = queue.popleft()\n",
    "            node1 = queue1.popleft()\n",
    "            node2 = queue2.popleft()\n",
    "            left1, right1 = node1.left, node1.right\n",
    "            left2, right2 = node2.left, node2.right\n",
    "            if left1 or left2:\n",
    "                if left1 and left2:\n",
    "                    left = TreeNode(left1.val + left2.val)\n",
    "                    node.left = left\n",
    "                    queue.append(left)\n",
    "                    queue1.append(left1)\n",
    "                    queue2.append(left2)\n",
    "                elif left1:\n",
    "                    node.left = left1\n",
    "                elif left2:\n",
    "                    node.left = left2\n",
    "            if right1 or right2:\n",
    "                if right1 and right2:\n",
    "                    right = TreeNode(right1.val + right2.val)\n",
    "                    node.right = right\n",
    "                    queue.append(right)\n",
    "                    queue1.append(right1)\n",
    "                    queue2.append(right2)\n",
    "                elif right1:\n",
    "                    node.right = right1\n",
    "                elif right2:\n",
    "                    node.right = right2\n",
    "        \n",
    "        return merged"
   ]
  },
  {
   "cell_type": "code",
   "execution_count": null,
   "metadata": {
    "collapsed": true
   },
   "outputs": [],
   "source": []
  }
 ],
 "metadata": {
  "kernelspec": {
   "display_name": "Python 3",
   "language": "python",
   "name": "python3"
  },
  "language_info": {
   "codemirror_mode": {
    "name": "ipython",
    "version": 3
   },
   "file_extension": ".py",
   "mimetype": "text/x-python",
   "name": "python",
   "nbconvert_exporter": "python",
   "pygments_lexer": "ipython3",
   "version": "3.6.3"
  }
 },
 "nbformat": 4,
 "nbformat_minor": 2
}
