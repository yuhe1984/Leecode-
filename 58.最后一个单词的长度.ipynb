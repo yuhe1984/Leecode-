{
 "cells": [
  {
   "cell_type": "code",
   "execution_count": null,
   "metadata": {
    "collapsed": true
   },
   "outputs": [],
   "source": [
    "# 方法 1\n",
    "class Solution1:\n",
    "    def lengthOfLastWord(self, s):\n",
    "        # 去掉尾部空格\n",
    "        s = s.rstrip()\n",
    "        # 空字符\n",
    "        if not s:\n",
    "            return 0\n",
    "        # 尾部单词（最后无空格）\n",
    "        l = len(s)\n",
    "        # 尾部单词前有空格\n",
    "        for i in range(l - 1, -1, -1):\n",
    "            if s[i] == \" \":\n",
    "                return l - i - 1\n",
    "        # 仅一个单词\n",
    "        return l\n",
    "\n",
    "\n",
    "# 方法 2：rfind()函数获取尾部单词前的空格索引值\n",
    "class Solution2:\n",
    "    def lengthOfLastWord(self, s):\n",
    "        s = s.rstrip()\n",
    "        if not s:\n",
    "            return 0\n",
    "        res = s.rfind(\" \")\n",
    "        if res != -1:\n",
    "            return len(s) - res -1\n",
    "        return len(s)\n",
    "\n",
    "\n",
    "# 方法 3：split()函数获取最后一个单词\n",
    "class Solution3:\n",
    "    def lengthOfLastWord(self, s):\n",
    "        s = s.split()\n",
    "        if not s:\n",
    "            return 0\n",
    "        return len(s[-1])\n",
    "\n",
    "\n",
    "# 方法 4：方法 3 改进写法\n",
    "class Solution4:\n",
    "    def lengthOfLastWord(self, s):\n",
    "        return len(s.rstrip().split(\" \")[-1])\n",
    "\n",
    "\n",
    "# 方法 5：去掉尾部空格再反转字符串后，split()函数获取第一个单词，只需分割一次\n",
    "class Solution5:\n",
    "    def lengthOfLastWord(self, s):\n",
    "        return len(s.rstrip()[::-1].split(\" \", 1)[0])\n",
    "\n",
    "\n",
    "# 方法 6：反转去掉头部空格，再获取第一个单词长度\n",
    "class Solution6:\n",
    "    def lengthOfLastWord(self, s):\n",
    "        s = s[::-1].lstrip()\n",
    "        for i in range(len(s)):\n",
    "            if s[i] == \" \":\n",
    "                return i\n",
    "        return len(s)"
   ]
  },
  {
   "cell_type": "code",
   "execution_count": null,
   "metadata": {
    "collapsed": true
   },
   "outputs": [],
   "source": [
    "class Solution:\n",
    "    def lengthOfLastWord(self, s: str) -> int:\n",
    "        if not s: return 0\n",
    "        s = s.rstrip()\n",
    "        ans = 0\n",
    "        for i in s:\n",
    "            if i != ' ':\n",
    "                ans += 1\n",
    "            else:\n",
    "                ans = 0\n",
    "        return ans"
   ]
  }
 ],
 "metadata": {
  "kernelspec": {
   "display_name": "Python 3",
   "language": "python",
   "name": "python3"
  },
  "language_info": {
   "codemirror_mode": {
    "name": "ipython",
    "version": 3
   },
   "file_extension": ".py",
   "mimetype": "text/x-python",
   "name": "python",
   "nbconvert_exporter": "python",
   "pygments_lexer": "ipython3",
   "version": "3.6.3"
  }
 },
 "nbformat": 4,
 "nbformat_minor": 2
}
