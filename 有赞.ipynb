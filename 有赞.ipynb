{
 "cells": [
  {
   "cell_type": "code",
   "execution_count": 27,
   "metadata": {
    "collapsed": true
   },
   "outputs": [],
   "source": [
    "a, b = \"a,1; b,2; c, 3\", \"a, 2; b, 4; d, 5\""
   ]
  },
  {
   "cell_type": "code",
   "execution_count": 28,
   "metadata": {},
   "outputs": [
    {
     "data": {
      "text/plain": [
       "'a,1; b,2; c, 3'"
      ]
     },
     "execution_count": 28,
     "metadata": {},
     "output_type": "execute_result"
    }
   ],
   "source": [
    "a"
   ]
  },
  {
   "cell_type": "code",
   "execution_count": 29,
   "metadata": {},
   "outputs": [],
   "source": [
    "dic = {}\n",
    "count = 0\n",
    "for i in a:\n",
    "    if i.isalpha():\n",
    "        key = i\n",
    "        count += 1\n",
    "    if count == 1 and i.isdigit():\n",
    "        dic[key] = dic.get(key, 0) + int(i)\n",
    "        count = 0"
   ]
  },
  {
   "cell_type": "code",
   "execution_count": 30,
   "metadata": {},
   "outputs": [
    {
     "data": {
      "text/plain": [
       "{'a': 1, 'b': 2, 'c': 3}"
      ]
     },
     "execution_count": 30,
     "metadata": {},
     "output_type": "execute_result"
    }
   ],
   "source": [
    "dic"
   ]
  },
  {
   "cell_type": "code",
   "execution_count": 31,
   "metadata": {
    "collapsed": true
   },
   "outputs": [],
   "source": [
    "count = 0\n",
    "for i in b:\n",
    "    if i.isalpha():\n",
    "        key = i\n",
    "        count += 1\n",
    "    if count == 1 and i.isdigit():\n",
    "        dic[key] = dic.get(key, 0) + int(i)\n",
    "        count = 0"
   ]
  },
  {
   "cell_type": "code",
   "execution_count": 32,
   "metadata": {},
   "outputs": [
    {
     "data": {
      "text/plain": [
       "{'a': 3, 'b': 6, 'c': 3, 'd': 5}"
      ]
     },
     "execution_count": 32,
     "metadata": {},
     "output_type": "execute_result"
    }
   ],
   "source": [
    "dic"
   ]
  },
  {
   "cell_type": "code",
   "execution_count": null,
   "metadata": {
    "collapsed": true
   },
   "outputs": [],
   "source": [
    "\"a,3;b,6;c,3;d,5\""
   ]
  },
  {
   "cell_type": "code",
   "execution_count": 14,
   "metadata": {},
   "outputs": [],
   "source": [
    "s = \"\"\n",
    "for i, j in dic.items():\n",
    "    s += i + ',' + str(j) + ';'\n",
    "s = s[:len(s)-1]"
   ]
  },
  {
   "cell_type": "code",
   "execution_count": 15,
   "metadata": {},
   "outputs": [
    {
     "data": {
      "text/plain": [
       "'a,3;b,6;c,3;d,5'"
      ]
     },
     "execution_count": 15,
     "metadata": {},
     "output_type": "execute_result"
    }
   ],
   "source": [
    "s"
   ]
  },
  {
   "cell_type": "code",
   "execution_count": 46,
   "metadata": {
    "collapsed": true
   },
   "outputs": [],
   "source": [
    "#\n",
    "# \n",
    "# @param a string字符串 \n",
    "# @param b string字符串 \n",
    "# @return string字符串\n",
    "#\n",
    "class Solution:\n",
    "    def StringAdd(self , a , b ):\n",
    "        # write code here\n",
    "        dic = {}\n",
    "        count = 0\n",
    "        for i in a:\n",
    "            if i.isalpha():\n",
    "                key = i\n",
    "                count += 1\n",
    "            if count == 1 and i.isdigit():\n",
    "                dic[key] = dic.get(key, 0) + int(i)\n",
    "                count = 0\n",
    "        count = 0\n",
    "        for i in b:\n",
    "            if i.isalpha():\n",
    "                key = i\n",
    "                count += 1\n",
    "            if count == 1 and i.isdigit():\n",
    "                dic[key] = dic.get(key, 0) + int(i)\n",
    "                count = 0\n",
    "        dic = sorted(dic.items(), key = lambda dic:dic[0])\n",
    "        s = \"\"\n",
    "        for i, j in dic:\n",
    "            s += i + ',' + str(j) + ';'\n",
    "        s = s[:len(s)-1]\n",
    "        return s"
   ]
  },
  {
   "cell_type": "code",
   "execution_count": 47,
   "metadata": {
    "collapsed": true
   },
   "outputs": [],
   "source": [
    "AA = Solution()"
   ]
  },
  {
   "cell_type": "code",
   "execution_count": 48,
   "metadata": {},
   "outputs": [
    {
     "data": {
      "text/plain": [
       "True"
      ]
     },
     "execution_count": 48,
     "metadata": {},
     "output_type": "execute_result"
    }
   ],
   "source": [
    "AA.StringAdd(a, b) == \"a,3;b,6;c,3;d,5\""
   ]
  },
  {
   "cell_type": "code",
   "execution_count": 36,
   "metadata": {},
   "outputs": [],
   "source": [
    "dic = sorted(dic.items(), key = lambda dic:dic[0])"
   ]
  },
  {
   "cell_type": "code",
   "execution_count": 45,
   "metadata": {},
   "outputs": [
    {
     "name": "stdout",
     "output_type": "stream",
     "text": [
      "a 3\n",
      "b 6\n",
      "c 3\n",
      "d 5\n"
     ]
    }
   ],
   "source": [
    "for i, j in dic:\n",
    "    print(i, j)"
   ]
  },
  {
   "cell_type": "code",
   "execution_count": 51,
   "metadata": {},
   "outputs": [
    {
     "data": {
      "text/plain": [
       "('a', 3)"
      ]
     },
     "execution_count": 51,
     "metadata": {},
     "output_type": "execute_result"
    }
   ],
   "source": [
    "dic[0]"
   ]
  },
  {
   "cell_type": "code",
   "execution_count": null,
   "metadata": {
    "collapsed": true
   },
   "outputs": [],
   "source": []
  }
 ],
 "metadata": {
  "kernelspec": {
   "display_name": "Python 3",
   "language": "python",
   "name": "python3"
  },
  "language_info": {
   "codemirror_mode": {
    "name": "ipython",
    "version": 3
   },
   "file_extension": ".py",
   "mimetype": "text/x-python",
   "name": "python",
   "nbconvert_exporter": "python",
   "pygments_lexer": "ipython3",
   "version": "3.6.3"
  }
 },
 "nbformat": 4,
 "nbformat_minor": 2
}
