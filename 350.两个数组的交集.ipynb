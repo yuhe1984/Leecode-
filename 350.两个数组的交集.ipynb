{
 "cells": [
  {
   "cell_type": "markdown",
   "metadata": {},
   "source": [
    "# Hashmap"
   ]
  },
  {
   "cell_type": "code",
   "execution_count": 5,
   "metadata": {},
   "outputs": [
    {
     "ename": "SyntaxError",
     "evalue": "invalid syntax (<ipython-input-5-900e82f499d7>, line 12)",
     "output_type": "error",
     "traceback": [
      "\u001b[1;36m  File \u001b[1;32m\"<ipython-input-5-900e82f499d7>\"\u001b[1;36m, line \u001b[1;32m12\u001b[0m\n\u001b[1;33m    if (count := m.get(num, 0)) > 0:\u001b[0m\n\u001b[1;37m              ^\u001b[0m\n\u001b[1;31mSyntaxError\u001b[0m\u001b[1;31m:\u001b[0m invalid syntax\n"
     ]
    }
   ],
   "source": [
    "class Solution:\n",
    "    def intersect(self, nums1, nums2):\n",
    "        if len(nums1) < len(nums2):\n",
    "            return self.intersect(nums2, nums1)\n",
    "\n",
    "        import collections\n",
    "        m = collections.Counter()\n",
    "        for num in nums1:\n",
    "            m[num] += 1\n",
    "        \n",
    "        intersection = list()\n",
    "        for num in nums2:\n",
    "            if (count := m.get(num, 0)) > 0:\n",
    "                intersection.append(num)\n",
    "                m[num] -= 1\n",
    "                if m[num] == 0:\n",
    "                    m.pop(num)\n",
    "        return intersection"
   ]
  },
  {
   "cell_type": "markdown",
   "metadata": {},
   "source": [
    "# 排序"
   ]
  },
  {
   "cell_type": "code",
   "execution_count": 6,
   "metadata": {
    "collapsed": true
   },
   "outputs": [],
   "source": [
    "class Solution:\n",
    "    def intersect(self, nums1, nums2):\n",
    "        nums1.sort()\n",
    "        nums2.sort()\n",
    "\n",
    "        length1, length2 = len(nums1), len(nums2)\n",
    "        intersection = list()\n",
    "        index1 = index2 = 0\n",
    "        while index1 < length1 and index2 < length2:\n",
    "            if nums1[index1] < nums2[index2]:\n",
    "                index1 += 1\n",
    "            elif nums1[index1] > nums2[index2]:\n",
    "                index2 += 1\n",
    "            else:\n",
    "                intersection.append(nums1[index1])\n",
    "                index1 += 1\n",
    "                index2 += 1\n",
    "        \n",
    "        return intersection"
   ]
  },
  {
   "cell_type": "code",
   "execution_count": null,
   "metadata": {
    "collapsed": true
   },
   "outputs": [],
   "source": []
  }
 ],
 "metadata": {
  "kernelspec": {
   "display_name": "Python 3",
   "language": "python",
   "name": "python3"
  },
  "language_info": {
   "codemirror_mode": {
    "name": "ipython",
    "version": 3
   },
   "file_extension": ".py",
   "mimetype": "text/x-python",
   "name": "python",
   "nbconvert_exporter": "python",
   "pygments_lexer": "ipython3",
   "version": "3.6.3"
  }
 },
 "nbformat": 4,
 "nbformat_minor": 2
}
