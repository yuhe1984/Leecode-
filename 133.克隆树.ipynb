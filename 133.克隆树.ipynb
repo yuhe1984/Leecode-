{
 "cells": [
  {
   "cell_type": "markdown",
   "metadata": {},
   "source": [
    "# dfs"
   ]
  },
  {
   "cell_type": "code",
   "execution_count": 2,
   "metadata": {
    "collapsed": true
   },
   "outputs": [],
   "source": [
    "# Definition for a Node.\n",
    "class Node:\n",
    "    def __init__(self, val = 0, neighbors = []):\n",
    "        self.val = val\n",
    "        self.neighbors = neighbors\n",
    "\n",
    "class Solution(object):\n",
    "\n",
    "    def __init__(self):\n",
    "        self.visited = {}\n",
    "\n",
    "    def cloneGraph(self, node):\n",
    "        \"\"\"\n",
    "        :type node: Node\n",
    "        :rtype: Node\n",
    "        \"\"\"\n",
    "        if not node:\n",
    "            return node\n",
    "\n",
    "        # 如果该节点已经被访问过了，则直接从哈希表中取出对应的克隆节点返回\n",
    "        if node in self.visited:\n",
    "            return self.visited[node]\n",
    "\n",
    "        # 克隆节点，注意到为了深拷贝我们不会克隆它的邻居的列表\n",
    "        clone_node = Node(node.val, [])\n",
    "\n",
    "        # 哈希表存储\n",
    "        self.visited[node] = clone_node\n",
    "\n",
    "        # 遍历该节点的邻居并更新克隆节点的邻居列表\n",
    "        if node.neighbors:\n",
    "            clone_node.neighbors = [self.cloneGraph(n) for n in node.neighbors]\n",
    "\n",
    "        return clone_node"
   ]
  },
  {
   "cell_type": "markdown",
   "metadata": {},
   "source": [
    "# bfs"
   ]
  },
  {
   "cell_type": "code",
   "execution_count": 3,
   "metadata": {
    "collapsed": true
   },
   "outputs": [],
   "source": [
    "from collections import deque\n",
    "class Solution(object):\n",
    "\n",
    "    def cloneGraph(self, node):\n",
    "        \"\"\"\n",
    "        :type node: Node\n",
    "        :rtype: Node\n",
    "        \"\"\"\n",
    "\n",
    "        if not node:\n",
    "            return node\n",
    "\n",
    "        visited = {}\n",
    "\n",
    "        # 将题目给定的节点添加到队列\n",
    "        queue = deque([node])\n",
    "        # 克隆第一个节点并存储到哈希表中\n",
    "        visited[node] = Node(node.val, [])\n",
    "\n",
    "        # 广度优先搜索\n",
    "        while queue:\n",
    "            # 取出队列的头节点\n",
    "            n = queue.popleft()\n",
    "            # 遍历该节点的邻居\n",
    "            for neighbor in n.neighbors:\n",
    "                if neighbor not in visited:\n",
    "                    # 如果没有被访问过，就克隆并存储在哈希表中\n",
    "                    visited[neighbor] = Node(neighbor.val, [])\n",
    "                    # 将邻居节点加入队列中\n",
    "                    queue.append(neighbor)\n",
    "                # 更新当前节点的邻居列表\n",
    "                visited[n].neighbors.append(visited[neighbor])\n",
    "\n",
    "        return visited[node]"
   ]
  },
  {
   "cell_type": "code",
   "execution_count": null,
   "metadata": {
    "collapsed": true
   },
   "outputs": [],
   "source": []
  }
 ],
 "metadata": {
  "kernelspec": {
   "display_name": "Python 3",
   "language": "python",
   "name": "python3"
  },
  "language_info": {
   "codemirror_mode": {
    "name": "ipython",
    "version": 3
   },
   "file_extension": ".py",
   "mimetype": "text/x-python",
   "name": "python",
   "nbconvert_exporter": "python",
   "pygments_lexer": "ipython3",
   "version": "3.6.3"
  }
 },
 "nbformat": 4,
 "nbformat_minor": 2
}
