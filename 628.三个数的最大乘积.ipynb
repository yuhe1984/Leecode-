{
 "cells": [
  {
   "cell_type": "markdown",
   "metadata": {},
   "source": [
    "# 排序"
   ]
  },
  {
   "cell_type": "code",
   "execution_count": 1,
   "metadata": {
    "collapsed": true
   },
   "outputs": [],
   "source": [
    "class Solution:\n",
    "    def maximumProduct(self, nums):\n",
    "        nums.sort()\n",
    "        return max(nums[0] * nums[1] * nums[-1], nums[-1] * nums[-2] * nums[-3])"
   ]
  },
  {
   "cell_type": "markdown",
   "metadata": {},
   "source": [
    "# 线性扫描"
   ]
  },
  {
   "cell_type": "code",
   "execution_count": null,
   "metadata": {
    "collapsed": true
   },
   "outputs": [],
   "source": [
    "public class Solution {\n",
    "    public int maximumProduct(int[] nums) {\n",
    "        int min1 = Integer.MAX_VALUE, min2 = Integer.MAX_VALUE;\n",
    "        int max1 = Integer.MIN_VALUE, max2 = Integer.MIN_VALUE, max3 = Integer.MIN_VALUE;\n",
    "        for (int n: nums) {\n",
    "            if (n <= min1) {\n",
    "                min2 = min1;\n",
    "                min1 = n;\n",
    "            } else if (n <= min2) {     // n lies between min1 and min2\n",
    "                min2 = n;\n",
    "            }\n",
    "            if (n >= max1) {            // n is greater than max1, max2 and max3\n",
    "                max3 = max2;\n",
    "                max2 = max1;\n",
    "                max1 = n;\n",
    "            } else if (n >= max2) {     // n lies betweeen max1 and max2\n",
    "                max3 = max2;\n",
    "                max2 = n;\n",
    "            } else if (n >= max3) {     // n lies betwen max2 and max3\n",
    "                max3 = n;\n",
    "            }\n",
    "        }\n",
    "        return Math.max(min1 * min2 * max1, max1 * max2 * max3);\n",
    "    }\n",
    "}"
   ]
  }
 ],
 "metadata": {
  "kernelspec": {
   "display_name": "Python 3",
   "language": "python",
   "name": "python3"
  },
  "language_info": {
   "codemirror_mode": {
    "name": "ipython",
    "version": 3
   },
   "file_extension": ".py",
   "mimetype": "text/x-python",
   "name": "python",
   "nbconvert_exporter": "python",
   "pygments_lexer": "ipython3",
   "version": "3.6.3"
  }
 },
 "nbformat": 4,
 "nbformat_minor": 2
}
