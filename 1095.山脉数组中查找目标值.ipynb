{
 "cells": [
  {
   "cell_type": "code",
   "execution_count": 1,
   "metadata": {
    "collapsed": true
   },
   "outputs": [],
   "source": [
    "def binary_search(mountain, target, l, r, key=lambda x: x):\n",
    "    target = key(target)\n",
    "    while l <= r:\n",
    "        mid = (l + r) // 2\n",
    "        cur = key(mountain.get(mid))\n",
    "        if cur == target:\n",
    "            return mid\n",
    "        elif cur < target:\n",
    "            l = mid + 1\n",
    "        else:\n",
    "            r = mid - 1\n",
    "    return -1\n",
    "\n",
    "class Solution:\n",
    "    def findInMountainArray(self, target: int, mountain_arr: 'MountainArray') -> int:\n",
    "        l, r = 0, mountain_arr.length() - 1\n",
    "        while l < r:\n",
    "            mid = (l + r) // 2\n",
    "            if mountain_arr.get(mid) < mountain_arr.get(mid + 1):\n",
    "                l = mid + 1\n",
    "            else:\n",
    "                r = mid\n",
    "        peak = l\n",
    "        index = binary_search(mountain_arr, target, 0, peak)\n",
    "        if index != -1:\n",
    "            return index\n",
    "        index = binary_search(mountain_arr, target, peak + 1, mountain_arr.length() - 1, lambda x: -x)\n",
    "        return index"
   ]
  },
  {
   "cell_type": "code",
   "execution_count": null,
   "metadata": {
    "collapsed": true
   },
   "outputs": [],
   "source": []
  }
 ],
 "metadata": {
  "kernelspec": {
   "display_name": "Python 3",
   "language": "python",
   "name": "python3"
  },
  "language_info": {
   "codemirror_mode": {
    "name": "ipython",
    "version": 3
   },
   "file_extension": ".py",
   "mimetype": "text/x-python",
   "name": "python",
   "nbconvert_exporter": "python",
   "pygments_lexer": "ipython3",
   "version": "3.6.3"
  }
 },
 "nbformat": 4,
 "nbformat_minor": 2
}
