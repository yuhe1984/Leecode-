{
 "cells": [
  {
   "cell_type": "code",
   "execution_count": 2,
   "metadata": {},
   "outputs": [],
   "source": [
    "class Twitter:\n",
    "\n",
    "    class Node:\n",
    "        def __init__(self):\n",
    "            self.followee = set()\n",
    "            self.tweet = list()\n",
    "\n",
    "    def __init__(self):\n",
    "        self.time = 0\n",
    "        self.recentMax = 10\n",
    "        self.tweetTime = dict()\n",
    "        self.user = dict()\n",
    "\n",
    "    def postTweet(self, userId: int, tweetId: int) -> None:\n",
    "        if userId not in self.user:\n",
    "            self.user[userId] = Twitter.Node()\n",
    "        self.user[userId].tweet.append(tweetId)\n",
    "        self.time += 1\n",
    "        self.tweetTime[tweetId] = self.time\n",
    "\n",
    "    def getNewsFeed(self, userId):\n",
    "        if userId not in self.user:\n",
    "            return list()\n",
    "        ans = self.user[userId].tweet[-10:][::-1]\n",
    "        for followeeId in self.user[userId].followee:\n",
    "            if followeeId in self.user:\n",
    "                opt = self.user[followeeId].tweet[-10:][::-1]\n",
    "                i, j, combined = 0, 0, list()\n",
    "                while i < len(ans) and j < len(opt):\n",
    "                    if self.tweetTime[ans[i]] > self.tweetTime[opt[j]]:\n",
    "                        combined.append(ans[i])\n",
    "                        i += 1\n",
    "                    else:\n",
    "                        combined.append(opt[j])\n",
    "                        j += 1\n",
    "                combined.extend(ans[i:])\n",
    "                combined.extend(opt[j:])\n",
    "                ans = combined[:10]\n",
    "        return ans\n",
    "\n",
    "    def follow(self, followerId: int, followeeId: int) -> None:\n",
    "        if followerId != followeeId:\n",
    "            if followerId not in self.user:\n",
    "                self.user[followerId] = Twitter.Node()\n",
    "            self.user[followerId].followee.add(followeeId)\n",
    "            \n",
    "    def unfollow(self, followerId: int, followeeId: int) -> None:\n",
    "        if followerId != followeeId:\n",
    "            if followerId in self.user:\n",
    "                self.user[followerId].followee.discard(followeeId)"
   ]
  },
  {
   "cell_type": "code",
   "execution_count": null,
   "metadata": {
    "collapsed": true
   },
   "outputs": [],
   "source": []
  }
 ],
 "metadata": {
  "kernelspec": {
   "display_name": "Python 3",
   "language": "python",
   "name": "python3"
  },
  "language_info": {
   "codemirror_mode": {
    "name": "ipython",
    "version": 3
   },
   "file_extension": ".py",
   "mimetype": "text/x-python",
   "name": "python",
   "nbconvert_exporter": "python",
   "pygments_lexer": "ipython3",
   "version": "3.6.3"
  }
 },
 "nbformat": 4,
 "nbformat_minor": 2
}
