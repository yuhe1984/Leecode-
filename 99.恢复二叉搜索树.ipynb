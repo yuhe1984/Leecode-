{
 "cells": [
  {
   "cell_type": "markdown",
   "metadata": {},
   "source": [
    "# 方法一：显式中序遍历"
   ]
  },
  {
   "cell_type": "code",
   "execution_count": 1,
   "metadata": {
    "collapsed": true
   },
   "outputs": [],
   "source": [
    "# Definition for a binary tree node.\n",
    "# class TreeNode:\n",
    "#     def __init__(self, x):\n",
    "#         self.val = x\n",
    "#         self.left = None\n",
    "#         self.right = None\n",
    "\n",
    "class Solution:\n",
    "    def __init__(self):\n",
    "        self.res = []\n",
    "    def recoverTree(self, root):\n",
    "        self.mid(root)\n",
    "        node1 = None\n",
    "        node2 = None\n",
    "        for i in range(len(self.res)-1):\n",
    "            if self.res[i].val > self.res[i+1].val and node1 == None:\n",
    "                node1 = self.res[i]\n",
    "                node2 = self.res[i+1]\n",
    "            elif self.res[i].val > self.res[i+1].val and node1 != None:\n",
    "                node2 = self.res[i+1]\n",
    "                \n",
    "        node1.val, node2.val = node2.val, node1.val\n",
    "        \n",
    "    def mid(self,root):\n",
    "        if root is not None:\n",
    "            self.mid(root.left)\n",
    "            self.res.append(root)\n",
    "            self.mid(root.right)"
   ]
  },
  {
   "cell_type": "code",
   "execution_count": null,
   "metadata": {
    "collapsed": true
   },
   "outputs": [],
   "source": []
  }
 ],
 "metadata": {
  "kernelspec": {
   "display_name": "Python 3",
   "language": "python",
   "name": "python3"
  },
  "language_info": {
   "codemirror_mode": {
    "name": "ipython",
    "version": 3
   },
   "file_extension": ".py",
   "mimetype": "text/x-python",
   "name": "python",
   "nbconvert_exporter": "python",
   "pygments_lexer": "ipython3",
   "version": "3.6.3"
  }
 },
 "nbformat": 4,
 "nbformat_minor": 2
}
