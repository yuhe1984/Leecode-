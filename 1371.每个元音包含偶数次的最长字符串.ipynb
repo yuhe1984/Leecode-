{
 "cells": [
  {
   "cell_type": "code",
   "execution_count": 1,
   "metadata": {
    "collapsed": true
   },
   "outputs": [],
   "source": [
    "class Solution:\n",
    "    def findTheLongestSubstring(self, s: str) -> int:\n",
    "        D = {\"a\": 1, \"e\": 2, \"i\": 4, \"o\": 8, \"u\": 16}\n",
    "        L = {0: 0}\n",
    "        m = t = 0\n",
    "        for i, c in enumerate(s, 1):\n",
    "            t ^= D.get(c, 0)\n",
    "            m = max(m, i - L.setdefault(t, i))\n",
    "        return m"
   ]
  },
  {
   "cell_type": "code",
   "execution_count": null,
   "metadata": {
    "collapsed": true
   },
   "outputs": [],
   "source": []
  }
 ],
 "metadata": {
  "kernelspec": {
   "display_name": "Python 3",
   "language": "python",
   "name": "python3"
  },
  "language_info": {
   "codemirror_mode": {
    "name": "ipython",
    "version": 3
   },
   "file_extension": ".py",
   "mimetype": "text/x-python",
   "name": "python",
   "nbconvert_exporter": "python",
   "pygments_lexer": "ipython3",
   "version": "3.6.3"
  }
 },
 "nbformat": 4,
 "nbformat_minor": 2
}
